{
 "cells": [
  {
   "cell_type": "markdown",
   "metadata": {},
   "source": [
    "# CASS Freight Index\n",
    "\n",
    "---\n",
    "\n",
    "A look at US freight indexes, according to reports obtained from Cass Information Systems."
   ]
  },
  {
   "cell_type": "code",
   "execution_count": null,
   "metadata": {},
   "outputs": [],
   "source": [
    "import pandas as pd\n",
    "import altair as alt\n",
    "from os import environ\n",
    "\n",
    "if environ.get(\"GITHUB_WORKFLOW\"):\n",
    "    raise RuntimeError(\"Requires manual updates\")\n",
    "\n",
    "# https://www.cassinfo.com/freight-audit-payment/cass-transportation-indexes/cass-freight-index\n",
    "try:\n",
    "    df_report = pd.read_excel('https://www.cassinfo.com/hubfs/Cass%20Indexes%20Historical%20Data%202020.xlsx', sheet_name=None)\n",
    "except:\n",
    "    # Fallback to IPFS archive (June 2020 data)\n",
    "    print(\"Data from IPFS fallback\")\n",
    "    df_report = pd.read_excel(\"https://ipfs.io/ipfs/QmRPXiRQLRi8SvFeqnP1XAN3h1FHmfQZDtD1AMSBX5Z7qC\", sheet_name=None)\n",
    "\n",
    "df_freight = df_report['Freight Index-Shipments'].iloc[6:, 1:4].dropna()\n",
    "df_freight.columns = ['Date', 'Index', 'YoY']\n",
    "df_freight.iloc[:, 1:] = df_freight.iloc[:, 1:].applymap(pd.to_numeric)\n",
    "\n",
    "df_truckload = df_report['TL Linehaul Index'].iloc[5:, 1:4].dropna()\n",
    "df_truckload.columns = ['Date', 'Index', 'YoY']\n",
    "df_truckload.iloc[:, 1:] = df_truckload.iloc[:, 1:].applymap(pd.to_numeric)\n",
    "\n",
    "df_intermodal = df_report['Freight Index-Expenditures'].iloc[6:, 1:4].dropna()\n",
    "df_intermodal.columns = ['Date', 'Index', 'YoY']\n",
    "df_intermodal.iloc[:, 1:] = df_intermodal.iloc[:, 1:].applymap(pd.to_numeric)"
   ]
  },
  {
   "cell_type": "code",
   "execution_count": null,
   "metadata": {},
   "outputs": [],
   "source": [
    "df_report = pd.read_excel('https://www.cassinfo.com/hubfs/Cass%20Indexes%20Historical%20Data%202020.xlsx', sheet_name=None)"
   ]
  },
  {
   "cell_type": "code",
   "execution_count": null,
   "metadata": {},
   "outputs": [],
   "source": [
    "monthNames = {\n",
    "    1: 'Jan',\n",
    "    2: 'Feb',\n",
    "    3: 'Mar',\n",
    "    4: 'Apr',\n",
    "    5: 'May',\n",
    "    6: 'Jun',\n",
    "    7: 'Jul',\n",
    "    8: 'Aug',\n",
    "    9: 'Sep',\n",
    "    10: 'Oct',\n",
    "    11: 'Nov',\n",
    "    12: 'Dec',\n",
    "}\n",
    "\n",
    "df_freight['Month'] = df_freight.Date.apply(pd.to_datetime).apply(lambda v: monthNames.get(v.month))\n",
    "df_freight['Year'] = df_freight.Date.apply(pd.to_datetime).apply(lambda v: v.year)\n",
    "fieldOrdering = df_freight.Date.apply(pd.to_datetime).apply(lambda v: v.month).values.tolist()\n",
    "df_freight['order'] = df_freight.Date.apply(pd.to_datetime).apply(lambda v: v.month).map(lambda x: fieldOrdering.index(x))\n",
    "\n",
    "melted_freight = df_freight[['Month', 'Year', 'order', 'Index']].melt(id_vars=['Month', 'Year', 'order'])\n",
    "chosenYears = [2007, 2008, 2009, 2018, 2019, 2020, 2021]\n",
    "\n",
    "alt.Chart(melted_freight[melted_freight.Year.isin(chosenYears)]).mark_line(point=True).encode(\n",
    "    alt.X('Month:O', sort=None, axis=alt.Axis(title='', labelAngle=0)),\n",
    "    alt.Y('value:Q', axis=alt.Axis(title='Freight Index')),\n",
    "    alt.Color('Year:N', title='Year'),\n",
    "    alt.Order('order:Q')\n",
    ").properties(\n",
    "    title='Comparison of Annual Freight Index Trends',\n",
    "    height=450,\n",
    "    width=800,\n",
    "    background='white'\n",
    ")"
   ]
  },
  {
   "cell_type": "code",
   "execution_count": null,
   "metadata": {},
   "outputs": [],
   "source": [
    "freight_yoy = melted_freight[['Month', 'Year', 'value']].copy()\n",
    "freight_yoy['date'] = pd.to_datetime(freight_yoy['Month'].apply(str) + \" \" + freight_yoy['Year'].apply(str), format='%b %Y')\n",
    "\n",
    "freight_yoy = freight_yoy.set_index('date')['value'].pct_change(12).reset_index()\n",
    "\n",
    "c = alt.Chart(freight_yoy).mark_bar(color='indigo', width=1.8).encode(\n",
    "    alt.X('date:T', axis=alt.Axis(title=None)),\n",
    "    alt.Y('value:Q', axis=alt.Axis(title='Year of Year Growth [%]', format='%')),\n",
    "    color=alt.condition(f\"datum.value < 0\",\n",
    "        alt.value('orange'),\n",
    "        alt.value('indigo')\n",
    "    ),\n",
    "    tooltip=[alt.Tooltip('date:T'), alt.Tooltip('value:Q', title='% Change', format=',.02%')]\n",
    ").properties(\n",
    "    title='CASS Freight Index',\n",
    "    height=450,\n",
    "    width=800,\n",
    "    background='white'\n",
    ")\n",
    "\n",
    "c.save('transportation-cass.png')\n",
    "c.display()"
   ]
  },
  {
   "cell_type": "code",
   "execution_count": null,
   "metadata": {},
   "outputs": [],
   "source": [
    "df_truckload['Date'] = df_truckload.Date.apply(lambda v: pd.to_datetime(v) if isinstance(v, str) else v)\n",
    "\n",
    "alt.Chart(df_truckload).mark_bar(color='blue', width=3).encode(\n",
    "    alt.X('Date:T', axis=alt.Axis(title=None)),\n",
    "    alt.Y('YoY:Q', axis=alt.Axis(title='Year-over-year Index Growth [%]', format='%')),\n",
    "    color=alt.condition(f\"datum.YoY < 0\",\n",
    "        alt.value('darkorange'),\n",
    "        alt.value('blue')\n",
    "    ),\n",
    "    tooltip=[alt.Tooltip('Date:T'), alt.Tooltip('YoY:Q', title='% Change', format=',.2%')]\n",
    ").properties(\n",
    "    title='CASS per-mile Truckload Pricing Index',\n",
    "    height=450,\n",
    "    width=800,\n",
    "    background='white'\n",
    ")"
   ]
  },
  {
   "cell_type": "code",
   "execution_count": null,
   "metadata": {},
   "outputs": [],
   "source": [
    "df_intermodal['Date'] = df_intermodal.Date.apply(lambda v: pd.to_datetime(v) if isinstance(v, str) else v)\n",
    "\n",
    "alt.Chart(df_intermodal).mark_bar(color='black', width=2).encode(\n",
    "    alt.X('Date:T', axis=alt.Axis(title=None)),\n",
    "    alt.Y('YoY:Q', axis=alt.Axis(title='Year-over-year Index Change [%]', format='%')),\n",
    "    color=alt.condition(f\"datum.YoY < 0\",\n",
    "        alt.value('orange'),\n",
    "        alt.value('black')\n",
    "    ),\n",
    "    tooltip=[alt.Tooltip('Date:T'), alt.Tooltip('YoY:Q', title='% Change', format=',.2%')]\n",
    ").properties(\n",
    "    title='CASS per-mile Intermodal Pricing Index',\n",
    "    height=450,\n",
    "    width=800,\n",
    "    background='white'\n",
    ")"
   ]
  }
 ],
 "metadata": {
  "kernelspec": {
   "display_name": "Python 3",
   "language": "python",
   "name": "python3"
  },
  "language_info": {
   "codemirror_mode": {
    "name": "ipython",
    "version": 3
   },
   "file_extension": ".py",
   "mimetype": "text/x-python",
   "name": "python",
   "nbconvert_exporter": "python",
   "pygments_lexer": "ipython3",
   "version": "3.8.8"
  }
 },
 "nbformat": 4,
 "nbformat_minor": 4
}
