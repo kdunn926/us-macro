{
 "cells": [
  {
   "cell_type": "markdown",
   "metadata": {},
   "source": [
    "# US Seaport Volumes\n",
    "\n",
    "---\n",
    "#### (for the top 10 port / 80% of all TEUs)\n",
    "\n",
    "Note: TEU means \"Twenty-foot [Container] Equivalent Unit\""
   ]
  },
  {
   "cell_type": "code",
   "execution_count": 1,
   "metadata": {},
   "outputs": [],
   "source": [
    "import pandas as pd\n",
    "import altair as alt\n",
    "import numpy as np\n",
    "import re\n",
    "from json import loads, JSONDecodeError\n",
    "from io import BytesIO\n",
    "\n",
    "from time import sleep\n",
    "from joblib import Memory\n",
    "\n",
    "from urllib.request import urlopen, Request\n",
    "from urllib.error import HTTPError\n",
    "\n",
    "from tabula import read_pdf\n",
    "\n",
    "from google.google import search as googleSearch"
   ]
  },
  {
   "cell_type": "code",
   "execution_count": 2,
   "metadata": {},
   "outputs": [],
   "source": [
    "# https://www.oaklandseaport.com/performance/facts-figures/\n",
    "\n",
    "df_oakland = pd.read_excel(\"https://www.oaklandseaport.com/files/PDF/Oakland%20Monthly%20TEUs%20July%201997-2019.xlsx\",\n",
    "                           skiprows=5, index_col=0, sheet_name=None)\n",
    "\n",
    "labels = [['Full', 'Full', 'Full', 'Empty', 'Empty', 'Empty', 'All'],\n",
    "          ['Inbound', 'Outbound', 'Total', 'Inbound', 'Outbound', 'Total', 'Total']]\n",
    "\n",
    "df_oak_combined = pd.concat(\n",
    "   v.iloc[:-1] for v in df_oakland.values()\n",
    ")\n",
    "\n",
    "df_oak_combined.columns = map(lambda v: \"-\".join([*v]), zip(*labels))\n",
    "\n",
    "df_oak_combined['dt'] = df_oak_combined.index.map(\n",
    "    lambda v: pd.to_datetime(str(v), format=\"%Y-%m-%d 00:00:00\", errors='coerce')\n",
    ")\n",
    "\n",
    "df_oak_combined = df_oak_combined.iloc[6:]\n",
    "\n",
    "df_oak_combined = df_oak_combined.set_index('dt').resample('2M').mean()"
   ]
  },
  {
   "cell_type": "markdown",
   "metadata": {},
   "source": [
    "## Port of Oakland"
   ]
  },
  {
   "cell_type": "code",
   "execution_count": 3,
   "metadata": {},
   "outputs": [
    {
     "data": {
      "text/html": [
       "\n",
       "<div id=\"altair-viz-1357d8a8e39e4d2987976e18bfb31797\"></div>\n",
       "<script type=\"text/javascript\">\n",
       "  (function(spec, embedOpt){\n",
       "    const outputDiv = document.getElementById(\"altair-viz-1357d8a8e39e4d2987976e18bfb31797\");\n",
       "    const paths = {\n",
       "      \"vega\": \"https://cdn.jsdelivr.net/npm//vega@5?noext\",\n",
       "      \"vega-lib\": \"https://cdn.jsdelivr.net/npm//vega-lib?noext\",\n",
       "      \"vega-lite\": \"https://cdn.jsdelivr.net/npm//vega-lite@4.0.2?noext\",\n",
       "      \"vega-embed\": \"https://cdn.jsdelivr.net/npm//vega-embed@6?noext\",\n",
       "    };\n",
       "\n",
       "    function loadScript(lib) {\n",
       "      return new Promise(function(resolve, reject) {\n",
       "        var s = document.createElement('script');\n",
       "        s.src = paths[lib];\n",
       "        s.async = true;\n",
       "        s.onload = () => resolve(paths[lib]);\n",
       "        s.onerror = () => reject(`Error loading script: ${paths[lib]}`);\n",
       "        document.getElementsByTagName(\"head\")[0].appendChild(s);\n",
       "      });\n",
       "    }\n",
       "\n",
       "    function showError(err) {\n",
       "      outputDiv.innerHTML = `<div class=\"error\" style=\"color:red;\">${err}</div>`;\n",
       "      throw err;\n",
       "    }\n",
       "\n",
       "    function displayChart(vegaEmbed) {\n",
       "      vegaEmbed(outputDiv, spec, embedOpt)\n",
       "        .catch(err => showError(`Javascript Error: ${err.message}<br>This usually means there's a typo in your chart specification. See the javascript console for the full traceback.`));\n",
       "    }\n",
       "\n",
       "    if(typeof define === \"function\" && define.amd) {\n",
       "      requirejs.config({paths});\n",
       "      require([\"vega-embed\"], displayChart, err => showError(`Error loading script: ${err.message}`));\n",
       "    } else if (typeof vegaEmbed === \"function\") {\n",
       "      displayChart(vegaEmbed);\n",
       "    } else {\n",
       "      loadScript(\"vega\")\n",
       "        .then(() => loadScript(\"vega-lite\"))\n",
       "        .then(() => loadScript(\"vega-embed\"))\n",
       "        .catch(showError)\n",
       "        .then(() => displayChart(vegaEmbed));\n",
       "    }\n",
       "  })({\"config\": {\"view\": {\"continuousWidth\": 400, \"continuousHeight\": 300}}, \"data\": {\"name\": \"data-c236d47e08007cd68b93dc339f37c236\"}, \"mark\": {\"type\": \"line\", \"color\": \"purple\"}, \"encoding\": {\"tooltip\": [{\"type\": \"temporal\", \"field\": \"dt\", \"format\": \"%b %Y\"}, {\"type\": \"quantitative\", \"field\": \"Full-Total\"}], \"x\": {\"type\": \"temporal\", \"axis\": {\"title\": \"\"}, \"field\": \"dt\"}, \"y\": {\"type\": \"quantitative\", \"axis\": {\"title\": \"Volume [TEUs]\"}, \"field\": \"Full-Total\"}}, \"height\": 400, \"title\": \"Port of Oakland Full-Total Container Volume\", \"width\": 750, \"$schema\": \"https://vega.github.io/schema/vega-lite/v4.0.2.json\", \"datasets\": {\"data-c236d47e08007cd68b93dc339f37c236\": [{\"dt\": \"1997-07-31T00:00:00\", \"Full-Total\": 101790.0}, {\"dt\": \"1997-09-30T00:00:00\", \"Full-Total\": 98492.5}, {\"dt\": \"1997-11-30T00:00:00\", \"Full-Total\": 112262.5}, {\"dt\": \"1998-01-31T00:00:00\", \"Full-Total\": 93442.0}, {\"dt\": \"1998-03-31T00:00:00\", \"Full-Total\": 94629.0}, {\"dt\": \"1998-05-31T00:00:00\", \"Full-Total\": 98422.0}, {\"dt\": \"1998-07-31T00:00:00\", \"Full-Total\": 99373.5}, {\"dt\": \"1998-09-30T00:00:00\", \"Full-Total\": 102717.5}, {\"dt\": \"1998-11-30T00:00:00\", \"Full-Total\": 111114.0}, {\"dt\": \"1999-01-31T00:00:00\", \"Full-Total\": 101177.0}, {\"dt\": \"1999-03-31T00:00:00\", \"Full-Total\": 98777.0}, {\"dt\": \"1999-05-31T00:00:00\", \"Full-Total\": 105507.0}, {\"dt\": \"1999-07-31T00:00:00\", \"Full-Total\": 103753.0}, {\"dt\": \"1999-09-30T00:00:00\", \"Full-Total\": 109925.0}, {\"dt\": \"1999-11-30T00:00:00\", \"Full-Total\": 109712.5}, {\"dt\": \"2000-01-31T00:00:00\", \"Full-Total\": 103996.0}, {\"dt\": \"2000-03-31T00:00:00\", \"Full-Total\": 105314.0}, {\"dt\": \"2000-05-31T00:00:00\", \"Full-Total\": 108571.0}, {\"dt\": \"2000-07-31T00:00:00\", \"Full-Total\": 113935.0}, {\"dt\": \"2000-09-30T00:00:00\", \"Full-Total\": 118326.5}, {\"dt\": \"2000-11-30T00:00:00\", \"Full-Total\": 112848.0}, {\"dt\": \"2001-01-31T00:00:00\", \"Full-Total\": 103754.5}, {\"dt\": \"2001-03-31T00:00:00\", \"Full-Total\": 100017.5}, {\"dt\": \"2001-05-31T00:00:00\", \"Full-Total\": 103973.5}, {\"dt\": \"2001-07-31T00:00:00\", \"Full-Total\": 103723.0}, {\"dt\": \"2001-09-30T00:00:00\", \"Full-Total\": 108702.5}, {\"dt\": \"2001-11-30T00:00:00\", \"Full-Total\": 106497.5}, {\"dt\": \"2002-01-31T00:00:00\", \"Full-Total\": 93069.0}, {\"dt\": \"2002-03-31T00:00:00\", \"Full-Total\": 94989.5}, {\"dt\": \"2002-05-31T00:00:00\", \"Full-Total\": 107651.5}, {\"dt\": \"2002-07-31T00:00:00\", \"Full-Total\": 110558.5}, {\"dt\": \"2002-09-30T00:00:00\", \"Full-Total\": 115437.0}, {\"dt\": \"2002-11-30T00:00:00\", \"Full-Total\": 111165.0}, {\"dt\": \"2003-01-31T00:00:00\", \"Full-Total\": 109394.5}, {\"dt\": \"2003-03-31T00:00:00\", \"Full-Total\": 111831.0}, {\"dt\": \"2003-05-31T00:00:00\", \"Full-Total\": 115165.0}, {\"dt\": \"2003-07-31T00:00:00\", \"Full-Total\": 121459.5}, {\"dt\": \"2003-09-30T00:00:00\", \"Full-Total\": 117962.5}, {\"dt\": \"2003-11-30T00:00:00\", \"Full-Total\": 121800.0}, {\"dt\": \"2004-01-31T00:00:00\", \"Full-Total\": 112730.0}, {\"dt\": \"2004-03-31T00:00:00\", \"Full-Total\": 109286.0}, {\"dt\": \"2004-05-31T00:00:00\", \"Full-Total\": 118570.0}, {\"dt\": \"2004-07-31T00:00:00\", \"Full-Total\": 124648.5}, {\"dt\": \"2004-09-30T00:00:00\", \"Full-Total\": 132332.0}, {\"dt\": \"2004-11-30T00:00:00\", \"Full-Total\": 142600.5}, {\"dt\": \"2005-01-31T00:00:00\", \"Full-Total\": 137239.0}, {\"dt\": \"2005-03-31T00:00:00\", \"Full-Total\": 132049.5}, {\"dt\": \"2005-05-31T00:00:00\", \"Full-Total\": 138367.5}, {\"dt\": \"2005-07-31T00:00:00\", \"Full-Total\": 139599.5}, {\"dt\": \"2005-09-30T00:00:00\", \"Full-Total\": 145857.0}, {\"dt\": \"2005-11-30T00:00:00\", \"Full-Total\": 146152.0}, {\"dt\": \"2006-01-31T00:00:00\", \"Full-Total\": 141889.5}, {\"dt\": \"2006-03-31T00:00:00\", \"Full-Total\": 139567.5}, {\"dt\": \"2006-05-31T00:00:00\", \"Full-Total\": 142941.0}, {\"dt\": \"2006-07-31T00:00:00\", \"Full-Total\": 143957.5}, {\"dt\": \"2006-09-30T00:00:00\", \"Full-Total\": 148277.5}, {\"dt\": \"2006-11-30T00:00:00\", \"Full-Total\": 146746.0}, {\"dt\": \"2007-01-31T00:00:00\", \"Full-Total\": 140180.5}, {\"dt\": \"2007-03-31T00:00:00\", \"Full-Total\": 135248.5}, {\"dt\": \"2007-05-31T00:00:00\", \"Full-Total\": 146097.0}, {\"dt\": \"2007-07-31T00:00:00\", \"Full-Total\": 152829.0}, {\"dt\": \"2007-09-30T00:00:00\", \"Full-Total\": 153846.0}, {\"dt\": \"2007-11-30T00:00:00\", \"Full-Total\": 158574.5}, {\"dt\": \"2008-01-31T00:00:00\", \"Full-Total\": 142391.5}, {\"dt\": \"2008-03-31T00:00:00\", \"Full-Total\": 142285.5}, {\"dt\": \"2008-05-31T00:00:00\", \"Full-Total\": 148980.5}, {\"dt\": \"2008-07-31T00:00:00\", \"Full-Total\": 153241.5}, {\"dt\": \"2008-09-30T00:00:00\", \"Full-Total\": 146012.0}, {\"dt\": \"2008-11-30T00:00:00\", \"Full-Total\": 132050.0}, {\"dt\": \"2009-01-31T00:00:00\", \"Full-Total\": 121562.5}, {\"dt\": \"2009-03-31T00:00:00\", \"Full-Total\": 120208.0}, {\"dt\": \"2009-05-31T00:00:00\", \"Full-Total\": 135354.0}, {\"dt\": \"2009-07-31T00:00:00\", \"Full-Total\": 145266.5}, {\"dt\": \"2009-09-30T00:00:00\", \"Full-Total\": 147913.5}, {\"dt\": \"2009-11-30T00:00:00\", \"Full-Total\": 146256.0}, {\"dt\": \"2010-01-31T00:00:00\", \"Full-Total\": 142668.5}, {\"dt\": \"2010-03-31T00:00:00\", \"Full-Total\": 133738.5}, {\"dt\": \"2010-05-31T00:00:00\", \"Full-Total\": 145029.0}, {\"dt\": \"2010-07-31T00:00:00\", \"Full-Total\": 151638.5}, {\"dt\": \"2010-09-30T00:00:00\", \"Full-Total\": 155031.0}, {\"dt\": \"2010-11-30T00:00:00\", \"Full-Total\": 154821.5}, {\"dt\": \"2011-01-31T00:00:00\", \"Full-Total\": 144053.0}, {\"dt\": \"2011-03-31T00:00:00\", \"Full-Total\": 141149.5}, {\"dt\": \"2011-05-31T00:00:00\", \"Full-Total\": 151047.5}, {\"dt\": \"2011-07-31T00:00:00\", \"Full-Total\": 150017.5}, {\"dt\": \"2011-09-30T00:00:00\", \"Full-Total\": 155611.0}, {\"dt\": \"2011-11-30T00:00:00\", \"Full-Total\": 154128.5}, {\"dt\": \"2012-01-31T00:00:00\", \"Full-Total\": 150258.0}, {\"dt\": \"2012-03-31T00:00:00\", \"Full-Total\": 141494.0}, {\"dt\": \"2012-05-31T00:00:00\", \"Full-Total\": 149952.5}, {\"dt\": \"2012-07-31T00:00:00\", \"Full-Total\": 147536.0}, {\"dt\": \"2012-09-30T00:00:00\", \"Full-Total\": 146458.5}, {\"dt\": \"2012-11-30T00:00:00\", \"Full-Total\": 150675.0}, {\"dt\": \"2013-01-31T00:00:00\", \"Full-Total\": 151618.0}, {\"dt\": \"2013-03-31T00:00:00\", \"Full-Total\": 144849.0}, {\"dt\": \"2013-05-31T00:00:00\", \"Full-Total\": 152557.0}, {\"dt\": \"2013-07-31T00:00:00\", \"Full-Total\": 153491.5}, {\"dt\": \"2013-09-30T00:00:00\", \"Full-Total\": 155331.0}, {\"dt\": \"2013-11-30T00:00:00\", \"Full-Total\": 155454.5}, {\"dt\": \"2014-01-31T00:00:00\", \"Full-Total\": 147689.5}, {\"dt\": \"2014-03-31T00:00:00\", \"Full-Total\": 143112.5}, {\"dt\": \"2014-05-31T00:00:00\", \"Full-Total\": 158493.5}, {\"dt\": \"2014-07-31T00:00:00\", \"Full-Total\": 152711.0}, {\"dt\": \"2014-09-30T00:00:00\", \"Full-Total\": 150664.0}, {\"dt\": \"2014-11-30T00:00:00\", \"Full-Total\": 152441.5}, {\"dt\": \"2015-01-31T00:00:00\", \"Full-Total\": 125719.5}, {\"dt\": \"2015-03-31T00:00:00\", \"Full-Total\": 124077.0}, {\"dt\": \"2015-05-31T00:00:00\", \"Full-Total\": 153504.0}, {\"dt\": \"2015-07-31T00:00:00\", \"Full-Total\": 154042.5}, {\"dt\": \"2015-09-30T00:00:00\", \"Full-Total\": 151496.5}, {\"dt\": \"2015-11-30T00:00:00\", \"Full-Total\": 147672.5}, {\"dt\": \"2016-01-31T00:00:00\", \"Full-Total\": 141978.0}, {\"dt\": \"2016-03-31T00:00:00\", \"Full-Total\": 140626.5}, {\"dt\": \"2016-05-31T00:00:00\", \"Full-Total\": 158084.5}, {\"dt\": \"2016-07-31T00:00:00\", \"Full-Total\": 154052.0}, {\"dt\": \"2016-09-30T00:00:00\", \"Full-Total\": 154058.0}, {\"dt\": \"2016-11-30T00:00:00\", \"Full-Total\": 160283.0}, {\"dt\": \"2017-01-31T00:00:00\", \"Full-Total\": 153183.075}, {\"dt\": \"2017-03-31T00:00:00\", \"Full-Total\": 143342.9}, {\"dt\": \"2017-05-31T00:00:00\", \"Full-Total\": 157395.3}, {\"dt\": \"2017-07-31T00:00:00\", \"Full-Total\": 157684.8}, {\"dt\": \"2017-09-30T00:00:00\", \"Full-Total\": 154267.7}, {\"dt\": \"2017-11-30T00:00:00\", \"Full-Total\": 156003.32499999998}, {\"dt\": \"2018-01-31T00:00:00\", \"Full-Total\": 154605.9}, {\"dt\": \"2018-03-31T00:00:00\", \"Full-Total\": 147913.7}, {\"dt\": \"2018-05-31T00:00:00\", \"Full-Total\": 153936.57499999998}, {\"dt\": \"2018-07-31T00:00:00\", \"Full-Total\": 156368.69999999998}, {\"dt\": \"2018-09-30T00:00:00\", \"Full-Total\": 157777.15}, {\"dt\": \"2018-11-30T00:00:00\", \"Full-Total\": 160949.375}, {\"dt\": \"2019-01-31T00:00:00\", \"Full-Total\": 158344.425}, {\"dt\": \"2019-03-31T00:00:00\", \"Full-Total\": 150365.25}, {\"dt\": \"2019-05-31T00:00:00\", \"Full-Total\": 162013.375}, {\"dt\": \"2019-07-31T00:00:00\", \"Full-Total\": 161403.95}, {\"dt\": \"2019-09-30T00:00:00\", \"Full-Total\": 160180.5}, {\"dt\": \"2019-11-30T00:00:00\", \"Full-Total\": 162552.65000000002}, {\"dt\": \"2020-01-31T00:00:00\", \"Full-Total\": 155923.75}]}}, {\"mode\": \"vega-lite\"});\n",
       "</script>"
      ],
      "text/plain": [
       "alt.Chart(...)"
      ]
     },
     "execution_count": 3,
     "metadata": {},
     "output_type": "execute_result"
    }
   ],
   "source": [
    "def doChart(df, location='Oakland', metric='Full-Total'):\n",
    "    #metric = 'Full-Total'\n",
    "\n",
    "    return alt.Chart(df.reset_index()[['dt', metric]].dropna()).mark_line(color='purple').encode(\n",
    "        alt.X('dt:T', axis=alt.Axis(title='')),\n",
    "        alt.Y('{}:Q'.format(metric), axis=alt.Axis(title='Volume [TEUs]')),\n",
    "        tooltip=[alt.Tooltip(\"dt:T\", format=\"%b %Y\"), alt.Tooltip(\"{}:Q\".format(metric))]\n",
    "    ).properties(\n",
    "        title='Port of {} {} Container Volume'.format(location, metric),\n",
    "        width=750,\n",
    "        height=400\n",
    "    )\n",
    "\n",
    "doChart(df_oak_combined)"
   ]
  },
  {
   "cell_type": "code",
   "execution_count": 4,
   "metadata": {},
   "outputs": [
    {
     "data": {
      "text/html": [
       "\n",
       "<div id=\"altair-viz-d030f484e37042a298aca77ea3ba9786\"></div>\n",
       "<script type=\"text/javascript\">\n",
       "  (function(spec, embedOpt){\n",
       "    const outputDiv = document.getElementById(\"altair-viz-d030f484e37042a298aca77ea3ba9786\");\n",
       "    const paths = {\n",
       "      \"vega\": \"https://cdn.jsdelivr.net/npm//vega@5?noext\",\n",
       "      \"vega-lib\": \"https://cdn.jsdelivr.net/npm//vega-lib?noext\",\n",
       "      \"vega-lite\": \"https://cdn.jsdelivr.net/npm//vega-lite@4.0.2?noext\",\n",
       "      \"vega-embed\": \"https://cdn.jsdelivr.net/npm//vega-embed@6?noext\",\n",
       "    };\n",
       "\n",
       "    function loadScript(lib) {\n",
       "      return new Promise(function(resolve, reject) {\n",
       "        var s = document.createElement('script');\n",
       "        s.src = paths[lib];\n",
       "        s.async = true;\n",
       "        s.onload = () => resolve(paths[lib]);\n",
       "        s.onerror = () => reject(`Error loading script: ${paths[lib]}`);\n",
       "        document.getElementsByTagName(\"head\")[0].appendChild(s);\n",
       "      });\n",
       "    }\n",
       "\n",
       "    function showError(err) {\n",
       "      outputDiv.innerHTML = `<div class=\"error\" style=\"color:red;\">${err}</div>`;\n",
       "      throw err;\n",
       "    }\n",
       "\n",
       "    function displayChart(vegaEmbed) {\n",
       "      vegaEmbed(outputDiv, spec, embedOpt)\n",
       "        .catch(err => showError(`Javascript Error: ${err.message}<br>This usually means there's a typo in your chart specification. See the javascript console for the full traceback.`));\n",
       "    }\n",
       "\n",
       "    if(typeof define === \"function\" && define.amd) {\n",
       "      requirejs.config({paths});\n",
       "      require([\"vega-embed\"], displayChart, err => showError(`Error loading script: ${err.message}`));\n",
       "    } else if (typeof vegaEmbed === \"function\") {\n",
       "      displayChart(vegaEmbed);\n",
       "    } else {\n",
       "      loadScript(\"vega\")\n",
       "        .then(() => loadScript(\"vega-lite\"))\n",
       "        .then(() => loadScript(\"vega-embed\"))\n",
       "        .catch(showError)\n",
       "        .then(() => displayChart(vegaEmbed));\n",
       "    }\n",
       "  })({\"config\": {\"view\": {\"continuousWidth\": 400, \"continuousHeight\": 300}}, \"data\": {\"name\": \"data-66b2d2c1d91ef13188e0f6fd95556aa2\"}, \"mark\": {\"type\": \"bar\", \"color\": \"blue\", \"width\": 2}, \"encoding\": {\"tooltip\": [{\"type\": \"temporal\", \"field\": \"dt\", \"format\": \"%b %Y\"}, {\"type\": \"quantitative\", \"field\": \"Full-Total\"}], \"x\": {\"type\": \"temporal\", \"axis\": {\"title\": \"\"}, \"field\": \"dt\"}, \"y\": {\"type\": \"quantitative\", \"axis\": {\"title\": \"Year-over-Year Volume Growth [%]\"}, \"field\": \"Full-Total\"}}, \"height\": 400, \"title\": \"Port of Oakland Full-Total Container Volume Growth\", \"width\": 750, \"$schema\": \"https://vega.github.io/schema/vega-lite/v4.0.2.json\", \"datasets\": {\"data-66b2d2c1d91ef13188e0f6fd95556aa2\": [{\"dt\": \"1997-07-31T00:00:00\", \"Full-Total\": null}, {\"dt\": \"1997-09-30T00:00:00\", \"Full-Total\": null}, {\"dt\": \"1997-11-30T00:00:00\", \"Full-Total\": null}, {\"dt\": \"1998-01-31T00:00:00\", \"Full-Total\": null}, {\"dt\": \"1998-03-31T00:00:00\", \"Full-Total\": null}, {\"dt\": \"1998-05-31T00:00:00\", \"Full-Total\": null}, {\"dt\": \"1998-07-31T00:00:00\", \"Full-Total\": null}, {\"dt\": \"1998-09-30T00:00:00\", \"Full-Total\": null}, {\"dt\": \"1998-11-30T00:00:00\", \"Full-Total\": null}, {\"dt\": \"1999-01-31T00:00:00\", \"Full-Total\": null}, {\"dt\": \"1999-03-31T00:00:00\", \"Full-Total\": null}, {\"dt\": \"1999-05-31T00:00:00\", \"Full-Total\": null}, {\"dt\": \"1999-07-31T00:00:00\", \"Full-Total\": 1.9284802043422644}, {\"dt\": \"1999-09-30T00:00:00\", \"Full-Total\": 11.607482803259138}, {\"dt\": \"1999-11-30T00:00:00\", \"Full-Total\": -2.2714619752811527}, {\"dt\": \"2000-01-31T00:00:00\", \"Full-Total\": 11.29470687699321}, {\"dt\": \"2000-03-31T00:00:00\", \"Full-Total\": 11.291464561603725}, {\"dt\": \"2000-05-31T00:00:00\", \"Full-Total\": 10.311718924630675}, {\"dt\": \"2000-07-31T00:00:00\", \"Full-Total\": 14.653302942937497}, {\"dt\": \"2000-09-30T00:00:00\", \"Full-Total\": 15.19604741159004}, {\"dt\": \"2000-11-30T00:00:00\", \"Full-Total\": 1.5605594254549437}, {\"dt\": \"2001-01-31T00:00:00\", \"Full-Total\": 2.5475157397432113}, {\"dt\": \"2001-03-31T00:00:00\", \"Full-Total\": 1.2558591574961753}, {\"dt\": \"2001-05-31T00:00:00\", \"Full-Total\": -1.453458064393831}, {\"dt\": \"2001-07-31T00:00:00\", \"Full-Total\": -0.028914826559234275}, {\"dt\": \"2001-09-30T00:00:00\", \"Full-Total\": -1.1121219012963368}, {\"dt\": \"2001-11-30T00:00:00\", \"Full-Total\": -2.930386236755156}, {\"dt\": \"2002-01-31T00:00:00\", \"Full-Total\": -10.50713488980345}, {\"dt\": \"2002-03-31T00:00:00\", \"Full-Total\": -9.803539890233015}, {\"dt\": \"2002-05-31T00:00:00\", \"Full-Total\": -0.8469112378075128}, {\"dt\": \"2002-07-31T00:00:00\", \"Full-Total\": -2.96353183832887}, {\"dt\": \"2002-09-30T00:00:00\", \"Full-Total\": -2.4419720012000656}, {\"dt\": \"2002-11-30T00:00:00\", \"Full-Total\": -1.491386643981285}, {\"dt\": \"2003-01-31T00:00:00\", \"Full-Total\": 5.43590880395548}, {\"dt\": \"2003-03-31T00:00:00\", \"Full-Total\": 11.811432999225136}, {\"dt\": \"2003-05-31T00:00:00\", \"Full-Total\": 10.763800391445887}, {\"dt\": \"2003-07-31T00:00:00\", \"Full-Total\": 17.09987177385923}, {\"dt\": \"2003-09-30T00:00:00\", \"Full-Total\": 8.518663324210586}, {\"dt\": \"2003-11-30T00:00:00\", \"Full-Total\": 14.368881898636122}, {\"dt\": \"2004-01-31T00:00:00\", \"Full-Total\": 21.125186689445474}, {\"dt\": \"2004-03-31T00:00:00\", \"Full-Total\": 15.050610856989465}, {\"dt\": \"2004-05-31T00:00:00\", \"Full-Total\": 10.14245040710069}, {\"dt\": \"2004-07-31T00:00:00\", \"Full-Total\": 12.7443841947928}, {\"dt\": \"2004-09-30T00:00:00\", \"Full-Total\": 14.63568873064962}, {\"dt\": \"2004-11-30T00:00:00\", \"Full-Total\": 28.278235055997847}, {\"dt\": \"2005-01-31T00:00:00\", \"Full-Total\": 25.45329061333066}, {\"dt\": \"2005-03-31T00:00:00\", \"Full-Total\": 18.0795128363334}, {\"dt\": \"2005-05-31T00:00:00\", \"Full-Total\": 20.14718013285286}, {\"dt\": \"2005-07-31T00:00:00\", \"Full-Total\": 14.935019492094082}, {\"dt\": \"2005-09-30T00:00:00\", \"Full-Total\": 23.64692169121543}, {\"dt\": \"2005-11-30T00:00:00\", \"Full-Total\": 19.99343185550082}, {\"dt\": \"2006-01-31T00:00:00\", \"Full-Total\": 25.866672580502083}, {\"dt\": \"2006-03-31T00:00:00\", \"Full-Total\": 27.70848965100745}, {\"dt\": \"2006-05-31T00:00:00\", \"Full-Total\": 20.554103061482664}, {\"dt\": \"2006-07-31T00:00:00\", \"Full-Total\": 15.49076001716827}, {\"dt\": \"2006-09-30T00:00:00\", \"Full-Total\": 12.049617628389209}, {\"dt\": \"2006-11-30T00:00:00\", \"Full-Total\": 2.907072555846568}, {\"dt\": \"2007-01-31T00:00:00\", \"Full-Total\": 2.143341178527969}, {\"dt\": \"2007-03-31T00:00:00\", \"Full-Total\": 2.422576382341468}, {\"dt\": \"2007-05-31T00:00:00\", \"Full-Total\": 5.586210634722755}, {\"dt\": \"2007-07-31T00:00:00\", \"Full-Total\": 9.476753140233306}, {\"dt\": \"2007-09-30T00:00:00\", \"Full-Total\": 5.477282543861461}, {\"dt\": \"2007-11-30T00:00:00\", \"Full-Total\": 8.499712627948973}, {\"dt\": \"2008-01-31T00:00:00\", \"Full-Total\": 0.3537964401876037}, {\"dt\": \"2008-03-31T00:00:00\", \"Full-Total\": 1.947444784781549}, {\"dt\": \"2008-05-31T00:00:00\", \"Full-Total\": 4.225169825312536}, {\"dt\": \"2008-07-31T00:00:00\", \"Full-Total\": 6.44912560998907}, {\"dt\": \"2008-09-30T00:00:00\", \"Full-Total\": -1.5278784711099114}, {\"dt\": \"2008-11-30T00:00:00\", \"Full-Total\": -10.014583021002277}, {\"dt\": \"2009-01-31T00:00:00\", \"Full-Total\": -13.281447847596494}, {\"dt\": \"2009-03-31T00:00:00\", \"Full-Total\": -11.120640894353729}, {\"dt\": \"2009-05-31T00:00:00\", \"Full-Total\": -7.353333744019386}, {\"dt\": \"2009-07-31T00:00:00\", \"Full-Total\": -4.948340956232133}, {\"dt\": \"2009-09-30T00:00:00\", \"Full-Total\": -3.85612885612886}, {\"dt\": \"2009-11-30T00:00:00\", \"Full-Total\": -7.768272956875155}, {\"dt\": \"2010-01-31T00:00:00\", \"Full-Total\": 0.19453408384628723}, {\"dt\": \"2010-03-31T00:00:00\", \"Full-Total\": -6.006936757434877}, {\"dt\": \"2010-05-31T00:00:00\", \"Full-Total\": -2.652360543829557}, {\"dt\": \"2010-07-31T00:00:00\", \"Full-Total\": -1.0460612823549709}, {\"dt\": \"2010-09-30T00:00:00\", \"Full-Total\": 6.176889570720223}, {\"dt\": \"2010-11-30T00:00:00\", \"Full-Total\": 17.244604316546752}, {\"dt\": \"2011-01-31T00:00:00\", \"Full-Total\": 18.501182519280214}, {\"dt\": \"2011-03-31T00:00:00\", \"Full-Total\": 17.421053507254094}, {\"dt\": \"2011-05-31T00:00:00\", \"Full-Total\": 11.594411690825535}, {\"dt\": \"2011-07-31T00:00:00\", \"Full-Total\": 3.270540695893409}, {\"dt\": \"2011-09-30T00:00:00\", \"Full-Total\": 5.20405507272832}, {\"dt\": \"2011-11-30T00:00:00\", \"Full-Total\": 5.382685154797073}, {\"dt\": \"2012-01-31T00:00:00\", \"Full-Total\": 5.319674630349369}, {\"dt\": \"2012-03-31T00:00:00\", \"Full-Total\": 5.799003278786596}, {\"dt\": \"2012-05-31T00:00:00\", \"Full-Total\": 3.3948382737245764}, {\"dt\": \"2012-07-31T00:00:00\", \"Full-Total\": -2.7054474951941576}, {\"dt\": \"2012-09-30T00:00:00\", \"Full-Total\": -5.52953925343963}, {\"dt\": \"2012-11-30T00:00:00\", \"Full-Total\": -2.678245592504913}, {\"dt\": \"2013-01-31T00:00:00\", \"Full-Total\": 5.251539363984081}, {\"dt\": \"2013-03-31T00:00:00\", \"Full-Total\": 2.6209798830318265}, {\"dt\": \"2013-05-31T00:00:00\", \"Full-Total\": 0.9993545076879773}, {\"dt\": \"2013-07-31T00:00:00\", \"Full-Total\": 2.315729831519664}, {\"dt\": \"2013-09-30T00:00:00\", \"Full-Total\": -0.1799358657164296}, {\"dt\": \"2013-11-30T00:00:00\", \"Full-Total\": 0.8603210957091045}, {\"dt\": \"2014-01-31T00:00:00\", \"Full-Total\": -1.7093931770687742}, {\"dt\": \"2014-03-31T00:00:00\", \"Full-Total\": 1.143864757516222}, {\"dt\": \"2014-05-31T00:00:00\", \"Full-Total\": 5.695803671162536}, {\"dt\": \"2014-07-31T00:00:00\", \"Full-Total\": 3.5076184795575394}, {\"dt\": \"2014-09-30T00:00:00\", \"Full-Total\": 2.871461881693449}, {\"dt\": \"2014-11-30T00:00:00\", \"Full-Total\": 1.1723909075825434}, {\"dt\": \"2015-01-31T00:00:00\", \"Full-Total\": -17.081415135406086}, {\"dt\": \"2015-03-31T00:00:00\", \"Full-Total\": -14.340451090445915}, {\"dt\": \"2015-05-31T00:00:00\", \"Full-Total\": 0.6207515879310677}, {\"dt\": \"2015-07-31T00:00:00\", \"Full-Total\": 0.3589775329578604}, {\"dt\": \"2015-09-30T00:00:00\", \"Full-Total\": -2.468599313723596}, {\"dt\": \"2015-11-30T00:00:00\", \"Full-Total\": -5.00596637601356}, {\"dt\": \"2016-01-31T00:00:00\", \"Full-Total\": -3.8672349760815794}, {\"dt\": \"2016-03-31T00:00:00\", \"Full-Total\": -1.737094942789763}, {\"dt\": \"2016-05-31T00:00:00\", \"Full-Total\": -0.25805474672463413}, {\"dt\": \"2016-07-31T00:00:00\", \"Full-Total\": 0.8781292768693882}, {\"dt\": \"2016-09-30T00:00:00\", \"Full-Total\": 2.2526947379599704}, {\"dt\": \"2016-11-30T00:00:00\", \"Full-Total\": 5.143940462406893}, {\"dt\": \"2017-01-31T00:00:00\", \"Full-Total\": 21.84511949220289}, {\"dt\": \"2017-03-31T00:00:00\", \"Full-Total\": 15.527374130580206}, {\"dt\": \"2017-05-31T00:00:00\", \"Full-Total\": 2.5349828017510845}, {\"dt\": \"2017-07-31T00:00:00\", \"Full-Total\": 2.364477335800186}, {\"dt\": \"2017-09-30T00:00:00\", \"Full-Total\": 1.8292171766344456}, {\"dt\": \"2017-11-30T00:00:00\", \"Full-Total\": 5.641419357023136}, {\"dt\": \"2018-01-31T00:00:00\", \"Full-Total\": 8.894265308709803}, {\"dt\": \"2018-03-31T00:00:00\", \"Full-Total\": 5.181953614717005}, {\"dt\": \"2018-05-31T00:00:00\", \"Full-Total\": -2.623865717385332}, {\"dt\": \"2018-07-31T00:00:00\", \"Full-Total\": 1.503842858255644}, {\"dt\": \"2018-09-30T00:00:00\", \"Full-Total\": 2.414123252281608}, {\"dt\": \"2018-11-30T00:00:00\", \"Full-Total\": 0.41574901892278415}, {\"dt\": \"2019-01-31T00:00:00\", \"Full-Total\": 3.369399654628924}, {\"dt\": \"2019-03-31T00:00:00\", \"Full-Total\": 4.8989869745903025}, {\"dt\": \"2019-05-31T00:00:00\", \"Full-Total\": 2.9340615634647405}, {\"dt\": \"2019-07-31T00:00:00\", \"Full-Total\": 2.3585976581129042}, {\"dt\": \"2019-09-30T00:00:00\", \"Full-Total\": 3.8328178873477725}, {\"dt\": \"2019-11-30T00:00:00\", \"Full-Total\": 4.198195775634939}, {\"dt\": \"2020-01-31T00:00:00\", \"Full-Total\": 0.8523930846106254}]}}, {\"mode\": \"vega-lite\"});\n",
       "</script>"
      ],
      "text/plain": [
       "alt.Chart(...)"
      ]
     },
     "execution_count": 4,
     "metadata": {},
     "output_type": "execute_result"
    }
   ],
   "source": [
    "def doYoyChart(df, location='Oakland', metric='Full-Total'):\n",
    "    df_yoy = df.reset_index()[['dt', metric]].dropna().set_index('dt').pct_change(12).apply(lambda v: v * 100).reset_index()\n",
    "\n",
    "    return alt.Chart(df_yoy).mark_bar(width=2, color='blue').encode(\n",
    "        alt.X('dt:T', axis=alt.Axis(title='')),\n",
    "        alt.Y('{}:Q'.format(metric), axis=alt.Axis(title='Year-over-Year Volume Growth [%]')),\n",
    "        tooltip=[alt.Tooltip(\"dt:T\", format=\"%b %Y\"), alt.Tooltip(\"{}:Q\".format(metric))]\n",
    "    ).properties(\n",
    "        title='Port of {} {} Container Volume Growth'.format(location, metric),\n",
    "        width=750,\n",
    "        height=400\n",
    "    )\n",
    "\n",
    "doYoyChart(df_oak_combined)"
   ]
  },
  {
   "cell_type": "code",
   "execution_count": 5,
   "metadata": {},
   "outputs": [
    {
     "data": {
      "text/html": [
       "\n",
       "<div id=\"altair-viz-042d06f80edf4281a2cd4b9fa429b664\"></div>\n",
       "<script type=\"text/javascript\">\n",
       "  (function(spec, embedOpt){\n",
       "    const outputDiv = document.getElementById(\"altair-viz-042d06f80edf4281a2cd4b9fa429b664\");\n",
       "    const paths = {\n",
       "      \"vega\": \"https://cdn.jsdelivr.net/npm//vega@5?noext\",\n",
       "      \"vega-lib\": \"https://cdn.jsdelivr.net/npm//vega-lib?noext\",\n",
       "      \"vega-lite\": \"https://cdn.jsdelivr.net/npm//vega-lite@4.0.2?noext\",\n",
       "      \"vega-embed\": \"https://cdn.jsdelivr.net/npm//vega-embed@6?noext\",\n",
       "    };\n",
       "\n",
       "    function loadScript(lib) {\n",
       "      return new Promise(function(resolve, reject) {\n",
       "        var s = document.createElement('script');\n",
       "        s.src = paths[lib];\n",
       "        s.async = true;\n",
       "        s.onload = () => resolve(paths[lib]);\n",
       "        s.onerror = () => reject(`Error loading script: ${paths[lib]}`);\n",
       "        document.getElementsByTagName(\"head\")[0].appendChild(s);\n",
       "      });\n",
       "    }\n",
       "\n",
       "    function showError(err) {\n",
       "      outputDiv.innerHTML = `<div class=\"error\" style=\"color:red;\">${err}</div>`;\n",
       "      throw err;\n",
       "    }\n",
       "\n",
       "    function displayChart(vegaEmbed) {\n",
       "      vegaEmbed(outputDiv, spec, embedOpt)\n",
       "        .catch(err => showError(`Javascript Error: ${err.message}<br>This usually means there's a typo in your chart specification. See the javascript console for the full traceback.`));\n",
       "    }\n",
       "\n",
       "    if(typeof define === \"function\" && define.amd) {\n",
       "      requirejs.config({paths});\n",
       "      require([\"vega-embed\"], displayChart, err => showError(`Error loading script: ${err.message}`));\n",
       "    } else if (typeof vegaEmbed === \"function\") {\n",
       "      displayChart(vegaEmbed);\n",
       "    } else {\n",
       "      loadScript(\"vega\")\n",
       "        .then(() => loadScript(\"vega-lite\"))\n",
       "        .then(() => loadScript(\"vega-embed\"))\n",
       "        .catch(showError)\n",
       "        .then(() => displayChart(vegaEmbed));\n",
       "    }\n",
       "  })({\"config\": {\"view\": {\"continuousWidth\": 400, \"continuousHeight\": 300}}, \"data\": {\"name\": \"data-c236d47e08007cd68b93dc339f37c236\"}, \"mark\": {\"type\": \"line\", \"color\": \"purple\"}, \"encoding\": {\"tooltip\": [{\"type\": \"temporal\", \"field\": \"dt\", \"format\": \"%b %Y\"}, {\"type\": \"quantitative\", \"field\": \"Full-Total\"}], \"x\": {\"type\": \"temporal\", \"axis\": {\"title\": \"\"}, \"field\": \"dt\"}, \"y\": {\"type\": \"quantitative\", \"axis\": {\"title\": \"Volume [TEUs]\"}, \"field\": \"Full-Total\"}}, \"height\": 400, \"title\": \"Port of Empty-Total Full-Total Container Volume\", \"width\": 750, \"$schema\": \"https://vega.github.io/schema/vega-lite/v4.0.2.json\", \"datasets\": {\"data-c236d47e08007cd68b93dc339f37c236\": [{\"dt\": \"1997-07-31T00:00:00\", \"Full-Total\": 101790.0}, {\"dt\": \"1997-09-30T00:00:00\", \"Full-Total\": 98492.5}, {\"dt\": \"1997-11-30T00:00:00\", \"Full-Total\": 112262.5}, {\"dt\": \"1998-01-31T00:00:00\", \"Full-Total\": 93442.0}, {\"dt\": \"1998-03-31T00:00:00\", \"Full-Total\": 94629.0}, {\"dt\": \"1998-05-31T00:00:00\", \"Full-Total\": 98422.0}, {\"dt\": \"1998-07-31T00:00:00\", \"Full-Total\": 99373.5}, {\"dt\": \"1998-09-30T00:00:00\", \"Full-Total\": 102717.5}, {\"dt\": \"1998-11-30T00:00:00\", \"Full-Total\": 111114.0}, {\"dt\": \"1999-01-31T00:00:00\", \"Full-Total\": 101177.0}, {\"dt\": \"1999-03-31T00:00:00\", \"Full-Total\": 98777.0}, {\"dt\": \"1999-05-31T00:00:00\", \"Full-Total\": 105507.0}, {\"dt\": \"1999-07-31T00:00:00\", \"Full-Total\": 103753.0}, {\"dt\": \"1999-09-30T00:00:00\", \"Full-Total\": 109925.0}, {\"dt\": \"1999-11-30T00:00:00\", \"Full-Total\": 109712.5}, {\"dt\": \"2000-01-31T00:00:00\", \"Full-Total\": 103996.0}, {\"dt\": \"2000-03-31T00:00:00\", \"Full-Total\": 105314.0}, {\"dt\": \"2000-05-31T00:00:00\", \"Full-Total\": 108571.0}, {\"dt\": \"2000-07-31T00:00:00\", \"Full-Total\": 113935.0}, {\"dt\": \"2000-09-30T00:00:00\", \"Full-Total\": 118326.5}, {\"dt\": \"2000-11-30T00:00:00\", \"Full-Total\": 112848.0}, {\"dt\": \"2001-01-31T00:00:00\", \"Full-Total\": 103754.5}, {\"dt\": \"2001-03-31T00:00:00\", \"Full-Total\": 100017.5}, {\"dt\": \"2001-05-31T00:00:00\", \"Full-Total\": 103973.5}, {\"dt\": \"2001-07-31T00:00:00\", \"Full-Total\": 103723.0}, {\"dt\": \"2001-09-30T00:00:00\", \"Full-Total\": 108702.5}, {\"dt\": \"2001-11-30T00:00:00\", \"Full-Total\": 106497.5}, {\"dt\": \"2002-01-31T00:00:00\", \"Full-Total\": 93069.0}, {\"dt\": \"2002-03-31T00:00:00\", \"Full-Total\": 94989.5}, {\"dt\": \"2002-05-31T00:00:00\", \"Full-Total\": 107651.5}, {\"dt\": \"2002-07-31T00:00:00\", \"Full-Total\": 110558.5}, {\"dt\": \"2002-09-30T00:00:00\", \"Full-Total\": 115437.0}, {\"dt\": \"2002-11-30T00:00:00\", \"Full-Total\": 111165.0}, {\"dt\": \"2003-01-31T00:00:00\", \"Full-Total\": 109394.5}, {\"dt\": \"2003-03-31T00:00:00\", \"Full-Total\": 111831.0}, {\"dt\": \"2003-05-31T00:00:00\", \"Full-Total\": 115165.0}, {\"dt\": \"2003-07-31T00:00:00\", \"Full-Total\": 121459.5}, {\"dt\": \"2003-09-30T00:00:00\", \"Full-Total\": 117962.5}, {\"dt\": \"2003-11-30T00:00:00\", \"Full-Total\": 121800.0}, {\"dt\": \"2004-01-31T00:00:00\", \"Full-Total\": 112730.0}, {\"dt\": \"2004-03-31T00:00:00\", \"Full-Total\": 109286.0}, {\"dt\": \"2004-05-31T00:00:00\", \"Full-Total\": 118570.0}, {\"dt\": \"2004-07-31T00:00:00\", \"Full-Total\": 124648.5}, {\"dt\": \"2004-09-30T00:00:00\", \"Full-Total\": 132332.0}, {\"dt\": \"2004-11-30T00:00:00\", \"Full-Total\": 142600.5}, {\"dt\": \"2005-01-31T00:00:00\", \"Full-Total\": 137239.0}, {\"dt\": \"2005-03-31T00:00:00\", \"Full-Total\": 132049.5}, {\"dt\": \"2005-05-31T00:00:00\", \"Full-Total\": 138367.5}, {\"dt\": \"2005-07-31T00:00:00\", \"Full-Total\": 139599.5}, {\"dt\": \"2005-09-30T00:00:00\", \"Full-Total\": 145857.0}, {\"dt\": \"2005-11-30T00:00:00\", \"Full-Total\": 146152.0}, {\"dt\": \"2006-01-31T00:00:00\", \"Full-Total\": 141889.5}, {\"dt\": \"2006-03-31T00:00:00\", \"Full-Total\": 139567.5}, {\"dt\": \"2006-05-31T00:00:00\", \"Full-Total\": 142941.0}, {\"dt\": \"2006-07-31T00:00:00\", \"Full-Total\": 143957.5}, {\"dt\": \"2006-09-30T00:00:00\", \"Full-Total\": 148277.5}, {\"dt\": \"2006-11-30T00:00:00\", \"Full-Total\": 146746.0}, {\"dt\": \"2007-01-31T00:00:00\", \"Full-Total\": 140180.5}, {\"dt\": \"2007-03-31T00:00:00\", \"Full-Total\": 135248.5}, {\"dt\": \"2007-05-31T00:00:00\", \"Full-Total\": 146097.0}, {\"dt\": \"2007-07-31T00:00:00\", \"Full-Total\": 152829.0}, {\"dt\": \"2007-09-30T00:00:00\", \"Full-Total\": 153846.0}, {\"dt\": \"2007-11-30T00:00:00\", \"Full-Total\": 158574.5}, {\"dt\": \"2008-01-31T00:00:00\", \"Full-Total\": 142391.5}, {\"dt\": \"2008-03-31T00:00:00\", \"Full-Total\": 142285.5}, {\"dt\": \"2008-05-31T00:00:00\", \"Full-Total\": 148980.5}, {\"dt\": \"2008-07-31T00:00:00\", \"Full-Total\": 153241.5}, {\"dt\": \"2008-09-30T00:00:00\", \"Full-Total\": 146012.0}, {\"dt\": \"2008-11-30T00:00:00\", \"Full-Total\": 132050.0}, {\"dt\": \"2009-01-31T00:00:00\", \"Full-Total\": 121562.5}, {\"dt\": \"2009-03-31T00:00:00\", \"Full-Total\": 120208.0}, {\"dt\": \"2009-05-31T00:00:00\", \"Full-Total\": 135354.0}, {\"dt\": \"2009-07-31T00:00:00\", \"Full-Total\": 145266.5}, {\"dt\": \"2009-09-30T00:00:00\", \"Full-Total\": 147913.5}, {\"dt\": \"2009-11-30T00:00:00\", \"Full-Total\": 146256.0}, {\"dt\": \"2010-01-31T00:00:00\", \"Full-Total\": 142668.5}, {\"dt\": \"2010-03-31T00:00:00\", \"Full-Total\": 133738.5}, {\"dt\": \"2010-05-31T00:00:00\", \"Full-Total\": 145029.0}, {\"dt\": \"2010-07-31T00:00:00\", \"Full-Total\": 151638.5}, {\"dt\": \"2010-09-30T00:00:00\", \"Full-Total\": 155031.0}, {\"dt\": \"2010-11-30T00:00:00\", \"Full-Total\": 154821.5}, {\"dt\": \"2011-01-31T00:00:00\", \"Full-Total\": 144053.0}, {\"dt\": \"2011-03-31T00:00:00\", \"Full-Total\": 141149.5}, {\"dt\": \"2011-05-31T00:00:00\", \"Full-Total\": 151047.5}, {\"dt\": \"2011-07-31T00:00:00\", \"Full-Total\": 150017.5}, {\"dt\": \"2011-09-30T00:00:00\", \"Full-Total\": 155611.0}, {\"dt\": \"2011-11-30T00:00:00\", \"Full-Total\": 154128.5}, {\"dt\": \"2012-01-31T00:00:00\", \"Full-Total\": 150258.0}, {\"dt\": \"2012-03-31T00:00:00\", \"Full-Total\": 141494.0}, {\"dt\": \"2012-05-31T00:00:00\", \"Full-Total\": 149952.5}, {\"dt\": \"2012-07-31T00:00:00\", \"Full-Total\": 147536.0}, {\"dt\": \"2012-09-30T00:00:00\", \"Full-Total\": 146458.5}, {\"dt\": \"2012-11-30T00:00:00\", \"Full-Total\": 150675.0}, {\"dt\": \"2013-01-31T00:00:00\", \"Full-Total\": 151618.0}, {\"dt\": \"2013-03-31T00:00:00\", \"Full-Total\": 144849.0}, {\"dt\": \"2013-05-31T00:00:00\", \"Full-Total\": 152557.0}, {\"dt\": \"2013-07-31T00:00:00\", \"Full-Total\": 153491.5}, {\"dt\": \"2013-09-30T00:00:00\", \"Full-Total\": 155331.0}, {\"dt\": \"2013-11-30T00:00:00\", \"Full-Total\": 155454.5}, {\"dt\": \"2014-01-31T00:00:00\", \"Full-Total\": 147689.5}, {\"dt\": \"2014-03-31T00:00:00\", \"Full-Total\": 143112.5}, {\"dt\": \"2014-05-31T00:00:00\", \"Full-Total\": 158493.5}, {\"dt\": \"2014-07-31T00:00:00\", \"Full-Total\": 152711.0}, {\"dt\": \"2014-09-30T00:00:00\", \"Full-Total\": 150664.0}, {\"dt\": \"2014-11-30T00:00:00\", \"Full-Total\": 152441.5}, {\"dt\": \"2015-01-31T00:00:00\", \"Full-Total\": 125719.5}, {\"dt\": \"2015-03-31T00:00:00\", \"Full-Total\": 124077.0}, {\"dt\": \"2015-05-31T00:00:00\", \"Full-Total\": 153504.0}, {\"dt\": \"2015-07-31T00:00:00\", \"Full-Total\": 154042.5}, {\"dt\": \"2015-09-30T00:00:00\", \"Full-Total\": 151496.5}, {\"dt\": \"2015-11-30T00:00:00\", \"Full-Total\": 147672.5}, {\"dt\": \"2016-01-31T00:00:00\", \"Full-Total\": 141978.0}, {\"dt\": \"2016-03-31T00:00:00\", \"Full-Total\": 140626.5}, {\"dt\": \"2016-05-31T00:00:00\", \"Full-Total\": 158084.5}, {\"dt\": \"2016-07-31T00:00:00\", \"Full-Total\": 154052.0}, {\"dt\": \"2016-09-30T00:00:00\", \"Full-Total\": 154058.0}, {\"dt\": \"2016-11-30T00:00:00\", \"Full-Total\": 160283.0}, {\"dt\": \"2017-01-31T00:00:00\", \"Full-Total\": 153183.075}, {\"dt\": \"2017-03-31T00:00:00\", \"Full-Total\": 143342.9}, {\"dt\": \"2017-05-31T00:00:00\", \"Full-Total\": 157395.3}, {\"dt\": \"2017-07-31T00:00:00\", \"Full-Total\": 157684.8}, {\"dt\": \"2017-09-30T00:00:00\", \"Full-Total\": 154267.7}, {\"dt\": \"2017-11-30T00:00:00\", \"Full-Total\": 156003.32499999998}, {\"dt\": \"2018-01-31T00:00:00\", \"Full-Total\": 154605.9}, {\"dt\": \"2018-03-31T00:00:00\", \"Full-Total\": 147913.7}, {\"dt\": \"2018-05-31T00:00:00\", \"Full-Total\": 153936.57499999998}, {\"dt\": \"2018-07-31T00:00:00\", \"Full-Total\": 156368.69999999998}, {\"dt\": \"2018-09-30T00:00:00\", \"Full-Total\": 157777.15}, {\"dt\": \"2018-11-30T00:00:00\", \"Full-Total\": 160949.375}, {\"dt\": \"2019-01-31T00:00:00\", \"Full-Total\": 158344.425}, {\"dt\": \"2019-03-31T00:00:00\", \"Full-Total\": 150365.25}, {\"dt\": \"2019-05-31T00:00:00\", \"Full-Total\": 162013.375}, {\"dt\": \"2019-07-31T00:00:00\", \"Full-Total\": 161403.95}, {\"dt\": \"2019-09-30T00:00:00\", \"Full-Total\": 160180.5}, {\"dt\": \"2019-11-30T00:00:00\", \"Full-Total\": 162552.65000000002}, {\"dt\": \"2020-01-31T00:00:00\", \"Full-Total\": 155923.75}]}}, {\"mode\": \"vega-lite\"});\n",
       "</script>"
      ],
      "text/plain": [
       "alt.Chart(...)"
      ]
     },
     "execution_count": 5,
     "metadata": {},
     "output_type": "execute_result"
    }
   ],
   "source": [
    "doChart(df_oak_combined, 'Empty-Total')"
   ]
  },
  {
   "cell_type": "code",
   "execution_count": 6,
   "metadata": {},
   "outputs": [
    {
     "data": {
      "text/html": [
       "\n",
       "<div id=\"altair-viz-e0e74bcf25a14f70aa5882cd97f864a4\"></div>\n",
       "<script type=\"text/javascript\">\n",
       "  (function(spec, embedOpt){\n",
       "    const outputDiv = document.getElementById(\"altair-viz-e0e74bcf25a14f70aa5882cd97f864a4\");\n",
       "    const paths = {\n",
       "      \"vega\": \"https://cdn.jsdelivr.net/npm//vega@5?noext\",\n",
       "      \"vega-lib\": \"https://cdn.jsdelivr.net/npm//vega-lib?noext\",\n",
       "      \"vega-lite\": \"https://cdn.jsdelivr.net/npm//vega-lite@4.0.2?noext\",\n",
       "      \"vega-embed\": \"https://cdn.jsdelivr.net/npm//vega-embed@6?noext\",\n",
       "    };\n",
       "\n",
       "    function loadScript(lib) {\n",
       "      return new Promise(function(resolve, reject) {\n",
       "        var s = document.createElement('script');\n",
       "        s.src = paths[lib];\n",
       "        s.async = true;\n",
       "        s.onload = () => resolve(paths[lib]);\n",
       "        s.onerror = () => reject(`Error loading script: ${paths[lib]}`);\n",
       "        document.getElementsByTagName(\"head\")[0].appendChild(s);\n",
       "      });\n",
       "    }\n",
       "\n",
       "    function showError(err) {\n",
       "      outputDiv.innerHTML = `<div class=\"error\" style=\"color:red;\">${err}</div>`;\n",
       "      throw err;\n",
       "    }\n",
       "\n",
       "    function displayChart(vegaEmbed) {\n",
       "      vegaEmbed(outputDiv, spec, embedOpt)\n",
       "        .catch(err => showError(`Javascript Error: ${err.message}<br>This usually means there's a typo in your chart specification. See the javascript console for the full traceback.`));\n",
       "    }\n",
       "\n",
       "    if(typeof define === \"function\" && define.amd) {\n",
       "      requirejs.config({paths});\n",
       "      require([\"vega-embed\"], displayChart, err => showError(`Error loading script: ${err.message}`));\n",
       "    } else if (typeof vegaEmbed === \"function\") {\n",
       "      displayChart(vegaEmbed);\n",
       "    } else {\n",
       "      loadScript(\"vega\")\n",
       "        .then(() => loadScript(\"vega-lite\"))\n",
       "        .then(() => loadScript(\"vega-embed\"))\n",
       "        .catch(showError)\n",
       "        .then(() => displayChart(vegaEmbed));\n",
       "    }\n",
       "  })({\"config\": {\"view\": {\"continuousWidth\": 400, \"continuousHeight\": 300}}, \"data\": {\"name\": \"data-66b2d2c1d91ef13188e0f6fd95556aa2\"}, \"mark\": {\"type\": \"bar\", \"color\": \"blue\", \"width\": 2}, \"encoding\": {\"tooltip\": [{\"type\": \"temporal\", \"field\": \"dt\", \"format\": \"%b %Y\"}, {\"type\": \"quantitative\", \"field\": \"Full-Total\"}], \"x\": {\"type\": \"temporal\", \"axis\": {\"title\": \"\"}, \"field\": \"dt\"}, \"y\": {\"type\": \"quantitative\", \"axis\": {\"title\": \"Year-over-Year Volume Growth [%]\"}, \"field\": \"Full-Total\"}}, \"height\": 400, \"title\": \"Port of Empty-Total Full-Total Container Volume Growth\", \"width\": 750, \"$schema\": \"https://vega.github.io/schema/vega-lite/v4.0.2.json\", \"datasets\": {\"data-66b2d2c1d91ef13188e0f6fd95556aa2\": [{\"dt\": \"1997-07-31T00:00:00\", \"Full-Total\": null}, {\"dt\": \"1997-09-30T00:00:00\", \"Full-Total\": null}, {\"dt\": \"1997-11-30T00:00:00\", \"Full-Total\": null}, {\"dt\": \"1998-01-31T00:00:00\", \"Full-Total\": null}, {\"dt\": \"1998-03-31T00:00:00\", \"Full-Total\": null}, {\"dt\": \"1998-05-31T00:00:00\", \"Full-Total\": null}, {\"dt\": \"1998-07-31T00:00:00\", \"Full-Total\": null}, {\"dt\": \"1998-09-30T00:00:00\", \"Full-Total\": null}, {\"dt\": \"1998-11-30T00:00:00\", \"Full-Total\": null}, {\"dt\": \"1999-01-31T00:00:00\", \"Full-Total\": null}, {\"dt\": \"1999-03-31T00:00:00\", \"Full-Total\": null}, {\"dt\": \"1999-05-31T00:00:00\", \"Full-Total\": null}, {\"dt\": \"1999-07-31T00:00:00\", \"Full-Total\": 1.9284802043422644}, {\"dt\": \"1999-09-30T00:00:00\", \"Full-Total\": 11.607482803259138}, {\"dt\": \"1999-11-30T00:00:00\", \"Full-Total\": -2.2714619752811527}, {\"dt\": \"2000-01-31T00:00:00\", \"Full-Total\": 11.29470687699321}, {\"dt\": \"2000-03-31T00:00:00\", \"Full-Total\": 11.291464561603725}, {\"dt\": \"2000-05-31T00:00:00\", \"Full-Total\": 10.311718924630675}, {\"dt\": \"2000-07-31T00:00:00\", \"Full-Total\": 14.653302942937497}, {\"dt\": \"2000-09-30T00:00:00\", \"Full-Total\": 15.19604741159004}, {\"dt\": \"2000-11-30T00:00:00\", \"Full-Total\": 1.5605594254549437}, {\"dt\": \"2001-01-31T00:00:00\", \"Full-Total\": 2.5475157397432113}, {\"dt\": \"2001-03-31T00:00:00\", \"Full-Total\": 1.2558591574961753}, {\"dt\": \"2001-05-31T00:00:00\", \"Full-Total\": -1.453458064393831}, {\"dt\": \"2001-07-31T00:00:00\", \"Full-Total\": -0.028914826559234275}, {\"dt\": \"2001-09-30T00:00:00\", \"Full-Total\": -1.1121219012963368}, {\"dt\": \"2001-11-30T00:00:00\", \"Full-Total\": -2.930386236755156}, {\"dt\": \"2002-01-31T00:00:00\", \"Full-Total\": -10.50713488980345}, {\"dt\": \"2002-03-31T00:00:00\", \"Full-Total\": -9.803539890233015}, {\"dt\": \"2002-05-31T00:00:00\", \"Full-Total\": -0.8469112378075128}, {\"dt\": \"2002-07-31T00:00:00\", \"Full-Total\": -2.96353183832887}, {\"dt\": \"2002-09-30T00:00:00\", \"Full-Total\": -2.4419720012000656}, {\"dt\": \"2002-11-30T00:00:00\", \"Full-Total\": -1.491386643981285}, {\"dt\": \"2003-01-31T00:00:00\", \"Full-Total\": 5.43590880395548}, {\"dt\": \"2003-03-31T00:00:00\", \"Full-Total\": 11.811432999225136}, {\"dt\": \"2003-05-31T00:00:00\", \"Full-Total\": 10.763800391445887}, {\"dt\": \"2003-07-31T00:00:00\", \"Full-Total\": 17.09987177385923}, {\"dt\": \"2003-09-30T00:00:00\", \"Full-Total\": 8.518663324210586}, {\"dt\": \"2003-11-30T00:00:00\", \"Full-Total\": 14.368881898636122}, {\"dt\": \"2004-01-31T00:00:00\", \"Full-Total\": 21.125186689445474}, {\"dt\": \"2004-03-31T00:00:00\", \"Full-Total\": 15.050610856989465}, {\"dt\": \"2004-05-31T00:00:00\", \"Full-Total\": 10.14245040710069}, {\"dt\": \"2004-07-31T00:00:00\", \"Full-Total\": 12.7443841947928}, {\"dt\": \"2004-09-30T00:00:00\", \"Full-Total\": 14.63568873064962}, {\"dt\": \"2004-11-30T00:00:00\", \"Full-Total\": 28.278235055997847}, {\"dt\": \"2005-01-31T00:00:00\", \"Full-Total\": 25.45329061333066}, {\"dt\": \"2005-03-31T00:00:00\", \"Full-Total\": 18.0795128363334}, {\"dt\": \"2005-05-31T00:00:00\", \"Full-Total\": 20.14718013285286}, {\"dt\": \"2005-07-31T00:00:00\", \"Full-Total\": 14.935019492094082}, {\"dt\": \"2005-09-30T00:00:00\", \"Full-Total\": 23.64692169121543}, {\"dt\": \"2005-11-30T00:00:00\", \"Full-Total\": 19.99343185550082}, {\"dt\": \"2006-01-31T00:00:00\", \"Full-Total\": 25.866672580502083}, {\"dt\": \"2006-03-31T00:00:00\", \"Full-Total\": 27.70848965100745}, {\"dt\": \"2006-05-31T00:00:00\", \"Full-Total\": 20.554103061482664}, {\"dt\": \"2006-07-31T00:00:00\", \"Full-Total\": 15.49076001716827}, {\"dt\": \"2006-09-30T00:00:00\", \"Full-Total\": 12.049617628389209}, {\"dt\": \"2006-11-30T00:00:00\", \"Full-Total\": 2.907072555846568}, {\"dt\": \"2007-01-31T00:00:00\", \"Full-Total\": 2.143341178527969}, {\"dt\": \"2007-03-31T00:00:00\", \"Full-Total\": 2.422576382341468}, {\"dt\": \"2007-05-31T00:00:00\", \"Full-Total\": 5.586210634722755}, {\"dt\": \"2007-07-31T00:00:00\", \"Full-Total\": 9.476753140233306}, {\"dt\": \"2007-09-30T00:00:00\", \"Full-Total\": 5.477282543861461}, {\"dt\": \"2007-11-30T00:00:00\", \"Full-Total\": 8.499712627948973}, {\"dt\": \"2008-01-31T00:00:00\", \"Full-Total\": 0.3537964401876037}, {\"dt\": \"2008-03-31T00:00:00\", \"Full-Total\": 1.947444784781549}, {\"dt\": \"2008-05-31T00:00:00\", \"Full-Total\": 4.225169825312536}, {\"dt\": \"2008-07-31T00:00:00\", \"Full-Total\": 6.44912560998907}, {\"dt\": \"2008-09-30T00:00:00\", \"Full-Total\": -1.5278784711099114}, {\"dt\": \"2008-11-30T00:00:00\", \"Full-Total\": -10.014583021002277}, {\"dt\": \"2009-01-31T00:00:00\", \"Full-Total\": -13.281447847596494}, {\"dt\": \"2009-03-31T00:00:00\", \"Full-Total\": -11.120640894353729}, {\"dt\": \"2009-05-31T00:00:00\", \"Full-Total\": -7.353333744019386}, {\"dt\": \"2009-07-31T00:00:00\", \"Full-Total\": -4.948340956232133}, {\"dt\": \"2009-09-30T00:00:00\", \"Full-Total\": -3.85612885612886}, {\"dt\": \"2009-11-30T00:00:00\", \"Full-Total\": -7.768272956875155}, {\"dt\": \"2010-01-31T00:00:00\", \"Full-Total\": 0.19453408384628723}, {\"dt\": \"2010-03-31T00:00:00\", \"Full-Total\": -6.006936757434877}, {\"dt\": \"2010-05-31T00:00:00\", \"Full-Total\": -2.652360543829557}, {\"dt\": \"2010-07-31T00:00:00\", \"Full-Total\": -1.0460612823549709}, {\"dt\": \"2010-09-30T00:00:00\", \"Full-Total\": 6.176889570720223}, {\"dt\": \"2010-11-30T00:00:00\", \"Full-Total\": 17.244604316546752}, {\"dt\": \"2011-01-31T00:00:00\", \"Full-Total\": 18.501182519280214}, {\"dt\": \"2011-03-31T00:00:00\", \"Full-Total\": 17.421053507254094}, {\"dt\": \"2011-05-31T00:00:00\", \"Full-Total\": 11.594411690825535}, {\"dt\": \"2011-07-31T00:00:00\", \"Full-Total\": 3.270540695893409}, {\"dt\": \"2011-09-30T00:00:00\", \"Full-Total\": 5.20405507272832}, {\"dt\": \"2011-11-30T00:00:00\", \"Full-Total\": 5.382685154797073}, {\"dt\": \"2012-01-31T00:00:00\", \"Full-Total\": 5.319674630349369}, {\"dt\": \"2012-03-31T00:00:00\", \"Full-Total\": 5.799003278786596}, {\"dt\": \"2012-05-31T00:00:00\", \"Full-Total\": 3.3948382737245764}, {\"dt\": \"2012-07-31T00:00:00\", \"Full-Total\": -2.7054474951941576}, {\"dt\": \"2012-09-30T00:00:00\", \"Full-Total\": -5.52953925343963}, {\"dt\": \"2012-11-30T00:00:00\", \"Full-Total\": -2.678245592504913}, {\"dt\": \"2013-01-31T00:00:00\", \"Full-Total\": 5.251539363984081}, {\"dt\": \"2013-03-31T00:00:00\", \"Full-Total\": 2.6209798830318265}, {\"dt\": \"2013-05-31T00:00:00\", \"Full-Total\": 0.9993545076879773}, {\"dt\": \"2013-07-31T00:00:00\", \"Full-Total\": 2.315729831519664}, {\"dt\": \"2013-09-30T00:00:00\", \"Full-Total\": -0.1799358657164296}, {\"dt\": \"2013-11-30T00:00:00\", \"Full-Total\": 0.8603210957091045}, {\"dt\": \"2014-01-31T00:00:00\", \"Full-Total\": -1.7093931770687742}, {\"dt\": \"2014-03-31T00:00:00\", \"Full-Total\": 1.143864757516222}, {\"dt\": \"2014-05-31T00:00:00\", \"Full-Total\": 5.695803671162536}, {\"dt\": \"2014-07-31T00:00:00\", \"Full-Total\": 3.5076184795575394}, {\"dt\": \"2014-09-30T00:00:00\", \"Full-Total\": 2.871461881693449}, {\"dt\": \"2014-11-30T00:00:00\", \"Full-Total\": 1.1723909075825434}, {\"dt\": \"2015-01-31T00:00:00\", \"Full-Total\": -17.081415135406086}, {\"dt\": \"2015-03-31T00:00:00\", \"Full-Total\": -14.340451090445915}, {\"dt\": \"2015-05-31T00:00:00\", \"Full-Total\": 0.6207515879310677}, {\"dt\": \"2015-07-31T00:00:00\", \"Full-Total\": 0.3589775329578604}, {\"dt\": \"2015-09-30T00:00:00\", \"Full-Total\": -2.468599313723596}, {\"dt\": \"2015-11-30T00:00:00\", \"Full-Total\": -5.00596637601356}, {\"dt\": \"2016-01-31T00:00:00\", \"Full-Total\": -3.8672349760815794}, {\"dt\": \"2016-03-31T00:00:00\", \"Full-Total\": -1.737094942789763}, {\"dt\": \"2016-05-31T00:00:00\", \"Full-Total\": -0.25805474672463413}, {\"dt\": \"2016-07-31T00:00:00\", \"Full-Total\": 0.8781292768693882}, {\"dt\": \"2016-09-30T00:00:00\", \"Full-Total\": 2.2526947379599704}, {\"dt\": \"2016-11-30T00:00:00\", \"Full-Total\": 5.143940462406893}, {\"dt\": \"2017-01-31T00:00:00\", \"Full-Total\": 21.84511949220289}, {\"dt\": \"2017-03-31T00:00:00\", \"Full-Total\": 15.527374130580206}, {\"dt\": \"2017-05-31T00:00:00\", \"Full-Total\": 2.5349828017510845}, {\"dt\": \"2017-07-31T00:00:00\", \"Full-Total\": 2.364477335800186}, {\"dt\": \"2017-09-30T00:00:00\", \"Full-Total\": 1.8292171766344456}, {\"dt\": \"2017-11-30T00:00:00\", \"Full-Total\": 5.641419357023136}, {\"dt\": \"2018-01-31T00:00:00\", \"Full-Total\": 8.894265308709803}, {\"dt\": \"2018-03-31T00:00:00\", \"Full-Total\": 5.181953614717005}, {\"dt\": \"2018-05-31T00:00:00\", \"Full-Total\": -2.623865717385332}, {\"dt\": \"2018-07-31T00:00:00\", \"Full-Total\": 1.503842858255644}, {\"dt\": \"2018-09-30T00:00:00\", \"Full-Total\": 2.414123252281608}, {\"dt\": \"2018-11-30T00:00:00\", \"Full-Total\": 0.41574901892278415}, {\"dt\": \"2019-01-31T00:00:00\", \"Full-Total\": 3.369399654628924}, {\"dt\": \"2019-03-31T00:00:00\", \"Full-Total\": 4.8989869745903025}, {\"dt\": \"2019-05-31T00:00:00\", \"Full-Total\": 2.9340615634647405}, {\"dt\": \"2019-07-31T00:00:00\", \"Full-Total\": 2.3585976581129042}, {\"dt\": \"2019-09-30T00:00:00\", \"Full-Total\": 3.8328178873477725}, {\"dt\": \"2019-11-30T00:00:00\", \"Full-Total\": 4.198195775634939}, {\"dt\": \"2020-01-31T00:00:00\", \"Full-Total\": 0.8523930846106254}]}}, {\"mode\": \"vega-lite\"});\n",
       "</script>"
      ],
      "text/plain": [
       "alt.Chart(...)"
      ]
     },
     "execution_count": 6,
     "metadata": {},
     "output_type": "execute_result"
    }
   ],
   "source": [
    "doYoyChart(df_oak_combined, 'Empty-Total')"
   ]
  },
  {
   "cell_type": "code",
   "execution_count": 7,
   "metadata": {},
   "outputs": [
    {
     "data": {
      "text/html": [
       "\n",
       "<div id=\"altair-viz-c2e9f38536014a178d6c2c7539160a18\"></div>\n",
       "<script type=\"text/javascript\">\n",
       "  (function(spec, embedOpt){\n",
       "    const outputDiv = document.getElementById(\"altair-viz-c2e9f38536014a178d6c2c7539160a18\");\n",
       "    const paths = {\n",
       "      \"vega\": \"https://cdn.jsdelivr.net/npm//vega@5?noext\",\n",
       "      \"vega-lib\": \"https://cdn.jsdelivr.net/npm//vega-lib?noext\",\n",
       "      \"vega-lite\": \"https://cdn.jsdelivr.net/npm//vega-lite@4.0.2?noext\",\n",
       "      \"vega-embed\": \"https://cdn.jsdelivr.net/npm//vega-embed@6?noext\",\n",
       "    };\n",
       "\n",
       "    function loadScript(lib) {\n",
       "      return new Promise(function(resolve, reject) {\n",
       "        var s = document.createElement('script');\n",
       "        s.src = paths[lib];\n",
       "        s.async = true;\n",
       "        s.onload = () => resolve(paths[lib]);\n",
       "        s.onerror = () => reject(`Error loading script: ${paths[lib]}`);\n",
       "        document.getElementsByTagName(\"head\")[0].appendChild(s);\n",
       "      });\n",
       "    }\n",
       "\n",
       "    function showError(err) {\n",
       "      outputDiv.innerHTML = `<div class=\"error\" style=\"color:red;\">${err}</div>`;\n",
       "      throw err;\n",
       "    }\n",
       "\n",
       "    function displayChart(vegaEmbed) {\n",
       "      vegaEmbed(outputDiv, spec, embedOpt)\n",
       "        .catch(err => showError(`Javascript Error: ${err.message}<br>This usually means there's a typo in your chart specification. See the javascript console for the full traceback.`));\n",
       "    }\n",
       "\n",
       "    if(typeof define === \"function\" && define.amd) {\n",
       "      requirejs.config({paths});\n",
       "      require([\"vega-embed\"], displayChart, err => showError(`Error loading script: ${err.message}`));\n",
       "    } else if (typeof vegaEmbed === \"function\") {\n",
       "      displayChart(vegaEmbed);\n",
       "    } else {\n",
       "      loadScript(\"vega\")\n",
       "        .then(() => loadScript(\"vega-lite\"))\n",
       "        .then(() => loadScript(\"vega-embed\"))\n",
       "        .catch(showError)\n",
       "        .then(() => displayChart(vegaEmbed));\n",
       "    }\n",
       "  })({\"config\": {\"view\": {\"continuousWidth\": 400, \"continuousHeight\": 300}}, \"data\": {\"name\": \"data-c236d47e08007cd68b93dc339f37c236\"}, \"mark\": {\"type\": \"line\", \"color\": \"purple\"}, \"encoding\": {\"tooltip\": [{\"type\": \"temporal\", \"field\": \"dt\", \"format\": \"%b %Y\"}, {\"type\": \"quantitative\", \"field\": \"Full-Total\"}], \"x\": {\"type\": \"temporal\", \"axis\": {\"title\": \"\"}, \"field\": \"dt\"}, \"y\": {\"type\": \"quantitative\", \"axis\": {\"title\": \"Volume [TEUs]\"}, \"field\": \"Full-Total\"}}, \"height\": 400, \"title\": \"Port of All-Total Full-Total Container Volume\", \"width\": 750, \"$schema\": \"https://vega.github.io/schema/vega-lite/v4.0.2.json\", \"datasets\": {\"data-c236d47e08007cd68b93dc339f37c236\": [{\"dt\": \"1997-07-31T00:00:00\", \"Full-Total\": 101790.0}, {\"dt\": \"1997-09-30T00:00:00\", \"Full-Total\": 98492.5}, {\"dt\": \"1997-11-30T00:00:00\", \"Full-Total\": 112262.5}, {\"dt\": \"1998-01-31T00:00:00\", \"Full-Total\": 93442.0}, {\"dt\": \"1998-03-31T00:00:00\", \"Full-Total\": 94629.0}, {\"dt\": \"1998-05-31T00:00:00\", \"Full-Total\": 98422.0}, {\"dt\": \"1998-07-31T00:00:00\", \"Full-Total\": 99373.5}, {\"dt\": \"1998-09-30T00:00:00\", \"Full-Total\": 102717.5}, {\"dt\": \"1998-11-30T00:00:00\", \"Full-Total\": 111114.0}, {\"dt\": \"1999-01-31T00:00:00\", \"Full-Total\": 101177.0}, {\"dt\": \"1999-03-31T00:00:00\", \"Full-Total\": 98777.0}, {\"dt\": \"1999-05-31T00:00:00\", \"Full-Total\": 105507.0}, {\"dt\": \"1999-07-31T00:00:00\", \"Full-Total\": 103753.0}, {\"dt\": \"1999-09-30T00:00:00\", \"Full-Total\": 109925.0}, {\"dt\": \"1999-11-30T00:00:00\", \"Full-Total\": 109712.5}, {\"dt\": \"2000-01-31T00:00:00\", \"Full-Total\": 103996.0}, {\"dt\": \"2000-03-31T00:00:00\", \"Full-Total\": 105314.0}, {\"dt\": \"2000-05-31T00:00:00\", \"Full-Total\": 108571.0}, {\"dt\": \"2000-07-31T00:00:00\", \"Full-Total\": 113935.0}, {\"dt\": \"2000-09-30T00:00:00\", \"Full-Total\": 118326.5}, {\"dt\": \"2000-11-30T00:00:00\", \"Full-Total\": 112848.0}, {\"dt\": \"2001-01-31T00:00:00\", \"Full-Total\": 103754.5}, {\"dt\": \"2001-03-31T00:00:00\", \"Full-Total\": 100017.5}, {\"dt\": \"2001-05-31T00:00:00\", \"Full-Total\": 103973.5}, {\"dt\": \"2001-07-31T00:00:00\", \"Full-Total\": 103723.0}, {\"dt\": \"2001-09-30T00:00:00\", \"Full-Total\": 108702.5}, {\"dt\": \"2001-11-30T00:00:00\", \"Full-Total\": 106497.5}, {\"dt\": \"2002-01-31T00:00:00\", \"Full-Total\": 93069.0}, {\"dt\": \"2002-03-31T00:00:00\", \"Full-Total\": 94989.5}, {\"dt\": \"2002-05-31T00:00:00\", \"Full-Total\": 107651.5}, {\"dt\": \"2002-07-31T00:00:00\", \"Full-Total\": 110558.5}, {\"dt\": \"2002-09-30T00:00:00\", \"Full-Total\": 115437.0}, {\"dt\": \"2002-11-30T00:00:00\", \"Full-Total\": 111165.0}, {\"dt\": \"2003-01-31T00:00:00\", \"Full-Total\": 109394.5}, {\"dt\": \"2003-03-31T00:00:00\", \"Full-Total\": 111831.0}, {\"dt\": \"2003-05-31T00:00:00\", \"Full-Total\": 115165.0}, {\"dt\": \"2003-07-31T00:00:00\", \"Full-Total\": 121459.5}, {\"dt\": \"2003-09-30T00:00:00\", \"Full-Total\": 117962.5}, {\"dt\": \"2003-11-30T00:00:00\", \"Full-Total\": 121800.0}, {\"dt\": \"2004-01-31T00:00:00\", \"Full-Total\": 112730.0}, {\"dt\": \"2004-03-31T00:00:00\", \"Full-Total\": 109286.0}, {\"dt\": \"2004-05-31T00:00:00\", \"Full-Total\": 118570.0}, {\"dt\": \"2004-07-31T00:00:00\", \"Full-Total\": 124648.5}, {\"dt\": \"2004-09-30T00:00:00\", \"Full-Total\": 132332.0}, {\"dt\": \"2004-11-30T00:00:00\", \"Full-Total\": 142600.5}, {\"dt\": \"2005-01-31T00:00:00\", \"Full-Total\": 137239.0}, {\"dt\": \"2005-03-31T00:00:00\", \"Full-Total\": 132049.5}, {\"dt\": \"2005-05-31T00:00:00\", \"Full-Total\": 138367.5}, {\"dt\": \"2005-07-31T00:00:00\", \"Full-Total\": 139599.5}, {\"dt\": \"2005-09-30T00:00:00\", \"Full-Total\": 145857.0}, {\"dt\": \"2005-11-30T00:00:00\", \"Full-Total\": 146152.0}, {\"dt\": \"2006-01-31T00:00:00\", \"Full-Total\": 141889.5}, {\"dt\": \"2006-03-31T00:00:00\", \"Full-Total\": 139567.5}, {\"dt\": \"2006-05-31T00:00:00\", \"Full-Total\": 142941.0}, {\"dt\": \"2006-07-31T00:00:00\", \"Full-Total\": 143957.5}, {\"dt\": \"2006-09-30T00:00:00\", \"Full-Total\": 148277.5}, {\"dt\": \"2006-11-30T00:00:00\", \"Full-Total\": 146746.0}, {\"dt\": \"2007-01-31T00:00:00\", \"Full-Total\": 140180.5}, {\"dt\": \"2007-03-31T00:00:00\", \"Full-Total\": 135248.5}, {\"dt\": \"2007-05-31T00:00:00\", \"Full-Total\": 146097.0}, {\"dt\": \"2007-07-31T00:00:00\", \"Full-Total\": 152829.0}, {\"dt\": \"2007-09-30T00:00:00\", \"Full-Total\": 153846.0}, {\"dt\": \"2007-11-30T00:00:00\", \"Full-Total\": 158574.5}, {\"dt\": \"2008-01-31T00:00:00\", \"Full-Total\": 142391.5}, {\"dt\": \"2008-03-31T00:00:00\", \"Full-Total\": 142285.5}, {\"dt\": \"2008-05-31T00:00:00\", \"Full-Total\": 148980.5}, {\"dt\": \"2008-07-31T00:00:00\", \"Full-Total\": 153241.5}, {\"dt\": \"2008-09-30T00:00:00\", \"Full-Total\": 146012.0}, {\"dt\": \"2008-11-30T00:00:00\", \"Full-Total\": 132050.0}, {\"dt\": \"2009-01-31T00:00:00\", \"Full-Total\": 121562.5}, {\"dt\": \"2009-03-31T00:00:00\", \"Full-Total\": 120208.0}, {\"dt\": \"2009-05-31T00:00:00\", \"Full-Total\": 135354.0}, {\"dt\": \"2009-07-31T00:00:00\", \"Full-Total\": 145266.5}, {\"dt\": \"2009-09-30T00:00:00\", \"Full-Total\": 147913.5}, {\"dt\": \"2009-11-30T00:00:00\", \"Full-Total\": 146256.0}, {\"dt\": \"2010-01-31T00:00:00\", \"Full-Total\": 142668.5}, {\"dt\": \"2010-03-31T00:00:00\", \"Full-Total\": 133738.5}, {\"dt\": \"2010-05-31T00:00:00\", \"Full-Total\": 145029.0}, {\"dt\": \"2010-07-31T00:00:00\", \"Full-Total\": 151638.5}, {\"dt\": \"2010-09-30T00:00:00\", \"Full-Total\": 155031.0}, {\"dt\": \"2010-11-30T00:00:00\", \"Full-Total\": 154821.5}, {\"dt\": \"2011-01-31T00:00:00\", \"Full-Total\": 144053.0}, {\"dt\": \"2011-03-31T00:00:00\", \"Full-Total\": 141149.5}, {\"dt\": \"2011-05-31T00:00:00\", \"Full-Total\": 151047.5}, {\"dt\": \"2011-07-31T00:00:00\", \"Full-Total\": 150017.5}, {\"dt\": \"2011-09-30T00:00:00\", \"Full-Total\": 155611.0}, {\"dt\": \"2011-11-30T00:00:00\", \"Full-Total\": 154128.5}, {\"dt\": \"2012-01-31T00:00:00\", \"Full-Total\": 150258.0}, {\"dt\": \"2012-03-31T00:00:00\", \"Full-Total\": 141494.0}, {\"dt\": \"2012-05-31T00:00:00\", \"Full-Total\": 149952.5}, {\"dt\": \"2012-07-31T00:00:00\", \"Full-Total\": 147536.0}, {\"dt\": \"2012-09-30T00:00:00\", \"Full-Total\": 146458.5}, {\"dt\": \"2012-11-30T00:00:00\", \"Full-Total\": 150675.0}, {\"dt\": \"2013-01-31T00:00:00\", \"Full-Total\": 151618.0}, {\"dt\": \"2013-03-31T00:00:00\", \"Full-Total\": 144849.0}, {\"dt\": \"2013-05-31T00:00:00\", \"Full-Total\": 152557.0}, {\"dt\": \"2013-07-31T00:00:00\", \"Full-Total\": 153491.5}, {\"dt\": \"2013-09-30T00:00:00\", \"Full-Total\": 155331.0}, {\"dt\": \"2013-11-30T00:00:00\", \"Full-Total\": 155454.5}, {\"dt\": \"2014-01-31T00:00:00\", \"Full-Total\": 147689.5}, {\"dt\": \"2014-03-31T00:00:00\", \"Full-Total\": 143112.5}, {\"dt\": \"2014-05-31T00:00:00\", \"Full-Total\": 158493.5}, {\"dt\": \"2014-07-31T00:00:00\", \"Full-Total\": 152711.0}, {\"dt\": \"2014-09-30T00:00:00\", \"Full-Total\": 150664.0}, {\"dt\": \"2014-11-30T00:00:00\", \"Full-Total\": 152441.5}, {\"dt\": \"2015-01-31T00:00:00\", \"Full-Total\": 125719.5}, {\"dt\": \"2015-03-31T00:00:00\", \"Full-Total\": 124077.0}, {\"dt\": \"2015-05-31T00:00:00\", \"Full-Total\": 153504.0}, {\"dt\": \"2015-07-31T00:00:00\", \"Full-Total\": 154042.5}, {\"dt\": \"2015-09-30T00:00:00\", \"Full-Total\": 151496.5}, {\"dt\": \"2015-11-30T00:00:00\", \"Full-Total\": 147672.5}, {\"dt\": \"2016-01-31T00:00:00\", \"Full-Total\": 141978.0}, {\"dt\": \"2016-03-31T00:00:00\", \"Full-Total\": 140626.5}, {\"dt\": \"2016-05-31T00:00:00\", \"Full-Total\": 158084.5}, {\"dt\": \"2016-07-31T00:00:00\", \"Full-Total\": 154052.0}, {\"dt\": \"2016-09-30T00:00:00\", \"Full-Total\": 154058.0}, {\"dt\": \"2016-11-30T00:00:00\", \"Full-Total\": 160283.0}, {\"dt\": \"2017-01-31T00:00:00\", \"Full-Total\": 153183.075}, {\"dt\": \"2017-03-31T00:00:00\", \"Full-Total\": 143342.9}, {\"dt\": \"2017-05-31T00:00:00\", \"Full-Total\": 157395.3}, {\"dt\": \"2017-07-31T00:00:00\", \"Full-Total\": 157684.8}, {\"dt\": \"2017-09-30T00:00:00\", \"Full-Total\": 154267.7}, {\"dt\": \"2017-11-30T00:00:00\", \"Full-Total\": 156003.32499999998}, {\"dt\": \"2018-01-31T00:00:00\", \"Full-Total\": 154605.9}, {\"dt\": \"2018-03-31T00:00:00\", \"Full-Total\": 147913.7}, {\"dt\": \"2018-05-31T00:00:00\", \"Full-Total\": 153936.57499999998}, {\"dt\": \"2018-07-31T00:00:00\", \"Full-Total\": 156368.69999999998}, {\"dt\": \"2018-09-30T00:00:00\", \"Full-Total\": 157777.15}, {\"dt\": \"2018-11-30T00:00:00\", \"Full-Total\": 160949.375}, {\"dt\": \"2019-01-31T00:00:00\", \"Full-Total\": 158344.425}, {\"dt\": \"2019-03-31T00:00:00\", \"Full-Total\": 150365.25}, {\"dt\": \"2019-05-31T00:00:00\", \"Full-Total\": 162013.375}, {\"dt\": \"2019-07-31T00:00:00\", \"Full-Total\": 161403.95}, {\"dt\": \"2019-09-30T00:00:00\", \"Full-Total\": 160180.5}, {\"dt\": \"2019-11-30T00:00:00\", \"Full-Total\": 162552.65000000002}, {\"dt\": \"2020-01-31T00:00:00\", \"Full-Total\": 155923.75}]}}, {\"mode\": \"vega-lite\"});\n",
       "</script>"
      ],
      "text/plain": [
       "alt.Chart(...)"
      ]
     },
     "execution_count": 7,
     "metadata": {},
     "output_type": "execute_result"
    }
   ],
   "source": [
    "doChart(df_oak_combined, 'All-Total')"
   ]
  },
  {
   "cell_type": "code",
   "execution_count": 8,
   "metadata": {},
   "outputs": [
    {
     "data": {
      "text/html": [
       "\n",
       "<div id=\"altair-viz-4fde871d0a59458d8e81acb8c2ef4714\"></div>\n",
       "<script type=\"text/javascript\">\n",
       "  (function(spec, embedOpt){\n",
       "    const outputDiv = document.getElementById(\"altair-viz-4fde871d0a59458d8e81acb8c2ef4714\");\n",
       "    const paths = {\n",
       "      \"vega\": \"https://cdn.jsdelivr.net/npm//vega@5?noext\",\n",
       "      \"vega-lib\": \"https://cdn.jsdelivr.net/npm//vega-lib?noext\",\n",
       "      \"vega-lite\": \"https://cdn.jsdelivr.net/npm//vega-lite@4.0.2?noext\",\n",
       "      \"vega-embed\": \"https://cdn.jsdelivr.net/npm//vega-embed@6?noext\",\n",
       "    };\n",
       "\n",
       "    function loadScript(lib) {\n",
       "      return new Promise(function(resolve, reject) {\n",
       "        var s = document.createElement('script');\n",
       "        s.src = paths[lib];\n",
       "        s.async = true;\n",
       "        s.onload = () => resolve(paths[lib]);\n",
       "        s.onerror = () => reject(`Error loading script: ${paths[lib]}`);\n",
       "        document.getElementsByTagName(\"head\")[0].appendChild(s);\n",
       "      });\n",
       "    }\n",
       "\n",
       "    function showError(err) {\n",
       "      outputDiv.innerHTML = `<div class=\"error\" style=\"color:red;\">${err}</div>`;\n",
       "      throw err;\n",
       "    }\n",
       "\n",
       "    function displayChart(vegaEmbed) {\n",
       "      vegaEmbed(outputDiv, spec, embedOpt)\n",
       "        .catch(err => showError(`Javascript Error: ${err.message}<br>This usually means there's a typo in your chart specification. See the javascript console for the full traceback.`));\n",
       "    }\n",
       "\n",
       "    if(typeof define === \"function\" && define.amd) {\n",
       "      requirejs.config({paths});\n",
       "      require([\"vega-embed\"], displayChart, err => showError(`Error loading script: ${err.message}`));\n",
       "    } else if (typeof vegaEmbed === \"function\") {\n",
       "      displayChart(vegaEmbed);\n",
       "    } else {\n",
       "      loadScript(\"vega\")\n",
       "        .then(() => loadScript(\"vega-lite\"))\n",
       "        .then(() => loadScript(\"vega-embed\"))\n",
       "        .catch(showError)\n",
       "        .then(() => displayChart(vegaEmbed));\n",
       "    }\n",
       "  })({\"config\": {\"view\": {\"continuousWidth\": 400, \"continuousHeight\": 300}}, \"data\": {\"name\": \"data-66b2d2c1d91ef13188e0f6fd95556aa2\"}, \"mark\": {\"type\": \"bar\", \"color\": \"blue\", \"width\": 2}, \"encoding\": {\"tooltip\": [{\"type\": \"temporal\", \"field\": \"dt\", \"format\": \"%b %Y\"}, {\"type\": \"quantitative\", \"field\": \"Full-Total\"}], \"x\": {\"type\": \"temporal\", \"axis\": {\"title\": \"\"}, \"field\": \"dt\"}, \"y\": {\"type\": \"quantitative\", \"axis\": {\"title\": \"Year-over-Year Volume Growth [%]\"}, \"field\": \"Full-Total\"}}, \"height\": 400, \"title\": \"Port of All-Total Full-Total Container Volume Growth\", \"width\": 750, \"$schema\": \"https://vega.github.io/schema/vega-lite/v4.0.2.json\", \"datasets\": {\"data-66b2d2c1d91ef13188e0f6fd95556aa2\": [{\"dt\": \"1997-07-31T00:00:00\", \"Full-Total\": null}, {\"dt\": \"1997-09-30T00:00:00\", \"Full-Total\": null}, {\"dt\": \"1997-11-30T00:00:00\", \"Full-Total\": null}, {\"dt\": \"1998-01-31T00:00:00\", \"Full-Total\": null}, {\"dt\": \"1998-03-31T00:00:00\", \"Full-Total\": null}, {\"dt\": \"1998-05-31T00:00:00\", \"Full-Total\": null}, {\"dt\": \"1998-07-31T00:00:00\", \"Full-Total\": null}, {\"dt\": \"1998-09-30T00:00:00\", \"Full-Total\": null}, {\"dt\": \"1998-11-30T00:00:00\", \"Full-Total\": null}, {\"dt\": \"1999-01-31T00:00:00\", \"Full-Total\": null}, {\"dt\": \"1999-03-31T00:00:00\", \"Full-Total\": null}, {\"dt\": \"1999-05-31T00:00:00\", \"Full-Total\": null}, {\"dt\": \"1999-07-31T00:00:00\", \"Full-Total\": 1.9284802043422644}, {\"dt\": \"1999-09-30T00:00:00\", \"Full-Total\": 11.607482803259138}, {\"dt\": \"1999-11-30T00:00:00\", \"Full-Total\": -2.2714619752811527}, {\"dt\": \"2000-01-31T00:00:00\", \"Full-Total\": 11.29470687699321}, {\"dt\": \"2000-03-31T00:00:00\", \"Full-Total\": 11.291464561603725}, {\"dt\": \"2000-05-31T00:00:00\", \"Full-Total\": 10.311718924630675}, {\"dt\": \"2000-07-31T00:00:00\", \"Full-Total\": 14.653302942937497}, {\"dt\": \"2000-09-30T00:00:00\", \"Full-Total\": 15.19604741159004}, {\"dt\": \"2000-11-30T00:00:00\", \"Full-Total\": 1.5605594254549437}, {\"dt\": \"2001-01-31T00:00:00\", \"Full-Total\": 2.5475157397432113}, {\"dt\": \"2001-03-31T00:00:00\", \"Full-Total\": 1.2558591574961753}, {\"dt\": \"2001-05-31T00:00:00\", \"Full-Total\": -1.453458064393831}, {\"dt\": \"2001-07-31T00:00:00\", \"Full-Total\": -0.028914826559234275}, {\"dt\": \"2001-09-30T00:00:00\", \"Full-Total\": -1.1121219012963368}, {\"dt\": \"2001-11-30T00:00:00\", \"Full-Total\": -2.930386236755156}, {\"dt\": \"2002-01-31T00:00:00\", \"Full-Total\": -10.50713488980345}, {\"dt\": \"2002-03-31T00:00:00\", \"Full-Total\": -9.803539890233015}, {\"dt\": \"2002-05-31T00:00:00\", \"Full-Total\": -0.8469112378075128}, {\"dt\": \"2002-07-31T00:00:00\", \"Full-Total\": -2.96353183832887}, {\"dt\": \"2002-09-30T00:00:00\", \"Full-Total\": -2.4419720012000656}, {\"dt\": \"2002-11-30T00:00:00\", \"Full-Total\": -1.491386643981285}, {\"dt\": \"2003-01-31T00:00:00\", \"Full-Total\": 5.43590880395548}, {\"dt\": \"2003-03-31T00:00:00\", \"Full-Total\": 11.811432999225136}, {\"dt\": \"2003-05-31T00:00:00\", \"Full-Total\": 10.763800391445887}, {\"dt\": \"2003-07-31T00:00:00\", \"Full-Total\": 17.09987177385923}, {\"dt\": \"2003-09-30T00:00:00\", \"Full-Total\": 8.518663324210586}, {\"dt\": \"2003-11-30T00:00:00\", \"Full-Total\": 14.368881898636122}, {\"dt\": \"2004-01-31T00:00:00\", \"Full-Total\": 21.125186689445474}, {\"dt\": \"2004-03-31T00:00:00\", \"Full-Total\": 15.050610856989465}, {\"dt\": \"2004-05-31T00:00:00\", \"Full-Total\": 10.14245040710069}, {\"dt\": \"2004-07-31T00:00:00\", \"Full-Total\": 12.7443841947928}, {\"dt\": \"2004-09-30T00:00:00\", \"Full-Total\": 14.63568873064962}, {\"dt\": \"2004-11-30T00:00:00\", \"Full-Total\": 28.278235055997847}, {\"dt\": \"2005-01-31T00:00:00\", \"Full-Total\": 25.45329061333066}, {\"dt\": \"2005-03-31T00:00:00\", \"Full-Total\": 18.0795128363334}, {\"dt\": \"2005-05-31T00:00:00\", \"Full-Total\": 20.14718013285286}, {\"dt\": \"2005-07-31T00:00:00\", \"Full-Total\": 14.935019492094082}, {\"dt\": \"2005-09-30T00:00:00\", \"Full-Total\": 23.64692169121543}, {\"dt\": \"2005-11-30T00:00:00\", \"Full-Total\": 19.99343185550082}, {\"dt\": \"2006-01-31T00:00:00\", \"Full-Total\": 25.866672580502083}, {\"dt\": \"2006-03-31T00:00:00\", \"Full-Total\": 27.70848965100745}, {\"dt\": \"2006-05-31T00:00:00\", \"Full-Total\": 20.554103061482664}, {\"dt\": \"2006-07-31T00:00:00\", \"Full-Total\": 15.49076001716827}, {\"dt\": \"2006-09-30T00:00:00\", \"Full-Total\": 12.049617628389209}, {\"dt\": \"2006-11-30T00:00:00\", \"Full-Total\": 2.907072555846568}, {\"dt\": \"2007-01-31T00:00:00\", \"Full-Total\": 2.143341178527969}, {\"dt\": \"2007-03-31T00:00:00\", \"Full-Total\": 2.422576382341468}, {\"dt\": \"2007-05-31T00:00:00\", \"Full-Total\": 5.586210634722755}, {\"dt\": \"2007-07-31T00:00:00\", \"Full-Total\": 9.476753140233306}, {\"dt\": \"2007-09-30T00:00:00\", \"Full-Total\": 5.477282543861461}, {\"dt\": \"2007-11-30T00:00:00\", \"Full-Total\": 8.499712627948973}, {\"dt\": \"2008-01-31T00:00:00\", \"Full-Total\": 0.3537964401876037}, {\"dt\": \"2008-03-31T00:00:00\", \"Full-Total\": 1.947444784781549}, {\"dt\": \"2008-05-31T00:00:00\", \"Full-Total\": 4.225169825312536}, {\"dt\": \"2008-07-31T00:00:00\", \"Full-Total\": 6.44912560998907}, {\"dt\": \"2008-09-30T00:00:00\", \"Full-Total\": -1.5278784711099114}, {\"dt\": \"2008-11-30T00:00:00\", \"Full-Total\": -10.014583021002277}, {\"dt\": \"2009-01-31T00:00:00\", \"Full-Total\": -13.281447847596494}, {\"dt\": \"2009-03-31T00:00:00\", \"Full-Total\": -11.120640894353729}, {\"dt\": \"2009-05-31T00:00:00\", \"Full-Total\": -7.353333744019386}, {\"dt\": \"2009-07-31T00:00:00\", \"Full-Total\": -4.948340956232133}, {\"dt\": \"2009-09-30T00:00:00\", \"Full-Total\": -3.85612885612886}, {\"dt\": \"2009-11-30T00:00:00\", \"Full-Total\": -7.768272956875155}, {\"dt\": \"2010-01-31T00:00:00\", \"Full-Total\": 0.19453408384628723}, {\"dt\": \"2010-03-31T00:00:00\", \"Full-Total\": -6.006936757434877}, {\"dt\": \"2010-05-31T00:00:00\", \"Full-Total\": -2.652360543829557}, {\"dt\": \"2010-07-31T00:00:00\", \"Full-Total\": -1.0460612823549709}, {\"dt\": \"2010-09-30T00:00:00\", \"Full-Total\": 6.176889570720223}, {\"dt\": \"2010-11-30T00:00:00\", \"Full-Total\": 17.244604316546752}, {\"dt\": \"2011-01-31T00:00:00\", \"Full-Total\": 18.501182519280214}, {\"dt\": \"2011-03-31T00:00:00\", \"Full-Total\": 17.421053507254094}, {\"dt\": \"2011-05-31T00:00:00\", \"Full-Total\": 11.594411690825535}, {\"dt\": \"2011-07-31T00:00:00\", \"Full-Total\": 3.270540695893409}, {\"dt\": \"2011-09-30T00:00:00\", \"Full-Total\": 5.20405507272832}, {\"dt\": \"2011-11-30T00:00:00\", \"Full-Total\": 5.382685154797073}, {\"dt\": \"2012-01-31T00:00:00\", \"Full-Total\": 5.319674630349369}, {\"dt\": \"2012-03-31T00:00:00\", \"Full-Total\": 5.799003278786596}, {\"dt\": \"2012-05-31T00:00:00\", \"Full-Total\": 3.3948382737245764}, {\"dt\": \"2012-07-31T00:00:00\", \"Full-Total\": -2.7054474951941576}, {\"dt\": \"2012-09-30T00:00:00\", \"Full-Total\": -5.52953925343963}, {\"dt\": \"2012-11-30T00:00:00\", \"Full-Total\": -2.678245592504913}, {\"dt\": \"2013-01-31T00:00:00\", \"Full-Total\": 5.251539363984081}, {\"dt\": \"2013-03-31T00:00:00\", \"Full-Total\": 2.6209798830318265}, {\"dt\": \"2013-05-31T00:00:00\", \"Full-Total\": 0.9993545076879773}, {\"dt\": \"2013-07-31T00:00:00\", \"Full-Total\": 2.315729831519664}, {\"dt\": \"2013-09-30T00:00:00\", \"Full-Total\": -0.1799358657164296}, {\"dt\": \"2013-11-30T00:00:00\", \"Full-Total\": 0.8603210957091045}, {\"dt\": \"2014-01-31T00:00:00\", \"Full-Total\": -1.7093931770687742}, {\"dt\": \"2014-03-31T00:00:00\", \"Full-Total\": 1.143864757516222}, {\"dt\": \"2014-05-31T00:00:00\", \"Full-Total\": 5.695803671162536}, {\"dt\": \"2014-07-31T00:00:00\", \"Full-Total\": 3.5076184795575394}, {\"dt\": \"2014-09-30T00:00:00\", \"Full-Total\": 2.871461881693449}, {\"dt\": \"2014-11-30T00:00:00\", \"Full-Total\": 1.1723909075825434}, {\"dt\": \"2015-01-31T00:00:00\", \"Full-Total\": -17.081415135406086}, {\"dt\": \"2015-03-31T00:00:00\", \"Full-Total\": -14.340451090445915}, {\"dt\": \"2015-05-31T00:00:00\", \"Full-Total\": 0.6207515879310677}, {\"dt\": \"2015-07-31T00:00:00\", \"Full-Total\": 0.3589775329578604}, {\"dt\": \"2015-09-30T00:00:00\", \"Full-Total\": -2.468599313723596}, {\"dt\": \"2015-11-30T00:00:00\", \"Full-Total\": -5.00596637601356}, {\"dt\": \"2016-01-31T00:00:00\", \"Full-Total\": -3.8672349760815794}, {\"dt\": \"2016-03-31T00:00:00\", \"Full-Total\": -1.737094942789763}, {\"dt\": \"2016-05-31T00:00:00\", \"Full-Total\": -0.25805474672463413}, {\"dt\": \"2016-07-31T00:00:00\", \"Full-Total\": 0.8781292768693882}, {\"dt\": \"2016-09-30T00:00:00\", \"Full-Total\": 2.2526947379599704}, {\"dt\": \"2016-11-30T00:00:00\", \"Full-Total\": 5.143940462406893}, {\"dt\": \"2017-01-31T00:00:00\", \"Full-Total\": 21.84511949220289}, {\"dt\": \"2017-03-31T00:00:00\", \"Full-Total\": 15.527374130580206}, {\"dt\": \"2017-05-31T00:00:00\", \"Full-Total\": 2.5349828017510845}, {\"dt\": \"2017-07-31T00:00:00\", \"Full-Total\": 2.364477335800186}, {\"dt\": \"2017-09-30T00:00:00\", \"Full-Total\": 1.8292171766344456}, {\"dt\": \"2017-11-30T00:00:00\", \"Full-Total\": 5.641419357023136}, {\"dt\": \"2018-01-31T00:00:00\", \"Full-Total\": 8.894265308709803}, {\"dt\": \"2018-03-31T00:00:00\", \"Full-Total\": 5.181953614717005}, {\"dt\": \"2018-05-31T00:00:00\", \"Full-Total\": -2.623865717385332}, {\"dt\": \"2018-07-31T00:00:00\", \"Full-Total\": 1.503842858255644}, {\"dt\": \"2018-09-30T00:00:00\", \"Full-Total\": 2.414123252281608}, {\"dt\": \"2018-11-30T00:00:00\", \"Full-Total\": 0.41574901892278415}, {\"dt\": \"2019-01-31T00:00:00\", \"Full-Total\": 3.369399654628924}, {\"dt\": \"2019-03-31T00:00:00\", \"Full-Total\": 4.8989869745903025}, {\"dt\": \"2019-05-31T00:00:00\", \"Full-Total\": 2.9340615634647405}, {\"dt\": \"2019-07-31T00:00:00\", \"Full-Total\": 2.3585976581129042}, {\"dt\": \"2019-09-30T00:00:00\", \"Full-Total\": 3.8328178873477725}, {\"dt\": \"2019-11-30T00:00:00\", \"Full-Total\": 4.198195775634939}, {\"dt\": \"2020-01-31T00:00:00\", \"Full-Total\": 0.8523930846106254}]}}, {\"mode\": \"vega-lite\"});\n",
       "</script>"
      ],
      "text/plain": [
       "alt.Chart(...)"
      ]
     },
     "execution_count": 8,
     "metadata": {},
     "output_type": "execute_result"
    }
   ],
   "source": [
    "doYoyChart(df_oak_combined, 'All-Total')"
   ]
  },
  {
   "cell_type": "markdown",
   "metadata": {},
   "source": [
    "## Port of Long Beach"
   ]
  },
  {
   "cell_type": "code",
   "execution_count": 9,
   "metadata": {},
   "outputs": [],
   "source": [
    "# http://www.polb.com/economics/stats/teus_archive.asp\n",
    "\n",
    "uaString = 'Mozilla/5.0 (Macintosh; Intel Mac OS X 10_9_3) AppleWebKit/537.36 (KHTML, like Gecko) Chrome/35.0.1916.47 Safari/537.36'\n",
    "\n",
    "req = Request(\"https://thehelm.polb.com/stellar_custom_table/table71/\", data=None, headers={ 'User-Agent': uaString })\n",
    "\n",
    "data = urlopen(req)\n",
    "\n",
    "df_lb_raw = pd.read_html(BytesIO(data.read()), displayed_only=False)[0].iloc[:-1]\n",
    "\n",
    "df_lb_raw = df_lb_raw.iloc[:, 1:]\n",
    "\n",
    "df_lb_raw[df_lb_raw.columns[1:]] = df_lb_raw[df_lb_raw.columns[1:]].apply(pd.to_numeric)\n",
    "\n",
    "df_lb_raw['dt'] = df_lb_raw['Date'].map(lambda v: pd.to_datetime(v, format='%b %Y'))\n",
    "\n",
    "#df_lb_raw.head()"
   ]
  },
  {
   "cell_type": "code",
   "execution_count": 10,
   "metadata": {},
   "outputs": [
    {
     "data": {
      "text/html": [
       "\n",
       "<div id=\"altair-viz-1f69385377044cc4a4ad7385ebeaf834\"></div>\n",
       "<script type=\"text/javascript\">\n",
       "  (function(spec, embedOpt){\n",
       "    const outputDiv = document.getElementById(\"altair-viz-1f69385377044cc4a4ad7385ebeaf834\");\n",
       "    const paths = {\n",
       "      \"vega\": \"https://cdn.jsdelivr.net/npm//vega@5?noext\",\n",
       "      \"vega-lib\": \"https://cdn.jsdelivr.net/npm//vega-lib?noext\",\n",
       "      \"vega-lite\": \"https://cdn.jsdelivr.net/npm//vega-lite@4.0.2?noext\",\n",
       "      \"vega-embed\": \"https://cdn.jsdelivr.net/npm//vega-embed@6?noext\",\n",
       "    };\n",
       "\n",
       "    function loadScript(lib) {\n",
       "      return new Promise(function(resolve, reject) {\n",
       "        var s = document.createElement('script');\n",
       "        s.src = paths[lib];\n",
       "        s.async = true;\n",
       "        s.onload = () => resolve(paths[lib]);\n",
       "        s.onerror = () => reject(`Error loading script: ${paths[lib]}`);\n",
       "        document.getElementsByTagName(\"head\")[0].appendChild(s);\n",
       "      });\n",
       "    }\n",
       "\n",
       "    function showError(err) {\n",
       "      outputDiv.innerHTML = `<div class=\"error\" style=\"color:red;\">${err}</div>`;\n",
       "      throw err;\n",
       "    }\n",
       "\n",
       "    function displayChart(vegaEmbed) {\n",
       "      vegaEmbed(outputDiv, spec, embedOpt)\n",
       "        .catch(err => showError(`Javascript Error: ${err.message}<br>This usually means there's a typo in your chart specification. See the javascript console for the full traceback.`));\n",
       "    }\n",
       "\n",
       "    if(typeof define === \"function\" && define.amd) {\n",
       "      requirejs.config({paths});\n",
       "      require([\"vega-embed\"], displayChart, err => showError(`Error loading script: ${err.message}`));\n",
       "    } else if (typeof vegaEmbed === \"function\") {\n",
       "      displayChart(vegaEmbed);\n",
       "    } else {\n",
       "      loadScript(\"vega\")\n",
       "        .then(() => loadScript(\"vega-lite\"))\n",
       "        .then(() => loadScript(\"vega-embed\"))\n",
       "        .catch(showError)\n",
       "        .then(() => displayChart(vegaEmbed));\n",
       "    }\n",
       "  })({\"config\": {\"view\": {\"continuousWidth\": 400, \"continuousHeight\": 300}}, \"data\": {\"name\": \"data-ff0d30e2274fb95c8a9b8a2df3927c2e\"}, \"mark\": {\"type\": \"bar\", \"color\": \"blue\", \"width\": 2}, \"encoding\": {\"tooltip\": [{\"type\": \"temporal\", \"field\": \"dt\", \"format\": \"%b %Y\"}, {\"type\": \"quantitative\", \"field\": \"Total Loaded\"}], \"x\": {\"type\": \"temporal\", \"axis\": {\"title\": \"\"}, \"field\": \"dt\"}, \"y\": {\"type\": \"quantitative\", \"axis\": {\"title\": \"Year-over-Year Volume Growth [%]\"}, \"field\": \"Total Loaded\"}}, \"height\": 400, \"title\": \"Port of Long Beach Total Loaded Container Volume Growth\", \"width\": 750, \"$schema\": \"https://vega.github.io/schema/vega-lite/v4.0.2.json\", \"datasets\": {\"data-ff0d30e2274fb95c8a9b8a2df3927c2e\": [{\"dt\": \"2020-01-01T00:00:00\", \"Total Loaded\": null}, {\"dt\": \"2019-12-01T00:00:00\", \"Total Loaded\": null}, {\"dt\": \"2019-11-01T00:00:00\", \"Total Loaded\": null}, {\"dt\": \"2019-10-01T00:00:00\", \"Total Loaded\": null}, {\"dt\": \"2019-09-01T00:00:00\", \"Total Loaded\": null}, {\"dt\": \"2019-08-01T00:00:00\", \"Total Loaded\": null}, {\"dt\": \"2019-07-01T00:00:00\", \"Total Loaded\": null}, {\"dt\": \"2019-06-01T00:00:00\", \"Total Loaded\": null}, {\"dt\": \"2019-05-01T00:00:00\", \"Total Loaded\": null}, {\"dt\": \"2019-04-01T00:00:00\", \"Total Loaded\": null}, {\"dt\": \"2019-03-01T00:00:00\", \"Total Loaded\": null}, {\"dt\": \"2019-02-01T00:00:00\", \"Total Loaded\": null}, {\"dt\": \"2019-01-01T00:00:00\", \"Total Loaded\": 5.385047242495555}, {\"dt\": \"2018-12-01T00:00:00\", \"Total Loaded\": 8.426191139593197}, {\"dt\": \"2018-11-01T00:00:00\", \"Total Loaded\": 4.474655449851683}, {\"dt\": \"2018-10-01T00:00:00\", \"Total Loaded\": 3.248153924603736}, {\"dt\": \"2018-09-01T00:00:00\", \"Total Loaded\": 0.152049425474865}, {\"dt\": \"2018-08-01T00:00:00\", \"Total Loaded\": 3.3098457862000386}, {\"dt\": \"2018-07-01T00:00:00\", \"Total Loaded\": 9.995223563127787}, {\"dt\": \"2018-06-01T00:00:00\", \"Total Loaded\": 11.561524463475049}, {\"dt\": \"2018-05-01T00:00:00\", \"Total Loaded\": 22.45509491785136}, {\"dt\": \"2018-04-01T00:00:00\", \"Total Loaded\": 2.827115129039348}, {\"dt\": \"2018-03-01T00:00:00\", \"Total Loaded\": 8.393685183961953}, {\"dt\": \"2018-02-01T00:00:00\", \"Total Loaded\": 15.92788960975322}, {\"dt\": \"2018-01-01T00:00:00\", \"Total Loaded\": 0.9142512570104788}, {\"dt\": \"2017-12-01T00:00:00\", \"Total Loaded\": -0.6697818994422566}, {\"dt\": \"2017-11-01T00:00:00\", \"Total Loaded\": 2.2775058992039465}, {\"dt\": \"2017-10-01T00:00:00\", \"Total Loaded\": -3.8762525288218552}, {\"dt\": \"2017-09-01T00:00:00\", \"Total Loaded\": 2.667371116044115}, {\"dt\": \"2017-08-01T00:00:00\", \"Total Loaded\": 2.2547694968383603}, {\"dt\": \"2017-07-01T00:00:00\", \"Total Loaded\": 8.007777822936868}, {\"dt\": \"2017-06-01T00:00:00\", \"Total Loaded\": -12.639091633895793}, {\"dt\": \"2017-05-01T00:00:00\", \"Total Loaded\": -9.551351823750466}, {\"dt\": \"2017-04-01T00:00:00\", \"Total Loaded\": -10.944483832187668}, {\"dt\": \"2017-03-01T00:00:00\", \"Total Loaded\": -9.817108396730722}, {\"dt\": \"2017-02-01T00:00:00\", \"Total Loaded\": -21.893769998436053}, {\"dt\": \"2017-01-01T00:00:00\", \"Total Loaded\": -6.275285909079676}, {\"dt\": \"2016-12-01T00:00:00\", \"Total Loaded\": -18.344926930328732}, {\"dt\": \"2016-11-01T00:00:00\", \"Total Loaded\": -12.134235839613627}, {\"dt\": \"2016-10-01T00:00:00\", \"Total Loaded\": -8.960729894682085}, {\"dt\": \"2016-09-01T00:00:00\", \"Total Loaded\": -17.961735762782883}, {\"dt\": \"2016-08-01T00:00:00\", \"Total Loaded\": 1.6631959493028647}, {\"dt\": \"2016-07-01T00:00:00\", \"Total Loaded\": -7.228500469383148}, {\"dt\": \"2016-06-01T00:00:00\", \"Total Loaded\": -2.64685912810384}, {\"dt\": \"2016-05-01T00:00:00\", \"Total Loaded\": 3.0420747507576174}, {\"dt\": \"2016-04-01T00:00:00\", \"Total Loaded\": -10.964058872540905}, {\"dt\": \"2016-03-01T00:00:00\", \"Total Loaded\": -9.49376839681162}, {\"dt\": \"2016-02-01T00:00:00\", \"Total Loaded\": 13.342839902697467}, {\"dt\": \"2016-01-01T00:00:00\", \"Total Loaded\": -7.668302878070287}, {\"dt\": \"2015-12-01T00:00:00\", \"Total Loaded\": 6.992588687356149}, {\"dt\": \"2015-11-01T00:00:00\", \"Total Loaded\": 10.182193421828977}, {\"dt\": \"2015-10-01T00:00:00\", \"Total Loaded\": 3.02776275677068}, {\"dt\": \"2015-09-01T00:00:00\", \"Total Loaded\": 13.691090130117423}, {\"dt\": \"2015-08-01T00:00:00\", \"Total Loaded\": 3.359521868605375}, {\"dt\": \"2015-07-01T00:00:00\", \"Total Loaded\": 4.561504632594682}, {\"dt\": \"2015-06-01T00:00:00\", \"Total Loaded\": -3.6712142654967472}, {\"dt\": \"2015-05-01T00:00:00\", \"Total Loaded\": -1.2916823838050595}, {\"dt\": \"2015-04-01T00:00:00\", \"Total Loaded\": 26.324763065747337}, {\"dt\": \"2015-03-01T00:00:00\", \"Total Loaded\": 32.85460436918575}, {\"dt\": \"2015-02-01T00:00:00\", \"Total Loaded\": -24.758164629488157}, {\"dt\": \"2015-01-01T00:00:00\", \"Total Loaded\": -18.975936453547227}, {\"dt\": \"2014-12-01T00:00:00\", \"Total Loaded\": -3.342177579835115}, {\"dt\": \"2014-11-01T00:00:00\", \"Total Loaded\": -1.7217198189029892}, {\"dt\": \"2014-10-01T00:00:00\", \"Total Loaded\": -1.2321712204591773}, {\"dt\": \"2014-09-01T00:00:00\", \"Total Loaded\": -0.17293718432966898}, {\"dt\": \"2014-08-01T00:00:00\", \"Total Loaded\": -13.94692843648333}, {\"dt\": \"2014-07-01T00:00:00\", \"Total Loaded\": -13.89297796797383}, {\"dt\": \"2014-06-01T00:00:00\", \"Total Loaded\": 7.210892029373883}, {\"dt\": \"2014-05-01T00:00:00\", \"Total Loaded\": -0.8703030407710366}, {\"dt\": \"2014-04-01T00:00:00\", \"Total Loaded\": -2.794325181020041}, {\"dt\": \"2014-03-01T00:00:00\", \"Total Loaded\": -15.1828565134414}, {\"dt\": \"2014-02-01T00:00:00\", \"Total Loaded\": 31.750816218394352}, {\"dt\": \"2014-01-01T00:00:00\", \"Total Loaded\": 28.737156752496574}, {\"dt\": \"2013-12-01T00:00:00\", \"Total Loaded\": 7.738007705655714}, {\"dt\": \"2013-11-01T00:00:00\", \"Total Loaded\": 5.8130319098748995}, {\"dt\": \"2013-10-01T00:00:00\", \"Total Loaded\": 2.042341278221138}, {\"dt\": \"2013-09-01T00:00:00\", \"Total Loaded\": -3.2982709091107676}, {\"dt\": \"2013-08-01T00:00:00\", \"Total Loaded\": 12.678773085313066}, {\"dt\": \"2013-07-01T00:00:00\", \"Total Loaded\": 1.2981901214252245}, {\"dt\": \"2013-06-01T00:00:00\", \"Total Loaded\": -6.981108908807077}, {\"dt\": \"2013-05-01T00:00:00\", \"Total Loaded\": -1.4309329813717353}, {\"dt\": \"2013-04-01T00:00:00\", \"Total Loaded\": -9.04751136337939}, {\"dt\": \"2013-03-01T00:00:00\", \"Total Loaded\": 1.0097663755747943}, {\"dt\": \"2013-02-01T00:00:00\", \"Total Loaded\": 1.090205012486667}, {\"dt\": \"2013-01-01T00:00:00\", \"Total Loaded\": -0.29714353974108487}, {\"dt\": \"2012-12-01T00:00:00\", \"Total Loaded\": -1.920907039382691}, {\"dt\": \"2012-11-01T00:00:00\", \"Total Loaded\": -7.075980632562617}, {\"dt\": \"2012-10-01T00:00:00\", \"Total Loaded\": -6.714832805734449}, {\"dt\": \"2012-09-01T00:00:00\", \"Total Loaded\": -14.15384823915582}, {\"dt\": \"2012-08-01T00:00:00\", \"Total Loaded\": -16.336850405137625}, {\"dt\": \"2012-07-01T00:00:00\", \"Total Loaded\": -9.692754952998017}, {\"dt\": \"2012-06-01T00:00:00\", \"Total Loaded\": -2.374318794667274}, {\"dt\": \"2012-05-01T00:00:00\", \"Total Loaded\": -16.25181463240022}, {\"dt\": \"2012-04-01T00:00:00\", \"Total Loaded\": -12.129756017513627}, {\"dt\": \"2012-03-01T00:00:00\", \"Total Loaded\": -2.6621187274516234}, {\"dt\": \"2012-02-01T00:00:00\", \"Total Loaded\": -25.79722228839603}, {\"dt\": \"2012-01-01T00:00:00\", \"Total Loaded\": -13.584536432436744}, {\"dt\": \"2011-12-01T00:00:00\", \"Total Loaded\": -12.363037528413045}, {\"dt\": \"2011-11-01T00:00:00\", \"Total Loaded\": -17.7729905048867}, {\"dt\": \"2011-10-01T00:00:00\", \"Total Loaded\": -12.586024899988058}, {\"dt\": \"2011-09-01T00:00:00\", \"Total Loaded\": 0.3747328975484576}, {\"dt\": \"2011-08-01T00:00:00\", \"Total Loaded\": -3.6525116442874817}, {\"dt\": \"2011-07-01T00:00:00\", \"Total Loaded\": 8.158224189815112}, {\"dt\": \"2011-06-01T00:00:00\", \"Total Loaded\": -3.9775457234260903}, {\"dt\": \"2011-05-01T00:00:00\", \"Total Loaded\": 6.923381351907554}, {\"dt\": \"2011-04-01T00:00:00\", \"Total Loaded\": 17.08331564874157}, {\"dt\": \"2011-03-01T00:00:00\", \"Total Loaded\": -12.940624671477362}, {\"dt\": \"2011-02-01T00:00:00\", \"Total Loaded\": 14.160735325750196}, {\"dt\": \"2011-01-01T00:00:00\", \"Total Loaded\": 6.8695697384231424}, {\"dt\": \"2010-12-01T00:00:00\", \"Total Loaded\": 5.34382460207814}, {\"dt\": \"2010-11-01T00:00:00\", \"Total Loaded\": 21.690979110748042}, {\"dt\": \"2010-10-01T00:00:00\", \"Total Loaded\": 26.542991245855106}, {\"dt\": \"2010-09-01T00:00:00\", \"Total Loaded\": 8.257914993131067}, {\"dt\": \"2010-08-01T00:00:00\", \"Total Loaded\": 12.562970590128074}, {\"dt\": \"2010-07-01T00:00:00\", \"Total Loaded\": 0.6645386093816708}, {\"dt\": \"2010-06-01T00:00:00\", \"Total Loaded\": -4.91223305950953}, {\"dt\": \"2010-05-01T00:00:00\", \"Total Loaded\": -0.5174443136645279}, {\"dt\": \"2010-04-01T00:00:00\", \"Total Loaded\": -10.244326832451245}, {\"dt\": \"2010-03-01T00:00:00\", \"Total Loaded\": 4.3889253557583885}, {\"dt\": \"2010-02-01T00:00:00\", \"Total Loaded\": -6.87900919319776}, {\"dt\": \"2010-01-01T00:00:00\", \"Total Loaded\": -10.509174547488998}, {\"dt\": \"2009-12-01T00:00:00\", \"Total Loaded\": -10.64218938821041}, {\"dt\": \"2009-11-01T00:00:00\", \"Total Loaded\": -17.855807129088873}, {\"dt\": \"2009-10-01T00:00:00\", \"Total Loaded\": -23.689528792349957}, {\"dt\": \"2009-09-01T00:00:00\", \"Total Loaded\": -19.050628926248294}, {\"dt\": \"2009-08-01T00:00:00\", \"Total Loaded\": -12.974782690227515}, {\"dt\": \"2009-07-01T00:00:00\", \"Total Loaded\": -21.40576829224744}, {\"dt\": \"2009-06-01T00:00:00\", \"Total Loaded\": -15.257890074438407}, {\"dt\": \"2009-05-01T00:00:00\", \"Total Loaded\": -18.23302675834152}, {\"dt\": \"2009-04-01T00:00:00\", \"Total Loaded\": -15.98626817447496}, {\"dt\": \"2009-03-01T00:00:00\", \"Total Loaded\": -9.794837266830193}, {\"dt\": \"2009-02-01T00:00:00\", \"Total Loaded\": -26.89231958638352}, {\"dt\": \"2009-01-01T00:00:00\", \"Total Loaded\": -12.687703105935222}, {\"dt\": \"2008-12-01T00:00:00\", \"Total Loaded\": -15.9220625861051}, {\"dt\": \"2008-11-01T00:00:00\", \"Total Loaded\": 10.232612439074229}, {\"dt\": \"2008-10-01T00:00:00\", \"Total Loaded\": 22.73420397507062}, {\"dt\": \"2008-09-01T00:00:00\", \"Total Loaded\": 22.289767576833675}, {\"dt\": \"2008-08-01T00:00:00\", \"Total Loaded\": 14.741566656067784}, {\"dt\": \"2008-07-01T00:00:00\", \"Total Loaded\": 28.949927151896617}, {\"dt\": \"2008-06-01T00:00:00\", \"Total Loaded\": 39.95880985443028}, {\"dt\": \"2008-05-01T00:00:00\", \"Total Loaded\": 29.280308200998007}, {\"dt\": \"2008-04-01T00:00:00\", \"Total Loaded\": 42.33704134578098}, {\"dt\": \"2008-03-01T00:00:00\", \"Total Loaded\": 28.56828135891938}, {\"dt\": \"2008-02-01T00:00:00\", \"Total Loaded\": 69.57452081956379}, {\"dt\": \"2008-01-01T00:00:00\", \"Total Loaded\": 32.56542764045409}, {\"dt\": \"2007-12-01T00:00:00\", \"Total Loaded\": 41.59376672017121}, {\"dt\": \"2007-11-01T00:00:00\", \"Total Loaded\": 20.1821599724642}, {\"dt\": \"2007-10-01T00:00:00\", \"Total Loaded\": 10.116547483746174}, {\"dt\": \"2007-09-01T00:00:00\", \"Total Loaded\": 14.086753578444444}, {\"dt\": \"2007-08-01T00:00:00\", \"Total Loaded\": 7.194697703605479}, {\"dt\": \"2007-07-01T00:00:00\", \"Total Loaded\": 9.813395847916674}, {\"dt\": \"2007-06-01T00:00:00\", \"Total Loaded\": 7.103155050287735}, {\"dt\": \"2007-05-01T00:00:00\", \"Total Loaded\": 4.117518695196143}, {\"dt\": \"2007-04-01T00:00:00\", \"Total Loaded\": -4.4583793033571295}, {\"dt\": \"2007-03-01T00:00:00\", \"Total Loaded\": -3.1917587153171167}, {\"dt\": \"2007-02-01T00:00:00\", \"Total Loaded\": -4.260839062035638}, {\"dt\": \"2007-01-01T00:00:00\", \"Total Loaded\": 7.413031906566059}, {\"dt\": \"2006-12-01T00:00:00\", \"Total Loaded\": -6.815422911421698}, {\"dt\": \"2006-11-01T00:00:00\", \"Total Loaded\": -2.9459195093365254}, {\"dt\": \"2006-10-01T00:00:00\", \"Total Loaded\": -4.907152167874007}, {\"dt\": \"2006-09-01T00:00:00\", \"Total Loaded\": -10.727588136781685}, {\"dt\": \"2006-08-01T00:00:00\", \"Total Loaded\": -3.1985488915856175}, {\"dt\": \"2006-07-01T00:00:00\", \"Total Loaded\": -13.158114273857679}, {\"dt\": \"2006-06-01T00:00:00\", \"Total Loaded\": -12.243066918135304}, {\"dt\": \"2006-05-01T00:00:00\", \"Total Loaded\": -0.057467767343433174}, {\"dt\": \"2006-04-01T00:00:00\", \"Total Loaded\": 1.9960926545204316}, {\"dt\": \"2006-03-01T00:00:00\", \"Total Loaded\": 5.981343470875267}, {\"dt\": \"2006-02-01T00:00:00\", \"Total Loaded\": -7.7831634924875654}, {\"dt\": \"2006-01-01T00:00:00\", \"Total Loaded\": -4.3869366020978795}, {\"dt\": \"2005-12-01T00:00:00\", \"Total Loaded\": -6.088239170324716}, {\"dt\": \"2005-11-01T00:00:00\", \"Total Loaded\": -6.431139681847897}, {\"dt\": \"2005-10-01T00:00:00\", \"Total Loaded\": -9.523691815391256}, {\"dt\": \"2005-09-01T00:00:00\", \"Total Loaded\": -1.4056461240244955}, {\"dt\": \"2005-08-01T00:00:00\", \"Total Loaded\": -7.992098612843068}, {\"dt\": \"2005-07-01T00:00:00\", \"Total Loaded\": -2.3506199843341236}, {\"dt\": \"2005-06-01T00:00:00\", \"Total Loaded\": -6.151364558253181}, {\"dt\": \"2005-05-01T00:00:00\", \"Total Loaded\": -11.140951401666843}, {\"dt\": \"2005-04-01T00:00:00\", \"Total Loaded\": -12.539308085277456}, {\"dt\": \"2005-03-01T00:00:00\", \"Total Loaded\": -21.575998085590076}, {\"dt\": \"2005-02-01T00:00:00\", \"Total Loaded\": -5.88092465772323}, {\"dt\": \"2005-01-01T00:00:00\", \"Total Loaded\": -15.048463522148403}, {\"dt\": \"2004-12-01T00:00:00\", \"Total Loaded\": -2.069940789438174}, {\"dt\": \"2004-11-01T00:00:00\", \"Total Loaded\": -4.13840451030052}, {\"dt\": \"2004-10-01T00:00:00\", \"Total Loaded\": -7.006768084445825}, {\"dt\": \"2004-09-01T00:00:00\", \"Total Loaded\": -19.170022583922297}, {\"dt\": \"2004-08-01T00:00:00\", \"Total Loaded\": -15.021565269122084}, {\"dt\": \"2004-07-01T00:00:00\", \"Total Loaded\": -8.11658910035693}, {\"dt\": \"2004-06-01T00:00:00\", \"Total Loaded\": -13.311073646536054}, {\"dt\": \"2004-05-01T00:00:00\", \"Total Loaded\": -16.91421466001801}, {\"dt\": \"2004-04-01T00:00:00\", \"Total Loaded\": -18.930649963410996}, {\"dt\": \"2004-03-01T00:00:00\", \"Total Loaded\": 4.99377010412827}, {\"dt\": \"2004-02-01T00:00:00\", \"Total Loaded\": -32.292619432913526}, {\"dt\": \"2004-01-01T00:00:00\", \"Total Loaded\": -17.86610440686076}, {\"dt\": \"2003-12-01T00:00:00\", \"Total Loaded\": -18.970050045195}, {\"dt\": \"2003-11-01T00:00:00\", \"Total Loaded\": -24.37663386080835}, {\"dt\": \"2003-10-01T00:00:00\", \"Total Loaded\": -15.740597306724647}, {\"dt\": \"2003-09-01T00:00:00\", \"Total Loaded\": -17.94581984556124}, {\"dt\": \"2003-08-01T00:00:00\", \"Total Loaded\": -20.32586879998194}, {\"dt\": \"2003-07-01T00:00:00\", \"Total Loaded\": -14.321717024746194}, {\"dt\": \"2003-06-01T00:00:00\", \"Total Loaded\": -19.72009213633845}, {\"dt\": \"2003-05-01T00:00:00\", \"Total Loaded\": -16.566588884952292}, {\"dt\": \"2003-04-01T00:00:00\", \"Total Loaded\": -10.134551651997093}, {\"dt\": \"2003-03-01T00:00:00\", \"Total Loaded\": -20.5029622520987}, {\"dt\": \"2003-02-01T00:00:00\", \"Total Loaded\": -1.9267572459061855}, {\"dt\": \"2003-01-01T00:00:00\", \"Total Loaded\": -17.775018479610527}, {\"dt\": \"2002-12-01T00:00:00\", \"Total Loaded\": -14.804360025167075}, {\"dt\": \"2002-11-01T00:00:00\", \"Total Loaded\": -18.210810231972907}, {\"dt\": \"2002-10-01T00:00:00\", \"Total Loaded\": -35.21470525771922}, {\"dt\": \"2002-09-01T00:00:00\", \"Total Loaded\": -10.815049900639506}, {\"dt\": \"2002-08-01T00:00:00\", \"Total Loaded\": 8.301210283155246}, {\"dt\": \"2002-07-01T00:00:00\", \"Total Loaded\": 2.5723349033932585}, {\"dt\": \"2002-06-01T00:00:00\", \"Total Loaded\": 13.289217537844667}, {\"dt\": \"2002-05-01T00:00:00\", \"Total Loaded\": 15.474922301415607}, {\"dt\": \"2002-04-01T00:00:00\", \"Total Loaded\": 14.556280392064425}, {\"dt\": \"2002-03-01T00:00:00\", \"Total Loaded\": -1.0959759631678945}, {\"dt\": \"2002-02-01T00:00:00\", \"Total Loaded\": 26.092235152842292}, {\"dt\": \"2002-01-01T00:00:00\", \"Total Loaded\": 11.363435069881135}, {\"dt\": \"2001-12-01T00:00:00\", \"Total Loaded\": 9.875651184607094}, {\"dt\": \"2001-11-01T00:00:00\", \"Total Loaded\": 10.364184624952433}, {\"dt\": \"2001-10-01T00:00:00\", \"Total Loaded\": 56.78330984812901}, {\"dt\": \"2001-09-01T00:00:00\", \"Total Loaded\": 22.294252835690575}, {\"dt\": \"2001-08-01T00:00:00\", \"Total Loaded\": -0.2895203449381323}, {\"dt\": \"2001-07-01T00:00:00\", \"Total Loaded\": -10.615772933730682}, {\"dt\": \"2001-06-01T00:00:00\", \"Total Loaded\": -9.79174547809416}, {\"dt\": \"2001-05-01T00:00:00\", \"Total Loaded\": -12.114987129252741}, {\"dt\": \"2001-04-01T00:00:00\", \"Total Loaded\": -11.621554035446469}, {\"dt\": \"2001-03-01T00:00:00\", \"Total Loaded\": 7.79111270257471}, {\"dt\": \"2001-02-01T00:00:00\", \"Total Loaded\": -19.23643862763428}, {\"dt\": \"2001-01-01T00:00:00\", \"Total Loaded\": 8.087977985620665}, {\"dt\": \"2000-12-01T00:00:00\", \"Total Loaded\": -5.544898344741389}, {\"dt\": \"2000-11-01T00:00:00\", \"Total Loaded\": 12.634759397938765}, {\"dt\": \"2000-10-01T00:00:00\", \"Total Loaded\": 1.1272000998626908}, {\"dt\": \"2000-09-01T00:00:00\", \"Total Loaded\": -2.4157371483996104}, {\"dt\": \"2000-08-01T00:00:00\", \"Total Loaded\": 5.967328645999093}, {\"dt\": \"2000-07-01T00:00:00\", \"Total Loaded\": 8.94822374054205}, {\"dt\": \"2000-06-01T00:00:00\", \"Total Loaded\": 1.7506388090254177}, {\"dt\": \"2000-05-01T00:00:00\", \"Total Loaded\": 13.908407520163912}, {\"dt\": \"2000-04-01T00:00:00\", \"Total Loaded\": 4.491061930737583}, {\"dt\": \"2000-03-01T00:00:00\", \"Total Loaded\": -1.2837823356694367}, {\"dt\": \"2000-02-01T00:00:00\", \"Total Loaded\": 12.393136455858645}, {\"dt\": \"2000-01-01T00:00:00\", \"Total Loaded\": -4.800394391691287}, {\"dt\": \"1999-12-01T00:00:00\", \"Total Loaded\": 4.726096422059989}, {\"dt\": \"1999-11-01T00:00:00\", \"Total Loaded\": -1.0453523620816196}, {\"dt\": \"1999-10-01T00:00:00\", \"Total Loaded\": -10.942996802982242}, {\"dt\": \"1999-09-01T00:00:00\", \"Total Loaded\": 4.01477109972217}, {\"dt\": \"1999-08-01T00:00:00\", \"Total Loaded\": -8.573569343088295}, {\"dt\": \"1999-07-01T00:00:00\", \"Total Loaded\": -15.717635586179469}, {\"dt\": \"1999-06-01T00:00:00\", \"Total Loaded\": -4.518544649312462}, {\"dt\": \"1999-05-01T00:00:00\", \"Total Loaded\": -7.154528699815699}, {\"dt\": \"1999-04-01T00:00:00\", \"Total Loaded\": -11.35368035703268}, {\"dt\": \"1999-03-01T00:00:00\", \"Total Loaded\": -5.69836445216384}, {\"dt\": \"1999-02-01T00:00:00\", \"Total Loaded\": -2.6124857765520426}, {\"dt\": \"1999-01-01T00:00:00\", \"Total Loaded\": -4.517647422544957}, {\"dt\": \"1998-12-01T00:00:00\", \"Total Loaded\": -6.688238470042496}, {\"dt\": \"1998-11-01T00:00:00\", \"Total Loaded\": -7.880723111975918}, {\"dt\": \"1998-10-01T00:00:00\", \"Total Loaded\": -10.638238891718732}, {\"dt\": \"1998-09-01T00:00:00\", \"Total Loaded\": -9.509005003517057}, {\"dt\": \"1998-08-01T00:00:00\", \"Total Loaded\": -7.606420806664637}, {\"dt\": \"1998-07-01T00:00:00\", \"Total Loaded\": 6.6023193943845815}, {\"dt\": \"1998-06-01T00:00:00\", \"Total Loaded\": -2.8305751869247775}, {\"dt\": \"1998-05-01T00:00:00\", \"Total Loaded\": -15.406916263348712}, {\"dt\": \"1998-04-01T00:00:00\", \"Total Loaded\": 0.3491676816889999}, {\"dt\": \"1998-03-01T00:00:00\", \"Total Loaded\": -1.681426795389318}, {\"dt\": \"1998-02-01T00:00:00\", \"Total Loaded\": -17.055473261460218}, {\"dt\": \"1998-01-01T00:00:00\", \"Total Loaded\": -12.099662852679172}, {\"dt\": \"1997-12-01T00:00:00\", \"Total Loaded\": -6.723241451788753}, {\"dt\": \"1997-11-01T00:00:00\", \"Total Loaded\": -12.287327767988677}, {\"dt\": \"1997-10-01T00:00:00\", \"Total Loaded\": -0.30788320601806696}, {\"dt\": \"1997-09-01T00:00:00\", \"Total Loaded\": 0.7135288143174989}, {\"dt\": \"1997-08-01T00:00:00\", \"Total Loaded\": -9.198435650169156}, {\"dt\": \"1997-07-01T00:00:00\", \"Total Loaded\": -4.955585387449657}, {\"dt\": \"1997-06-01T00:00:00\", \"Total Loaded\": 0.1471950126866295}, {\"dt\": \"1997-05-01T00:00:00\", \"Total Loaded\": -5.224154406280112}, {\"dt\": \"1997-04-01T00:00:00\", \"Total Loaded\": -7.905039342165088}, {\"dt\": \"1997-03-01T00:00:00\", \"Total Loaded\": -9.614018655114542}, {\"dt\": \"1997-02-01T00:00:00\", \"Total Loaded\": 2.3732212778149187}, {\"dt\": \"1997-01-01T00:00:00\", \"Total Loaded\": -6.794887143264972}, {\"dt\": \"1996-12-01T00:00:00\", \"Total Loaded\": -1.4068816514613225}, {\"dt\": \"1996-11-01T00:00:00\", \"Total Loaded\": -12.601987469228803}, {\"dt\": \"1996-10-01T00:00:00\", \"Total Loaded\": -6.466067150013998}, {\"dt\": \"1996-09-01T00:00:00\", \"Total Loaded\": -16.43651588240648}, {\"dt\": \"1996-08-01T00:00:00\", \"Total Loaded\": -10.177893134947702}, {\"dt\": \"1996-07-01T00:00:00\", \"Total Loaded\": -13.60702909003486}, {\"dt\": \"1996-06-01T00:00:00\", \"Total Loaded\": -16.43341791185039}, {\"dt\": \"1996-05-01T00:00:00\", \"Total Loaded\": -11.83507470305959}, {\"dt\": \"1996-04-01T00:00:00\", \"Total Loaded\": -4.4509901549352975}, {\"dt\": \"1996-03-01T00:00:00\", \"Total Loaded\": -12.46826370058205}, {\"dt\": \"1996-02-01T00:00:00\", \"Total Loaded\": -5.041279910443586}, {\"dt\": \"1996-01-01T00:00:00\", \"Total Loaded\": -2.782320016203854}, {\"dt\": \"1995-12-01T00:00:00\", \"Total Loaded\": -15.709797812055948}, {\"dt\": \"1995-11-01T00:00:00\", \"Total Loaded\": -6.222063124973509}, {\"dt\": \"1995-10-01T00:00:00\", \"Total Loaded\": -5.350726903755943}, {\"dt\": \"1995-09-01T00:00:00\", \"Total Loaded\": -14.60301139730229}, {\"dt\": \"1995-08-01T00:00:00\", \"Total Loaded\": -2.3463164943218318}, {\"dt\": \"1995-07-01T00:00:00\", \"Total Loaded\": -6.43694153966563}, {\"dt\": \"1995-06-01T00:00:00\", \"Total Loaded\": -11.278046673983845}, {\"dt\": \"1995-05-01T00:00:00\", \"Total Loaded\": -1.1242786280905581}, {\"dt\": \"1995-04-01T00:00:00\", \"Total Loaded\": -13.560747049679245}, {\"dt\": \"1995-03-01T00:00:00\", \"Total Loaded\": -12.150256511444358}, {\"dt\": \"1995-02-01T00:00:00\", \"Total Loaded\": -11.092336257625924}]}}, {\"mode\": \"vega-lite\"});\n",
       "</script>"
      ],
      "text/plain": [
       "alt.Chart(...)"
      ]
     },
     "execution_count": 10,
     "metadata": {},
     "output_type": "execute_result"
    }
   ],
   "source": [
    "doYoyChart(df_lb_raw, location='Long Beach', metric='Total Loaded')"
   ]
  },
  {
   "cell_type": "code",
   "execution_count": 11,
   "metadata": {},
   "outputs": [
    {
     "data": {
      "text/html": [
       "\n",
       "<div id=\"altair-viz-aca9976a4fa5489298f1aa1d383440b4\"></div>\n",
       "<script type=\"text/javascript\">\n",
       "  (function(spec, embedOpt){\n",
       "    const outputDiv = document.getElementById(\"altair-viz-aca9976a4fa5489298f1aa1d383440b4\");\n",
       "    const paths = {\n",
       "      \"vega\": \"https://cdn.jsdelivr.net/npm//vega@5?noext\",\n",
       "      \"vega-lib\": \"https://cdn.jsdelivr.net/npm//vega-lib?noext\",\n",
       "      \"vega-lite\": \"https://cdn.jsdelivr.net/npm//vega-lite@4.0.2?noext\",\n",
       "      \"vega-embed\": \"https://cdn.jsdelivr.net/npm//vega-embed@6?noext\",\n",
       "    };\n",
       "\n",
       "    function loadScript(lib) {\n",
       "      return new Promise(function(resolve, reject) {\n",
       "        var s = document.createElement('script');\n",
       "        s.src = paths[lib];\n",
       "        s.async = true;\n",
       "        s.onload = () => resolve(paths[lib]);\n",
       "        s.onerror = () => reject(`Error loading script: ${paths[lib]}`);\n",
       "        document.getElementsByTagName(\"head\")[0].appendChild(s);\n",
       "      });\n",
       "    }\n",
       "\n",
       "    function showError(err) {\n",
       "      outputDiv.innerHTML = `<div class=\"error\" style=\"color:red;\">${err}</div>`;\n",
       "      throw err;\n",
       "    }\n",
       "\n",
       "    function displayChart(vegaEmbed) {\n",
       "      vegaEmbed(outputDiv, spec, embedOpt)\n",
       "        .catch(err => showError(`Javascript Error: ${err.message}<br>This usually means there's a typo in your chart specification. See the javascript console for the full traceback.`));\n",
       "    }\n",
       "\n",
       "    if(typeof define === \"function\" && define.amd) {\n",
       "      requirejs.config({paths});\n",
       "      require([\"vega-embed\"], displayChart, err => showError(`Error loading script: ${err.message}`));\n",
       "    } else if (typeof vegaEmbed === \"function\") {\n",
       "      displayChart(vegaEmbed);\n",
       "    } else {\n",
       "      loadScript(\"vega\")\n",
       "        .then(() => loadScript(\"vega-lite\"))\n",
       "        .then(() => loadScript(\"vega-embed\"))\n",
       "        .catch(showError)\n",
       "        .then(() => displayChart(vegaEmbed));\n",
       "    }\n",
       "  })({\"config\": {\"view\": {\"continuousWidth\": 400, \"continuousHeight\": 300}}, \"data\": {\"name\": \"data-2a1ad2c5bb5bef64819efed20077849e\"}, \"mark\": {\"type\": \"bar\", \"color\": \"blue\", \"width\": 2}, \"encoding\": {\"tooltip\": [{\"type\": \"temporal\", \"field\": \"dt\", \"format\": \"%b %Y\"}, {\"type\": \"quantitative\", \"field\": \"Total\"}], \"x\": {\"type\": \"temporal\", \"axis\": {\"title\": \"\"}, \"field\": \"dt\"}, \"y\": {\"type\": \"quantitative\", \"axis\": {\"title\": \"Year-over-Year Volume Growth [%]\"}, \"field\": \"Total\"}}, \"height\": 400, \"title\": \"Port of Long Beach Total Container Volume Growth\", \"width\": 750, \"$schema\": \"https://vega.github.io/schema/vega-lite/v4.0.2.json\", \"datasets\": {\"data-2a1ad2c5bb5bef64819efed20077849e\": [{\"dt\": \"2020-01-01T00:00:00\", \"Total\": null}, {\"dt\": \"2019-12-01T00:00:00\", \"Total\": null}, {\"dt\": \"2019-11-01T00:00:00\", \"Total\": null}, {\"dt\": \"2019-10-01T00:00:00\", \"Total\": null}, {\"dt\": \"2019-09-01T00:00:00\", \"Total\": null}, {\"dt\": \"2019-08-01T00:00:00\", \"Total\": null}, {\"dt\": \"2019-07-01T00:00:00\", \"Total\": null}, {\"dt\": \"2019-06-01T00:00:00\", \"Total\": null}, {\"dt\": \"2019-05-01T00:00:00\", \"Total\": null}, {\"dt\": \"2019-04-01T00:00:00\", \"Total\": null}, {\"dt\": \"2019-03-01T00:00:00\", \"Total\": null}, {\"dt\": \"2019-02-01T00:00:00\", \"Total\": null}, {\"dt\": \"2019-01-01T00:00:00\", \"Total\": 4.8589009123700455}, {\"dt\": \"2018-12-01T00:00:00\", \"Total\": 11.482110028996129}, {\"dt\": \"2018-11-01T00:00:00\", \"Total\": 3.641757710609439}, {\"dt\": \"2018-10-01T00:00:00\", \"Total\": 2.4669353960126372}, {\"dt\": \"2018-09-01T00:00:00\", \"Total\": -0.8134888359230819}, {\"dt\": \"2018-08-01T00:00:00\", \"Total\": 2.342046289714328}, {\"dt\": \"2018-07-01T00:00:00\", \"Total\": 10.723567821415925}, {\"dt\": \"2018-06-01T00:00:00\", \"Total\": 11.078655634429913}, {\"dt\": \"2018-05-01T00:00:00\", \"Total\": 19.83951131666617}, {\"dt\": \"2018-04-01T00:00:00\", \"Total\": -1.541738706811735}, {\"dt\": \"2018-03-01T00:00:00\", \"Total\": 4.058637425133993}, {\"dt\": \"2018-02-01T00:00:00\", \"Total\": 10.923944379634465}, {\"dt\": \"2018-01-01T00:00:00\", \"Total\": 0.08276458041096557}, {\"dt\": \"2017-12-01T00:00:00\", \"Total\": -6.031036328603767}, {\"dt\": \"2017-11-01T00:00:00\", \"Total\": -1.47563260350414}, {\"dt\": \"2017-10-01T00:00:00\", \"Total\": -5.130364271457088}, {\"dt\": \"2017-09-01T00:00:00\", \"Total\": 0.05918391794683675}, {\"dt\": \"2017-08-01T00:00:00\", \"Total\": 1.8883278909502366}, {\"dt\": \"2017-07-01T00:00:00\", \"Total\": 4.627013742325237}, {\"dt\": \"2017-06-01T00:00:00\", \"Total\": -12.425218163544216}, {\"dt\": \"2017-05-01T00:00:00\", \"Total\": -5.693695476028726}, {\"dt\": \"2017-04-01T00:00:00\", \"Total\": -9.770421610573731}, {\"dt\": \"2017-03-01T00:00:00\", \"Total\": -12.146897565961712}, {\"dt\": \"2017-02-01T00:00:00\", \"Total\": -24.702549147010377}, {\"dt\": \"2017-01-01T00:00:00\", \"Total\": -11.422555979508386}, {\"dt\": \"2016-12-01T00:00:00\", \"Total\": -21.234779414507877}, {\"dt\": \"2016-11-01T00:00:00\", \"Total\": -12.788680163027067}, {\"dt\": \"2016-10-01T00:00:00\", \"Total\": -13.06151358750064}, {\"dt\": \"2016-09-01T00:00:00\", \"Total\": -22.065251938730277}, {\"dt\": \"2016-08-01T00:00:00\", \"Total\": -7.415923451886619}, {\"dt\": \"2016-07-01T00:00:00\", \"Total\": -11.553465720410049}, {\"dt\": \"2016-06-01T00:00:00\", \"Total\": -8.408339114686358}, {\"dt\": \"2016-05-01T00:00:00\", \"Total\": -1.1909848570154868}, {\"dt\": \"2016-04-01T00:00:00\", \"Total\": -14.188174490245764}, {\"dt\": \"2016-03-01T00:00:00\", \"Total\": -8.01908259494798}, {\"dt\": \"2016-02-01T00:00:00\", \"Total\": 12.662975531344877}, {\"dt\": \"2016-01-01T00:00:00\", \"Total\": -7.980414938329028}, {\"dt\": \"2015-12-01T00:00:00\", \"Total\": 8.656675089128107}, {\"dt\": \"2015-11-01T00:00:00\", \"Total\": 15.981606114825153}, {\"dt\": \"2015-10-01T00:00:00\", \"Total\": 6.561442950251628}, {\"dt\": \"2015-09-01T00:00:00\", \"Total\": 19.90087874105029}, {\"dt\": \"2015-08-01T00:00:00\", \"Total\": 9.769136809723111}, {\"dt\": \"2015-07-01T00:00:00\", \"Total\": 8.343235110839743}, {\"dt\": \"2015-06-01T00:00:00\", \"Total\": -3.2681461002852408}, {\"dt\": \"2015-05-01T00:00:00\", \"Total\": -0.8298910650893165}, {\"dt\": \"2015-04-01T00:00:00\", \"Total\": 28.40561187197448}, {\"dt\": \"2015-03-01T00:00:00\", \"Total\": 35.54420195544847}, {\"dt\": \"2015-02-01T00:00:00\", \"Total\": -26.41518172037648}, {\"dt\": \"2015-01-01T00:00:00\", \"Total\": -19.89936365603109}, {\"dt\": \"2014-12-01T00:00:00\", \"Total\": -4.897493159504263}, {\"dt\": \"2014-11-01T00:00:00\", \"Total\": -6.1618624525777825}, {\"dt\": \"2014-10-01T00:00:00\", \"Total\": -5.96371190822974}, {\"dt\": \"2014-09-01T00:00:00\", \"Total\": -3.9432662623698933}, {\"dt\": \"2014-08-01T00:00:00\", \"Total\": -18.555905476002344}, {\"dt\": \"2014-07-01T00:00:00\", \"Total\": -15.5285442125622}, {\"dt\": \"2014-06-01T00:00:00\", \"Total\": 4.608127534821405}, {\"dt\": \"2014-05-01T00:00:00\", \"Total\": -5.626288862652496}, {\"dt\": \"2014-04-01T00:00:00\", \"Total\": -7.321504082230101}, {\"dt\": \"2014-03-01T00:00:00\", \"Total\": -24.26263799747336}, {\"dt\": \"2014-02-01T00:00:00\", \"Total\": 25.18893090042942}, {\"dt\": \"2014-01-01T00:00:00\", \"Total\": 23.14233160259842}, {\"dt\": \"2013-12-01T00:00:00\", \"Total\": 2.680713705206106}, {\"dt\": \"2013-11-01T00:00:00\", \"Total\": -2.048961847866082}, {\"dt\": \"2013-10-01T00:00:00\", \"Total\": -1.1161062693714863}, {\"dt\": \"2013-09-01T00:00:00\", \"Total\": -6.773414463352556}, {\"dt\": \"2013-08-01T00:00:00\", \"Total\": 9.98267266696098}, {\"dt\": \"2013-07-01T00:00:00\", \"Total\": -3.5835077007512095}, {\"dt\": \"2013-06-01T00:00:00\", \"Total\": -7.377214319058501}, {\"dt\": \"2013-05-01T00:00:00\", \"Total\": -2.6556732259232163}, {\"dt\": \"2013-04-01T00:00:00\", \"Total\": -8.840856165645627}, {\"dt\": \"2013-03-01T00:00:00\", \"Total\": 1.9886464840352946}, {\"dt\": \"2013-02-01T00:00:00\", \"Total\": 2.6671926028621007}, {\"dt\": \"2013-01-01T00:00:00\", \"Total\": 1.3952019724552178}, {\"dt\": \"2012-12-01T00:00:00\", \"Total\": -3.832649718513226}, {\"dt\": \"2012-11-01T00:00:00\", \"Total\": -2.4729678247328413}, {\"dt\": \"2012-10-01T00:00:00\", \"Total\": -8.011940981991394}, {\"dt\": \"2012-09-01T00:00:00\", \"Total\": -12.790360986111725}, {\"dt\": \"2012-08-01T00:00:00\", \"Total\": -13.778851706827943}, {\"dt\": \"2012-07-01T00:00:00\", \"Total\": -7.058413351216542}, {\"dt\": \"2012-06-01T00:00:00\", \"Total\": -1.7891121815956867}, {\"dt\": \"2012-05-01T00:00:00\", \"Total\": -14.684332097301523}, {\"dt\": \"2012-04-01T00:00:00\", \"Total\": -11.079304821893333}, {\"dt\": \"2012-03-01T00:00:00\", \"Total\": -5.159040803453474}, {\"dt\": \"2012-02-01T00:00:00\", \"Total\": -26.814849133750307}, {\"dt\": \"2012-01-01T00:00:00\", \"Total\": -14.888030686435572}, {\"dt\": \"2011-12-01T00:00:00\", \"Total\": -8.958080411340429}, {\"dt\": \"2011-11-01T00:00:00\", \"Total\": -17.215078675026508}, {\"dt\": \"2011-10-01T00:00:00\", \"Total\": -8.042043095304097}, {\"dt\": \"2011-09-01T00:00:00\", \"Total\": 2.9598453185422535}, {\"dt\": \"2011-08-01T00:00:00\", \"Total\": -1.3830286413528459}, {\"dt\": \"2011-07-01T00:00:00\", \"Total\": 9.65384718442217}, {\"dt\": \"2011-06-01T00:00:00\", \"Total\": -0.19626944012791636}, {\"dt\": \"2011-05-01T00:00:00\", \"Total\": 7.790645360841308}, {\"dt\": \"2011-04-01T00:00:00\", \"Total\": 14.976694644639332}, {\"dt\": \"2011-03-01T00:00:00\", \"Total\": -10.692389349855935}, {\"dt\": \"2011-02-01T00:00:00\", \"Total\": 17.9487839336677}, {\"dt\": \"2011-01-01T00:00:00\", \"Total\": 4.061136136574772}, {\"dt\": \"2010-12-01T00:00:00\", \"Total\": 2.6212682176866453}, {\"dt\": \"2010-11-01T00:00:00\", \"Total\": 21.40249325368955}, {\"dt\": \"2010-10-01T00:00:00\", \"Total\": 25.828386289768602}, {\"dt\": \"2010-09-01T00:00:00\", \"Total\": 9.03210508844312}, {\"dt\": \"2010-08-01T00:00:00\", \"Total\": 14.008012255354728}, {\"dt\": \"2010-07-01T00:00:00\", \"Total\": 2.6102847488157277}, {\"dt\": \"2010-06-01T00:00:00\", \"Total\": -6.16469620346799}, {\"dt\": \"2010-05-01T00:00:00\", \"Total\": -2.2296298918724533}, {\"dt\": \"2010-04-01T00:00:00\", \"Total\": -8.667269201077033}, {\"dt\": \"2010-03-01T00:00:00\", \"Total\": 2.556551481557845}, {\"dt\": \"2010-02-01T00:00:00\", \"Total\": -9.862197165398312}, {\"dt\": \"2010-01-01T00:00:00\", \"Total\": -9.717660434562914}, {\"dt\": \"2009-12-01T00:00:00\", \"Total\": -10.715234344395586}, {\"dt\": \"2009-11-01T00:00:00\", \"Total\": -19.73036340221419}, {\"dt\": \"2009-10-01T00:00:00\", \"Total\": -26.27077626091675}, {\"dt\": \"2009-09-01T00:00:00\", \"Total\": -23.38697611301519}, {\"dt\": \"2009-08-01T00:00:00\", \"Total\": -19.25738377288454}, {\"dt\": \"2009-07-01T00:00:00\", \"Total\": -26.343426645868806}, {\"dt\": \"2009-06-01T00:00:00\", \"Total\": -20.525475870025}, {\"dt\": \"2009-05-01T00:00:00\", \"Total\": -20.041355783615867}, {\"dt\": \"2009-04-01T00:00:00\", \"Total\": -15.741177877330381}, {\"dt\": \"2009-03-01T00:00:00\", \"Total\": -11.505674426525758}, {\"dt\": \"2009-02-01T00:00:00\", \"Total\": -23.01722927669957}, {\"dt\": \"2009-01-01T00:00:00\", \"Total\": -6.881916022434442}, {\"dt\": \"2008-12-01T00:00:00\", \"Total\": -7.981174436099881}, {\"dt\": \"2008-11-01T00:00:00\", \"Total\": 24.390886107584265}, {\"dt\": \"2008-10-01T00:00:00\", \"Total\": 31.557320884668606}, {\"dt\": \"2008-09-01T00:00:00\", \"Total\": 25.995085883496373}, {\"dt\": \"2008-08-01T00:00:00\", \"Total\": 15.996505445545562}, {\"dt\": \"2008-07-01T00:00:00\", \"Total\": 30.1815418936614}, {\"dt\": \"2008-06-01T00:00:00\", \"Total\": 40.23931466782147}, {\"dt\": \"2008-05-01T00:00:00\", \"Total\": 26.088593867311793}, {\"dt\": \"2008-04-01T00:00:00\", \"Total\": 36.18257667510796}, {\"dt\": \"2008-03-01T00:00:00\", \"Total\": 33.138927274136606}, {\"dt\": \"2008-02-01T00:00:00\", \"Total\": 66.55001540677017}, {\"dt\": \"2008-01-01T00:00:00\", \"Total\": 30.565621908613938}, {\"dt\": \"2007-12-01T00:00:00\", \"Total\": 33.820293711303286}, {\"dt\": \"2007-11-01T00:00:00\", \"Total\": 9.713180700284685}, {\"dt\": \"2007-10-01T00:00:00\", \"Total\": 8.297196352755165}, {\"dt\": \"2007-09-01T00:00:00\", \"Total\": 17.89210164426669}, {\"dt\": \"2007-08-01T00:00:00\", \"Total\": 14.966728177598831}, {\"dt\": \"2007-07-01T00:00:00\", \"Total\": 14.85267951385747}, {\"dt\": \"2007-06-01T00:00:00\", \"Total\": 14.239703282011472}, {\"dt\": \"2007-05-01T00:00:00\", \"Total\": 14.601775766477454}, {\"dt\": \"2007-04-01T00:00:00\", \"Total\": 4.069459291932054}, {\"dt\": \"2007-03-01T00:00:00\", \"Total\": 8.63115672315975}, {\"dt\": \"2007-02-01T00:00:00\", \"Total\": 2.1719882423791637}, {\"dt\": \"2007-01-01T00:00:00\", \"Total\": 13.451246974155161}, {\"dt\": \"2006-12-01T00:00:00\", \"Total\": -0.022247134377906264}, {\"dt\": \"2006-11-01T00:00:00\", \"Total\": 7.094600118376859}, {\"dt\": \"2006-10-01T00:00:00\", \"Total\": 0.9545854387323027}, {\"dt\": \"2006-09-01T00:00:00\", \"Total\": -6.01887453008596}, {\"dt\": \"2006-08-01T00:00:00\", \"Total\": 2.607371288212268}, {\"dt\": \"2006-07-01T00:00:00\", \"Total\": -9.962961132357574}, {\"dt\": \"2006-06-01T00:00:00\", \"Total\": -6.828103693793142}, {\"dt\": \"2006-05-01T00:00:00\", \"Total\": 6.236639307487257}, {\"dt\": \"2006-04-01T00:00:00\", \"Total\": 6.953481747477275}, {\"dt\": \"2006-03-01T00:00:00\", \"Total\": 3.7122047949850856}, {\"dt\": \"2006-02-01T00:00:00\", \"Total\": -4.756062408999195}, {\"dt\": \"2006-01-01T00:00:00\", \"Total\": -2.0312138083314557}, {\"dt\": \"2005-12-01T00:00:00\", \"Total\": -5.120587176888424}, {\"dt\": \"2005-11-01T00:00:00\", \"Total\": -6.771481396098}, {\"dt\": \"2005-10-01T00:00:00\", \"Total\": -7.650839216505867}, {\"dt\": \"2005-09-01T00:00:00\", \"Total\": -0.7271378585057997}, {\"dt\": \"2005-08-01T00:00:00\", \"Total\": -8.843240136403097}, {\"dt\": \"2005-07-01T00:00:00\", \"Total\": -1.6511558090663514}, {\"dt\": \"2005-06-01T00:00:00\", \"Total\": -6.547466620853736}, {\"dt\": \"2005-05-01T00:00:00\", \"Total\": -12.293771135256327}, {\"dt\": \"2005-04-01T00:00:00\", \"Total\": -13.076582858766251}, {\"dt\": \"2005-03-01T00:00:00\", \"Total\": -16.959375902094465}, {\"dt\": \"2005-02-01T00:00:00\", \"Total\": -3.4025654555895235}, {\"dt\": \"2005-01-01T00:00:00\", \"Total\": -12.05581106384448}, {\"dt\": \"2004-12-01T00:00:00\", \"Total\": 1.0200230132729526}, {\"dt\": \"2004-11-01T00:00:00\", \"Total\": -4.590235882117899}, {\"dt\": \"2004-10-01T00:00:00\", \"Total\": -7.201218091656402}, {\"dt\": \"2004-09-01T00:00:00\", \"Total\": -18.990477969551133}, {\"dt\": \"2004-08-01T00:00:00\", \"Total\": -15.34985155055325}, {\"dt\": \"2004-07-01T00:00:00\", \"Total\": -7.6115471829757535}, {\"dt\": \"2004-06-01T00:00:00\", \"Total\": -14.308953805384627}, {\"dt\": \"2004-05-01T00:00:00\", \"Total\": -17.146291464118423}, {\"dt\": \"2004-04-01T00:00:00\", \"Total\": -18.094673918897087}, {\"dt\": \"2004-03-01T00:00:00\", \"Total\": -3.781176303970435}, {\"dt\": \"2004-02-01T00:00:00\", \"Total\": -36.7878696590852}, {\"dt\": \"2004-01-01T00:00:00\", \"Total\": -26.028606918800545}, {\"dt\": \"2003-12-01T00:00:00\", \"Total\": -26.357286533330672}, {\"dt\": \"2003-11-01T00:00:00\", \"Total\": -27.07126845561555}, {\"dt\": \"2003-10-01T00:00:00\", \"Total\": -21.669102418118403}, {\"dt\": \"2003-09-01T00:00:00\", \"Total\": -23.173657297279803}, {\"dt\": \"2003-08-01T00:00:00\", \"Total\": -24.992513015834017}, {\"dt\": \"2003-07-01T00:00:00\", \"Total\": -18.68678763666709}, {\"dt\": \"2003-06-01T00:00:00\", \"Total\": -21.773413371436433}, {\"dt\": \"2003-05-01T00:00:00\", \"Total\": -17.0166805903053}, {\"dt\": \"2003-04-01T00:00:00\", \"Total\": -9.131389989139826}, {\"dt\": \"2003-03-01T00:00:00\", \"Total\": -20.48760253167945}, {\"dt\": \"2003-02-01T00:00:00\", \"Total\": 2.4962748094513376}, {\"dt\": \"2003-01-01T00:00:00\", \"Total\": -11.303706533388514}, {\"dt\": \"2002-12-01T00:00:00\", \"Total\": -10.851409163565428}, {\"dt\": \"2002-11-01T00:00:00\", \"Total\": -21.121552955685317}, {\"dt\": \"2002-10-01T00:00:00\", \"Total\": -31.020731461641304}, {\"dt\": \"2002-09-01T00:00:00\", \"Total\": -10.392537340940622}, {\"dt\": \"2002-08-01T00:00:00\", \"Total\": 9.34666267400701}, {\"dt\": \"2002-07-01T00:00:00\", \"Total\": 4.929577464788726}, {\"dt\": \"2002-06-01T00:00:00\", \"Total\": 8.398358670792415}, {\"dt\": \"2002-05-01T00:00:00\", \"Total\": 10.208143444923357}, {\"dt\": \"2002-04-01T00:00:00\", \"Total\": 2.3488844420713306}, {\"dt\": \"2002-03-01T00:00:00\", \"Total\": -3.625481022741295}, {\"dt\": \"2002-02-01T00:00:00\", \"Total\": 12.515886251340635}, {\"dt\": \"2002-01-01T00:00:00\", \"Total\": 3.080341921243268}, {\"dt\": \"2001-12-01T00:00:00\", \"Total\": -0.6683021974682402}, {\"dt\": \"2001-11-01T00:00:00\", \"Total\": 11.020769866536973}, {\"dt\": \"2001-10-01T00:00:00\", \"Total\": 44.32194558572671}, {\"dt\": \"2001-09-01T00:00:00\", \"Total\": 14.115337942463245}, {\"dt\": \"2001-08-01T00:00:00\", \"Total\": -5.002855564605979}, {\"dt\": \"2001-07-01T00:00:00\", \"Total\": -16.1279615504617}, {\"dt\": \"2001-06-01T00:00:00\", \"Total\": -13.442026650627604}, {\"dt\": \"2001-05-01T00:00:00\", \"Total\": -14.12531276794079}, {\"dt\": \"2001-04-01T00:00:00\", \"Total\": -10.646513895660659}, {\"dt\": \"2001-03-01T00:00:00\", \"Total\": 4.852359970431253}, {\"dt\": \"2001-02-01T00:00:00\", \"Total\": -14.124903921120268}, {\"dt\": \"2001-01-01T00:00:00\", \"Total\": 2.8400237925981786}, {\"dt\": \"2000-12-01T00:00:00\", \"Total\": -2.2676008154796534}, {\"dt\": \"2000-11-01T00:00:00\", \"Total\": 10.430949917357601}, {\"dt\": \"2000-10-01T00:00:00\", \"Total\": -0.44519256418039665}, {\"dt\": \"2000-09-01T00:00:00\", \"Total\": -0.20237963432626627}, {\"dt\": \"2000-08-01T00:00:00\", \"Total\": 7.115472746894258}, {\"dt\": \"2000-07-01T00:00:00\", \"Total\": 8.164745984507915}, {\"dt\": \"2000-06-01T00:00:00\", \"Total\": 3.3742534288503157}, {\"dt\": \"2000-05-01T00:00:00\", \"Total\": 10.66457728009751}, {\"dt\": \"2000-04-01T00:00:00\", \"Total\": -0.017188318491356824}, {\"dt\": \"2000-03-01T00:00:00\", \"Total\": -2.641008773755893}, {\"dt\": \"2000-02-01T00:00:00\", \"Total\": 7.540293604352732}, {\"dt\": \"2000-01-01T00:00:00\", \"Total\": -4.313932393428377}, {\"dt\": \"1999-12-01T00:00:00\", \"Total\": 3.941489513076646}, {\"dt\": \"1999-11-01T00:00:00\", \"Total\": -3.308858424373995}, {\"dt\": \"1999-10-01T00:00:00\", \"Total\": -8.433657017730267}, {\"dt\": \"1999-09-01T00:00:00\", \"Total\": 3.900225236265875}, {\"dt\": \"1999-08-01T00:00:00\", \"Total\": -8.1510600564474}, {\"dt\": \"1999-07-01T00:00:00\", \"Total\": -15.12711626693074}, {\"dt\": \"1999-06-01T00:00:00\", \"Total\": -0.24540204590618453}, {\"dt\": \"1999-05-01T00:00:00\", \"Total\": -3.0250361381806035}, {\"dt\": \"1999-04-01T00:00:00\", \"Total\": -7.307382696846898}, {\"dt\": \"1999-03-01T00:00:00\", \"Total\": -0.7954065981685687}, {\"dt\": \"1999-02-01T00:00:00\", \"Total\": -3.3074196935707123}, {\"dt\": \"1999-01-01T00:00:00\", \"Total\": -5.8473859109579145}, {\"dt\": \"1998-12-01T00:00:00\", \"Total\": -7.828277297119701}, {\"dt\": \"1998-11-01T00:00:00\", \"Total\": -7.3395234343734295}, {\"dt\": \"1998-10-01T00:00:00\", \"Total\": -12.350032793501843}, {\"dt\": \"1998-09-01T00:00:00\", \"Total\": -7.440590002731495}, {\"dt\": \"1998-08-01T00:00:00\", \"Total\": -6.684113647462464}, {\"dt\": \"1998-07-01T00:00:00\", \"Total\": 8.8380594376956}, {\"dt\": \"1998-06-01T00:00:00\", \"Total\": -5.0642422621833045}, {\"dt\": \"1998-05-01T00:00:00\", \"Total\": -15.932384711522129}, {\"dt\": \"1998-04-01T00:00:00\", \"Total\": -0.8131038665120105}, {\"dt\": \"1998-03-01T00:00:00\", \"Total\": -4.207210883571766}, {\"dt\": \"1998-02-01T00:00:00\", \"Total\": -14.794418271737486}, {\"dt\": \"1998-01-01T00:00:00\", \"Total\": -9.720273588214656}, {\"dt\": \"1997-12-01T00:00:00\", \"Total\": -10.59147833939308}, {\"dt\": \"1997-11-01T00:00:00\", \"Total\": -15.523671636682678}, {\"dt\": \"1997-10-01T00:00:00\", \"Total\": -9.35526762638792}, {\"dt\": \"1997-09-01T00:00:00\", \"Total\": -10.805213201483044}, {\"dt\": \"1997-08-01T00:00:00\", \"Total\": -20.156730137004686}, {\"dt\": \"1997-07-01T00:00:00\", \"Total\": -16.823777309526456}, {\"dt\": \"1997-06-01T00:00:00\", \"Total\": -12.789407271375296}, {\"dt\": \"1997-05-01T00:00:00\", \"Total\": -16.163730063717697}, {\"dt\": \"1997-04-01T00:00:00\", \"Total\": -17.805202360176185}, {\"dt\": \"1997-03-01T00:00:00\", \"Total\": -17.82356435287129}, {\"dt\": \"1997-02-01T00:00:00\", \"Total\": -9.378801923411162}, {\"dt\": \"1997-01-01T00:00:00\", \"Total\": -15.39125970430909}, {\"dt\": \"1996-12-01T00:00:00\", \"Total\": -9.837802998086332}, {\"dt\": \"1996-11-01T00:00:00\", \"Total\": -18.89855687606112}, {\"dt\": \"1996-10-01T00:00:00\", \"Total\": -9.554985458286236}, {\"dt\": \"1996-09-01T00:00:00\", \"Total\": -16.525100009023376}, {\"dt\": \"1996-08-01T00:00:00\", \"Total\": -9.62528738722992}, {\"dt\": \"1996-07-01T00:00:00\", \"Total\": -15.254920634920632}, {\"dt\": \"1996-06-01T00:00:00\", \"Total\": -15.277961689635012}, {\"dt\": \"1996-05-01T00:00:00\", \"Total\": -13.666790160313935}, {\"dt\": \"1996-04-01T00:00:00\", \"Total\": -6.786454534293373}, {\"dt\": \"1996-03-01T00:00:00\", \"Total\": -15.961478085002302}, {\"dt\": \"1996-02-01T00:00:00\", \"Total\": -9.337765808673693}, {\"dt\": \"1996-01-01T00:00:00\", \"Total\": -6.5472212541768275}, {\"dt\": \"1995-12-01T00:00:00\", \"Total\": -13.823738581551403}, {\"dt\": \"1995-11-01T00:00:00\", \"Total\": -3.615905225220939}, {\"dt\": \"1995-10-01T00:00:00\", \"Total\": -4.660151231122434}, {\"dt\": \"1995-09-01T00:00:00\", \"Total\": -12.638679201092495}, {\"dt\": \"1995-08-01T00:00:00\", \"Total\": -1.7621767978815206}, {\"dt\": \"1995-07-01T00:00:00\", \"Total\": -4.088452014819421}, {\"dt\": \"1995-06-01T00:00:00\", \"Total\": -13.199707232277646}, {\"dt\": \"1995-05-01T00:00:00\", \"Total\": 0.14790372509072558}, {\"dt\": \"1995-04-01T00:00:00\", \"Total\": -12.089951189277137}, {\"dt\": \"1995-03-01T00:00:00\", \"Total\": -10.322328410078196}, {\"dt\": \"1995-02-01T00:00:00\", \"Total\": -4.760603603285974}]}}, {\"mode\": \"vega-lite\"});\n",
       "</script>"
      ],
      "text/plain": [
       "alt.Chart(...)"
      ]
     },
     "execution_count": 11,
     "metadata": {},
     "output_type": "execute_result"
    }
   ],
   "source": [
    "doYoyChart(df_lb_raw, location='Long Beach', metric='Total')"
   ]
  },
  {
   "cell_type": "code",
   "execution_count": 12,
   "metadata": {},
   "outputs": [
    {
     "data": {
      "text/html": [
       "\n",
       "<div id=\"altair-viz-d2114062c1d04be5b08011ef11ce026e\"></div>\n",
       "<script type=\"text/javascript\">\n",
       "  (function(spec, embedOpt){\n",
       "    const outputDiv = document.getElementById(\"altair-viz-d2114062c1d04be5b08011ef11ce026e\");\n",
       "    const paths = {\n",
       "      \"vega\": \"https://cdn.jsdelivr.net/npm//vega@5?noext\",\n",
       "      \"vega-lib\": \"https://cdn.jsdelivr.net/npm//vega-lib?noext\",\n",
       "      \"vega-lite\": \"https://cdn.jsdelivr.net/npm//vega-lite@4.0.2?noext\",\n",
       "      \"vega-embed\": \"https://cdn.jsdelivr.net/npm//vega-embed@6?noext\",\n",
       "    };\n",
       "\n",
       "    function loadScript(lib) {\n",
       "      return new Promise(function(resolve, reject) {\n",
       "        var s = document.createElement('script');\n",
       "        s.src = paths[lib];\n",
       "        s.async = true;\n",
       "        s.onload = () => resolve(paths[lib]);\n",
       "        s.onerror = () => reject(`Error loading script: ${paths[lib]}`);\n",
       "        document.getElementsByTagName(\"head\")[0].appendChild(s);\n",
       "      });\n",
       "    }\n",
       "\n",
       "    function showError(err) {\n",
       "      outputDiv.innerHTML = `<div class=\"error\" style=\"color:red;\">${err}</div>`;\n",
       "      throw err;\n",
       "    }\n",
       "\n",
       "    function displayChart(vegaEmbed) {\n",
       "      vegaEmbed(outputDiv, spec, embedOpt)\n",
       "        .catch(err => showError(`Javascript Error: ${err.message}<br>This usually means there's a typo in your chart specification. See the javascript console for the full traceback.`));\n",
       "    }\n",
       "\n",
       "    if(typeof define === \"function\" && define.amd) {\n",
       "      requirejs.config({paths});\n",
       "      require([\"vega-embed\"], displayChart, err => showError(`Error loading script: ${err.message}`));\n",
       "    } else if (typeof vegaEmbed === \"function\") {\n",
       "      displayChart(vegaEmbed);\n",
       "    } else {\n",
       "      loadScript(\"vega\")\n",
       "        .then(() => loadScript(\"vega-lite\"))\n",
       "        .then(() => loadScript(\"vega-embed\"))\n",
       "        .catch(showError)\n",
       "        .then(() => displayChart(vegaEmbed));\n",
       "    }\n",
       "  })({\"config\": {\"view\": {\"continuousWidth\": 400, \"continuousHeight\": 300}}, \"data\": {\"name\": \"data-db5ed17d9b0955ab19ea965a8aaf4ea7\"}, \"mark\": {\"type\": \"bar\", \"color\": \"blue\", \"width\": 2}, \"encoding\": {\"tooltip\": [{\"type\": \"temporal\", \"field\": \"dt\", \"format\": \"%b %Y\"}, {\"type\": \"quantitative\", \"field\": \"Empties\"}], \"x\": {\"type\": \"temporal\", \"axis\": {\"title\": \"\"}, \"field\": \"dt\"}, \"y\": {\"type\": \"quantitative\", \"axis\": {\"title\": \"Year-over-Year Volume Growth [%]\"}, \"field\": \"Empties\"}}, \"height\": 400, \"title\": \"Port of Long Beach Empties Container Volume Growth\", \"width\": 750, \"$schema\": \"https://vega.github.io/schema/vega-lite/v4.0.2.json\", \"datasets\": {\"data-db5ed17d9b0955ab19ea965a8aaf4ea7\": [{\"dt\": \"2020-01-01T00:00:00\", \"Empties\": null}, {\"dt\": \"2019-12-01T00:00:00\", \"Empties\": null}, {\"dt\": \"2019-11-01T00:00:00\", \"Empties\": null}, {\"dt\": \"2019-10-01T00:00:00\", \"Empties\": null}, {\"dt\": \"2019-09-01T00:00:00\", \"Empties\": null}, {\"dt\": \"2019-08-01T00:00:00\", \"Empties\": null}, {\"dt\": \"2019-07-01T00:00:00\", \"Empties\": null}, {\"dt\": \"2019-06-01T00:00:00\", \"Empties\": null}, {\"dt\": \"2019-05-01T00:00:00\", \"Empties\": null}, {\"dt\": \"2019-04-01T00:00:00\", \"Empties\": null}, {\"dt\": \"2019-03-01T00:00:00\", \"Empties\": null}, {\"dt\": \"2019-02-01T00:00:00\", \"Empties\": null}, {\"dt\": \"2019-01-01T00:00:00\", \"Empties\": 3.8013100017287416}, {\"dt\": \"2018-12-01T00:00:00\", \"Empties\": 17.810520873723657}, {\"dt\": \"2018-11-01T00:00:00\", \"Empties\": 1.7437920783422323}, {\"dt\": \"2018-10-01T00:00:00\", \"Empties\": 0.8005352071652316}, {\"dt\": \"2018-09-01T00:00:00\", \"Empties\": -2.8310338648987687}, {\"dt\": \"2018-08-01T00:00:00\", \"Empties\": 0.3375909877079808}, {\"dt\": \"2018-07-01T00:00:00\", \"Empties\": 12.297168876443898}, {\"dt\": \"2018-06-01T00:00:00\", \"Empties\": 10.01709821555088}, {\"dt\": \"2018-05-01T00:00:00\", \"Empties\": 13.22016999119886}, {\"dt\": \"2018-04-01T00:00:00\", \"Empties\": -11.892080349719746}, {\"dt\": \"2018-03-01T00:00:00\", \"Empties\": -5.352001193029954}, {\"dt\": \"2018-02-01T00:00:00\", \"Empties\": 0.08648820735945861}, {\"dt\": \"2018-01-01T00:00:00\", \"Empties\": -1.6140821613619516}, {\"dt\": \"2017-12-01T00:00:00\", \"Empties\": -16.2491184076483}, {\"dt\": \"2017-11-01T00:00:00\", \"Empties\": -10.257649731715567}, {\"dt\": \"2017-10-01T00:00:00\", \"Empties\": -7.8704393485847906}, {\"dt\": \"2017-09-01T00:00:00\", \"Empties\": -5.558079183963516}, {\"dt\": \"2017-08-01T00:00:00\", \"Empties\": 1.107075697798754}, {\"dt\": \"2017-07-01T00:00:00\", \"Empties\": -2.5256250707093586}, {\"dt\": \"2017-06-01T00:00:00\", \"Empties\": -11.948429973467967}, {\"dt\": \"2017-05-01T00:00:00\", \"Empties\": 4.864670932109871}, {\"dt\": \"2017-04-01T00:00:00\", \"Empties\": -6.524253640481181}, {\"dt\": \"2017-03-01T00:00:00\", \"Empties\": -17.938975244674726}, {\"dt\": \"2017-02-01T00:00:00\", \"Empties\": -31.748202811883708}, {\"dt\": \"2017-01-01T00:00:00\", \"Empties\": -22.196726398991874}, {\"dt\": \"2016-12-01T00:00:00\", \"Empties\": -27.767147448643037}, {\"dt\": \"2016-11-01T00:00:00\", \"Empties\": -14.533919861148515}, {\"dt\": \"2016-10-01T00:00:00\", \"Empties\": -22.409644458601854}, {\"dt\": \"2016-09-01T00:00:00\", \"Empties\": -31.673214753434763}, {\"dt\": \"2016-08-01T00:00:00\", \"Empties\": -26.9922961207093}, {\"dt\": \"2016-07-01T00:00:00\", \"Empties\": -21.691876282533407}, {\"dt\": \"2016-06-01T00:00:00\", \"Empties\": -21.151661425193204}, {\"dt\": \"2016-05-01T00:00:00\", \"Empties\": -11.184087751674376}, {\"dt\": \"2016-04-01T00:00:00\", \"Empties\": -22.681003210743288}, {\"dt\": \"2016-03-01T00:00:00\", \"Empties\": -3.990015729656682}, {\"dt\": \"2016-02-01T00:00:00\", \"Empties\": 10.711345170962083}, {\"dt\": \"2016-01-01T00:00:00\", \"Empties\": -8.767413048076634}, {\"dt\": \"2015-12-01T00:00:00\", \"Empties\": 12.908929577647243}, {\"dt\": \"2015-11-01T00:00:00\", \"Empties\": 31.88142940175489}, {\"dt\": \"2015-10-01T00:00:00\", \"Empties\": 16.01369317930612}, {\"dt\": \"2015-09-01T00:00:00\", \"Empties\": 37.35816443168196}, {\"dt\": \"2015-08-01T00:00:00\", \"Empties\": 29.01402998307909}, {\"dt\": \"2015-07-01T00:00:00\", \"Empties\": 18.84497038613633}, {\"dt\": \"2015-06-01T00:00:00\", \"Empties\": -2.167406656195503}, {\"dt\": \"2015-05-01T00:00:00\", \"Empties\": 0.4348257486882279}, {\"dt\": \"2015-04-01T00:00:00\", \"Empties\": 34.71753101810127}, {\"dt\": \"2015-03-01T00:00:00\", \"Empties\": 42.47134835781863}, {\"dt\": \"2015-02-01T00:00:00\", \"Empties\": -31.284904442511152}, {\"dt\": \"2015-01-01T00:00:00\", \"Empties\": -22.25585924561798}, {\"dt\": \"2014-12-01T00:00:00\", \"Empties\": -8.663553760726906}, {\"dt\": \"2014-11-01T00:00:00\", \"Empties\": -16.332143919119837}, {\"dt\": \"2014-10-01T00:00:00\", \"Empties\": -17.203194669018572}, {\"dt\": \"2014-09-01T00:00:00\", \"Empties\": -12.715906553816803}, {\"dt\": \"2014-08-01T00:00:00\", \"Empties\": -29.642589231699933}, {\"dt\": \"2014-07-01T00:00:00\", \"Empties\": -19.52438677621634}, {\"dt\": \"2014-06-01T00:00:00\", \"Empties\": -2.38987668211037}, {\"dt\": \"2014-05-01T00:00:00\", \"Empties\": -18.427689768593314}, {\"dt\": \"2014-04-01T00:00:00\", \"Empties\": -20.19845190011129}, {\"dt\": \"2014-03-01T00:00:00\", \"Empties\": -46.06941752552274}, {\"dt\": \"2014-02-01T00:00:00\", \"Empties\": 4.072860191339678}, {\"dt\": \"2014-01-01T00:00:00\", \"Empties\": 8.262540366902126}, {\"dt\": \"2013-12-01T00:00:00\", \"Empties\": -10.27853666195635}, {\"dt\": \"2013-11-01T00:00:00\", \"Empties\": -23.201751602462394}, {\"dt\": \"2013-10-01T00:00:00\", \"Empties\": -10.065622493128712}, {\"dt\": \"2013-09-01T00:00:00\", \"Empties\": -16.021184075899917}, {\"dt\": \"2013-08-01T00:00:00\", \"Empties\": 2.050544794188869}, {\"dt\": \"2013-07-01T00:00:00\", \"Empties\": -16.34587370365549}, {\"dt\": \"2013-06-01T00:00:00\", \"Empties\": -8.547672701841636}, {\"dt\": \"2013-05-01T00:00:00\", \"Empties\": -6.661774763478856}, {\"dt\": \"2013-04-01T00:00:00\", \"Empties\": -8.124857991271849}, {\"dt\": \"2013-03-01T00:00:00\", \"Empties\": 5.686027188820142}, {\"dt\": \"2013-02-01T00:00:00\", \"Empties\": 9.09153340527813}, {\"dt\": \"2013-01-01T00:00:00\", \"Empties\": 6.7473122510979255}, {\"dt\": \"2012-12-01T00:00:00\", \"Empties\": -9.715173702741865}, {\"dt\": \"2012-11-01T00:00:00\", \"Empties\": 14.590409136359494}, {\"dt\": \"2012-10-01T00:00:00\", \"Empties\": -12.182139880386622}, {\"dt\": \"2012-09-01T00:00:00\", \"Empties\": -8.612251396609372}, {\"dt\": \"2012-08-01T00:00:00\", \"Empties\": -5.469239739277554}, {\"dt\": \"2012-07-01T00:00:00\", \"Empties\": 1.2812152649129382}, {\"dt\": \"2012-06-01T00:00:00\", \"Empties\": -0.031155294983997717}, {\"dt\": \"2012-05-01T00:00:00\", \"Empties\": -9.269789416640585}, {\"dt\": \"2012-04-01T00:00:00\", \"Empties\": -7.476356566009734}, {\"dt\": \"2012-03-01T00:00:00\", \"Empties\": -14.172997139447208}, {\"dt\": \"2012-02-01T00:00:00\", \"Empties\": -30.65640260078959}, {\"dt\": \"2012-01-01T00:00:00\", \"Empties\": -18.738341529591317}, {\"dt\": \"2011-12-01T00:00:00\", \"Empties\": 2.4236315707861777}, {\"dt\": \"2011-11-01T00:00:00\", \"Empties\": -15.537943418405241}, {\"dt\": \"2011-10-01T00:00:00\", \"Empties\": 7.4763554016251454}, {\"dt\": \"2011-09-01T00:00:00\", \"Empties\": 10.40101199854564}, {\"dt\": \"2011-08-01T00:00:00\", \"Empties\": 5.141789608037484}, {\"dt\": \"2011-07-01T00:00:00\", \"Empties\": 13.875577082068213}, {\"dt\": \"2011-06-01T00:00:00\", \"Empties\": 10.896418857660928}, {\"dt\": \"2011-05-01T00:00:00\", \"Empties\": 10.555892051955041}, {\"dt\": \"2011-04-01T00:00:00\", \"Empties\": 8.114584869488283}, {\"dt\": \"2011-03-01T00:00:00\", \"Empties\": -1.487678096478351}, {\"dt\": \"2011-02-01T00:00:00\", \"Empties\": 33.25076516055403}, {\"dt\": \"2011-01-01T00:00:00\", \"Empties\": -4.760651810989325}, {\"dt\": \"2010-12-01T00:00:00\", \"Empties\": -5.165548877416615}, {\"dt\": \"2010-11-01T00:00:00\", \"Empties\": 20.55822610804212}, {\"dt\": \"2010-10-01T00:00:00\", \"Empties\": 23.84346047779877}, {\"dt\": \"2010-09-01T00:00:00\", \"Empties\": 11.058203599387983}, {\"dt\": \"2010-08-01T00:00:00\", \"Empties\": 17.815047404614326}, {\"dt\": \"2010-07-01T00:00:00\", \"Empties\": 7.826835599187887}, {\"dt\": \"2010-06-01T00:00:00\", \"Empties\": -9.34609881968218}, {\"dt\": \"2010-05-01T00:00:00\", \"Empties\": -7.509511489879772}, {\"dt\": \"2010-04-01T00:00:00\", \"Empties\": -3.104006820119354}, {\"dt\": \"2010-03-01T00:00:00\", \"Empties\": -4.0733562618330055}, {\"dt\": \"2010-02-01T00:00:00\", \"Empties\": -20.186477464062214}, {\"dt\": \"2010-01-01T00:00:00\", \"Empties\": -6.927759624270024}, {\"dt\": \"2009-12-01T00:00:00\", \"Empties\": -10.947302884692133}, {\"dt\": \"2009-11-01T00:00:00\", \"Empties\": -25.267884333458458}, {\"dt\": \"2009-10-01T00:00:00\", \"Empties\": -33.5968775020016}, {\"dt\": \"2009-09-01T00:00:00\", \"Empties\": -34.449290762615526}, {\"dt\": \"2009-08-01T00:00:00\", \"Empties\": -35.07134921685672}, {\"dt\": \"2009-07-01T00:00:00\", \"Empties\": -38.70198896476113}, {\"dt\": \"2009-06-01T00:00:00\", \"Empties\": -34.5601860006341}, {\"dt\": \"2009-05-01T00:00:00\", \"Empties\": -26.03927569497577}, {\"dt\": \"2009-04-01T00:00:00\", \"Empties\": -14.940303891464824}, {\"dt\": \"2009-03-01T00:00:00\", \"Empties\": -18.241909678022118}, {\"dt\": \"2009-02-01T00:00:00\", \"Empties\": -7.370192424944522}, {\"dt\": \"2009-01-01T00:00:00\", \"Empties\": 12.794661043839618}, {\"dt\": \"2008-12-01T00:00:00\", \"Empties\": 17.333978685453587}, {\"dt\": \"2008-11-01T00:00:00\", \"Empties\": 70.36324523080715}, {\"dt\": \"2008-10-01T00:00:00\", \"Empties\": 60.3353428786737}, {\"dt\": \"2008-09-01T00:00:00\", \"Empties\": 37.66811494491202}, {\"dt\": \"2008-08-01T00:00:00\", \"Empties\": 20.230327316571504}, {\"dt\": \"2008-07-01T00:00:00\", \"Empties\": 34.1339891517779}, {\"dt\": \"2008-06-01T00:00:00\", \"Empties\": 41.20712301630025}, {\"dt\": \"2008-05-01T00:00:00\", \"Empties\": 14.384872080088984}, {\"dt\": \"2008-04-01T00:00:00\", \"Empties\": 16.31912120647925}, {\"dt\": \"2008-03-01T00:00:00\", \"Empties\": 52.99470052994701}, {\"dt\": \"2008-02-01T00:00:00\", \"Empties\": 56.91135041204814}, {\"dt\": \"2008-01-01T00:00:00\", \"Empties\": 25.319201067179687}, {\"dt\": \"2007-12-01T00:00:00\", \"Empties\": 16.062670924174594}, {\"dt\": \"2007-11-01T00:00:00\", \"Empties\": -12.281872847932629}, {\"dt\": \"2007-10-01T00:00:00\", \"Empties\": 3.7547293962822748}, {\"dt\": \"2007-09-01T00:00:00\", \"Empties\": 28.541110426507842}, {\"dt\": \"2007-08-01T00:00:00\", \"Empties\": 39.99041403974486}, {\"dt\": \"2007-07-01T00:00:00\", \"Empties\": 30.399524599786943}, {\"dt\": \"2007-06-01T00:00:00\", \"Empties\": 38.64481990911586}, {\"dt\": \"2007-05-01T00:00:00\", \"Empties\": 58.05294071884239}, {\"dt\": \"2007-04-01T00:00:00\", \"Empties\": 37.74932195100262}, {\"dt\": \"2007-03-01T00:00:00\", \"Empties\": 51.79213310054431}, {\"dt\": \"2007-02-01T00:00:00\", \"Empties\": 24.326931950701812}, {\"dt\": \"2007-01-01T00:00:00\", \"Empties\": 30.208257903807436}, {\"dt\": \"2006-12-01T00:00:00\", \"Empties\": 18.909650964569913}, {\"dt\": \"2006-11-01T00:00:00\", \"Empties\": 35.99657555964233}, {\"dt\": \"2006-10-01T00:00:00\", \"Empties\": 16.487262390786107}, {\"dt\": \"2006-09-01T00:00:00\", \"Empties\": 5.676395398380918}, {\"dt\": \"2006-08-01T00:00:00\", \"Empties\": 16.92143188234798}, {\"dt\": \"2006-07-01T00:00:00\", \"Empties\": -1.6616927035573603}, {\"dt\": \"2006-06-01T00:00:00\", \"Empties\": 7.476861653862432}, {\"dt\": \"2006-05-01T00:00:00\", \"Empties\": 23.420435737622203}, {\"dt\": \"2006-04-01T00:00:00\", \"Empties\": 20.53309749138188}, {\"dt\": \"2006-03-01T00:00:00\", \"Empties\": -1.5709189322179795}, {\"dt\": \"2006-02-01T00:00:00\", \"Empties\": 3.2721726983784283}, {\"dt\": \"2006-01-01T00:00:00\", \"Empties\": 3.3617885048522034}, {\"dt\": \"2005-12-01T00:00:00\", \"Empties\": -3.0072566048388483}, {\"dt\": \"2005-11-01T00:00:00\", \"Empties\": -7.470634591262426}, {\"dt\": \"2005-10-01T00:00:00\", \"Empties\": -3.5995527902002777}, {\"dt\": \"2005-09-01T00:00:00\", \"Empties\": 0.6965093892691288}, {\"dt\": \"2005-08-01T00:00:00\", \"Empties\": -10.580566104886636}, {\"dt\": \"2005-07-01T00:00:00\", \"Empties\": -0.046341559902118856}, {\"dt\": \"2005-06-01T00:00:00\", \"Empties\": -7.401873749597055}, {\"dt\": \"2005-05-01T00:00:00\", \"Empties\": -14.842418018485104}, {\"dt\": \"2005-04-01T00:00:00\", \"Empties\": -14.321980794052902}, {\"dt\": \"2005-03-01T00:00:00\", \"Empties\": -5.385999775036554}, {\"dt\": \"2005-02-01T00:00:00\", \"Empties\": 2.466707615102126}, {\"dt\": \"2005-01-01T00:00:00\", \"Empties\": -5.718282578284728}, {\"dt\": \"2004-12-01T00:00:00\", \"Empties\": 7.554071791359918}, {\"dt\": \"2004-11-01T00:00:00\", \"Empties\": -5.528846153846157}, {\"dt\": \"2004-10-01T00:00:00\", \"Empties\": -7.595996268562644}, {\"dt\": \"2004-09-01T00:00:00\", \"Empties\": -18.62162162162162}, {\"dt\": \"2004-08-01T00:00:00\", \"Empties\": -16.039337588859727}, {\"dt\": \"2004-07-01T00:00:00\", \"Empties\": -6.479518276651685}, {\"dt\": \"2004-06-01T00:00:00\", \"Empties\": -16.490487426162204}, {\"dt\": \"2004-05-01T00:00:00\", \"Empties\": -17.681666773991488}, {\"dt\": \"2004-04-01T00:00:00\", \"Empties\": -16.116570399819974}, {\"dt\": \"2004-03-01T00:00:00\", \"Empties\": -22.01483418864385}, {\"dt\": \"2004-02-01T00:00:00\", \"Empties\": -46.56629233545688}, {\"dt\": \"2004-01-01T00:00:00\", \"Empties\": -41.60370252008766}, {\"dt\": \"2003-12-01T00:00:00\", \"Empties\": -40.58057909342219}, {\"dt\": \"2003-11-01T00:00:00\", \"Empties\": -32.751345613220884}, {\"dt\": \"2003-10-01T00:00:00\", \"Empties\": -33.78208031606922}, {\"dt\": \"2003-09-01T00:00:00\", \"Empties\": -33.841347159181765}, {\"dt\": \"2003-08-01T00:00:00\", \"Empties\": -34.912481773286686}, {\"dt\": \"2003-07-01T00:00:00\", \"Empties\": -28.2996281853632}, {\"dt\": \"2003-06-01T00:00:00\", \"Empties\": -26.433222169286964}, {\"dt\": \"2003-05-01T00:00:00\", \"Empties\": -18.064672123569693}, {\"dt\": \"2003-04-01T00:00:00\", \"Empties\": -6.8373202176019054}, {\"dt\": \"2003-03-01T00:00:00\", \"Empties\": -20.444632648740214}, {\"dt\": \"2003-02-01T00:00:00\", \"Empties\": 14.687734959601872}, {\"dt\": \"2003-01-01T00:00:00\", \"Empties\": 6.063774687527479}, {\"dt\": \"2002-12-01T00:00:00\", \"Empties\": -0.47238047613094025}, {\"dt\": \"2002-11-01T00:00:00\", \"Empties\": -28.0212588743902}, {\"dt\": \"2002-10-01T00:00:00\", \"Empties\": -20.117021714944993}, {\"dt\": \"2002-09-01T00:00:00\", \"Empties\": -9.323231384214925}, {\"dt\": \"2002-08-01T00:00:00\", \"Empties\": 12.0670421963879}, {\"dt\": \"2002-07-01T00:00:00\", \"Empties\": 11.132753212587264}, {\"dt\": \"2002-06-01T00:00:00\", \"Empties\": -3.713797445583733}, {\"dt\": \"2002-05-01T00:00:00\", \"Empties\": -2.279217115826937}, {\"dt\": \"2002-04-01T00:00:00\", \"Empties\": -24.579450465944085}, {\"dt\": \"2002-03-01T00:00:00\", \"Empties\": -10.696758396763716}, {\"dt\": \"2002-02-01T00:00:00\", \"Empties\": -19.48427646777249}, {\"dt\": \"2002-01-01T00:00:00\", \"Empties\": -14.153168592330513}, {\"dt\": \"2001-12-01T00:00:00\", \"Empties\": -24.366347560045575}, {\"dt\": \"2001-11-01T00:00:00\", \"Empties\": 12.789288075821027}, {\"dt\": \"2001-10-01T00:00:00\", \"Empties\": 18.04733117378836}, {\"dt\": \"2001-09-01T00:00:00\", \"Empties\": -6.243528362432205}, {\"dt\": \"2001-08-01T00:00:00\", \"Empties\": -16.855328320637064}, {\"dt\": \"2001-07-01T00:00:00\", \"Empties\": -29.516157178734282}, {\"dt\": \"2001-06-01T00:00:00\", \"Empties\": -24.07824308040093}, {\"dt\": \"2001-05-01T00:00:00\", \"Empties\": -19.75770279512208}, {\"dt\": \"2001-04-01T00:00:00\", \"Empties\": -7.379596338837802}, {\"dt\": \"2001-03-01T00:00:00\", \"Empties\": -4.246188324770229}, {\"dt\": \"2001-02-01T00:00:00\", \"Empties\": 4.743195388631838}, {\"dt\": \"2001-01-01T00:00:00\", \"Empties\": -11.324096036405395}, {\"dt\": \"2000-12-01T00:00:00\", \"Empties\": 8.433077497953722}, {\"dt\": \"2000-11-01T00:00:00\", \"Empties\": 4.622600029312629}, {\"dt\": \"2000-10-01T00:00:00\", \"Empties\": -4.8484636627398885}, {\"dt\": \"2000-09-01T00:00:00\", \"Empties\": 6.9840679708259135}, {\"dt\": \"2000-08-01T00:00:00\", \"Empties\": 10.577922013673824}, {\"dt\": \"2000-07-01T00:00:00\", \"Empties\": 5.751531265810517}, {\"dt\": \"2000-06-01T00:00:00\", \"Empties\": 8.995386035066133}, {\"dt\": \"2000-05-01T00:00:00\", \"Empties\": 0.7106171964934127}, {\"dt\": \"2000-04-01T00:00:00\", \"Empties\": -14.430487008897385}, {\"dt\": \"2000-03-01T00:00:00\", \"Empties\": -7.371304077186425}, {\"dt\": \"2000-02-01T00:00:00\", \"Empties\": -6.271901683036374}, {\"dt\": \"2000-01-01T00:00:00\", \"Empties\": -2.7135629735421607}, {\"dt\": \"1999-12-01T00:00:00\", \"Empties\": 1.7099159810957554}, {\"dt\": \"1999-11-01T00:00:00\", \"Empties\": -9.731405730509168}, {\"dt\": \"1999-10-01T00:00:00\", \"Empties\": -0.9652828802351188}, {\"dt\": \"1999-09-01T00:00:00\", \"Empties\": 3.5609885729471102}, {\"dt\": \"1999-08-01T00:00:00\", \"Empties\": -6.930028632784535}, {\"dt\": \"1999-07-01T00:00:00\", \"Empties\": -13.25325732899023}, {\"dt\": \"1999-06-01T00:00:00\", \"Empties\": 13.565348926466946}, {\"dt\": \"1999-05-01T00:00:00\", \"Empties\": 11.307234079968342}, {\"dt\": \"1999-04-01T00:00:00\", \"Empties\": 8.489568696722728}, {\"dt\": \"1999-03-01T00:00:00\", \"Empties\": 17.41573033707866}, {\"dt\": \"1999-02-01T00:00:00\", \"Empties\": -5.6792301312515665}, {\"dt\": \"1999-01-01T00:00:00\", \"Empties\": -10.128141328688734}, {\"dt\": \"1998-12-01T00:00:00\", \"Empties\": -11.166923019005925}, {\"dt\": \"1998-11-01T00:00:00\", \"Empties\": -5.656141367323286}, {\"dt\": \"1998-10-01T00:00:00\", \"Empties\": -16.93143773938366}, {\"dt\": \"1998-09-01T00:00:00\", \"Empties\": -1.2879729969799247}, {\"dt\": \"1998-08-01T00:00:00\", \"Empties\": -4.065759746190456}, {\"dt\": \"1998-07-01T00:00:00\", \"Empties\": 15.731049049518898}, {\"dt\": \"1998-06-01T00:00:00\", \"Empties\": -11.133862807272143}, {\"dt\": \"1998-05-01T00:00:00\", \"Empties\": -17.45364061852005}, {\"dt\": \"1998-04-01T00:00:00\", \"Empties\": -4.520728743940494}, {\"dt\": \"1998-03-01T00:00:00\", \"Empties\": -11.741947299741307}, {\"dt\": \"1998-02-01T00:00:00\", \"Empties\": -6.826524488115348}, {\"dt\": \"1998-01-01T00:00:00\", \"Empties\": -1.5822478162765274}, {\"dt\": \"1997-12-01T00:00:00\", \"Empties\": -22.490888617128192}, {\"dt\": \"1997-11-01T00:00:00\", \"Empties\": -25.35283860992006}, {\"dt\": \"1997-10-01T00:00:00\", \"Empties\": -35.40392086812844}, {\"dt\": \"1997-09-01T00:00:00\", \"Empties\": -42.2148234800084}, {\"dt\": \"1997-08-01T00:00:00\", \"Empties\": -50.11825306155172}, {\"dt\": \"1997-07-01T00:00:00\", \"Empties\": -50.52825826861071}, {\"dt\": \"1997-06-01T00:00:00\", \"Empties\": -51.22704190062862}, {\"dt\": \"1997-05-01T00:00:00\", \"Empties\": -48.619584200578956}, {\"dt\": \"1997-04-01T00:00:00\", \"Empties\": -50.997338707593734}, {\"dt\": \"1997-03-01T00:00:00\", \"Empties\": -45.105312305457566}, {\"dt\": \"1997-02-01T00:00:00\", \"Empties\": -46.246030319372046}, {\"dt\": \"1997-01-01T00:00:00\", \"Empties\": -41.65072577922808}, {\"dt\": \"1996-12-01T00:00:00\", \"Empties\": -41.048833067766424}, {\"dt\": \"1996-11-01T00:00:00\", \"Empties\": -41.36917878654326}, {\"dt\": \"1996-10-01T00:00:00\", \"Empties\": -23.280331835464917}, {\"dt\": \"1996-09-01T00:00:00\", \"Empties\": -16.946102604031488}, {\"dt\": \"1996-08-01T00:00:00\", \"Empties\": -6.874937217478649}, {\"dt\": \"1996-07-01T00:00:00\", \"Empties\": -24.245777996392846}, {\"dt\": \"1996-06-01T00:00:00\", \"Empties\": -8.228602880469682}, {\"dt\": \"1996-05-01T00:00:00\", \"Empties\": -23.69101110516145}, {\"dt\": \"1996-04-01T00:00:00\", \"Empties\": -21.502201365637607}, {\"dt\": \"1996-03-01T00:00:00\", \"Empties\": -35.075367386476394}, {\"dt\": \"1996-02-01T00:00:00\", \"Empties\": -35.00724556905585}, {\"dt\": \"1996-01-01T00:00:00\", \"Empties\": -24.918040690386654}, {\"dt\": \"1995-12-01T00:00:00\", \"Empties\": -2.1464345337467217}, {\"dt\": \"1995-11-01T00:00:00\", \"Empties\": 10.24805813079428}, {\"dt\": \"1995-10-01T00:00:00\", \"Empties\": -0.9191259292633425}, {\"dt\": \"1995-09-01T00:00:00\", \"Empties\": -3.2457657132143103}, {\"dt\": \"1995-08-01T00:00:00\", \"Empties\": 1.0420037538023452}, {\"dt\": \"1995-07-01T00:00:00\", \"Empties\": 10.524322276933074}, {\"dt\": \"1995-06-01T00:00:00\", \"Empties\": -23.87544982007197}, {\"dt\": \"1995-05-01T00:00:00\", \"Empties\": 8.191719803520758}, {\"dt\": \"1995-04-01T00:00:00\", \"Empties\": -0.8094038623005839}, {\"dt\": \"1995-03-01T00:00:00\", \"Empties\": 3.1622998544395875}, {\"dt\": \"1995-02-01T00:00:00\", \"Empties\": 50.51024783466256}]}}, {\"mode\": \"vega-lite\"});\n",
       "</script>"
      ],
      "text/plain": [
       "alt.Chart(...)"
      ]
     },
     "execution_count": 12,
     "metadata": {},
     "output_type": "execute_result"
    }
   ],
   "source": [
    "doYoyChart(df_lb_raw, location='Long Beach', metric='Empties')"
   ]
  },
  {
   "cell_type": "code",
   "execution_count": 13,
   "metadata": {},
   "outputs": [
    {
     "data": {
      "text/html": [
       "\n",
       "<div id=\"altair-viz-a2607e8416f54ac687523ff223c68290\"></div>\n",
       "<script type=\"text/javascript\">\n",
       "  (function(spec, embedOpt){\n",
       "    const outputDiv = document.getElementById(\"altair-viz-a2607e8416f54ac687523ff223c68290\");\n",
       "    const paths = {\n",
       "      \"vega\": \"https://cdn.jsdelivr.net/npm//vega@5?noext\",\n",
       "      \"vega-lib\": \"https://cdn.jsdelivr.net/npm//vega-lib?noext\",\n",
       "      \"vega-lite\": \"https://cdn.jsdelivr.net/npm//vega-lite@4.0.2?noext\",\n",
       "      \"vega-embed\": \"https://cdn.jsdelivr.net/npm//vega-embed@6?noext\",\n",
       "    };\n",
       "\n",
       "    function loadScript(lib) {\n",
       "      return new Promise(function(resolve, reject) {\n",
       "        var s = document.createElement('script');\n",
       "        s.src = paths[lib];\n",
       "        s.async = true;\n",
       "        s.onload = () => resolve(paths[lib]);\n",
       "        s.onerror = () => reject(`Error loading script: ${paths[lib]}`);\n",
       "        document.getElementsByTagName(\"head\")[0].appendChild(s);\n",
       "      });\n",
       "    }\n",
       "\n",
       "    function showError(err) {\n",
       "      outputDiv.innerHTML = `<div class=\"error\" style=\"color:red;\">${err}</div>`;\n",
       "      throw err;\n",
       "    }\n",
       "\n",
       "    function displayChart(vegaEmbed) {\n",
       "      vegaEmbed(outputDiv, spec, embedOpt)\n",
       "        .catch(err => showError(`Javascript Error: ${err.message}<br>This usually means there's a typo in your chart specification. See the javascript console for the full traceback.`));\n",
       "    }\n",
       "\n",
       "    if(typeof define === \"function\" && define.amd) {\n",
       "      requirejs.config({paths});\n",
       "      require([\"vega-embed\"], displayChart, err => showError(`Error loading script: ${err.message}`));\n",
       "    } else if (typeof vegaEmbed === \"function\") {\n",
       "      displayChart(vegaEmbed);\n",
       "    } else {\n",
       "      loadScript(\"vega\")\n",
       "        .then(() => loadScript(\"vega-lite\"))\n",
       "        .then(() => loadScript(\"vega-embed\"))\n",
       "        .catch(showError)\n",
       "        .then(() => displayChart(vegaEmbed));\n",
       "    }\n",
       "  })({\"config\": {\"view\": {\"continuousWidth\": 400, \"continuousHeight\": 300}}, \"data\": {\"name\": \"data-f3c169510035bf7d0400f88adc331baa\"}, \"mark\": {\"type\": \"bar\", \"color\": \"blue\", \"width\": 2}, \"encoding\": {\"tooltip\": [{\"type\": \"temporal\", \"field\": \"dt\", \"format\": \"%b %Y\"}, {\"type\": \"quantitative\", \"field\": \"Loaded Inbound\"}], \"x\": {\"type\": \"temporal\", \"axis\": {\"title\": \"\"}, \"field\": \"dt\"}, \"y\": {\"type\": \"quantitative\", \"axis\": {\"title\": \"Year-over-Year Volume Growth [%]\"}, \"field\": \"Loaded Inbound\"}}, \"height\": 400, \"title\": \"Port of Long Beach Loaded Inbound Container Volume Growth\", \"width\": 750, \"$schema\": \"https://vega.github.io/schema/vega-lite/v4.0.2.json\", \"datasets\": {\"data-f3c169510035bf7d0400f88adc331baa\": [{\"dt\": \"2020-01-01T00:00:00\", \"Loaded Inbound\": null}, {\"dt\": \"2019-12-01T00:00:00\", \"Loaded Inbound\": null}, {\"dt\": \"2019-11-01T00:00:00\", \"Loaded Inbound\": null}, {\"dt\": \"2019-10-01T00:00:00\", \"Loaded Inbound\": null}, {\"dt\": \"2019-09-01T00:00:00\", \"Loaded Inbound\": null}, {\"dt\": \"2019-08-01T00:00:00\", \"Loaded Inbound\": null}, {\"dt\": \"2019-07-01T00:00:00\", \"Loaded Inbound\": null}, {\"dt\": \"2019-06-01T00:00:00\", \"Loaded Inbound\": null}, {\"dt\": \"2019-05-01T00:00:00\", \"Loaded Inbound\": null}, {\"dt\": \"2019-04-01T00:00:00\", \"Loaded Inbound\": null}, {\"dt\": \"2019-03-01T00:00:00\", \"Loaded Inbound\": null}, {\"dt\": \"2019-02-01T00:00:00\", \"Loaded Inbound\": null}, {\"dt\": \"2019-01-01T00:00:00\", \"Loaded Inbound\": 4.477014850255356}, {\"dt\": \"2018-12-01T00:00:00\", \"Loaded Inbound\": 15.427666282008845}, {\"dt\": \"2018-11-01T00:00:00\", \"Loaded Inbound\": 9.066204775527043}, {\"dt\": \"2018-10-01T00:00:00\", \"Loaded Inbound\": 8.016922702648177}, {\"dt\": \"2018-09-01T00:00:00\", \"Loaded Inbound\": 0.6711390486279889}, {\"dt\": \"2018-08-01T00:00:00\", \"Loaded Inbound\": 6.273313092508825}, {\"dt\": \"2018-07-01T00:00:00\", \"Loaded Inbound\": 10.973671613212055}, {\"dt\": \"2018-06-01T00:00:00\", \"Loaded Inbound\": 15.824882319060851}, {\"dt\": \"2018-05-01T00:00:00\", \"Loaded Inbound\": 24.25869331791526}, {\"dt\": \"2018-04-01T00:00:00\", \"Loaded Inbound\": -1.732398398152779}, {\"dt\": \"2018-03-01T00:00:00\", \"Loaded Inbound\": 8.41365128582936}, {\"dt\": \"2018-02-01T00:00:00\", \"Loaded Inbound\": 13.003153220081565}, {\"dt\": \"2018-01-01T00:00:00\", \"Loaded Inbound\": 0.2525954335192315}, {\"dt\": \"2017-12-01T00:00:00\", \"Loaded Inbound\": -7.337750403379273}, {\"dt\": \"2017-11-01T00:00:00\", \"Loaded Inbound\": -0.20851764897131808}, {\"dt\": \"2017-10-01T00:00:00\", \"Loaded Inbound\": -6.886048274573997}, {\"dt\": \"2017-09-01T00:00:00\", \"Loaded Inbound\": 2.5180450096697227}, {\"dt\": \"2017-08-01T00:00:00\", \"Loaded Inbound\": 3.698229595748459}, {\"dt\": \"2017-07-01T00:00:00\", \"Loaded Inbound\": 8.938965191984716}, {\"dt\": \"2017-06-01T00:00:00\", \"Loaded Inbound\": -12.696598497767475}, {\"dt\": \"2017-05-01T00:00:00\", \"Loaded Inbound\": -6.77512629619782}, {\"dt\": \"2017-04-01T00:00:00\", \"Loaded Inbound\": -7.73715010116014}, {\"dt\": \"2017-03-01T00:00:00\", \"Loaded Inbound\": -6.829111655415499}, {\"dt\": \"2017-02-01T00:00:00\", \"Loaded Inbound\": -27.023757695465555}, {\"dt\": \"2017-01-01T00:00:00\", \"Loaded Inbound\": -7.905598541225178}, {\"dt\": \"2016-12-01T00:00:00\", \"Loaded Inbound\": -21.439831540461817}, {\"dt\": \"2016-11-01T00:00:00\", \"Loaded Inbound\": -15.22508693336675}, {\"dt\": \"2016-10-01T00:00:00\", \"Loaded Inbound\": -12.47798756979821}, {\"dt\": \"2016-09-01T00:00:00\", \"Loaded Inbound\": -22.75551600063337}, {\"dt\": \"2016-08-01T00:00:00\", \"Loaded Inbound\": -9.583514892540379}, {\"dt\": \"2016-07-01T00:00:00\", \"Loaded Inbound\": -14.046776833324536}, {\"dt\": \"2016-06-01T00:00:00\", \"Loaded Inbound\": -6.501693863918312}, {\"dt\": \"2016-05-01T00:00:00\", \"Loaded Inbound\": -1.7691937467691043}, {\"dt\": \"2016-04-01T00:00:00\", \"Loaded Inbound\": -14.188066216295924}, {\"dt\": \"2016-03-01T00:00:00\", \"Loaded Inbound\": -16.79089823430875}, {\"dt\": \"2016-02-01T00:00:00\", \"Loaded Inbound\": 18.462197558446334}, {\"dt\": \"2016-01-01T00:00:00\", \"Loaded Inbound\": -6.856082143215492}, {\"dt\": \"2015-12-01T00:00:00\", \"Loaded Inbound\": 8.984937352493926}, {\"dt\": \"2015-11-01T00:00:00\", \"Loaded Inbound\": 13.31953734156166}, {\"dt\": \"2015-10-01T00:00:00\", \"Loaded Inbound\": 3.8030271880719058}, {\"dt\": \"2015-09-01T00:00:00\", \"Loaded Inbound\": 17.658555549665135}, {\"dt\": \"2015-08-01T00:00:00\", \"Loaded Inbound\": 11.391216478818489}, {\"dt\": \"2015-07-01T00:00:00\", \"Loaded Inbound\": 6.235719024102604}, {\"dt\": \"2015-06-01T00:00:00\", \"Loaded Inbound\": -5.21073212428953}, {\"dt\": \"2015-05-01T00:00:00\", \"Loaded Inbound\": -1.0047211611455387}, {\"dt\": \"2015-04-01T00:00:00\", \"Loaded Inbound\": 28.32813081240195}, {\"dt\": \"2015-03-01T00:00:00\", \"Loaded Inbound\": 52.92219519830472}, {\"dt\": \"2015-02-01T00:00:00\", \"Loaded Inbound\": -30.894649677223107}, {\"dt\": \"2015-01-01T00:00:00\", \"Loaded Inbound\": -23.276874297553597}, {\"dt\": \"2014-12-01T00:00:00\", \"Loaded Inbound\": -6.5830636279484605}, {\"dt\": \"2014-11-01T00:00:00\", \"Loaded Inbound\": -4.131692395990272}, {\"dt\": \"2014-10-01T00:00:00\", \"Loaded Inbound\": 0.807480640919489}, {\"dt\": \"2014-09-01T00:00:00\", \"Loaded Inbound\": 1.9326602765320278}, {\"dt\": \"2014-08-01T00:00:00\", \"Loaded Inbound\": -16.0248644846509}, {\"dt\": \"2014-07-01T00:00:00\", \"Loaded Inbound\": -13.96222160549504}, {\"dt\": \"2014-06-01T00:00:00\", \"Loaded Inbound\": 6.347812334911462}, {\"dt\": \"2014-05-01T00:00:00\", \"Loaded Inbound\": -4.545440658444255}, {\"dt\": \"2014-04-01T00:00:00\", \"Loaded Inbound\": -6.825972978423067}, {\"dt\": \"2014-03-01T00:00:00\", \"Loaded Inbound\": -29.632149155958675}, {\"dt\": \"2014-02-01T00:00:00\", \"Loaded Inbound\": 32.871144760395566}, {\"dt\": \"2014-01-01T00:00:00\", \"Loaded Inbound\": 30.771246846728783}, {\"dt\": \"2013-12-01T00:00:00\", \"Loaded Inbound\": 5.394986185247874}, {\"dt\": \"2013-11-01T00:00:00\", \"Loaded Inbound\": 0.9027702187874187}, {\"dt\": \"2013-10-01T00:00:00\", \"Loaded Inbound\": -3.9329172061504325}, {\"dt\": \"2013-09-01T00:00:00\", \"Loaded Inbound\": -9.24197640735185}, {\"dt\": \"2013-08-01T00:00:00\", \"Loaded Inbound\": 8.963240939867244}, {\"dt\": \"2013-07-01T00:00:00\", \"Loaded Inbound\": -0.9035162878215153}, {\"dt\": \"2013-06-01T00:00:00\", \"Loaded Inbound\": -8.101780075556707}, {\"dt\": \"2013-05-01T00:00:00\", \"Loaded Inbound\": -2.2215536472719455}, {\"dt\": \"2013-04-01T00:00:00\", \"Loaded Inbound\": -10.609985391191435}, {\"dt\": \"2013-03-01T00:00:00\", \"Loaded Inbound\": 0.6628414909234159}, {\"dt\": \"2013-02-01T00:00:00\", \"Loaded Inbound\": 2.750753668959871}, {\"dt\": \"2013-01-01T00:00:00\", \"Loaded Inbound\": -1.967324588873176}, {\"dt\": \"2012-12-01T00:00:00\", \"Loaded Inbound\": 1.4222774281655637}, {\"dt\": \"2012-11-01T00:00:00\", \"Loaded Inbound\": -6.103061644158869}, {\"dt\": \"2012-10-01T00:00:00\", \"Loaded Inbound\": -7.232684370924424}, {\"dt\": \"2012-09-01T00:00:00\", \"Loaded Inbound\": -13.92261210918856}, {\"dt\": \"2012-08-01T00:00:00\", \"Loaded Inbound\": -16.118749180182846}, {\"dt\": \"2012-07-01T00:00:00\", \"Loaded Inbound\": -11.424221669164469}, {\"dt\": \"2012-06-01T00:00:00\", \"Loaded Inbound\": -3.4161020217044036}, {\"dt\": \"2012-05-01T00:00:00\", \"Loaded Inbound\": -18.187025774309483}, {\"dt\": \"2012-04-01T00:00:00\", \"Loaded Inbound\": -11.868940027313624}, {\"dt\": \"2012-03-01T00:00:00\", \"Loaded Inbound\": 0.5459888934832513}, {\"dt\": \"2012-02-01T00:00:00\", \"Loaded Inbound\": -31.406370905339177}, {\"dt\": \"2012-01-01T00:00:00\", \"Loaded Inbound\": -16.35270409392592}, {\"dt\": \"2011-12-01T00:00:00\", \"Loaded Inbound\": -15.890844748781207}, {\"dt\": \"2011-11-01T00:00:00\", \"Loaded Inbound\": -16.796872195135958}, {\"dt\": \"2011-10-01T00:00:00\", \"Loaded Inbound\": -13.17320688982212}, {\"dt\": \"2011-09-01T00:00:00\", \"Loaded Inbound\": -0.7121787085725528}, {\"dt\": \"2011-08-01T00:00:00\", \"Loaded Inbound\": -2.8289638769788072}, {\"dt\": \"2011-07-01T00:00:00\", \"Loaded Inbound\": 11.132207646047787}, {\"dt\": \"2011-06-01T00:00:00\", \"Loaded Inbound\": -3.3554822012932806}, {\"dt\": \"2011-05-01T00:00:00\", \"Loaded Inbound\": 10.067737069741579}, {\"dt\": \"2011-04-01T00:00:00\", \"Loaded Inbound\": 15.944162806969352}, {\"dt\": \"2011-03-01T00:00:00\", \"Loaded Inbound\": -15.446115476627408}, {\"dt\": \"2011-02-01T00:00:00\", \"Loaded Inbound\": 22.0315968142055}, {\"dt\": \"2011-01-01T00:00:00\", \"Loaded Inbound\": 5.8134206219312645}, {\"dt\": \"2010-12-01T00:00:00\", \"Loaded Inbound\": 3.3305310749007555}, {\"dt\": \"2010-11-01T00:00:00\", \"Loaded Inbound\": 18.438483013950435}, {\"dt\": \"2010-10-01T00:00:00\", \"Loaded Inbound\": 26.189604075788342}, {\"dt\": \"2010-09-01T00:00:00\", \"Loaded Inbound\": 9.760499061600058}, {\"dt\": \"2010-08-01T00:00:00\", \"Loaded Inbound\": 16.482907806196145}, {\"dt\": \"2010-07-01T00:00:00\", \"Loaded Inbound\": 1.2276362834723775}, {\"dt\": \"2010-06-01T00:00:00\", \"Loaded Inbound\": -3.3417799957951133}, {\"dt\": \"2010-05-01T00:00:00\", \"Loaded Inbound\": -3.8513267902580917}, {\"dt\": \"2010-04-01T00:00:00\", \"Loaded Inbound\": -10.685395047147983}, {\"dt\": \"2010-03-01T00:00:00\", \"Loaded Inbound\": 8.075372232769041}, {\"dt\": \"2010-02-01T00:00:00\", \"Loaded Inbound\": -11.01600616280065}, {\"dt\": \"2010-01-01T00:00:00\", \"Loaded Inbound\": -10.113634020087026}, {\"dt\": \"2009-12-01T00:00:00\", \"Loaded Inbound\": -9.460506288708348}, {\"dt\": \"2009-11-01T00:00:00\", \"Loaded Inbound\": -16.807417662489065}, {\"dt\": \"2009-10-01T00:00:00\", \"Loaded Inbound\": -25.102913236225454}, {\"dt\": \"2009-09-01T00:00:00\", \"Loaded Inbound\": -22.146034163479346}, {\"dt\": \"2009-08-01T00:00:00\", \"Loaded Inbound\": -19.701837810050126}, {\"dt\": \"2009-07-01T00:00:00\", \"Loaded Inbound\": -24.554066653509278}, {\"dt\": \"2009-06-01T00:00:00\", \"Loaded Inbound\": -21.2533342491786}, {\"dt\": \"2009-05-01T00:00:00\", \"Loaded Inbound\": -21.139486966219923}, {\"dt\": \"2009-04-01T00:00:00\", \"Loaded Inbound\": -17.490103421832583}, {\"dt\": \"2009-03-01T00:00:00\", \"Loaded Inbound\": -9.775855060681726}, {\"dt\": \"2009-02-01T00:00:00\", \"Loaded Inbound\": -28.194016929588305}, {\"dt\": \"2009-01-01T00:00:00\", \"Loaded Inbound\": -7.955489273832739}, {\"dt\": \"2008-12-01T00:00:00\", \"Loaded Inbound\": -11.847230701761923}, {\"dt\": \"2008-11-01T00:00:00\", \"Loaded Inbound\": 17.2951691942526}, {\"dt\": \"2008-10-01T00:00:00\", \"Loaded Inbound\": 28.798928936335134}, {\"dt\": \"2008-09-01T00:00:00\", \"Loaded Inbound\": 24.10280805961125}, {\"dt\": \"2008-08-01T00:00:00\", \"Loaded Inbound\": 13.305857874519855}, {\"dt\": \"2008-07-01T00:00:00\", \"Loaded Inbound\": 22.835661355138704}, {\"dt\": \"2008-06-01T00:00:00\", \"Loaded Inbound\": 39.72756084086879}, {\"dt\": \"2008-05-01T00:00:00\", \"Loaded Inbound\": 28.18495613404286}, {\"dt\": \"2008-04-01T00:00:00\", \"Loaded Inbound\": 40.945285379123945}, {\"dt\": \"2008-03-01T00:00:00\", \"Loaded Inbound\": 22.460713327969973}, {\"dt\": \"2008-02-01T00:00:00\", \"Loaded Inbound\": 76.31129478429193}, {\"dt\": \"2008-01-01T00:00:00\", \"Loaded Inbound\": 30.388158813089518}, {\"dt\": \"2007-12-01T00:00:00\", \"Loaded Inbound\": 36.79980100570157}, {\"dt\": \"2007-11-01T00:00:00\", \"Loaded Inbound\": 15.76612903225807}, {\"dt\": \"2007-10-01T00:00:00\", \"Loaded Inbound\": 10.488757283146866}, {\"dt\": \"2007-09-01T00:00:00\", \"Loaded Inbound\": 18.76139673350361}, {\"dt\": \"2007-08-01T00:00:00\", \"Loaded Inbound\": 15.35169189261727}, {\"dt\": \"2007-07-01T00:00:00\", \"Loaded Inbound\": 22.049568569854962}, {\"dt\": \"2007-06-01T00:00:00\", \"Loaded Inbound\": 17.712484263315066}, {\"dt\": \"2007-05-01T00:00:00\", \"Loaded Inbound\": 18.432498943455222}, {\"dt\": \"2007-04-01T00:00:00\", \"Loaded Inbound\": 8.050172338203488}, {\"dt\": \"2007-03-01T00:00:00\", \"Loaded Inbound\": 10.804631933008647}, {\"dt\": \"2007-02-01T00:00:00\", \"Loaded Inbound\": 8.193943722433916}, {\"dt\": \"2007-01-01T00:00:00\", \"Loaded Inbound\": 15.982457951464957}, {\"dt\": \"2006-12-01T00:00:00\", \"Loaded Inbound\": 0.8000513401929643}, {\"dt\": \"2006-11-01T00:00:00\", \"Loaded Inbound\": 7.333230130165003}, {\"dt\": \"2006-10-01T00:00:00\", \"Loaded Inbound\": 3.8860400271097495}, {\"dt\": \"2006-09-01T00:00:00\", \"Loaded Inbound\": -4.176684051920477}, {\"dt\": \"2006-08-01T00:00:00\", \"Loaded Inbound\": 6.485002112378546}, {\"dt\": \"2006-07-01T00:00:00\", \"Loaded Inbound\": -8.208434365617535}, {\"dt\": \"2006-06-01T00:00:00\", \"Loaded Inbound\": -5.796512193181713}, {\"dt\": \"2006-05-01T00:00:00\", \"Loaded Inbound\": 3.6783235333126996}, {\"dt\": \"2006-04-01T00:00:00\", \"Loaded Inbound\": 5.9068806946011465}, {\"dt\": \"2006-03-01T00:00:00\", \"Loaded Inbound\": 11.63724614423829}, {\"dt\": \"2006-02-01T00:00:00\", \"Loaded Inbound\": -11.354283707865164}, {\"dt\": \"2006-01-01T00:00:00\", \"Loaded Inbound\": -3.1281317580041157}, {\"dt\": \"2005-12-01T00:00:00\", \"Loaded Inbound\": -5.789350820228778}, {\"dt\": \"2005-11-01T00:00:00\", \"Loaded Inbound\": -8.335486740022713}, {\"dt\": \"2005-10-01T00:00:00\", \"Loaded Inbound\": -10.868723338337983}, {\"dt\": \"2005-09-01T00:00:00\", \"Loaded Inbound\": -1.3224789949033755}, {\"dt\": \"2005-08-01T00:00:00\", \"Loaded Inbound\": -11.990087083020684}, {\"dt\": \"2005-07-01T00:00:00\", \"Loaded Inbound\": -5.11246505438897}, {\"dt\": \"2005-06-01T00:00:00\", \"Loaded Inbound\": -7.970613347845257}, {\"dt\": \"2005-05-01T00:00:00\", \"Loaded Inbound\": -12.26965648738707}, {\"dt\": \"2005-04-01T00:00:00\", \"Loaded Inbound\": -15.612813196944963}, {\"dt\": \"2005-03-01T00:00:00\", \"Loaded Inbound\": -25.61499787565501}, {\"dt\": \"2005-02-01T00:00:00\", \"Loaded Inbound\": -0.8785445788095703}, {\"dt\": \"2005-01-01T00:00:00\", \"Loaded Inbound\": -13.976280818771158}, {\"dt\": \"2004-12-01T00:00:00\", \"Loaded Inbound\": 1.1777382320035334}, {\"dt\": \"2004-11-01T00:00:00\", \"Loaded Inbound\": -3.064264992706467}, {\"dt\": \"2004-10-01T00:00:00\", \"Loaded Inbound\": -3.547090102706185}, {\"dt\": \"2004-09-01T00:00:00\", \"Loaded Inbound\": -18.461047661583617}, {\"dt\": \"2004-08-01T00:00:00\", \"Loaded Inbound\": -10.195215010910609}, {\"dt\": \"2004-07-01T00:00:00\", \"Loaded Inbound\": -2.6599382421818363}, {\"dt\": \"2004-06-01T00:00:00\", \"Loaded Inbound\": -11.384799423623292}, {\"dt\": \"2004-05-01T00:00:00\", \"Loaded Inbound\": -15.665327690422215}, {\"dt\": \"2004-04-01T00:00:00\", \"Loaded Inbound\": -16.19444854569615}, {\"dt\": \"2004-03-01T00:00:00\", \"Loaded Inbound\": 12.093215861547035}, {\"dt\": \"2004-02-01T00:00:00\", \"Loaded Inbound\": -38.462306939199586}, {\"dt\": \"2004-01-01T00:00:00\", \"Loaded Inbound\": -20.227861621536093}, {\"dt\": \"2003-12-01T00:00:00\", \"Loaded Inbound\": -22.04159631904117}, {\"dt\": \"2003-11-01T00:00:00\", \"Loaded Inbound\": -26.829029105529944}, {\"dt\": \"2003-10-01T00:00:00\", \"Loaded Inbound\": -20.119546761842056}, {\"dt\": \"2003-09-01T00:00:00\", \"Loaded Inbound\": -19.279554915646813}, {\"dt\": \"2003-08-01T00:00:00\", \"Loaded Inbound\": -24.736463039350486}, {\"dt\": \"2003-07-01T00:00:00\", \"Loaded Inbound\": -17.990043184052062}, {\"dt\": \"2003-06-01T00:00:00\", \"Loaded Inbound\": -21.632815855678956}, {\"dt\": \"2003-05-01T00:00:00\", \"Loaded Inbound\": -19.079082787863822}, {\"dt\": \"2003-04-01T00:00:00\", \"Loaded Inbound\": -11.702474388449913}, {\"dt\": \"2003-03-01T00:00:00\", \"Loaded Inbound\": -23.651804670912945}, {\"dt\": \"2003-02-01T00:00:00\", \"Loaded Inbound\": 3.161141595506356}, {\"dt\": \"2003-01-01T00:00:00\", \"Loaded Inbound\": -16.59591771963581}, {\"dt\": \"2002-12-01T00:00:00\", \"Loaded Inbound\": -11.352537435624054}, {\"dt\": \"2002-11-01T00:00:00\", \"Loaded Inbound\": -17.060805346175}, {\"dt\": \"2002-10-01T00:00:00\", \"Loaded Inbound\": -28.955827300055958}, {\"dt\": \"2002-09-01T00:00:00\", \"Loaded Inbound\": -8.453578266243367}, {\"dt\": \"2002-08-01T00:00:00\", \"Loaded Inbound\": 13.378763713691932}, {\"dt\": \"2002-07-01T00:00:00\", \"Loaded Inbound\": 8.004569094575075}, {\"dt\": \"2002-06-01T00:00:00\", \"Loaded Inbound\": 15.546333633480792}, {\"dt\": \"2002-05-01T00:00:00\", \"Loaded Inbound\": 17.712715895505294}, {\"dt\": \"2002-04-01T00:00:00\", \"Loaded Inbound\": 13.705880005586701}, {\"dt\": \"2002-03-01T00:00:00\", \"Loaded Inbound\": -4.408231368186877}, {\"dt\": \"2002-02-01T00:00:00\", \"Loaded Inbound\": 27.327319766087754}, {\"dt\": \"2002-01-01T00:00:00\", \"Loaded Inbound\": 7.338304020548669}, {\"dt\": \"2001-12-01T00:00:00\", \"Loaded Inbound\": 2.8677587882497635}, {\"dt\": \"2001-11-01T00:00:00\", \"Loaded Inbound\": 8.022823646099763}, {\"dt\": \"2001-10-01T00:00:00\", \"Loaded Inbound\": 45.43339683470104}, {\"dt\": \"2001-09-01T00:00:00\", \"Loaded Inbound\": 16.587778095449867}, {\"dt\": \"2001-08-01T00:00:00\", \"Loaded Inbound\": -5.584163142818166}, {\"dt\": \"2001-07-01T00:00:00\", \"Loaded Inbound\": -16.60096627647044}, {\"dt\": \"2001-06-01T00:00:00\", \"Loaded Inbound\": -14.028935420478417}, {\"dt\": \"2001-05-01T00:00:00\", \"Loaded Inbound\": -15.239733427837942}, {\"dt\": \"2001-04-01T00:00:00\", \"Loaded Inbound\": -11.132996714234956}, {\"dt\": \"2001-03-01T00:00:00\", \"Loaded Inbound\": 13.807207605571525}, {\"dt\": \"2001-02-01T00:00:00\", \"Loaded Inbound\": -23.2988589847535}, {\"dt\": \"2001-01-01T00:00:00\", \"Loaded Inbound\": 7.871355136045377}, {\"dt\": \"2000-12-01T00:00:00\", \"Loaded Inbound\": -5.717074494738606}, {\"dt\": \"2000-11-01T00:00:00\", \"Loaded Inbound\": 9.906066717906125}, {\"dt\": \"2000-10-01T00:00:00\", \"Loaded Inbound\": -1.1226567584020852}, {\"dt\": \"2000-09-01T00:00:00\", \"Loaded Inbound\": -5.142504223356525}, {\"dt\": \"2000-08-01T00:00:00\", \"Loaded Inbound\": 6.9876112907012455}, {\"dt\": \"2000-07-01T00:00:00\", \"Loaded Inbound\": 8.015217673252351}, {\"dt\": \"2000-06-01T00:00:00\", \"Loaded Inbound\": 0.007882239344203512}, {\"dt\": \"2000-05-01T00:00:00\", \"Loaded Inbound\": 11.164593106261478}, {\"dt\": \"2000-04-01T00:00:00\", \"Loaded Inbound\": -0.9137356534616781}, {\"dt\": \"2000-03-01T00:00:00\", \"Loaded Inbound\": -8.750287569336157}, {\"dt\": \"2000-02-01T00:00:00\", \"Loaded Inbound\": 14.317941578363879}, {\"dt\": \"2000-01-01T00:00:00\", \"Loaded Inbound\": -8.25005905370293}, {\"dt\": \"1999-12-01T00:00:00\", \"Loaded Inbound\": 2.735410865244625}, {\"dt\": \"1999-11-01T00:00:00\", \"Loaded Inbound\": -1.6994813789219299}, {\"dt\": \"1999-10-01T00:00:00\", \"Loaded Inbound\": -13.277086845200436}, {\"dt\": \"1999-09-01T00:00:00\", \"Loaded Inbound\": 4.8831865185752665}, {\"dt\": \"1999-08-01T00:00:00\", \"Loaded Inbound\": -9.393633766442022}, {\"dt\": \"1999-07-01T00:00:00\", \"Loaded Inbound\": -16.13368020812488}, {\"dt\": \"1999-06-01T00:00:00\", \"Loaded Inbound\": -4.233414119918821}, {\"dt\": \"1999-05-01T00:00:00\", \"Loaded Inbound\": -5.676647585498307}, {\"dt\": \"1999-04-01T00:00:00\", \"Loaded Inbound\": -9.539965325521615}, {\"dt\": \"1999-03-01T00:00:00\", \"Loaded Inbound\": -3.684260654718219}, {\"dt\": \"1999-02-01T00:00:00\", \"Loaded Inbound\": -2.7514349184154407}, {\"dt\": \"1999-01-01T00:00:00\", \"Loaded Inbound\": -5.191076385779525}, {\"dt\": \"1998-12-01T00:00:00\", \"Loaded Inbound\": -10.260168559912053}, {\"dt\": \"1998-11-01T00:00:00\", \"Loaded Inbound\": -8.013120452244992}, {\"dt\": \"1998-10-01T00:00:00\", \"Loaded Inbound\": -11.517219768705756}, {\"dt\": \"1998-09-01T00:00:00\", \"Loaded Inbound\": -9.190706591199561}, {\"dt\": \"1998-08-01T00:00:00\", \"Loaded Inbound\": -8.987047585336427}, {\"dt\": \"1998-07-01T00:00:00\", \"Loaded Inbound\": 5.595325209718638}, {\"dt\": \"1998-06-01T00:00:00\", \"Loaded Inbound\": -5.859266498636906}, {\"dt\": \"1998-05-01T00:00:00\", \"Loaded Inbound\": -20.42404201517215}, {\"dt\": \"1998-04-01T00:00:00\", \"Loaded Inbound\": -5.137271100096374}, {\"dt\": \"1998-03-01T00:00:00\", \"Loaded Inbound\": -2.4436779068482295}, {\"dt\": \"1998-02-01T00:00:00\", \"Loaded Inbound\": -23.4024419939472}, {\"dt\": \"1998-01-01T00:00:00\", \"Loaded Inbound\": -14.545121814435912}, {\"dt\": \"1997-12-01T00:00:00\", \"Loaded Inbound\": -12.42523959359162}, {\"dt\": \"1997-11-01T00:00:00\", \"Loaded Inbound\": -24.035482012446728}, {\"dt\": \"1997-10-01T00:00:00\", \"Loaded Inbound\": -5.93407444706976}, {\"dt\": \"1997-09-01T00:00:00\", \"Loaded Inbound\": -7.55535449496092}, {\"dt\": \"1997-08-01T00:00:00\", \"Loaded Inbound\": -18.012107689867108}, {\"dt\": \"1997-07-01T00:00:00\", \"Loaded Inbound\": -14.650142112504893}, {\"dt\": \"1997-06-01T00:00:00\", \"Loaded Inbound\": -9.428529278380937}, {\"dt\": \"1997-05-01T00:00:00\", \"Loaded Inbound\": -12.41139085798093}, {\"dt\": \"1997-04-01T00:00:00\", \"Loaded Inbound\": -15.174139462516035}, {\"dt\": \"1997-03-01T00:00:00\", \"Loaded Inbound\": -25.443617630223237}, {\"dt\": \"1997-02-01T00:00:00\", \"Loaded Inbound\": -4.02143554576625}, {\"dt\": \"1997-01-01T00:00:00\", \"Loaded Inbound\": -14.715594302214729}, {\"dt\": \"1996-12-01T00:00:00\", \"Loaded Inbound\": -8.74451453647833}, {\"dt\": \"1996-11-01T00:00:00\", \"Loaded Inbound\": -13.927190237369668}, {\"dt\": \"1996-10-01T00:00:00\", \"Loaded Inbound\": -11.293861584164244}, {\"dt\": \"1996-09-01T00:00:00\", \"Loaded Inbound\": -19.85112606979349}, {\"dt\": \"1996-08-01T00:00:00\", \"Loaded Inbound\": -12.895796273757142}, {\"dt\": \"1996-07-01T00:00:00\", \"Loaded Inbound\": -13.605822409451418}, {\"dt\": \"1996-06-01T00:00:00\", \"Loaded Inbound\": -20.11546605696084}, {\"dt\": \"1996-05-01T00:00:00\", \"Loaded Inbound\": -16.27572734249634}, {\"dt\": \"1996-04-01T00:00:00\", \"Loaded Inbound\": -12.680172472794471}, {\"dt\": \"1996-03-01T00:00:00\", \"Loaded Inbound\": -18.955534229046698}, {\"dt\": \"1996-02-01T00:00:00\", \"Loaded Inbound\": -10.61086401059903}, {\"dt\": \"1996-01-01T00:00:00\", \"Loaded Inbound\": -11.519083722135825}, {\"dt\": \"1995-12-01T00:00:00\", \"Loaded Inbound\": -21.74592559754146}, {\"dt\": \"1995-11-01T00:00:00\", \"Loaded Inbound\": -13.313381651332445}, {\"dt\": \"1995-10-01T00:00:00\", \"Loaded Inbound\": -10.583835114989792}, {\"dt\": \"1995-09-01T00:00:00\", \"Loaded Inbound\": -22.29503748176792}, {\"dt\": \"1995-08-01T00:00:00\", \"Loaded Inbound\": -8.319360247646069}, {\"dt\": \"1995-07-01T00:00:00\", \"Loaded Inbound\": -13.50526767411927}, {\"dt\": \"1995-06-01T00:00:00\", \"Loaded Inbound\": -14.34839411262734}, {\"dt\": \"1995-05-01T00:00:00\", \"Loaded Inbound\": -5.261578973683767}, {\"dt\": \"1995-04-01T00:00:00\", \"Loaded Inbound\": -13.375606467946355}, {\"dt\": \"1995-03-01T00:00:00\", \"Loaded Inbound\": -7.117764313485564}, {\"dt\": \"1995-02-01T00:00:00\", \"Loaded Inbound\": -12.552382464776922}]}}, {\"mode\": \"vega-lite\"});\n",
       "</script>"
      ],
      "text/plain": [
       "alt.Chart(...)"
      ]
     },
     "execution_count": 13,
     "metadata": {},
     "output_type": "execute_result"
    }
   ],
   "source": [
    "doYoyChart(df_lb_raw, location='Long Beach', metric='Loaded Inbound')"
   ]
  },
  {
   "cell_type": "markdown",
   "metadata": {},
   "source": [
    "## Port of Los Angeles"
   ]
  },
  {
   "cell_type": "code",
   "execution_count": 23,
   "metadata": {},
   "outputs": [],
   "source": [
    "# Port of Los Angeles\n",
    "# https://www.portoflosangeles.org/business/statistics/container-statistics\n",
    "\n",
    "# 1995\n",
    "# https://www.portoflosangeles.org/business/statistics/container-statistics/historical-teu-statistics-2019\n",
    "\n",
    "uaString = 'Mozilla/5.0 (Macintosh; Intel Mac OS X 10_9_3) AppleWebKit/537.36 (KHTML, like Gecko) Chrome/35.0.1916.47 Safari/537.36'\n",
    "\n",
    "memory = Memory('data/', verbose=0)\n",
    "\n",
    "@memory.cache\n",
    "def fetchLaData(u, year, cols, args = { 'skiprows': 1 }):\n",
    " \n",
    "    req = Request(u, data=None, headers={ 'User-Agent': uaString })\n",
    "\n",
    "    data = urlopen(req)\n",
    "\n",
    "    tmp = pd.read_html(BytesIO(data.read()), **args)[0]\n",
    "    try:\n",
    "        tmp.columns = ['Month'] + cols\n",
    "    except ValueError as e:\n",
    "        #print(tmp.head())\n",
    "        print(e)\n",
    "        \n",
    "    tmp['dt'] = tmp['Month'].apply(lambda v: pd.to_datetime(\"{}-{}\".format(v, year), format=\"%B-%Y\", errors='coerce'))\n",
    "    \n",
    "    return tmp\n",
    "\n",
    "colsPre96 = ['Loaded Imports', 'Empty Imports', 'Total Imports', \n",
    "        'Loaded Export', 'Empty Exports', 'Total TEUs', 'Prior Year Change']\n",
    "\n",
    "cols = ['Loaded Imports', 'Empty Imports', 'Total Imports', \n",
    "        'Loaded Export', 'Empty Exports', 'Total Exports', 'Total TEUs', \n",
    "        'Prior Year Change']\n",
    "\n",
    "args = {\n",
    "    'skiprows': 1\n",
    "}\n",
    "\n",
    "urlFor = lambda y: \"https://www.portoflosangeles.org/business/statistics/container-statistics/historical-teu-statistics-{}\".format(y)\n",
    "\n",
    "dfs_la = []\n",
    "for y in range(1995, 2021):\n",
    "    url = urlFor(y)\n",
    "    #print(url)\n",
    "    if y < 1996:\n",
    "        dfs_la.append(fetchLaData(url, y, colsPre96, args))\n",
    "    else:\n",
    "        dfs_la.append(fetchLaData(url, y, cols, {}))\n",
    "\n",
    "df_la = pd.concat(dfs_la).dropna() #.tail()\n",
    "\n",
    "df_la[cols[:1]] = df_la[cols[:1]].apply(pd.to_numeric)\n",
    "\n",
    "for c in df_la.columns:\n",
    "    if c in ['Month', 'dt', 'Prior Year Change']:\n",
    "        continue\n",
    "    df_la[c] = df_la[c].apply(float)\n",
    "\n",
    "#df_la.head()"
   ]
  },
  {
   "cell_type": "code",
   "execution_count": 15,
   "metadata": {},
   "outputs": [
    {
     "data": {
      "text/html": [
       "\n",
       "<div id=\"altair-viz-636a6903be4f46f0bb7fa5c58d53938e\"></div>\n",
       "<script type=\"text/javascript\">\n",
       "  (function(spec, embedOpt){\n",
       "    const outputDiv = document.getElementById(\"altair-viz-636a6903be4f46f0bb7fa5c58d53938e\");\n",
       "    const paths = {\n",
       "      \"vega\": \"https://cdn.jsdelivr.net/npm//vega@5?noext\",\n",
       "      \"vega-lib\": \"https://cdn.jsdelivr.net/npm//vega-lib?noext\",\n",
       "      \"vega-lite\": \"https://cdn.jsdelivr.net/npm//vega-lite@4.0.2?noext\",\n",
       "      \"vega-embed\": \"https://cdn.jsdelivr.net/npm//vega-embed@6?noext\",\n",
       "    };\n",
       "\n",
       "    function loadScript(lib) {\n",
       "      return new Promise(function(resolve, reject) {\n",
       "        var s = document.createElement('script');\n",
       "        s.src = paths[lib];\n",
       "        s.async = true;\n",
       "        s.onload = () => resolve(paths[lib]);\n",
       "        s.onerror = () => reject(`Error loading script: ${paths[lib]}`);\n",
       "        document.getElementsByTagName(\"head\")[0].appendChild(s);\n",
       "      });\n",
       "    }\n",
       "\n",
       "    function showError(err) {\n",
       "      outputDiv.innerHTML = `<div class=\"error\" style=\"color:red;\">${err}</div>`;\n",
       "      throw err;\n",
       "    }\n",
       "\n",
       "    function displayChart(vegaEmbed) {\n",
       "      vegaEmbed(outputDiv, spec, embedOpt)\n",
       "        .catch(err => showError(`Javascript Error: ${err.message}<br>This usually means there's a typo in your chart specification. See the javascript console for the full traceback.`));\n",
       "    }\n",
       "\n",
       "    if(typeof define === \"function\" && define.amd) {\n",
       "      requirejs.config({paths});\n",
       "      require([\"vega-embed\"], displayChart, err => showError(`Error loading script: ${err.message}`));\n",
       "    } else if (typeof vegaEmbed === \"function\") {\n",
       "      displayChart(vegaEmbed);\n",
       "    } else {\n",
       "      loadScript(\"vega\")\n",
       "        .then(() => loadScript(\"vega-lite\"))\n",
       "        .then(() => loadScript(\"vega-embed\"))\n",
       "        .catch(showError)\n",
       "        .then(() => displayChart(vegaEmbed));\n",
       "    }\n",
       "  })({\"config\": {\"view\": {\"continuousWidth\": 400, \"continuousHeight\": 300}}, \"data\": {\"name\": \"data-2880231f0e0c5ace0fabe6e75e4b8db9\"}, \"mark\": {\"type\": \"bar\", \"color\": \"blue\", \"width\": 2}, \"encoding\": {\"tooltip\": [{\"type\": \"temporal\", \"field\": \"dt\", \"format\": \"%b %Y\"}, {\"type\": \"quantitative\", \"field\": \"Loaded Imports\"}], \"x\": {\"type\": \"temporal\", \"axis\": {\"title\": \"\"}, \"field\": \"dt\"}, \"y\": {\"type\": \"quantitative\", \"axis\": {\"title\": \"Year-over-Year Volume Growth [%]\"}, \"field\": \"Loaded Imports\"}}, \"height\": 400, \"title\": \"Port of Los Angeles Loaded Imports Container Volume Growth\", \"width\": 750, \"$schema\": \"https://vega.github.io/schema/vega-lite/v4.0.2.json\", \"datasets\": {\"data-2880231f0e0c5ace0fabe6e75e4b8db9\": [{\"dt\": \"1996-01-01T00:00:00\", \"Loaded Imports\": null}, {\"dt\": \"1996-02-01T00:00:00\", \"Loaded Imports\": null}, {\"dt\": \"1996-03-01T00:00:00\", \"Loaded Imports\": null}, {\"dt\": \"1996-04-01T00:00:00\", \"Loaded Imports\": null}, {\"dt\": \"1996-05-01T00:00:00\", \"Loaded Imports\": null}, {\"dt\": \"1996-06-01T00:00:00\", \"Loaded Imports\": null}, {\"dt\": \"1996-07-01T00:00:00\", \"Loaded Imports\": null}, {\"dt\": \"1996-08-01T00:00:00\", \"Loaded Imports\": null}, {\"dt\": \"1996-09-01T00:00:00\", \"Loaded Imports\": null}, {\"dt\": \"1996-10-01T00:00:00\", \"Loaded Imports\": null}, {\"dt\": \"1996-11-01T00:00:00\", \"Loaded Imports\": null}, {\"dt\": \"1996-12-01T00:00:00\", \"Loaded Imports\": null}, {\"dt\": \"1997-01-01T00:00:00\", \"Loaded Imports\": 19.81131242563663}, {\"dt\": \"1997-02-01T00:00:00\", \"Loaded Imports\": 15.541596854084826}, {\"dt\": \"1997-03-01T00:00:00\", \"Loaded Imports\": 24.790900985941853}, {\"dt\": \"1997-04-01T00:00:00\", \"Loaded Imports\": 22.069912506368915}, {\"dt\": \"1997-05-01T00:00:00\", \"Loaded Imports\": 18.53909349110261}, {\"dt\": \"1997-06-01T00:00:00\", \"Loaded Imports\": 18.443466690535935}, {\"dt\": \"1997-07-01T00:00:00\", \"Loaded Imports\": 10.455630741308397}, {\"dt\": \"1997-08-01T00:00:00\", \"Loaded Imports\": 7.630206420631569}, {\"dt\": \"1997-09-01T00:00:00\", \"Loaded Imports\": 7.765441192268452}, {\"dt\": \"1997-10-01T00:00:00\", \"Loaded Imports\": 2.484920991931694}, {\"dt\": \"1997-11-01T00:00:00\", \"Loaded Imports\": 6.315411193443254}, {\"dt\": \"1997-12-01T00:00:00\", \"Loaded Imports\": 12.844797870705737}, {\"dt\": \"1998-01-01T00:00:00\", \"Loaded Imports\": 1.3130152840510112}, {\"dt\": \"1998-02-01T00:00:00\", \"Loaded Imports\": 8.778479454775345}, {\"dt\": \"1998-03-01T00:00:00\", \"Loaded Imports\": 39.59419468888261}, {\"dt\": \"1998-04-01T00:00:00\", \"Loaded Imports\": 20.500669883932375}, {\"dt\": \"1998-05-01T00:00:00\", \"Loaded Imports\": 26.641486657627954}, {\"dt\": \"1998-06-01T00:00:00\", \"Loaded Imports\": 16.549621847670103}, {\"dt\": \"1998-07-01T00:00:00\", \"Loaded Imports\": 12.912124652774715}, {\"dt\": \"1998-08-01T00:00:00\", \"Loaded Imports\": 21.853956328130586}, {\"dt\": \"1998-09-01T00:00:00\", \"Loaded Imports\": 11.281352188375893}, {\"dt\": \"1998-10-01T00:00:00\", \"Loaded Imports\": 20.39743995385852}, {\"dt\": \"1998-11-01T00:00:00\", \"Loaded Imports\": 21.282689114136243}, {\"dt\": \"1998-12-01T00:00:00\", \"Loaded Imports\": 7.724631286590711}, {\"dt\": \"1999-01-01T00:00:00\", \"Loaded Imports\": 13.053342979911186}, {\"dt\": \"1999-02-01T00:00:00\", \"Loaded Imports\": 22.27510722188326}, {\"dt\": \"1999-03-01T00:00:00\", \"Loaded Imports\": -6.3264233805432335}, {\"dt\": \"1999-04-01T00:00:00\", \"Loaded Imports\": 3.708655432034158}, {\"dt\": \"1999-05-01T00:00:00\", \"Loaded Imports\": 12.597593075642411}, {\"dt\": \"1999-06-01T00:00:00\", \"Loaded Imports\": 8.684470455431171}, {\"dt\": \"1999-07-01T00:00:00\", \"Loaded Imports\": 19.762544568709274}, {\"dt\": \"1999-08-01T00:00:00\", \"Loaded Imports\": 11.8092127552468}, {\"dt\": \"1999-09-01T00:00:00\", \"Loaded Imports\": 22.229978206997348}, {\"dt\": \"1999-10-01T00:00:00\", \"Loaded Imports\": 23.288817099744065}, {\"dt\": \"1999-11-01T00:00:00\", \"Loaded Imports\": 16.36298087556094}, {\"dt\": \"1999-12-01T00:00:00\", \"Loaded Imports\": 29.425258297442358}, {\"dt\": \"2000-01-01T00:00:00\", \"Loaded Imports\": 40.71772122149757}, {\"dt\": \"2000-02-01T00:00:00\", \"Loaded Imports\": 24.983709570878453}, {\"dt\": \"2000-03-01T00:00:00\", \"Loaded Imports\": 34.95157849765624}, {\"dt\": \"2000-04-01T00:00:00\", \"Loaded Imports\": 44.44450901811141}, {\"dt\": \"2000-05-01T00:00:00\", \"Loaded Imports\": 16.325301136182357}, {\"dt\": \"2000-06-01T00:00:00\", \"Loaded Imports\": 30.520878573978784}, {\"dt\": \"2000-07-01T00:00:00\", \"Loaded Imports\": 31.899984471046427}, {\"dt\": \"2000-08-01T00:00:00\", \"Loaded Imports\": 30.353696147571952}, {\"dt\": \"2000-09-01T00:00:00\", \"Loaded Imports\": 22.001147150542224}, {\"dt\": \"2000-10-01T00:00:00\", \"Loaded Imports\": 26.270364921474652}, {\"dt\": \"2000-11-01T00:00:00\", \"Loaded Imports\": 13.975242798918487}, {\"dt\": \"2000-12-01T00:00:00\", \"Loaded Imports\": 12.89093674064057}, {\"dt\": \"2001-01-01T00:00:00\", \"Loaded Imports\": 8.37921260757346}, {\"dt\": \"2001-02-01T00:00:00\", \"Loaded Imports\": -8.225895587641642}, {\"dt\": \"2001-03-01T00:00:00\", \"Loaded Imports\": 14.443995221448036}, {\"dt\": \"2001-04-01T00:00:00\", \"Loaded Imports\": -0.25099130322826513}, {\"dt\": \"2001-05-01T00:00:00\", \"Loaded Imports\": -0.465199761890589}, {\"dt\": \"2001-06-01T00:00:00\", \"Loaded Imports\": 9.986500472483462}, {\"dt\": \"2001-07-01T00:00:00\", \"Loaded Imports\": 2.6757140450925254}, {\"dt\": \"2001-08-01T00:00:00\", \"Loaded Imports\": 7.051332265525412}, {\"dt\": \"2001-09-01T00:00:00\", \"Loaded Imports\": 21.311226059224396}, {\"dt\": \"2001-10-01T00:00:00\", \"Loaded Imports\": 5.917819347337239}, {\"dt\": \"2001-11-01T00:00:00\", \"Loaded Imports\": 17.425897305819362}, {\"dt\": \"2001-12-01T00:00:00\", \"Loaded Imports\": 12.576538247300139}, {\"dt\": \"2002-01-01T00:00:00\", \"Loaded Imports\": 4.418295041856557}, {\"dt\": \"2002-02-01T00:00:00\", \"Loaded Imports\": 52.18717182521584}, {\"dt\": \"2002-03-01T00:00:00\", \"Loaded Imports\": 5.763320551639151}, {\"dt\": \"2002-04-01T00:00:00\", \"Loaded Imports\": 22.44288422193017}, {\"dt\": \"2002-05-01T00:00:00\", \"Loaded Imports\": 35.03575418362202}, {\"dt\": \"2002-06-01T00:00:00\", \"Loaded Imports\": 25.738145497118126}, {\"dt\": \"2002-07-01T00:00:00\", \"Loaded Imports\": 9.145367211589006}, {\"dt\": \"2002-08-01T00:00:00\", \"Loaded Imports\": 29.878435232881138}, {\"dt\": \"2002-09-01T00:00:00\", \"Loaded Imports\": 19.806394168467545}, {\"dt\": \"2002-10-01T00:00:00\", \"Loaded Imports\": -4.821604708986893}, {\"dt\": \"2002-11-01T00:00:00\", \"Loaded Imports\": 24.532854629319402}, {\"dt\": \"2002-12-01T00:00:00\", \"Loaded Imports\": 34.37410428572021}, {\"dt\": \"2003-01-01T00:00:00\", \"Loaded Imports\": 25.802226058934608}, {\"dt\": \"2003-02-01T00:00:00\", \"Loaded Imports\": 15.497142447595547}, {\"dt\": \"2003-03-01T00:00:00\", \"Loaded Imports\": 34.21861246699207}, {\"dt\": \"2003-04-01T00:00:00\", \"Loaded Imports\": 23.871258909940995}, {\"dt\": \"2003-05-01T00:00:00\", \"Loaded Imports\": 23.944458958357707}, {\"dt\": \"2003-06-01T00:00:00\", \"Loaded Imports\": 3.1459281430767927}, {\"dt\": \"2003-07-01T00:00:00\", \"Loaded Imports\": 25.283543284096567}, {\"dt\": \"2003-08-01T00:00:00\", \"Loaded Imports\": 8.233379449256484}, {\"dt\": \"2003-09-01T00:00:00\", \"Loaded Imports\": 6.7036332695058265}, {\"dt\": \"2003-10-01T00:00:00\", \"Loaded Imports\": 44.39893851420853}, {\"dt\": \"2003-11-01T00:00:00\", \"Loaded Imports\": 14.62557462330416}, {\"dt\": \"2003-12-01T00:00:00\", \"Loaded Imports\": 3.7068943308928626}, {\"dt\": \"2004-01-01T00:00:00\", \"Loaded Imports\": 28.799668581741788}, {\"dt\": \"2004-02-01T00:00:00\", \"Loaded Imports\": -10.269575455363944}, {\"dt\": \"2004-03-01T00:00:00\", \"Loaded Imports\": 13.972887182094663}, {\"dt\": \"2004-04-01T00:00:00\", \"Loaded Imports\": 6.358273896969391}, {\"dt\": \"2004-05-01T00:00:00\", \"Loaded Imports\": 6.246562327013927}, {\"dt\": \"2004-06-01T00:00:00\", \"Loaded Imports\": 13.107645042932736}, {\"dt\": \"2004-07-01T00:00:00\", \"Loaded Imports\": 10.659673218446496}, {\"dt\": \"2004-08-01T00:00:00\", \"Loaded Imports\": -4.233723725880023}, {\"dt\": \"2004-09-01T00:00:00\", \"Loaded Imports\": -6.824914929195359}, {\"dt\": \"2004-10-01T00:00:00\", \"Loaded Imports\": -4.886173655804226}, {\"dt\": \"2004-11-01T00:00:00\", \"Loaded Imports\": 0.4906864718552173}, {\"dt\": \"2004-12-01T00:00:00\", \"Loaded Imports\": -8.218105049509427}, {\"dt\": \"2005-01-01T00:00:00\", \"Loaded Imports\": -12.458632510021772}, {\"dt\": \"2005-02-01T00:00:00\", \"Loaded Imports\": 19.1361401697538}, {\"dt\": \"2005-03-01T00:00:00\", \"Loaded Imports\": -23.661151509762057}, {\"dt\": \"2005-04-01T00:00:00\", \"Loaded Imports\": -3.191330073374088}, {\"dt\": \"2005-05-01T00:00:00\", \"Loaded Imports\": -13.388121023769738}, {\"dt\": \"2005-06-01T00:00:00\", \"Loaded Imports\": -1.7032503760731732}, {\"dt\": \"2005-07-01T00:00:00\", \"Loaded Imports\": -2.5353700368074605}, {\"dt\": \"2005-08-01T00:00:00\", \"Loaded Imports\": 1.06094633885645}, {\"dt\": \"2005-09-01T00:00:00\", \"Loaded Imports\": 10.050352634732151}, {\"dt\": \"2005-10-01T00:00:00\", \"Loaded Imports\": 6.094521275952602}, {\"dt\": \"2005-11-01T00:00:00\", \"Loaded Imports\": -3.2053973227764043}, {\"dt\": \"2005-12-01T00:00:00\", \"Loaded Imports\": 15.956130794222245}, {\"dt\": \"2006-01-01T00:00:00\", \"Loaded Imports\": 7.794435210172002}, {\"dt\": \"2006-02-01T00:00:00\", \"Loaded Imports\": -14.416095342542246}, {\"dt\": \"2006-03-01T00:00:00\", \"Loaded Imports\": 33.440496276477646}, {\"dt\": \"2006-04-01T00:00:00\", \"Loaded Imports\": 10.967589219135432}, {\"dt\": \"2006-05-01T00:00:00\", \"Loaded Imports\": 15.803037343282211}, {\"dt\": \"2006-06-01T00:00:00\", \"Loaded Imports\": 13.74724295039027}, {\"dt\": \"2006-07-01T00:00:00\", \"Loaded Imports\": 14.825555989385286}, {\"dt\": \"2006-08-01T00:00:00\", \"Loaded Imports\": 18.154078697370558}, {\"dt\": \"2006-09-01T00:00:00\", \"Loaded Imports\": 21.302314137637723}, {\"dt\": \"2006-10-01T00:00:00\", \"Loaded Imports\": 11.947709268482232}, {\"dt\": \"2006-11-01T00:00:00\", \"Loaded Imports\": 17.630430843898882}, {\"dt\": \"2006-12-01T00:00:00\", \"Loaded Imports\": 11.745215881122629}, {\"dt\": \"2007-01-01T00:00:00\", \"Loaded Imports\": 11.966162537570323}, {\"dt\": \"2007-02-01T00:00:00\", \"Loaded Imports\": 42.51914668561485}, {\"dt\": \"2007-03-01T00:00:00\", \"Loaded Imports\": -6.606419047543599}, {\"dt\": \"2007-04-01T00:00:00\", \"Loaded Imports\": 0.9570552584025949}, {\"dt\": \"2007-05-01T00:00:00\", \"Loaded Imports\": -0.22387919709699888}, {\"dt\": \"2007-06-01T00:00:00\", \"Loaded Imports\": 1.6966673449695158}, {\"dt\": \"2007-07-01T00:00:00\", \"Loaded Imports\": -5.539773622374389}, {\"dt\": \"2007-08-01T00:00:00\", \"Loaded Imports\": -7.6676328983954045}, {\"dt\": \"2007-09-01T00:00:00\", \"Loaded Imports\": -5.1272140760740275}, {\"dt\": \"2007-10-01T00:00:00\", \"Loaded Imports\": -6.55056642227062}, {\"dt\": \"2007-11-01T00:00:00\", \"Loaded Imports\": -1.8653538862563601}, {\"dt\": \"2007-12-01T00:00:00\", \"Loaded Imports\": -5.28897703100204}, {\"dt\": \"2008-01-01T00:00:00\", \"Loaded Imports\": -4.625942675763128}, {\"dt\": \"2008-02-01T00:00:00\", \"Loaded Imports\": -9.791508709598695}, {\"dt\": \"2008-03-01T00:00:00\", \"Loaded Imports\": -7.013871150275874}, {\"dt\": \"2008-04-01T00:00:00\", \"Loaded Imports\": -10.925254341162239}, {\"dt\": \"2008-05-01T00:00:00\", \"Loaded Imports\": 2.5834497911914944}, {\"dt\": \"2008-06-01T00:00:00\", \"Loaded Imports\": -12.447784654478289}, {\"dt\": \"2008-07-01T00:00:00\", \"Loaded Imports\": -3.8589048627059364}, {\"dt\": \"2008-08-01T00:00:00\", \"Loaded Imports\": 7.191231285702027}, {\"dt\": \"2008-09-01T00:00:00\", \"Loaded Imports\": -9.042178691508763}, {\"dt\": \"2008-10-01T00:00:00\", \"Loaded Imports\": -3.772173223985953}, {\"dt\": \"2008-11-01T00:00:00\", \"Loaded Imports\": -9.690625279381104}, {\"dt\": \"2008-12-01T00:00:00\", \"Loaded Imports\": -12.830365831837709}, {\"dt\": \"2009-01-01T00:00:00\", \"Loaded Imports\": -7.579006384319009}, {\"dt\": \"2009-02-01T00:00:00\", \"Loaded Imports\": -35.29980613603701}, {\"dt\": \"2009-03-01T00:00:00\", \"Loaded Imports\": -6.212350771534647}, {\"dt\": \"2009-04-01T00:00:00\", \"Loaded Imports\": -14.984391148203702}, {\"dt\": \"2009-05-01T00:00:00\", \"Loaded Imports\": -18.035630565380757}, {\"dt\": \"2009-06-01T00:00:00\", \"Loaded Imports\": -17.08251714637694}, {\"dt\": \"2009-07-01T00:00:00\", \"Loaded Imports\": -16.94458314568982}, {\"dt\": \"2009-08-01T00:00:00\", \"Loaded Imports\": -19.32209753093298}, {\"dt\": \"2009-09-01T00:00:00\", \"Loaded Imports\": -15.819007692166275}, {\"dt\": \"2009-10-01T00:00:00\", \"Loaded Imports\": -8.693608857886904}, {\"dt\": \"2009-11-01T00:00:00\", \"Loaded Imports\": -11.840446283961914}, {\"dt\": \"2009-12-01T00:00:00\", \"Loaded Imports\": -4.411746350981149}, {\"dt\": \"2010-01-01T00:00:00\", \"Loaded Imports\": -6.6735781029571895}, {\"dt\": \"2010-02-01T00:00:00\", \"Loaded Imports\": 29.765233492449084}, {\"dt\": \"2010-03-01T00:00:00\", \"Loaded Imports\": -2.8589925849281883}, {\"dt\": \"2010-04-01T00:00:00\", \"Loaded Imports\": 8.248901346965877}, {\"dt\": \"2010-05-01T00:00:00\", \"Loaded Imports\": 12.515607022329744}, {\"dt\": \"2010-06-01T00:00:00\", \"Loaded Imports\": 32.262304212269186}, {\"dt\": \"2010-07-01T00:00:00\", \"Loaded Imports\": 21.021538975659837}, {\"dt\": \"2010-08-01T00:00:00\", \"Loaded Imports\": 23.33579602829412}, {\"dt\": \"2010-09-01T00:00:00\", \"Loaded Imports\": 20.762069029110087}, {\"dt\": \"2010-10-01T00:00:00\", \"Loaded Imports\": 3.1914794688174153}, {\"dt\": \"2010-11-01T00:00:00\", \"Loaded Imports\": 11.691898383211052}, {\"dt\": \"2010-12-01T00:00:00\", \"Loaded Imports\": 5.6252832042416046}, {\"dt\": \"2011-01-01T00:00:00\", \"Loaded Imports\": 14.276406789694196}, {\"dt\": \"2011-02-01T00:00:00\", \"Loaded Imports\": 3.188701873851141}, {\"dt\": \"2011-03-01T00:00:00\", \"Loaded Imports\": 10.15783982812264}, {\"dt\": \"2011-04-01T00:00:00\", \"Loaded Imports\": 3.3535655270947595}, {\"dt\": \"2011-05-01T00:00:00\", \"Loaded Imports\": 5.4937865880549275}, {\"dt\": \"2011-06-01T00:00:00\", \"Loaded Imports\": -10.216580986886935}, {\"dt\": \"2011-07-01T00:00:00\", \"Loaded Imports\": -3.173132706478188}, {\"dt\": \"2011-08-01T00:00:00\", \"Loaded Imports\": -5.752489692801466}, {\"dt\": \"2011-09-01T00:00:00\", \"Loaded Imports\": -0.1591831305265412}, {\"dt\": \"2011-10-01T00:00:00\", \"Loaded Imports\": 5.520756388154435}, {\"dt\": \"2011-11-01T00:00:00\", \"Loaded Imports\": 6.173905708292038}, {\"dt\": \"2011-12-01T00:00:00\", \"Loaded Imports\": 6.365157617937189}, {\"dt\": \"2012-01-01T00:00:00\", \"Loaded Imports\": 5.253307931193896}, {\"dt\": \"2012-02-01T00:00:00\", \"Loaded Imports\": -7.802810213620459}, {\"dt\": \"2012-03-01T00:00:00\", \"Loaded Imports\": 9.337623908712821}, {\"dt\": \"2012-04-01T00:00:00\", \"Loaded Imports\": 16.709971414384505}, {\"dt\": \"2012-05-01T00:00:00\", \"Loaded Imports\": 2.70175368123462}, {\"dt\": \"2012-06-01T00:00:00\", \"Loaded Imports\": 6.000776293575538}, {\"dt\": \"2012-07-01T00:00:00\", \"Loaded Imports\": 3.967775116399941}, {\"dt\": \"2012-08-01T00:00:00\", \"Loaded Imports\": -4.1009778182302}, {\"dt\": \"2012-09-01T00:00:00\", \"Loaded Imports\": 3.3798267138094307}, {\"dt\": \"2012-10-01T00:00:00\", \"Loaded Imports\": -1.0739123521271043}, {\"dt\": \"2012-11-01T00:00:00\", \"Loaded Imports\": -18.638768930643547}, {\"dt\": \"2012-12-01T00:00:00\", \"Loaded Imports\": -6.747547907505336}, {\"dt\": \"2013-01-01T00:00:00\", \"Loaded Imports\": -5.321740194228486}, {\"dt\": \"2013-02-01T00:00:00\", \"Loaded Imports\": 25.23490365608374}, {\"dt\": \"2013-03-01T00:00:00\", \"Loaded Imports\": -28.74796001946064}, {\"dt\": \"2013-04-01T00:00:00\", \"Loaded Imports\": -10.361724419473983}, {\"dt\": \"2013-05-01T00:00:00\", \"Loaded Imports\": -12.032514952251926}, {\"dt\": \"2013-06-01T00:00:00\", \"Loaded Imports\": -7.234653804256219}, {\"dt\": \"2013-07-01T00:00:00\", \"Loaded Imports\": -0.29946822607431756}, {\"dt\": \"2013-08-01T00:00:00\", \"Loaded Imports\": -1.407950003617331}, {\"dt\": \"2013-09-01T00:00:00\", \"Loaded Imports\": -3.75459798473875}, {\"dt\": \"2013-10-01T00:00:00\", \"Loaded Imports\": -5.137100524854765}, {\"dt\": \"2013-11-01T00:00:00\", \"Loaded Imports\": 18.72308762338544}, {\"dt\": \"2013-12-01T00:00:00\", \"Loaded Imports\": 8.63198230767248}, {\"dt\": \"2014-01-01T00:00:00\", \"Loaded Imports\": 6.700178971354798}, {\"dt\": \"2014-02-01T00:00:00\", \"Loaded Imports\": -10.59016408881579}, {\"dt\": \"2014-03-01T00:00:00\", \"Loaded Imports\": 41.53056201752228}, {\"dt\": \"2014-04-01T00:00:00\", \"Loaded Imports\": 11.428175357223225}, {\"dt\": \"2014-05-01T00:00:00\", \"Loaded Imports\": 7.754635946995325}, {\"dt\": \"2014-06-01T00:00:00\", \"Loaded Imports\": 16.551059636354104}, {\"dt\": \"2014-07-01T00:00:00\", \"Loaded Imports\": -1.983044705459036}, {\"dt\": \"2014-08-01T00:00:00\", \"Loaded Imports\": 7.835240815024047}, {\"dt\": \"2014-09-01T00:00:00\", \"Loaded Imports\": 10.982421921881013}, {\"dt\": \"2014-10-01T00:00:00\", \"Loaded Imports\": 7.16496953306569}, {\"dt\": \"2014-11-01T00:00:00\", \"Loaded Imports\": -2.657216771970672}, {\"dt\": \"2014-12-01T00:00:00\", \"Loaded Imports\": 4.395139109818724}, {\"dt\": \"2015-01-01T00:00:00\", \"Loaded Imports\": -28.005527771343242}, {\"dt\": \"2015-02-01T00:00:00\", \"Loaded Imports\": -10.739369272434985}, {\"dt\": \"2015-03-01T00:00:00\", \"Loaded Imports\": 31.57310882647646}, {\"dt\": \"2015-04-01T00:00:00\", \"Loaded Imports\": -9.882786469136162}, {\"dt\": \"2015-05-01T00:00:00\", \"Loaded Imports\": -0.84706018948012}, {\"dt\": \"2015-06-01T00:00:00\", \"Loaded Imports\": -3.647474436921061}, {\"dt\": \"2015-07-01T00:00:00\", \"Loaded Imports\": -3.512899928039448}, {\"dt\": \"2015-08-01T00:00:00\", \"Loaded Imports\": 6.32328630833916}, {\"dt\": \"2015-09-01T00:00:00\", \"Loaded Imports\": -9.359611058816874}, {\"dt\": \"2015-10-01T00:00:00\", \"Loaded Imports\": -3.3258100675530367}, {\"dt\": \"2015-11-01T00:00:00\", \"Loaded Imports\": 7.585254760613713}, {\"dt\": \"2015-12-01T00:00:00\", \"Loaded Imports\": -4.534715160721047}, {\"dt\": \"2016-01-01T00:00:00\", \"Loaded Imports\": 41.666536461573386}, {\"dt\": \"2016-02-01T00:00:00\", \"Loaded Imports\": 46.61967160624847}, {\"dt\": \"2016-03-01T00:00:00\", \"Loaded Imports\": -33.341250906101806}, {\"dt\": \"2016-04-01T00:00:00\", \"Loaded Imports\": 4.70343092625789}, {\"dt\": \"2016-05-01T00:00:00\", \"Loaded Imports\": 15.021496611915852}, {\"dt\": \"2016-06-01T00:00:00\", \"Loaded Imports\": -3.5490367051478233}, {\"dt\": \"2016-07-01T00:00:00\", \"Loaded Imports\": 5.153327095950888}, {\"dt\": \"2016-08-01T00:00:00\", \"Loaded Imports\": 0.8735683087283785}, {\"dt\": \"2016-09-01T00:00:00\", \"Loaded Imports\": 4.280794602557969}, {\"dt\": \"2016-10-01T00:00:00\", \"Loaded Imports\": 16.371808260701638}, {\"dt\": \"2016-11-01T00:00:00\", \"Loaded Imports\": 21.936831979046012}, {\"dt\": \"2016-12-01T00:00:00\", \"Loaded Imports\": 22.653299843158713}, {\"dt\": \"2017-01-01T00:00:00\", \"Loaded Imports\": 13.129832400530717}, {\"dt\": \"2017-02-01T00:00:00\", \"Loaded Imports\": -19.79087272427774}, {\"dt\": \"2017-03-01T00:00:00\", \"Loaded Imports\": 30.05163957612551}, {\"dt\": \"2017-04-01T00:00:00\", \"Loaded Imports\": 8.285490669989404}, {\"dt\": \"2017-05-01T00:00:00\", \"Loaded Imports\": 3.0579818470106934}, {\"dt\": \"2017-06-01T00:00:00\", \"Loaded Imports\": 4.681700756616047}, {\"dt\": \"2017-07-01T00:00:00\", \"Loaded Imports\": 13.125661366512897}, {\"dt\": \"2017-08-01T00:00:00\", \"Loaded Imports\": 5.1322317294162145}, {\"dt\": \"2017-09-01T00:00:00\", \"Loaded Imports\": -0.07415958257758204}, {\"dt\": \"2017-10-01T00:00:00\", \"Loaded Imports\": -8.129679288386926}, {\"dt\": \"2017-11-01T00:00:00\", \"Loaded Imports\": 6.095569799533318}, {\"dt\": \"2017-12-01T00:00:00\", \"Loaded Imports\": -2.2132725580305213}, {\"dt\": \"2018-01-01T00:00:00\", \"Loaded Imports\": 1.7835448086972683}, {\"dt\": \"2018-02-01T00:00:00\", \"Loaded Imports\": 28.13433031764032}, {\"dt\": \"2018-03-01T00:00:00\", \"Loaded Imports\": -29.203374818748664}, {\"dt\": \"2018-04-01T00:00:00\", \"Loaded Imports\": -2.9385478854609848}, {\"dt\": \"2018-05-01T00:00:00\", \"Loaded Imports\": -1.8000282309895366}, {\"dt\": \"2018-06-01T00:00:00\", \"Loaded Imports\": 2.872065889439468}, {\"dt\": \"2018-07-01T00:00:00\", \"Loaded Imports\": 5.052569494768222}, {\"dt\": \"2018-08-01T00:00:00\", \"Loaded Imports\": -2.7529419626356577}, {\"dt\": \"2018-09-01T00:00:00\", \"Loaded Imports\": 6.58950953385784}, {\"dt\": \"2018-10-01T00:00:00\", \"Loaded Imports\": 26.719498676265374}, {\"dt\": \"2018-11-01T00:00:00\", \"Loaded Imports\": -8.820153684275455}, {\"dt\": \"2018-12-01T00:00:00\", \"Loaded Imports\": 21.638267248312903}, {\"dt\": \"2019-01-01T00:00:00\", \"Loaded Imports\": 1.6769782888923057}, {\"dt\": \"2019-02-01T00:00:00\", \"Loaded Imports\": -9.077198790726603}, {\"dt\": \"2019-03-01T00:00:00\", \"Loaded Imports\": 12.374988207103499}, {\"dt\": \"2019-04-01T00:00:00\", \"Loaded Imports\": -0.10070386086389327}, {\"dt\": \"2019-05-01T00:00:00\", \"Loaded Imports\": 5.4740933383433665}, {\"dt\": \"2019-06-01T00:00:00\", \"Loaded Imports\": 3.4840089407881747}, {\"dt\": \"2019-07-01T00:00:00\", \"Loaded Imports\": 8.73499464984102}, {\"dt\": \"2019-08-01T00:00:00\", \"Loaded Imports\": 4.051612887885758}, {\"dt\": \"2019-09-01T00:00:00\", \"Loaded Imports\": -2.8873241986427156}, {\"dt\": \"2019-10-01T00:00:00\", \"Loaded Imports\": -19.15406323962682}, {\"dt\": \"2019-11-01T00:00:00\", \"Loaded Imports\": -12.167418236811834}, {\"dt\": \"2019-12-01T00:00:00\", \"Loaded Imports\": -20.344137314558985}, {\"dt\": \"2020-01-01T00:00:00\", \"Loaded Imports\": -3.533634821604581}]}}, {\"mode\": \"vega-lite\"});\n",
       "</script>"
      ],
      "text/plain": [
       "alt.Chart(...)"
      ]
     },
     "execution_count": 15,
     "metadata": {},
     "output_type": "execute_result"
    }
   ],
   "source": [
    "doYoyChart(df_la, location='Los Angeles', metric='Loaded Imports')"
   ]
  },
  {
   "cell_type": "code",
   "execution_count": 25,
   "metadata": {},
   "outputs": [
    {
     "data": {
      "text/html": [
       "\n",
       "<div id=\"altair-viz-35704c50f720428fb3598ec7772027fb\"></div>\n",
       "<script type=\"text/javascript\">\n",
       "  (function(spec, embedOpt){\n",
       "    const outputDiv = document.getElementById(\"altair-viz-35704c50f720428fb3598ec7772027fb\");\n",
       "    const paths = {\n",
       "      \"vega\": \"https://cdn.jsdelivr.net/npm//vega@5?noext\",\n",
       "      \"vega-lib\": \"https://cdn.jsdelivr.net/npm//vega-lib?noext\",\n",
       "      \"vega-lite\": \"https://cdn.jsdelivr.net/npm//vega-lite@4.0.2?noext\",\n",
       "      \"vega-embed\": \"https://cdn.jsdelivr.net/npm//vega-embed@6?noext\",\n",
       "    };\n",
       "\n",
       "    function loadScript(lib) {\n",
       "      return new Promise(function(resolve, reject) {\n",
       "        var s = document.createElement('script');\n",
       "        s.src = paths[lib];\n",
       "        s.async = true;\n",
       "        s.onload = () => resolve(paths[lib]);\n",
       "        s.onerror = () => reject(`Error loading script: ${paths[lib]}`);\n",
       "        document.getElementsByTagName(\"head\")[0].appendChild(s);\n",
       "      });\n",
       "    }\n",
       "\n",
       "    function showError(err) {\n",
       "      outputDiv.innerHTML = `<div class=\"error\" style=\"color:red;\">${err}</div>`;\n",
       "      throw err;\n",
       "    }\n",
       "\n",
       "    function displayChart(vegaEmbed) {\n",
       "      vegaEmbed(outputDiv, spec, embedOpt)\n",
       "        .catch(err => showError(`Javascript Error: ${err.message}<br>This usually means there's a typo in your chart specification. See the javascript console for the full traceback.`));\n",
       "    }\n",
       "\n",
       "    if(typeof define === \"function\" && define.amd) {\n",
       "      requirejs.config({paths});\n",
       "      require([\"vega-embed\"], displayChart, err => showError(`Error loading script: ${err.message}`));\n",
       "    } else if (typeof vegaEmbed === \"function\") {\n",
       "      displayChart(vegaEmbed);\n",
       "    } else {\n",
       "      loadScript(\"vega\")\n",
       "        .then(() => loadScript(\"vega-lite\"))\n",
       "        .then(() => loadScript(\"vega-embed\"))\n",
       "        .catch(showError)\n",
       "        .then(() => displayChart(vegaEmbed));\n",
       "    }\n",
       "  })({\"config\": {\"view\": {\"continuousWidth\": 400, \"continuousHeight\": 300}}, \"data\": {\"name\": \"data-98d515969056f344f652dd7ed60e7ba1\"}, \"mark\": {\"type\": \"bar\", \"color\": \"blue\", \"width\": 2}, \"encoding\": {\"tooltip\": [{\"type\": \"temporal\", \"field\": \"dt\", \"format\": \"%b %Y\"}, {\"type\": \"quantitative\", \"field\": \"Loaded Export\"}], \"x\": {\"type\": \"temporal\", \"axis\": {\"title\": \"\"}, \"field\": \"dt\"}, \"y\": {\"type\": \"quantitative\", \"axis\": {\"title\": \"Year-over-Year Volume Growth [%]\"}, \"field\": \"Loaded Export\"}}, \"height\": 400, \"title\": \"Port of Los Angeles Loaded Export Container Volume Growth\", \"width\": 750, \"$schema\": \"https://vega.github.io/schema/vega-lite/v4.0.2.json\", \"datasets\": {\"data-98d515969056f344f652dd7ed60e7ba1\": [{\"dt\": \"1996-01-01T00:00:00\", \"Loaded Export\": null}, {\"dt\": \"1996-02-01T00:00:00\", \"Loaded Export\": null}, {\"dt\": \"1996-03-01T00:00:00\", \"Loaded Export\": null}, {\"dt\": \"1996-04-01T00:00:00\", \"Loaded Export\": null}, {\"dt\": \"1996-05-01T00:00:00\", \"Loaded Export\": null}, {\"dt\": \"1996-06-01T00:00:00\", \"Loaded Export\": null}, {\"dt\": \"1996-07-01T00:00:00\", \"Loaded Export\": null}, {\"dt\": \"1996-08-01T00:00:00\", \"Loaded Export\": null}, {\"dt\": \"1996-09-01T00:00:00\", \"Loaded Export\": null}, {\"dt\": \"1996-10-01T00:00:00\", \"Loaded Export\": null}, {\"dt\": \"1996-11-01T00:00:00\", \"Loaded Export\": null}, {\"dt\": \"1996-12-01T00:00:00\", \"Loaded Export\": null}, {\"dt\": \"1997-01-01T00:00:00\", \"Loaded Export\": 3.056444703966865}, {\"dt\": \"1997-02-01T00:00:00\", \"Loaded Export\": 12.066427645632348}, {\"dt\": \"1997-03-01T00:00:00\", \"Loaded Export\": 15.946635431039136}, {\"dt\": \"1997-04-01T00:00:00\", \"Loaded Export\": 15.172438996921978}, {\"dt\": \"1997-05-01T00:00:00\", \"Loaded Export\": 25.59577043102803}, {\"dt\": \"1997-06-01T00:00:00\", \"Loaded Export\": 8.972009237463862}, {\"dt\": \"1997-07-01T00:00:00\", \"Loaded Export\": 5.507106966137876}, {\"dt\": \"1997-08-01T00:00:00\", \"Loaded Export\": -1.7727899705631933}, {\"dt\": \"1997-09-01T00:00:00\", \"Loaded Export\": -1.0238560341511604}, {\"dt\": \"1997-10-01T00:00:00\", \"Loaded Export\": -3.8891140953113745}, {\"dt\": \"1997-11-01T00:00:00\", \"Loaded Export\": -11.823329860832876}, {\"dt\": \"1997-12-01T00:00:00\", \"Loaded Export\": -11.115741971644756}, {\"dt\": \"1998-01-01T00:00:00\", \"Loaded Export\": -15.650426678798402}, {\"dt\": \"1998-02-01T00:00:00\", \"Loaded Export\": -6.7060826193861995}, {\"dt\": \"1998-03-01T00:00:00\", \"Loaded Export\": -8.191609518759202}, {\"dt\": \"1998-04-01T00:00:00\", \"Loaded Export\": -7.8993721118179705}, {\"dt\": \"1998-05-01T00:00:00\", \"Loaded Export\": -10.567981946159467}, {\"dt\": \"1998-06-01T00:00:00\", \"Loaded Export\": -12.804336823146256}, {\"dt\": \"1998-07-01T00:00:00\", \"Loaded Export\": -13.484440305462453}, {\"dt\": \"1998-08-01T00:00:00\", \"Loaded Export\": -4.328691067128798}, {\"dt\": \"1998-09-01T00:00:00\", \"Loaded Export\": -7.569258436555815}, {\"dt\": \"1998-10-01T00:00:00\", \"Loaded Export\": -11.760936931225174}, {\"dt\": \"1998-11-01T00:00:00\", \"Loaded Export\": 3.3729215072688667}, {\"dt\": \"1998-12-01T00:00:00\", \"Loaded Export\": -8.08101223400267}, {\"dt\": \"1999-01-01T00:00:00\", \"Loaded Export\": -5.940133677319404}, {\"dt\": \"1999-02-01T00:00:00\", \"Loaded Export\": -8.28282449053146}, {\"dt\": \"1999-03-01T00:00:00\", \"Loaded Export\": -10.120192872489554}, {\"dt\": \"1999-04-01T00:00:00\", \"Loaded Export\": -10.746076611542355}, {\"dt\": \"1999-05-01T00:00:00\", \"Loaded Export\": 2.856682439460312}, {\"dt\": \"1999-06-01T00:00:00\", \"Loaded Export\": 5.274288468704791}, {\"dt\": \"1999-07-01T00:00:00\", \"Loaded Export\": 8.042488741564746}, {\"dt\": \"1999-08-01T00:00:00\", \"Loaded Export\": 1.588979614705277}, {\"dt\": \"1999-09-01T00:00:00\", \"Loaded Export\": 9.165234912165587}, {\"dt\": \"1999-10-01T00:00:00\", \"Loaded Export\": 15.64370482679671}, {\"dt\": \"1999-11-01T00:00:00\", \"Loaded Export\": 13.779840508731}, {\"dt\": \"1999-12-01T00:00:00\", \"Loaded Export\": 17.31984414890768}, {\"dt\": \"2000-01-01T00:00:00\", \"Loaded Export\": 28.37670416436433}, {\"dt\": \"2000-02-01T00:00:00\", \"Loaded Export\": 25.358931976281053}, {\"dt\": \"2000-03-01T00:00:00\", \"Loaded Export\": 20.38417243828159}, {\"dt\": \"2000-04-01T00:00:00\", \"Loaded Export\": 34.28716603448072}, {\"dt\": \"2000-05-01T00:00:00\", \"Loaded Export\": 16.209710729088034}, {\"dt\": \"2000-06-01T00:00:00\", \"Loaded Export\": 17.451075409656024}, {\"dt\": \"2000-07-01T00:00:00\", \"Loaded Export\": 20.786160633266213}, {\"dt\": \"2000-08-01T00:00:00\", \"Loaded Export\": 26.759224453600883}, {\"dt\": \"2000-09-01T00:00:00\", \"Loaded Export\": 18.628312067878273}, {\"dt\": \"2000-10-01T00:00:00\", \"Loaded Export\": 23.466529416255753}, {\"dt\": \"2000-11-01T00:00:00\", \"Loaded Export\": 6.691456516350036}, {\"dt\": \"2000-12-01T00:00:00\", \"Loaded Export\": 11.72918638830447}, {\"dt\": \"2001-01-01T00:00:00\", \"Loaded Export\": 11.509514280048805}, {\"dt\": \"2001-02-01T00:00:00\", \"Loaded Export\": 4.935205388111341}, {\"dt\": \"2001-03-01T00:00:00\", \"Loaded Export\": 6.447766127558352}, {\"dt\": \"2001-04-01T00:00:00\", \"Loaded Export\": 3.314173952628341}, {\"dt\": \"2001-05-01T00:00:00\", \"Loaded Export\": 7.024585743700373}, {\"dt\": \"2001-06-01T00:00:00\", \"Loaded Export\": 11.371574507231962}, {\"dt\": \"2001-07-01T00:00:00\", \"Loaded Export\": 7.438158589534782}, {\"dt\": \"2001-08-01T00:00:00\", \"Loaded Export\": 0.6874974953771762}, {\"dt\": \"2001-09-01T00:00:00\", \"Loaded Export\": 4.1586479237636365}, {\"dt\": \"2001-10-01T00:00:00\", \"Loaded Export\": -3.1639645056841914}, {\"dt\": \"2001-11-01T00:00:00\", \"Loaded Export\": 8.246282235661685}, {\"dt\": \"2001-12-01T00:00:00\", \"Loaded Export\": 5.14383624730772}, {\"dt\": \"2002-01-01T00:00:00\", \"Loaded Export\": 0.8959827345953908}, {\"dt\": \"2002-02-01T00:00:00\", \"Loaded Export\": 15.01270855219592}, {\"dt\": \"2002-03-01T00:00:00\", \"Loaded Export\": 5.014234262413608}, {\"dt\": \"2002-04-01T00:00:00\", \"Loaded Export\": 3.4718361882027926}, {\"dt\": \"2002-05-01T00:00:00\", \"Loaded Export\": 10.720138336186702}, {\"dt\": \"2002-06-01T00:00:00\", \"Loaded Export\": 8.114569439866482}, {\"dt\": \"2002-07-01T00:00:00\", \"Loaded Export\": -3.6133629684537927}, {\"dt\": \"2002-08-01T00:00:00\", \"Loaded Export\": 3.960133706395186}, {\"dt\": \"2002-09-01T00:00:00\", \"Loaded Export\": 9.408950305080976}, {\"dt\": \"2002-10-01T00:00:00\", \"Loaded Export\": -22.701512149659276}, {\"dt\": \"2002-11-01T00:00:00\", \"Loaded Export\": 6.792423796397884}, {\"dt\": \"2002-12-01T00:00:00\", \"Loaded Export\": 29.883618461624128}, {\"dt\": \"2003-01-01T00:00:00\", \"Loaded Export\": 26.903108723204472}, {\"dt\": \"2003-02-01T00:00:00\", \"Loaded Export\": 8.400094155079918}, {\"dt\": \"2003-03-01T00:00:00\", \"Loaded Export\": 15.63716615989792}, {\"dt\": \"2003-04-01T00:00:00\", \"Loaded Export\": 7.0531151240172285}, {\"dt\": \"2003-05-01T00:00:00\", \"Loaded Export\": 5.759753094336539}, {\"dt\": \"2003-06-01T00:00:00\", \"Loaded Export\": -6.037512685614022}, {\"dt\": \"2003-07-01T00:00:00\", \"Loaded Export\": 16.282430127185865}, {\"dt\": \"2003-08-01T00:00:00\", \"Loaded Export\": -3.6541752509941516}, {\"dt\": \"2003-09-01T00:00:00\", \"Loaded Export\": -6.307312862940728}, {\"dt\": \"2003-10-01T00:00:00\", \"Loaded Export\": 33.6367870511221}, {\"dt\": \"2003-11-01T00:00:00\", \"Loaded Export\": 3.261590251043356}, {\"dt\": \"2003-12-01T00:00:00\", \"Loaded Export\": -11.39604053708194}, {\"dt\": \"2004-01-01T00:00:00\", \"Loaded Export\": -7.955483760265669}, {\"dt\": \"2004-02-01T00:00:00\", \"Loaded Export\": -4.766504430300767}, {\"dt\": \"2004-03-01T00:00:00\", \"Loaded Export\": 7.348439599820811}, {\"dt\": \"2004-04-01T00:00:00\", \"Loaded Export\": 5.126319000007684}, {\"dt\": \"2004-05-01T00:00:00\", \"Loaded Export\": -1.311446551951767}, {\"dt\": \"2004-06-01T00:00:00\", \"Loaded Export\": 0.1982525849623995}, {\"dt\": \"2004-07-01T00:00:00\", \"Loaded Export\": -1.472408073982412}, {\"dt\": \"2004-08-01T00:00:00\", \"Loaded Export\": -1.5752590662545418}, {\"dt\": \"2004-09-01T00:00:00\", \"Loaded Export\": -9.216771208471464}, {\"dt\": \"2004-10-01T00:00:00\", \"Loaded Export\": -2.483100051425935}, {\"dt\": \"2004-11-01T00:00:00\", \"Loaded Export\": -8.70889621420482}, {\"dt\": \"2004-12-01T00:00:00\", \"Loaded Export\": -10.602913747038368}, {\"dt\": \"2005-01-01T00:00:00\", \"Loaded Export\": -14.25536790662585}, {\"dt\": \"2005-02-01T00:00:00\", \"Loaded Export\": -8.481652614446745}, {\"dt\": \"2005-03-01T00:00:00\", \"Loaded Export\": -6.584163580407909}, {\"dt\": \"2005-04-01T00:00:00\", \"Loaded Export\": 4.395802654547931}, {\"dt\": \"2005-05-01T00:00:00\", \"Loaded Export\": 4.268797225318965}, {\"dt\": \"2005-06-01T00:00:00\", \"Loaded Export\": 7.746649611664291}, {\"dt\": \"2005-07-01T00:00:00\", \"Loaded Export\": 1.6747315400390317}, {\"dt\": \"2005-08-01T00:00:00\", \"Loaded Export\": 9.652423919970698}, {\"dt\": \"2005-09-01T00:00:00\", \"Loaded Export\": 22.15121701322755}, {\"dt\": \"2005-10-01T00:00:00\", \"Loaded Export\": 7.3168332522719925}, {\"dt\": \"2005-11-01T00:00:00\", \"Loaded Export\": 8.844386971005136}, {\"dt\": \"2005-12-01T00:00:00\", \"Loaded Export\": 15.307578226765983}, {\"dt\": \"2006-01-01T00:00:00\", \"Loaded Export\": 20.607250855081993}, {\"dt\": \"2006-02-01T00:00:00\", \"Loaded Export\": 10.519744208756808}, {\"dt\": \"2006-03-01T00:00:00\", \"Loaded Export\": 19.346222749587017}, {\"dt\": \"2006-04-01T00:00:00\", \"Loaded Export\": 5.932124224066659}, {\"dt\": \"2006-05-01T00:00:00\", \"Loaded Export\": 13.007952366583432}, {\"dt\": \"2006-06-01T00:00:00\", \"Loaded Export\": 19.165677366625534}, {\"dt\": \"2006-07-01T00:00:00\", \"Loaded Export\": 27.255183372203295}, {\"dt\": \"2006-08-01T00:00:00\", \"Loaded Export\": 25.414140882851854}, {\"dt\": \"2006-09-01T00:00:00\", \"Loaded Export\": 33.554587735570074}, {\"dt\": \"2006-10-01T00:00:00\", \"Loaded Export\": 33.757600138508394}, {\"dt\": \"2006-11-01T00:00:00\", \"Loaded Export\": 24.807351306245916}, {\"dt\": \"2006-12-01T00:00:00\", \"Loaded Export\": 26.6293530513539}, {\"dt\": \"2007-01-01T00:00:00\", \"Loaded Export\": 23.92731672945201}, {\"dt\": \"2007-02-01T00:00:00\", \"Loaded Export\": 23.2910539612619}, {\"dt\": \"2007-03-01T00:00:00\", \"Loaded Export\": -0.22984158670622534}, {\"dt\": \"2007-04-01T00:00:00\", \"Loaded Export\": 8.536469758264541}, {\"dt\": \"2007-05-01T00:00:00\", \"Loaded Export\": 12.986802739109681}, {\"dt\": \"2007-06-01T00:00:00\", \"Loaded Export\": 18.03959989460402}, {\"dt\": \"2007-07-01T00:00:00\", \"Loaded Export\": 4.39644981139371}, {\"dt\": \"2007-08-01T00:00:00\", \"Loaded Export\": 15.208615985958751}, {\"dt\": \"2007-09-01T00:00:00\", \"Loaded Export\": 9.27644464484494}, {\"dt\": \"2007-10-01T00:00:00\", \"Loaded Export\": 11.85629905147323}, {\"dt\": \"2007-11-01T00:00:00\", \"Loaded Export\": 18.412137370970115}, {\"dt\": \"2007-12-01T00:00:00\", \"Loaded Export\": 14.40995923695283}, {\"dt\": \"2008-01-01T00:00:00\", \"Loaded Export\": 18.898887556179723}, {\"dt\": \"2008-02-01T00:00:00\", \"Loaded Export\": 29.570060381117713}, {\"dt\": \"2008-03-01T00:00:00\", \"Loaded Export\": 21.129697547593395}, {\"dt\": \"2008-04-01T00:00:00\", \"Loaded Export\": 19.481186879971403}, {\"dt\": \"2008-05-01T00:00:00\", \"Loaded Export\": 22.115638688644168}, {\"dt\": \"2008-06-01T00:00:00\", \"Loaded Export\": 10.950475679134474}, {\"dt\": \"2008-07-01T00:00:00\", \"Loaded Export\": 33.99811330582387}, {\"dt\": \"2008-08-01T00:00:00\", \"Loaded Export\": 27.60098142000116}, {\"dt\": \"2008-09-01T00:00:00\", \"Loaded Export\": 5.713408887778715}, {\"dt\": \"2008-10-01T00:00:00\", \"Loaded Export\": -8.251663044754576}, {\"dt\": \"2008-11-01T00:00:00\", \"Loaded Export\": -12.825028274554962}, {\"dt\": \"2008-12-01T00:00:00\", \"Loaded Export\": -25.937390294618023}, {\"dt\": \"2009-01-01T00:00:00\", \"Loaded Export\": -29.365713696711214}, {\"dt\": \"2009-02-01T00:00:00\", \"Loaded Export\": -27.59533281449764}, {\"dt\": \"2009-03-01T00:00:00\", \"Loaded Export\": -9.811440550831296}, {\"dt\": \"2009-04-01T00:00:00\", \"Loaded Export\": -4.234604105571849}, {\"dt\": \"2009-05-01T00:00:00\", \"Loaded Export\": -7.0644132468415055}, {\"dt\": \"2009-06-01T00:00:00\", \"Loaded Export\": -9.040474398276722}, {\"dt\": \"2009-07-01T00:00:00\", \"Loaded Export\": -20.375265259817855}, {\"dt\": \"2009-08-01T00:00:00\", \"Loaded Export\": -14.219242564724343}, {\"dt\": \"2009-09-01T00:00:00\", \"Loaded Export\": -2.230245537853537}, {\"dt\": \"2009-10-01T00:00:00\", \"Loaded Export\": 11.776020239716}, {\"dt\": \"2009-11-01T00:00:00\", \"Loaded Export\": 17.80825380275626}, {\"dt\": \"2009-12-01T00:00:00\", \"Loaded Export\": 40.22806721693275}, {\"dt\": \"2010-01-01T00:00:00\", \"Loaded Export\": 35.15704057050857}, {\"dt\": \"2010-02-01T00:00:00\", \"Loaded Export\": 32.55546271010638}, {\"dt\": \"2010-03-01T00:00:00\", \"Loaded Export\": 15.76986503260609}, {\"dt\": \"2010-04-01T00:00:00\", \"Loaded Export\": 12.432808583459366}, {\"dt\": \"2010-05-01T00:00:00\", \"Loaded Export\": 5.344924551597252}, {\"dt\": \"2010-06-01T00:00:00\", \"Loaded Export\": 12.639781247449244}, {\"dt\": \"2010-07-01T00:00:00\", \"Loaded Export\": 5.858156669529446}, {\"dt\": \"2010-08-01T00:00:00\", \"Loaded Export\": -1.817695047608281}, {\"dt\": \"2010-09-01T00:00:00\", \"Loaded Export\": -0.33560037356260564}, {\"dt\": \"2010-10-01T00:00:00\", \"Loaded Export\": 0.260194116758794}, {\"dt\": \"2010-11-01T00:00:00\", \"Loaded Export\": 14.194869656227137}, {\"dt\": \"2010-12-01T00:00:00\", \"Loaded Export\": 5.062842693378999}, {\"dt\": \"2011-01-01T00:00:00\", \"Loaded Export\": 12.607482822218374}, {\"dt\": \"2011-02-01T00:00:00\", \"Loaded Export\": 1.6436641122293816}, {\"dt\": \"2011-03-01T00:00:00\", \"Loaded Export\": 19.177557329510076}, {\"dt\": \"2011-04-01T00:00:00\", \"Loaded Export\": 5.753672523336162}, {\"dt\": \"2011-05-01T00:00:00\", \"Loaded Export\": 14.72610255492346}, {\"dt\": \"2011-06-01T00:00:00\", \"Loaded Export\": 5.55082881507265}, {\"dt\": \"2011-07-01T00:00:00\", \"Loaded Export\": 12.821384346043807}, {\"dt\": \"2011-08-01T00:00:00\", \"Loaded Export\": 24.810690423162573}, {\"dt\": \"2011-09-01T00:00:00\", \"Loaded Export\": 26.576490385389164}, {\"dt\": \"2011-10-01T00:00:00\", \"Loaded Export\": 28.13594948650684}, {\"dt\": \"2011-11-01T00:00:00\", \"Loaded Export\": 15.006230945709298}, {\"dt\": \"2011-12-01T00:00:00\", \"Loaded Export\": 9.222428460943544}, {\"dt\": \"2012-01-01T00:00:00\", \"Loaded Export\": 5.895130956628614}, {\"dt\": \"2012-02-01T00:00:00\", \"Loaded Export\": 9.55608983951528}, {\"dt\": \"2012-03-01T00:00:00\", \"Loaded Export\": -2.433895905739847}, {\"dt\": \"2012-04-01T00:00:00\", \"Loaded Export\": 11.579697010867541}, {\"dt\": \"2012-05-01T00:00:00\", \"Loaded Export\": 0.45204301191972274}, {\"dt\": \"2012-06-01T00:00:00\", \"Loaded Export\": 6.915036265475849}, {\"dt\": \"2012-07-01T00:00:00\", \"Loaded Export\": 0.2700816451968846}, {\"dt\": \"2012-08-01T00:00:00\", \"Loaded Export\": -10.537014571340952}, {\"dt\": \"2012-09-01T00:00:00\", \"Loaded Export\": -2.555180223136766}, {\"dt\": \"2012-10-01T00:00:00\", \"Loaded Export\": -7.097602529608327}, {\"dt\": \"2012-11-01T00:00:00\", \"Loaded Export\": -25.79861673926722}, {\"dt\": \"2012-12-01T00:00:00\", \"Loaded Export\": -16.492169211313048}, {\"dt\": \"2013-01-01T00:00:00\", \"Loaded Export\": -5.444198376744824}, {\"dt\": \"2013-02-01T00:00:00\", \"Loaded Export\": -4.877515742122107}, {\"dt\": \"2013-03-01T00:00:00\", \"Loaded Export\": -17.925200166883247}, {\"dt\": \"2013-04-01T00:00:00\", \"Loaded Export\": -14.295118906326731}, {\"dt\": \"2013-05-01T00:00:00\", \"Loaded Export\": -16.316464756965544}, {\"dt\": \"2013-06-01T00:00:00\", \"Loaded Export\": -15.029820560635143}, {\"dt\": \"2013-07-01T00:00:00\", \"Loaded Export\": -4.828898199524401}, {\"dt\": \"2013-08-01T00:00:00\", \"Loaded Export\": -3.8433069002966946}, {\"dt\": \"2013-09-01T00:00:00\", \"Loaded Export\": -12.78918882868828}, {\"dt\": \"2013-10-01T00:00:00\", \"Loaded Export\": -5.69613565392455}, {\"dt\": \"2013-11-01T00:00:00\", \"Loaded Export\": 23.27701865918097}, {\"dt\": \"2013-12-01T00:00:00\", \"Loaded Export\": 16.852873142174918}, {\"dt\": \"2014-01-01T00:00:00\", \"Loaded Export\": 1.6834372007597853}, {\"dt\": \"2014-02-01T00:00:00\", \"Loaded Export\": -6.232020715964404}, {\"dt\": \"2014-03-01T00:00:00\", \"Loaded Export\": 21.62671013885089}, {\"dt\": \"2014-04-01T00:00:00\", \"Loaded Export\": 8.003366025623016}, {\"dt\": \"2014-05-01T00:00:00\", \"Loaded Export\": 2.3036774270599025}, {\"dt\": \"2014-06-01T00:00:00\", \"Loaded Export\": 8.514981090190176}, {\"dt\": \"2014-07-01T00:00:00\", \"Loaded Export\": 3.622795244486321}, {\"dt\": \"2014-08-01T00:00:00\", \"Loaded Export\": 6.160539358738548}, {\"dt\": \"2014-09-01T00:00:00\", \"Loaded Export\": 0.1984971405772029}, {\"dt\": \"2014-10-01T00:00:00\", \"Loaded Export\": -6.715142722767975}, {\"dt\": \"2014-11-01T00:00:00\", \"Loaded Export\": -15.96630682444471}, {\"dt\": \"2014-12-01T00:00:00\", \"Loaded Export\": -11.696785691479795}, {\"dt\": \"2015-01-01T00:00:00\", \"Loaded Export\": -23.20217242965694}, {\"dt\": \"2015-02-01T00:00:00\", \"Loaded Export\": -10.290401784574865}, {\"dt\": \"2015-03-01T00:00:00\", \"Loaded Export\": -22.515386581197493}, {\"dt\": \"2015-04-01T00:00:00\", \"Loaded Export\": -15.77927118553415}, {\"dt\": \"2015-05-01T00:00:00\", \"Loaded Export\": -3.5059600058054086}, {\"dt\": \"2015-06-01T00:00:00\", \"Loaded Export\": -10.740845525826526}, {\"dt\": \"2015-07-01T00:00:00\", \"Loaded Export\": -16.468711438535898}, {\"dt\": \"2015-08-01T00:00:00\", \"Loaded Export\": -14.45009747515572}, {\"dt\": \"2015-09-01T00:00:00\", \"Loaded Export\": -17.515770332197356}, {\"dt\": \"2015-10-01T00:00:00\", \"Loaded Export\": -14.677917455581092}, {\"dt\": \"2015-11-01T00:00:00\", \"Loaded Export\": -5.6770030816641}, {\"dt\": \"2015-12-01T00:00:00\", \"Loaded Export\": -13.722125802040598}, {\"dt\": \"2016-01-01T00:00:00\", \"Loaded Export\": 1.507856897324622}, {\"dt\": \"2016-02-01T00:00:00\", \"Loaded Export\": 11.139245788333652}, {\"dt\": \"2016-03-01T00:00:00\", \"Loaded Export\": 9.500210428673261}, {\"dt\": \"2016-04-01T00:00:00\", \"Loaded Export\": -1.0655260777552522}, {\"dt\": \"2016-05-01T00:00:00\", \"Loaded Export\": 6.258296984638734}, {\"dt\": \"2016-06-01T00:00:00\", \"Loaded Export\": -2.081341421149885}, {\"dt\": \"2016-07-01T00:00:00\", \"Loaded Export\": -2.8679931379305246}, {\"dt\": \"2016-08-01T00:00:00\", \"Loaded Export\": 6.300716985326815}, {\"dt\": \"2016-09-01T00:00:00\", \"Loaded Export\": 16.743840818756727}, {\"dt\": \"2016-10-01T00:00:00\", \"Loaded Export\": 23.296996415704218}, {\"dt\": \"2016-11-01T00:00:00\", \"Loaded Export\": 24.883423314632957}, {\"dt\": \"2016-12-01T00:00:00\", \"Loaded Export\": 25.64900677390105}, {\"dt\": \"2017-01-01T00:00:00\", \"Loaded Export\": 28.659186235795953}, {\"dt\": \"2017-02-01T00:00:00\", \"Loaded Export\": 6.054321577595556}, {\"dt\": \"2017-03-01T00:00:00\", \"Loaded Export\": 20.33681073025335}, {\"dt\": \"2017-04-01T00:00:00\", \"Loaded Export\": 9.40832559874396}, {\"dt\": \"2017-05-01T00:00:00\", \"Loaded Export\": 4.401582895862433}, {\"dt\": \"2017-06-01T00:00:00\", \"Loaded Export\": 3.532973111413873}, {\"dt\": \"2017-07-01T00:00:00\", \"Loaded Export\": 16.933919541097442}, {\"dt\": \"2017-08-01T00:00:00\", \"Loaded Export\": 4.0469265710270985}, {\"dt\": \"2017-09-01T00:00:00\", \"Loaded Export\": -11.475658399166067}, {\"dt\": \"2017-10-01T00:00:00\", \"Loaded Export\": -13.338741784037556}, {\"dt\": \"2017-11-01T00:00:00\", \"Loaded Export\": 0.31193661470543255}, {\"dt\": \"2017-12-01T00:00:00\", \"Loaded Export\": -7.298340514431434}, {\"dt\": \"2018-01-01T00:00:00\", \"Loaded Export\": -7.625138529737718}, {\"dt\": \"2018-02-01T00:00:00\", \"Loaded Export\": 1.4377148469998158}, {\"dt\": \"2018-03-01T00:00:00\", \"Loaded Export\": -14.634637270609463}, {\"dt\": \"2018-04-01T00:00:00\", \"Loaded Export\": 4.466626284793684}, {\"dt\": \"2018-05-01T00:00:00\", \"Loaded Export\": -0.5648760013911902}, {\"dt\": \"2018-06-01T00:00:00\", \"Loaded Export\": 1.3988765010049642}, {\"dt\": \"2018-07-01T00:00:00\", \"Loaded Export\": 8.433717442064982}, {\"dt\": \"2018-08-01T00:00:00\", \"Loaded Export\": 2.0531165788300054}, {\"dt\": \"2018-09-01T00:00:00\", \"Loaded Export\": 14.445037000128469}, {\"dt\": \"2018-10-01T00:00:00\", \"Loaded Export\": 20.535470035833225}, {\"dt\": \"2018-11-01T00:00:00\", \"Loaded Export\": -14.268771815437887}, {\"dt\": \"2018-12-01T00:00:00\", \"Loaded Export\": -3.20549764335315}, {\"dt\": \"2019-01-01T00:00:00\", \"Loaded Export\": -3.360710233095221}, {\"dt\": \"2019-02-01T00:00:00\", \"Loaded Export\": -9.541614778739305}, {\"dt\": \"2019-03-01T00:00:00\", \"Loaded Export\": -2.9216284127737024}, {\"dt\": \"2019-04-01T00:00:00\", \"Loaded Export\": -5.56812189650927}, {\"dt\": \"2019-05-01T00:00:00\", \"Loaded Export\": -0.7846182803906143}, {\"dt\": \"2019-06-01T00:00:00\", \"Loaded Export\": -5.587603959657972}, {\"dt\": \"2019-07-01T00:00:00\", \"Loaded Export\": -3.959420626310517}, {\"dt\": \"2019-08-01T00:00:00\", \"Loaded Export\": -9.95996073012424}, {\"dt\": \"2019-09-01T00:00:00\", \"Loaded Export\": -11.041534154878075}, {\"dt\": \"2019-10-01T00:00:00\", \"Loaded Export\": -19.268006298328366}, {\"dt\": \"2019-11-01T00:00:00\", \"Loaded Export\": -9.167229408563726}, {\"dt\": \"2019-12-01T00:00:00\", \"Loaded Export\": -11.987194303533123}, {\"dt\": \"2020-01-01T00:00:00\", \"Loaded Export\": 2.215969046781563}]}}, {\"mode\": \"vega-lite\"});\n",
       "</script>"
      ],
      "text/plain": [
       "alt.Chart(...)"
      ]
     },
     "execution_count": 25,
     "metadata": {},
     "output_type": "execute_result"
    }
   ],
   "source": [
    "doYoyChart(df_la, location='Los Angeles', metric='Loaded Export')"
   ]
  },
  {
   "cell_type": "code",
   "execution_count": 26,
   "metadata": {},
   "outputs": [
    {
     "data": {
      "text/html": [
       "\n",
       "<div id=\"altair-viz-cc2f6672124d4198949b9ee895a64117\"></div>\n",
       "<script type=\"text/javascript\">\n",
       "  (function(spec, embedOpt){\n",
       "    const outputDiv = document.getElementById(\"altair-viz-cc2f6672124d4198949b9ee895a64117\");\n",
       "    const paths = {\n",
       "      \"vega\": \"https://cdn.jsdelivr.net/npm//vega@5?noext\",\n",
       "      \"vega-lib\": \"https://cdn.jsdelivr.net/npm//vega-lib?noext\",\n",
       "      \"vega-lite\": \"https://cdn.jsdelivr.net/npm//vega-lite@4.0.2?noext\",\n",
       "      \"vega-embed\": \"https://cdn.jsdelivr.net/npm//vega-embed@6?noext\",\n",
       "    };\n",
       "\n",
       "    function loadScript(lib) {\n",
       "      return new Promise(function(resolve, reject) {\n",
       "        var s = document.createElement('script');\n",
       "        s.src = paths[lib];\n",
       "        s.async = true;\n",
       "        s.onload = () => resolve(paths[lib]);\n",
       "        s.onerror = () => reject(`Error loading script: ${paths[lib]}`);\n",
       "        document.getElementsByTagName(\"head\")[0].appendChild(s);\n",
       "      });\n",
       "    }\n",
       "\n",
       "    function showError(err) {\n",
       "      outputDiv.innerHTML = `<div class=\"error\" style=\"color:red;\">${err}</div>`;\n",
       "      throw err;\n",
       "    }\n",
       "\n",
       "    function displayChart(vegaEmbed) {\n",
       "      vegaEmbed(outputDiv, spec, embedOpt)\n",
       "        .catch(err => showError(`Javascript Error: ${err.message}<br>This usually means there's a typo in your chart specification. See the javascript console for the full traceback.`));\n",
       "    }\n",
       "\n",
       "    if(typeof define === \"function\" && define.amd) {\n",
       "      requirejs.config({paths});\n",
       "      require([\"vega-embed\"], displayChart, err => showError(`Error loading script: ${err.message}`));\n",
       "    } else if (typeof vegaEmbed === \"function\") {\n",
       "      displayChart(vegaEmbed);\n",
       "    } else {\n",
       "      loadScript(\"vega\")\n",
       "        .then(() => loadScript(\"vega-lite\"))\n",
       "        .then(() => loadScript(\"vega-embed\"))\n",
       "        .catch(showError)\n",
       "        .then(() => displayChart(vegaEmbed));\n",
       "    }\n",
       "  })({\"config\": {\"view\": {\"continuousWidth\": 400, \"continuousHeight\": 300}}, \"data\": {\"name\": \"data-10dbc7981094c9425a3feb7a057199e3\"}, \"mark\": {\"type\": \"bar\", \"color\": \"blue\", \"width\": 2}, \"encoding\": {\"tooltip\": [{\"type\": \"temporal\", \"field\": \"dt\", \"format\": \"%b %Y\"}, {\"type\": \"quantitative\", \"field\": \"Total Imports\"}], \"x\": {\"type\": \"temporal\", \"axis\": {\"title\": \"\"}, \"field\": \"dt\"}, \"y\": {\"type\": \"quantitative\", \"axis\": {\"title\": \"Year-over-Year Volume Growth [%]\"}, \"field\": \"Total Imports\"}}, \"height\": 400, \"title\": \"Port of Los Angeles Total Imports Container Volume Growth\", \"width\": 750, \"$schema\": \"https://vega.github.io/schema/vega-lite/v4.0.2.json\", \"datasets\": {\"data-10dbc7981094c9425a3feb7a057199e3\": [{\"dt\": \"1996-01-01T00:00:00\", \"Total Imports\": null}, {\"dt\": \"1996-02-01T00:00:00\", \"Total Imports\": null}, {\"dt\": \"1996-03-01T00:00:00\", \"Total Imports\": null}, {\"dt\": \"1996-04-01T00:00:00\", \"Total Imports\": null}, {\"dt\": \"1996-05-01T00:00:00\", \"Total Imports\": null}, {\"dt\": \"1996-06-01T00:00:00\", \"Total Imports\": null}, {\"dt\": \"1996-07-01T00:00:00\", \"Total Imports\": null}, {\"dt\": \"1996-08-01T00:00:00\", \"Total Imports\": null}, {\"dt\": \"1996-09-01T00:00:00\", \"Total Imports\": null}, {\"dt\": \"1996-10-01T00:00:00\", \"Total Imports\": null}, {\"dt\": \"1996-11-01T00:00:00\", \"Total Imports\": null}, {\"dt\": \"1996-12-01T00:00:00\", \"Total Imports\": null}, {\"dt\": \"1997-01-01T00:00:00\", \"Total Imports\": 13.965964847293844}, {\"dt\": \"1997-02-01T00:00:00\", \"Total Imports\": 12.976121935319318}, {\"dt\": \"1997-03-01T00:00:00\", \"Total Imports\": 16.672144486484065}, {\"dt\": \"1997-04-01T00:00:00\", \"Total Imports\": 16.71975266898795}, {\"dt\": \"1997-05-01T00:00:00\", \"Total Imports\": 18.35161053649923}, {\"dt\": \"1997-06-01T00:00:00\", \"Total Imports\": 17.414619645541208}, {\"dt\": \"1997-07-01T00:00:00\", \"Total Imports\": 10.595381474738442}, {\"dt\": \"1997-08-01T00:00:00\", \"Total Imports\": 6.771110435155903}, {\"dt\": \"1997-09-01T00:00:00\", \"Total Imports\": 6.715578847777648}, {\"dt\": \"1997-10-01T00:00:00\", \"Total Imports\": -0.003011855285550702}, {\"dt\": \"1997-11-01T00:00:00\", \"Total Imports\": 2.611184856543969}, {\"dt\": \"1997-12-01T00:00:00\", \"Total Imports\": 9.709896865196988}, {\"dt\": \"1998-01-01T00:00:00\", \"Total Imports\": -0.8932850744541976}, {\"dt\": \"1998-02-01T00:00:00\", \"Total Imports\": 9.08689313563167}, {\"dt\": \"1998-03-01T00:00:00\", \"Total Imports\": 37.045654053408626}, {\"dt\": \"1998-04-01T00:00:00\", \"Total Imports\": 19.04976343665179}, {\"dt\": \"1998-05-01T00:00:00\", \"Total Imports\": 22.30417112862735}, {\"dt\": \"1998-06-01T00:00:00\", \"Total Imports\": 13.849048234075024}, {\"dt\": \"1998-07-01T00:00:00\", \"Total Imports\": 10.568379241801606}, {\"dt\": \"1998-08-01T00:00:00\", \"Total Imports\": 19.361826250785885}, {\"dt\": \"1998-09-01T00:00:00\", \"Total Imports\": 9.441246213880717}, {\"dt\": \"1998-10-01T00:00:00\", \"Total Imports\": 17.267728764222777}, {\"dt\": \"1998-11-01T00:00:00\", \"Total Imports\": 20.002259696791146}, {\"dt\": \"1998-12-01T00:00:00\", \"Total Imports\": 4.355182269699442}, {\"dt\": \"1999-01-01T00:00:00\", \"Total Imports\": 12.852969892316878}, {\"dt\": \"1999-02-01T00:00:00\", \"Total Imports\": 15.534697827218324}, {\"dt\": \"1999-03-01T00:00:00\", \"Total Imports\": -8.403846737172538}, {\"dt\": \"1999-04-01T00:00:00\", \"Total Imports\": -0.62369779827397}, {\"dt\": \"1999-05-01T00:00:00\", \"Total Imports\": 9.432218823170558}, {\"dt\": \"1999-06-01T00:00:00\", \"Total Imports\": 6.291923185823856}, {\"dt\": \"1999-07-01T00:00:00\", \"Total Imports\": 16.400504945489992}, {\"dt\": \"1999-08-01T00:00:00\", \"Total Imports\": 10.008060108132245}, {\"dt\": \"1999-09-01T00:00:00\", \"Total Imports\": 18.957945522322817}, {\"dt\": \"1999-10-01T00:00:00\", \"Total Imports\": 22.908289728973962}, {\"dt\": \"1999-11-01T00:00:00\", \"Total Imports\": 16.686560807510453}, {\"dt\": \"1999-12-01T00:00:00\", \"Total Imports\": 27.34525576582061}, {\"dt\": \"2000-01-01T00:00:00\", \"Total Imports\": 36.63485330754208}, {\"dt\": \"2000-02-01T00:00:00\", \"Total Imports\": 23.7959683966668}, {\"dt\": \"2000-03-01T00:00:00\", \"Total Imports\": 32.77253402139435}, {\"dt\": \"2000-04-01T00:00:00\", \"Total Imports\": 43.36987539577828}, {\"dt\": \"2000-05-01T00:00:00\", \"Total Imports\": 19.00494331177296}, {\"dt\": \"2000-06-01T00:00:00\", \"Total Imports\": 29.6962926707663}, {\"dt\": \"2000-07-01T00:00:00\", \"Total Imports\": 31.715564213060365}, {\"dt\": \"2000-08-01T00:00:00\", \"Total Imports\": 33.0729948135893}, {\"dt\": \"2000-09-01T00:00:00\", \"Total Imports\": 21.79110405295681}, {\"dt\": \"2000-10-01T00:00:00\", \"Total Imports\": 25.12774296383853}, {\"dt\": \"2000-11-01T00:00:00\", \"Total Imports\": 13.834313053885072}, {\"dt\": \"2000-12-01T00:00:00\", \"Total Imports\": 13.741518208172732}, {\"dt\": \"2001-01-01T00:00:00\", \"Total Imports\": 9.34369352829425}, {\"dt\": \"2001-02-01T00:00:00\", \"Total Imports\": -7.139634741748003}, {\"dt\": \"2001-03-01T00:00:00\", \"Total Imports\": 15.307744538719504}, {\"dt\": \"2001-04-01T00:00:00\", \"Total Imports\": 0.5943507382485613}, {\"dt\": \"2001-05-01T00:00:00\", \"Total Imports\": -1.785911925076944}, {\"dt\": \"2001-06-01T00:00:00\", \"Total Imports\": 10.443219231287436}, {\"dt\": \"2001-07-01T00:00:00\", \"Total Imports\": 2.7282258560906048}, {\"dt\": \"2001-08-01T00:00:00\", \"Total Imports\": 4.451837054805319}, {\"dt\": \"2001-09-01T00:00:00\", \"Total Imports\": 20.939759527912628}, {\"dt\": \"2001-10-01T00:00:00\", \"Total Imports\": 5.560939015297794}, {\"dt\": \"2001-11-01T00:00:00\", \"Total Imports\": 14.995160749000469}, {\"dt\": \"2001-12-01T00:00:00\", \"Total Imports\": 11.262546470118128}, {\"dt\": \"2002-01-01T00:00:00\", \"Total Imports\": 3.9970544821889}, {\"dt\": \"2002-02-01T00:00:00\", \"Total Imports\": 49.49161643137818}, {\"dt\": \"2002-03-01T00:00:00\", \"Total Imports\": 5.831159330745472}, {\"dt\": \"2002-04-01T00:00:00\", \"Total Imports\": 24.793138590484176}, {\"dt\": \"2002-05-01T00:00:00\", \"Total Imports\": 32.9770097152388}, {\"dt\": \"2002-06-01T00:00:00\", \"Total Imports\": 24.025192036304844}, {\"dt\": \"2002-07-01T00:00:00\", \"Total Imports\": 8.623569490805739}, {\"dt\": \"2002-08-01T00:00:00\", \"Total Imports\": 29.798731088410356}, {\"dt\": \"2002-09-01T00:00:00\", \"Total Imports\": 20.10755251881271}, {\"dt\": \"2002-10-01T00:00:00\", \"Total Imports\": -3.5408766076832743}, {\"dt\": \"2002-11-01T00:00:00\", \"Total Imports\": 24.65688878298524}, {\"dt\": \"2002-12-01T00:00:00\", \"Total Imports\": 35.5104909345664}, {\"dt\": \"2003-01-01T00:00:00\", \"Total Imports\": 25.21284774075361}, {\"dt\": \"2003-02-01T00:00:00\", \"Total Imports\": 12.521258525167745}, {\"dt\": \"2003-03-01T00:00:00\", \"Total Imports\": 29.806565408601806}, {\"dt\": \"2003-04-01T00:00:00\", \"Total Imports\": 18.21283031702654}, {\"dt\": \"2003-05-01T00:00:00\", \"Total Imports\": 22.46625607232462}, {\"dt\": \"2003-06-01T00:00:00\", \"Total Imports\": 1.474521470527379}, {\"dt\": \"2003-07-01T00:00:00\", \"Total Imports\": 21.993799187370676}, {\"dt\": \"2003-08-01T00:00:00\", \"Total Imports\": 5.992491667016253}, {\"dt\": \"2003-09-01T00:00:00\", \"Total Imports\": 5.894600495004854}, {\"dt\": \"2003-10-01T00:00:00\", \"Total Imports\": 40.304188244094895}, {\"dt\": \"2003-11-01T00:00:00\", \"Total Imports\": 12.294110053326568}, {\"dt\": \"2003-12-01T00:00:00\", \"Total Imports\": 0.28908990258202927}, {\"dt\": \"2004-01-01T00:00:00\", \"Total Imports\": 24.931139166429016}, {\"dt\": \"2004-02-01T00:00:00\", \"Total Imports\": -9.838483363331452}, {\"dt\": \"2004-03-01T00:00:00\", \"Total Imports\": 14.1553459856949}, {\"dt\": \"2004-04-01T00:00:00\", \"Total Imports\": 5.702369439626609}, {\"dt\": \"2004-05-01T00:00:00\", \"Total Imports\": 5.413235889277734}, {\"dt\": \"2004-06-01T00:00:00\", \"Total Imports\": 13.457011031840182}, {\"dt\": \"2004-07-01T00:00:00\", \"Total Imports\": 10.29721140301616}, {\"dt\": \"2004-08-01T00:00:00\", \"Total Imports\": -4.4262510446607894}, {\"dt\": \"2004-09-01T00:00:00\", \"Total Imports\": -7.455554680554077}, {\"dt\": \"2004-10-01T00:00:00\", \"Total Imports\": -5.211670010874448}, {\"dt\": \"2004-11-01T00:00:00\", \"Total Imports\": 0.49418077169274266}, {\"dt\": \"2004-12-01T00:00:00\", \"Total Imports\": -7.725579343120936}, {\"dt\": \"2005-01-01T00:00:00\", \"Total Imports\": -11.66994850056403}, {\"dt\": \"2005-02-01T00:00:00\", \"Total Imports\": 18.696572958706035}, {\"dt\": \"2005-03-01T00:00:00\", \"Total Imports\": -23.059548405273112}, {\"dt\": \"2005-04-01T00:00:00\", \"Total Imports\": -2.6788960327725153}, {\"dt\": \"2005-05-01T00:00:00\", \"Total Imports\": -12.980649800614497}, {\"dt\": \"2005-06-01T00:00:00\", \"Total Imports\": -1.8653487227916488}, {\"dt\": \"2005-07-01T00:00:00\", \"Total Imports\": -2.510068999670123}, {\"dt\": \"2005-08-01T00:00:00\", \"Total Imports\": 1.6116714316352532}, {\"dt\": \"2005-09-01T00:00:00\", \"Total Imports\": 10.040737398399301}, {\"dt\": \"2005-10-01T00:00:00\", \"Total Imports\": 6.331689762794834}, {\"dt\": \"2005-11-01T00:00:00\", \"Total Imports\": -2.356665364898858}, {\"dt\": \"2005-12-01T00:00:00\", \"Total Imports\": 15.877906090080307}, {\"dt\": \"2006-01-01T00:00:00\", \"Total Imports\": 7.180184213683138}, {\"dt\": \"2006-02-01T00:00:00\", \"Total Imports\": -14.356250687660078}, {\"dt\": \"2006-03-01T00:00:00\", \"Total Imports\": 31.745444468834606}, {\"dt\": \"2006-04-01T00:00:00\", \"Total Imports\": 10.141335470082268}, {\"dt\": \"2006-05-01T00:00:00\", \"Total Imports\": 15.46022442001249}, {\"dt\": \"2006-06-01T00:00:00\", \"Total Imports\": 13.909985540924863}, {\"dt\": \"2006-07-01T00:00:00\", \"Total Imports\": 15.878544259094674}, {\"dt\": \"2006-08-01T00:00:00\", \"Total Imports\": 18.403824346605013}, {\"dt\": \"2006-09-01T00:00:00\", \"Total Imports\": 20.837185819265457}, {\"dt\": \"2006-10-01T00:00:00\", \"Total Imports\": 12.436406956550039}, {\"dt\": \"2006-11-01T00:00:00\", \"Total Imports\": 17.519742931915182}, {\"dt\": \"2006-12-01T00:00:00\", \"Total Imports\": 11.377706408127363}, {\"dt\": \"2007-01-01T00:00:00\", \"Total Imports\": 12.258542652176963}, {\"dt\": \"2007-02-01T00:00:00\", \"Total Imports\": 42.408210733529806}, {\"dt\": \"2007-03-01T00:00:00\", \"Total Imports\": -6.348837098208016}, {\"dt\": \"2007-04-01T00:00:00\", \"Total Imports\": 1.4428212289144593}, {\"dt\": \"2007-05-01T00:00:00\", \"Total Imports\": 0.0029143568129663677}, {\"dt\": \"2007-06-01T00:00:00\", \"Total Imports\": 1.348152507166711}, {\"dt\": \"2007-07-01T00:00:00\", \"Total Imports\": -6.237703584490173}, {\"dt\": \"2007-08-01T00:00:00\", \"Total Imports\": -8.448511283578464}, {\"dt\": \"2007-09-01T00:00:00\", \"Total Imports\": -5.418288088862322}, {\"dt\": \"2007-10-01T00:00:00\", \"Total Imports\": -6.5795979404008165}, {\"dt\": \"2007-11-01T00:00:00\", \"Total Imports\": -1.7856479292480798}, {\"dt\": \"2007-12-01T00:00:00\", \"Total Imports\": -5.3202385454227175}, {\"dt\": \"2008-01-01T00:00:00\", \"Total Imports\": -5.435558825063714}, {\"dt\": \"2008-02-01T00:00:00\", \"Total Imports\": -9.933665782907596}, {\"dt\": \"2008-03-01T00:00:00\", \"Total Imports\": -6.858025777184484}, {\"dt\": \"2008-04-01T00:00:00\", \"Total Imports\": -11.629697093164914}, {\"dt\": \"2008-05-01T00:00:00\", \"Total Imports\": 2.1450803159775544}, {\"dt\": \"2008-06-01T00:00:00\", \"Total Imports\": -11.799865763652972}, {\"dt\": \"2008-07-01T00:00:00\", \"Total Imports\": -2.7420365053573814}, {\"dt\": \"2008-08-01T00:00:00\", \"Total Imports\": 7.706361893384406}, {\"dt\": \"2008-09-01T00:00:00\", \"Total Imports\": -8.473216523795724}, {\"dt\": \"2008-10-01T00:00:00\", \"Total Imports\": -4.232792682383546}, {\"dt\": \"2008-11-01T00:00:00\", \"Total Imports\": -9.778683503776675}, {\"dt\": \"2008-12-01T00:00:00\", \"Total Imports\": -12.532557232187102}, {\"dt\": \"2009-01-01T00:00:00\", \"Total Imports\": -7.709483109143111}, {\"dt\": \"2009-02-01T00:00:00\", \"Total Imports\": -35.54417158662704}, {\"dt\": \"2009-03-01T00:00:00\", \"Total Imports\": -6.503787236344715}, {\"dt\": \"2009-04-01T00:00:00\", \"Total Imports\": -15.117617446807685}, {\"dt\": \"2009-05-01T00:00:00\", \"Total Imports\": -18.743271230598623}, {\"dt\": \"2009-06-01T00:00:00\", \"Total Imports\": -18.111384201835367}, {\"dt\": \"2009-07-01T00:00:00\", \"Total Imports\": -18.315124042352494}, {\"dt\": \"2009-08-01T00:00:00\", \"Total Imports\": -19.922419931789502}, {\"dt\": \"2009-09-01T00:00:00\", \"Total Imports\": -16.087879711129926}, {\"dt\": \"2009-10-01T00:00:00\", \"Total Imports\": -9.240087316093037}, {\"dt\": \"2009-11-01T00:00:00\", \"Total Imports\": -12.225100382528753}, {\"dt\": \"2009-12-01T00:00:00\", \"Total Imports\": -4.541333372087886}, {\"dt\": \"2010-01-01T00:00:00\", \"Total Imports\": -5.520397554022704}, {\"dt\": \"2010-02-01T00:00:00\", \"Total Imports\": 32.069257872450805}, {\"dt\": \"2010-03-01T00:00:00\", \"Total Imports\": 0.019755538961452324}, {\"dt\": \"2010-04-01T00:00:00\", \"Total Imports\": 10.533018193888854}, {\"dt\": \"2010-05-01T00:00:00\", \"Total Imports\": 14.884992475456427}, {\"dt\": \"2010-06-01T00:00:00\", \"Total Imports\": 33.44718412523575}, {\"dt\": \"2010-07-01T00:00:00\", \"Total Imports\": 22.049834731344053}, {\"dt\": \"2010-08-01T00:00:00\", \"Total Imports\": 24.406315887683228}, {\"dt\": \"2010-09-01T00:00:00\", \"Total Imports\": 21.225748471169958}, {\"dt\": \"2010-10-01T00:00:00\", \"Total Imports\": 4.622508050229479}, {\"dt\": \"2010-11-01T00:00:00\", \"Total Imports\": 13.453181644822521}, {\"dt\": \"2010-12-01T00:00:00\", \"Total Imports\": 8.252233436910771}, {\"dt\": \"2011-01-01T00:00:00\", \"Total Imports\": 17.3199800854265}, {\"dt\": \"2011-02-01T00:00:00\", \"Total Imports\": 5.173223374716929}, {\"dt\": \"2011-03-01T00:00:00\", \"Total Imports\": 11.021892551095158}, {\"dt\": \"2011-04-01T00:00:00\", \"Total Imports\": 4.979491271765979}, {\"dt\": \"2011-05-01T00:00:00\", \"Total Imports\": 6.649976182512329}, {\"dt\": \"2011-06-01T00:00:00\", \"Total Imports\": -7.7958624635044105}, {\"dt\": \"2011-07-01T00:00:00\", \"Total Imports\": -0.1334084085482634}, {\"dt\": \"2011-08-01T00:00:00\", \"Total Imports\": -3.88842744154414}, {\"dt\": \"2011-09-01T00:00:00\", \"Total Imports\": 0.9611899591992268}, {\"dt\": \"2011-10-01T00:00:00\", \"Total Imports\": 6.196170088458675}, {\"dt\": \"2011-11-01T00:00:00\", \"Total Imports\": 6.974236072982909}, {\"dt\": \"2011-12-01T00:00:00\", \"Total Imports\": 6.489645391703069}, {\"dt\": \"2012-01-01T00:00:00\", \"Total Imports\": 3.014438107762385}, {\"dt\": \"2012-02-01T00:00:00\", \"Total Imports\": -8.889188988703777}, {\"dt\": \"2012-03-01T00:00:00\", \"Total Imports\": 8.292491580559446}, {\"dt\": \"2012-04-01T00:00:00\", \"Total Imports\": 14.437777873303471}, {\"dt\": \"2012-05-01T00:00:00\", \"Total Imports\": 1.1853826882465057}, {\"dt\": \"2012-06-01T00:00:00\", \"Total Imports\": 4.058158113669008}, {\"dt\": \"2012-07-01T00:00:00\", \"Total Imports\": 1.4977236183736364}, {\"dt\": \"2012-08-01T00:00:00\", \"Total Imports\": -4.934154562490811}, {\"dt\": \"2012-09-01T00:00:00\", \"Total Imports\": 2.7413258417530395}, {\"dt\": \"2012-10-01T00:00:00\", \"Total Imports\": -1.5909431724524747}, {\"dt\": \"2012-11-01T00:00:00\", \"Total Imports\": -18.889760219167997}, {\"dt\": \"2012-12-01T00:00:00\", \"Total Imports\": -8.462057378605293}, {\"dt\": \"2013-01-01T00:00:00\", \"Total Imports\": -4.560265439045708}, {\"dt\": \"2013-02-01T00:00:00\", \"Total Imports\": 23.550722162250803}, {\"dt\": \"2013-03-01T00:00:00\", \"Total Imports\": -28.397571012747168}, {\"dt\": \"2013-04-01T00:00:00\", \"Total Imports\": -10.427547423949102}, {\"dt\": \"2013-05-01T00:00:00\", \"Total Imports\": -10.918317747899298}, {\"dt\": \"2013-06-01T00:00:00\", \"Total Imports\": -6.866532757046173}, {\"dt\": \"2013-07-01T00:00:00\", \"Total Imports\": 0.48894716876619615}, {\"dt\": \"2013-08-01T00:00:00\", \"Total Imports\": -0.7786114303091285}, {\"dt\": \"2013-09-01T00:00:00\", \"Total Imports\": -2.861393982577809}, {\"dt\": \"2013-10-01T00:00:00\", \"Total Imports\": -3.1874114715508384}, {\"dt\": \"2013-11-01T00:00:00\", \"Total Imports\": 17.81765107936064}, {\"dt\": \"2013-12-01T00:00:00\", \"Total Imports\": 9.230249888760156}, {\"dt\": \"2014-01-01T00:00:00\", \"Total Imports\": 6.470670706479931}, {\"dt\": \"2014-02-01T00:00:00\", \"Total Imports\": -8.899441714073742}, {\"dt\": \"2014-03-01T00:00:00\", \"Total Imports\": 41.36853605994701}, {\"dt\": \"2014-04-01T00:00:00\", \"Total Imports\": 12.837871618299035}, {\"dt\": \"2014-05-01T00:00:00\", \"Total Imports\": 8.836447729558362}, {\"dt\": \"2014-06-01T00:00:00\", \"Total Imports\": 16.966954241494925}, {\"dt\": \"2014-07-01T00:00:00\", \"Total Imports\": -0.6768195034784763}, {\"dt\": \"2014-08-01T00:00:00\", \"Total Imports\": 9.304491280459404}, {\"dt\": \"2014-09-01T00:00:00\", \"Total Imports\": 10.857146590274347}, {\"dt\": \"2014-10-01T00:00:00\", \"Total Imports\": 5.271468974796956}, {\"dt\": \"2014-11-01T00:00:00\", \"Total Imports\": -2.487455334598998}, {\"dt\": \"2014-12-01T00:00:00\", \"Total Imports\": 3.3854329660947924}, {\"dt\": \"2015-01-01T00:00:00\", \"Total Imports\": -27.920456961959417}, {\"dt\": \"2015-02-01T00:00:00\", \"Total Imports\": -12.336078689647934}, {\"dt\": \"2015-03-01T00:00:00\", \"Total Imports\": 28.09200204674529}, {\"dt\": \"2015-04-01T00:00:00\", \"Total Imports\": -10.170851783013113}, {\"dt\": \"2015-05-01T00:00:00\", \"Total Imports\": -2.262125107147195}, {\"dt\": \"2015-06-01T00:00:00\", \"Total Imports\": -4.623209510498549}, {\"dt\": \"2015-07-01T00:00:00\", \"Total Imports\": -4.784500473115905}, {\"dt\": \"2015-08-01T00:00:00\", \"Total Imports\": 3.552229858224454}, {\"dt\": \"2015-09-01T00:00:00\", \"Total Imports\": -9.489813333232755}, {\"dt\": \"2015-10-01T00:00:00\", \"Total Imports\": -2.3962240143160174}, {\"dt\": \"2015-11-01T00:00:00\", \"Total Imports\": 7.422853506881255}, {\"dt\": \"2015-12-01T00:00:00\", \"Total Imports\": -3.876913678163074}, {\"dt\": \"2016-01-01T00:00:00\", \"Total Imports\": 40.03527606732309}, {\"dt\": \"2016-02-01T00:00:00\", \"Total Imports\": 47.474255744384486}, {\"dt\": \"2016-03-01T00:00:00\", \"Total Imports\": -32.412709337813496}, {\"dt\": \"2016-04-01T00:00:00\", \"Total Imports\": 4.302140425140322}, {\"dt\": \"2016-05-01T00:00:00\", \"Total Imports\": 14.46368533826654}, {\"dt\": \"2016-06-01T00:00:00\", \"Total Imports\": -3.3361824296959552}, {\"dt\": \"2016-07-01T00:00:00\", \"Total Imports\": 4.820871821270556}, {\"dt\": \"2016-08-01T00:00:00\", \"Total Imports\": 1.4069459607379375}, {\"dt\": \"2016-09-01T00:00:00\", \"Total Imports\": 4.170931396065347}, {\"dt\": \"2016-10-01T00:00:00\", \"Total Imports\": 14.97821050216337}, {\"dt\": \"2016-11-01T00:00:00\", \"Total Imports\": 21.587648222724056}, {\"dt\": \"2016-12-01T00:00:00\", \"Total Imports\": 22.303108713599194}, {\"dt\": \"2017-01-01T00:00:00\", \"Total Imports\": 14.173607341057416}, {\"dt\": \"2017-02-01T00:00:00\", \"Total Imports\": -19.507744838024532}, {\"dt\": \"2017-03-01T00:00:00\", \"Total Imports\": 29.90983315799207}, {\"dt\": \"2017-04-01T00:00:00\", \"Total Imports\": 7.711131071385369}, {\"dt\": \"2017-05-01T00:00:00\", \"Total Imports\": 3.1072671343998826}, {\"dt\": \"2017-06-01T00:00:00\", \"Total Imports\": 4.821344928071203}, {\"dt\": \"2017-07-01T00:00:00\", \"Total Imports\": 12.708892470647282}, {\"dt\": \"2017-08-01T00:00:00\", \"Total Imports\": 4.6902191153978645}, {\"dt\": \"2017-09-01T00:00:00\", \"Total Imports\": -0.4030219143165925}, {\"dt\": \"2017-10-01T00:00:00\", \"Total Imports\": -7.06174041214922}, {\"dt\": \"2017-11-01T00:00:00\", \"Total Imports\": 6.12897710486251}, {\"dt\": \"2017-12-01T00:00:00\", \"Total Imports\": -1.8720578521102538}, {\"dt\": \"2018-01-01T00:00:00\", \"Total Imports\": 0.8710255643534559}, {\"dt\": \"2018-02-01T00:00:00\", \"Total Imports\": 27.254106893878216}, {\"dt\": \"2018-03-01T00:00:00\", \"Total Imports\": -28.989623530629004}, {\"dt\": \"2018-04-01T00:00:00\", \"Total Imports\": -2.3564764473582023}, {\"dt\": \"2018-05-01T00:00:00\", \"Total Imports\": -1.6794622498200629}, {\"dt\": \"2018-06-01T00:00:00\", \"Total Imports\": 2.764368692911612}, {\"dt\": \"2018-07-01T00:00:00\", \"Total Imports\": 6.314015019946662}, {\"dt\": \"2018-08-01T00:00:00\", \"Total Imports\": -0.5332264352467475}, {\"dt\": \"2018-09-01T00:00:00\", \"Total Imports\": 8.269814523695217}, {\"dt\": \"2018-10-01T00:00:00\", \"Total Imports\": 26.743767632168858}, {\"dt\": \"2018-11-01T00:00:00\", \"Total Imports\": -7.529000558546784}, {\"dt\": \"2018-12-01T00:00:00\", \"Total Imports\": 21.407494392476444}, {\"dt\": \"2019-01-01T00:00:00\", \"Total Imports\": 3.1476151494201687}, {\"dt\": \"2019-02-01T00:00:00\", \"Total Imports\": -7.164151130065621}, {\"dt\": \"2019-03-01T00:00:00\", \"Total Imports\": 13.588717591971289}, {\"dt\": \"2019-04-01T00:00:00\", \"Total Imports\": 1.5615541775171327}, {\"dt\": \"2019-05-01T00:00:00\", \"Total Imports\": 5.496479644327401}, {\"dt\": \"2019-06-01T00:00:00\", \"Total Imports\": 3.1672480391310653}, {\"dt\": \"2019-07-01T00:00:00\", \"Total Imports\": 7.240957188502906}, {\"dt\": \"2019-08-01T00:00:00\", \"Total Imports\": 1.9082937048591653}, {\"dt\": \"2019-09-01T00:00:00\", \"Total Imports\": -3.855610715623836}, {\"dt\": \"2019-10-01T00:00:00\", \"Total Imports\": -20.215068622291355}, {\"dt\": \"2019-11-01T00:00:00\", \"Total Imports\": -13.530245451837597}, {\"dt\": \"2019-12-01T00:00:00\", \"Total Imports\": -20.43295033256228}, {\"dt\": \"2020-01-01T00:00:00\", \"Total Imports\": -4.480061382382406}]}}, {\"mode\": \"vega-lite\"});\n",
       "</script>"
      ],
      "text/plain": [
       "alt.Chart(...)"
      ]
     },
     "execution_count": 26,
     "metadata": {},
     "output_type": "execute_result"
    }
   ],
   "source": [
    "doYoyChart(df_la, location='Los Angeles', metric='Total Imports')"
   ]
  },
  {
   "cell_type": "code",
   "execution_count": 27,
   "metadata": {},
   "outputs": [
    {
     "data": {
      "text/html": [
       "\n",
       "<div id=\"altair-viz-88b9d858c055475f8bf7b2ec1470f66f\"></div>\n",
       "<script type=\"text/javascript\">\n",
       "  (function(spec, embedOpt){\n",
       "    const outputDiv = document.getElementById(\"altair-viz-88b9d858c055475f8bf7b2ec1470f66f\");\n",
       "    const paths = {\n",
       "      \"vega\": \"https://cdn.jsdelivr.net/npm//vega@5?noext\",\n",
       "      \"vega-lib\": \"https://cdn.jsdelivr.net/npm//vega-lib?noext\",\n",
       "      \"vega-lite\": \"https://cdn.jsdelivr.net/npm//vega-lite@4.0.2?noext\",\n",
       "      \"vega-embed\": \"https://cdn.jsdelivr.net/npm//vega-embed@6?noext\",\n",
       "    };\n",
       "\n",
       "    function loadScript(lib) {\n",
       "      return new Promise(function(resolve, reject) {\n",
       "        var s = document.createElement('script');\n",
       "        s.src = paths[lib];\n",
       "        s.async = true;\n",
       "        s.onload = () => resolve(paths[lib]);\n",
       "        s.onerror = () => reject(`Error loading script: ${paths[lib]}`);\n",
       "        document.getElementsByTagName(\"head\")[0].appendChild(s);\n",
       "      });\n",
       "    }\n",
       "\n",
       "    function showError(err) {\n",
       "      outputDiv.innerHTML = `<div class=\"error\" style=\"color:red;\">${err}</div>`;\n",
       "      throw err;\n",
       "    }\n",
       "\n",
       "    function displayChart(vegaEmbed) {\n",
       "      vegaEmbed(outputDiv, spec, embedOpt)\n",
       "        .catch(err => showError(`Javascript Error: ${err.message}<br>This usually means there's a typo in your chart specification. See the javascript console for the full traceback.`));\n",
       "    }\n",
       "\n",
       "    if(typeof define === \"function\" && define.amd) {\n",
       "      requirejs.config({paths});\n",
       "      require([\"vega-embed\"], displayChart, err => showError(`Error loading script: ${err.message}`));\n",
       "    } else if (typeof vegaEmbed === \"function\") {\n",
       "      displayChart(vegaEmbed);\n",
       "    } else {\n",
       "      loadScript(\"vega\")\n",
       "        .then(() => loadScript(\"vega-lite\"))\n",
       "        .then(() => loadScript(\"vega-embed\"))\n",
       "        .catch(showError)\n",
       "        .then(() => displayChart(vegaEmbed));\n",
       "    }\n",
       "  })({\"config\": {\"view\": {\"continuousWidth\": 400, \"continuousHeight\": 300}}, \"data\": {\"name\": \"data-713a39378bc2c9bdbdad4d1c5f183fd9\"}, \"mark\": {\"type\": \"bar\", \"color\": \"blue\", \"width\": 2}, \"encoding\": {\"tooltip\": [{\"type\": \"temporal\", \"field\": \"dt\", \"format\": \"%b %Y\"}, {\"type\": \"quantitative\", \"field\": \"Total TEUs\"}], \"x\": {\"type\": \"temporal\", \"axis\": {\"title\": \"\"}, \"field\": \"dt\"}, \"y\": {\"type\": \"quantitative\", \"axis\": {\"title\": \"Year-over-Year Volume Growth [%]\"}, \"field\": \"Total TEUs\"}}, \"height\": 400, \"title\": \"Port of Los Angeles Total TEUs Container Volume Growth\", \"width\": 750, \"$schema\": \"https://vega.github.io/schema/vega-lite/v4.0.2.json\", \"datasets\": {\"data-713a39378bc2c9bdbdad4d1c5f183fd9\": [{\"dt\": \"1996-01-01T00:00:00\", \"Total TEUs\": null}, {\"dt\": \"1996-02-01T00:00:00\", \"Total TEUs\": null}, {\"dt\": \"1996-03-01T00:00:00\", \"Total TEUs\": null}, {\"dt\": \"1996-04-01T00:00:00\", \"Total TEUs\": null}, {\"dt\": \"1996-05-01T00:00:00\", \"Total TEUs\": null}, {\"dt\": \"1996-06-01T00:00:00\", \"Total TEUs\": null}, {\"dt\": \"1996-07-01T00:00:00\", \"Total TEUs\": null}, {\"dt\": \"1996-08-01T00:00:00\", \"Total TEUs\": null}, {\"dt\": \"1996-09-01T00:00:00\", \"Total TEUs\": null}, {\"dt\": \"1996-10-01T00:00:00\", \"Total TEUs\": null}, {\"dt\": \"1996-11-01T00:00:00\", \"Total TEUs\": null}, {\"dt\": \"1996-12-01T00:00:00\", \"Total TEUs\": null}, {\"dt\": \"1997-01-01T00:00:00\", \"Total TEUs\": 15.432087596095535}, {\"dt\": \"1997-02-01T00:00:00\", \"Total TEUs\": 16.624391432529293}, {\"dt\": \"1997-03-01T00:00:00\", \"Total TEUs\": 18.017381459400617}, {\"dt\": \"1997-04-01T00:00:00\", \"Total TEUs\": 17.439868245138147}, {\"dt\": \"1997-05-01T00:00:00\", \"Total TEUs\": 19.546428833171035}, {\"dt\": \"1997-06-01T00:00:00\", \"Total TEUs\": 12.384960742621697}, {\"dt\": \"1997-07-01T00:00:00\", \"Total TEUs\": 9.134095924934883}, {\"dt\": \"1997-08-01T00:00:00\", \"Total TEUs\": 3.765314357346705}, {\"dt\": \"1997-09-01T00:00:00\", \"Total TEUs\": 5.967036504930312}, {\"dt\": \"1997-10-01T00:00:00\", \"Total TEUs\": -0.4857568490325148}, {\"dt\": \"1997-11-01T00:00:00\", \"Total TEUs\": 2.4259492468052146}, {\"dt\": \"1997-12-01T00:00:00\", \"Total TEUs\": 11.091507906149456}, {\"dt\": \"1998-01-01T00:00:00\", \"Total TEUs\": 1.0241477985842629}, {\"dt\": \"1998-02-01T00:00:00\", \"Total TEUs\": 8.454481171855255}, {\"dt\": \"1998-03-01T00:00:00\", \"Total TEUs\": 19.465737408548133}, {\"dt\": \"1998-04-01T00:00:00\", \"Total TEUs\": 13.445563948906214}, {\"dt\": \"1998-05-01T00:00:00\", \"Total TEUs\": 19.65638169744288}, {\"dt\": \"1998-06-01T00:00:00\", \"Total TEUs\": 15.580573435137302}, {\"dt\": \"1998-07-01T00:00:00\", \"Total TEUs\": 10.655519938677038}, {\"dt\": \"1998-08-01T00:00:00\", \"Total TEUs\": 20.530896569032354}, {\"dt\": \"1998-09-01T00:00:00\", \"Total TEUs\": 13.022929320133914}, {\"dt\": \"1998-10-01T00:00:00\", \"Total TEUs\": 15.986526177725157}, {\"dt\": \"1998-11-01T00:00:00\", \"Total TEUs\": 21.949192475131163}, {\"dt\": \"1998-12-01T00:00:00\", \"Total TEUs\": 8.755715045710533}, {\"dt\": \"1999-01-01T00:00:00\", \"Total TEUs\": 12.866126486663987}, {\"dt\": \"1999-02-01T00:00:00\", \"Total TEUs\": 11.929842502494559}, {\"dt\": \"1999-03-01T00:00:00\", \"Total TEUs\": 0.2634518557553811}, {\"dt\": \"1999-04-01T00:00:00\", \"Total TEUs\": 3.1941352075325558}, {\"dt\": \"1999-05-01T00:00:00\", \"Total TEUs\": 11.770586657954652}, {\"dt\": \"1999-06-01T00:00:00\", \"Total TEUs\": 11.424085697242138}, {\"dt\": \"1999-07-01T00:00:00\", \"Total TEUs\": 18.16559141208498}, {\"dt\": \"1999-08-01T00:00:00\", \"Total TEUs\": 11.154971084725585}, {\"dt\": \"1999-09-01T00:00:00\", \"Total TEUs\": 16.193057984848558}, {\"dt\": \"1999-10-01T00:00:00\", \"Total TEUs\": 24.380255892165014}, {\"dt\": \"1999-11-01T00:00:00\", \"Total TEUs\": 16.30872806397148}, {\"dt\": \"1999-12-01T00:00:00\", \"Total TEUs\": 20.63074782848531}, {\"dt\": \"2000-01-01T00:00:00\", \"Total TEUs\": 33.10449145382031}, {\"dt\": \"2000-02-01T00:00:00\", \"Total TEUs\": 27.73039794008909}, {\"dt\": \"2000-03-01T00:00:00\", \"Total TEUs\": 29.590580699102343}, {\"dt\": \"2000-04-01T00:00:00\", \"Total TEUs\": 43.95660983475989}, {\"dt\": \"2000-05-01T00:00:00\", \"Total TEUs\": 21.45313425052393}, {\"dt\": \"2000-06-01T00:00:00\", \"Total TEUs\": 26.922811350862077}, {\"dt\": \"2000-07-01T00:00:00\", \"Total TEUs\": 33.455797968175126}, {\"dt\": \"2000-08-01T00:00:00\", \"Total TEUs\": 33.32323928679528}, {\"dt\": \"2000-09-01T00:00:00\", \"Total TEUs\": 25.276009636259957}, {\"dt\": \"2000-10-01T00:00:00\", \"Total TEUs\": 24.365978420853395}, {\"dt\": \"2000-11-01T00:00:00\", \"Total TEUs\": 19.036589003532754}, {\"dt\": \"2000-12-01T00:00:00\", \"Total TEUs\": 15.808136973707532}, {\"dt\": \"2001-01-01T00:00:00\", \"Total TEUs\": 10.819421356681168}, {\"dt\": \"2001-02-01T00:00:00\", \"Total TEUs\": -1.9275494976333074}, {\"dt\": \"2001-03-01T00:00:00\", \"Total TEUs\": 12.418768804197878}, {\"dt\": \"2001-04-01T00:00:00\", \"Total TEUs\": 2.5546167534371333}, {\"dt\": \"2001-05-01T00:00:00\", \"Total TEUs\": -1.9664131588776113}, {\"dt\": \"2001-06-01T00:00:00\", \"Total TEUs\": 8.120071820813624}, {\"dt\": \"2001-07-01T00:00:00\", \"Total TEUs\": 2.524112775340792}, {\"dt\": \"2001-08-01T00:00:00\", \"Total TEUs\": 2.804513702125311}, {\"dt\": \"2001-09-01T00:00:00\", \"Total TEUs\": 14.819879004860482}, {\"dt\": \"2001-10-01T00:00:00\", \"Total TEUs\": 4.88429853161596}, {\"dt\": \"2001-11-01T00:00:00\", \"Total TEUs\": 10.017701675681344}, {\"dt\": \"2001-12-01T00:00:00\", \"Total TEUs\": 10.51980572212683}, {\"dt\": \"2002-01-01T00:00:00\", \"Total TEUs\": 2.8320496008245932}, {\"dt\": \"2002-02-01T00:00:00\", \"Total TEUs\": 31.648653817985494}, {\"dt\": \"2002-03-01T00:00:00\", \"Total TEUs\": 8.696990181395826}, {\"dt\": \"2002-04-01T00:00:00\", \"Total TEUs\": 16.01932827986885}, {\"dt\": \"2002-05-01T00:00:00\", \"Total TEUs\": 32.799848204231296}, {\"dt\": \"2002-06-01T00:00:00\", \"Total TEUs\": 23.25496412540651}, {\"dt\": \"2002-07-01T00:00:00\", \"Total TEUs\": 9.70106271770641}, {\"dt\": \"2002-08-01T00:00:00\", \"Total TEUs\": 26.922204591046395}, {\"dt\": \"2002-09-01T00:00:00\", \"Total TEUs\": 21.57989948504526}, {\"dt\": \"2002-10-01T00:00:00\", \"Total TEUs\": -6.7422068943394535}, {\"dt\": \"2002-11-01T00:00:00\", \"Total TEUs\": 19.8625261317253}, {\"dt\": \"2002-12-01T00:00:00\", \"Total TEUs\": 32.50599776491847}, {\"dt\": \"2003-01-01T00:00:00\", \"Total TEUs\": 27.019133151878027}, {\"dt\": \"2003-02-01T00:00:00\", \"Total TEUs\": 24.397522158803177}, {\"dt\": \"2003-03-01T00:00:00\", \"Total TEUs\": 29.09196714263167}, {\"dt\": \"2003-04-01T00:00:00\", \"Total TEUs\": 21.626205285265264}, {\"dt\": \"2003-05-01T00:00:00\", \"Total TEUs\": 22.72003459244878}, {\"dt\": \"2003-06-01T00:00:00\", \"Total TEUs\": 5.093506244157298}, {\"dt\": \"2003-07-01T00:00:00\", \"Total TEUs\": 24.21346830466473}, {\"dt\": \"2003-08-01T00:00:00\", \"Total TEUs\": 7.5104980430848345}, {\"dt\": \"2003-09-01T00:00:00\", \"Total TEUs\": 5.683071043033827}, {\"dt\": \"2003-10-01T00:00:00\", \"Total TEUs\": 42.49442534204895}, {\"dt\": \"2003-11-01T00:00:00\", \"Total TEUs\": 14.983630337769105}, {\"dt\": \"2003-12-01T00:00:00\", \"Total TEUs\": -0.7136468673959673}, {\"dt\": \"2004-01-01T00:00:00\", \"Total TEUs\": 18.812213328848927}, {\"dt\": \"2004-02-01T00:00:00\", \"Total TEUs\": -10.85952439558946}, {\"dt\": \"2004-03-01T00:00:00\", \"Total TEUs\": 8.525115502254588}, {\"dt\": \"2004-04-01T00:00:00\", \"Total TEUs\": 4.730153464617026}, {\"dt\": \"2004-05-01T00:00:00\", \"Total TEUs\": 1.3702737165044887}, {\"dt\": \"2004-06-01T00:00:00\", \"Total TEUs\": 8.56611956802067}, {\"dt\": \"2004-07-01T00:00:00\", \"Total TEUs\": 9.856056615868747}, {\"dt\": \"2004-08-01T00:00:00\", \"Total TEUs\": -3.6223822502255865}, {\"dt\": \"2004-09-01T00:00:00\", \"Total TEUs\": -4.809217232787533}, {\"dt\": \"2004-10-01T00:00:00\", \"Total TEUs\": -4.197684765101107}, {\"dt\": \"2004-11-01T00:00:00\", \"Total TEUs\": 0.4150770551893279}, {\"dt\": \"2004-12-01T00:00:00\", \"Total TEUs\": -1.9566606760487937}, {\"dt\": \"2005-01-01T00:00:00\", \"Total TEUs\": -4.205339846916079}, {\"dt\": \"2005-02-01T00:00:00\", \"Total TEUs\": 14.945124495800677}, {\"dt\": \"2005-03-01T00:00:00\", \"Total TEUs\": -14.158704226922636}, {\"dt\": \"2005-04-01T00:00:00\", \"Total TEUs\": 3.2543031288607915}, {\"dt\": \"2005-05-01T00:00:00\", \"Total TEUs\": -7.598709912994717}, {\"dt\": \"2005-06-01T00:00:00\", \"Total TEUs\": 3.5890114507757698}, {\"dt\": \"2005-07-01T00:00:00\", \"Total TEUs\": -4.142493019472438}, {\"dt\": \"2005-08-01T00:00:00\", \"Total TEUs\": 3.8517821803640606}, {\"dt\": \"2005-09-01T00:00:00\", \"Total TEUs\": 11.92927469985532}, {\"dt\": \"2005-10-01T00:00:00\", \"Total TEUs\": 10.079418492574455}, {\"dt\": \"2005-11-01T00:00:00\", \"Total TEUs\": 1.6600917983127461}, {\"dt\": \"2005-12-01T00:00:00\", \"Total TEUs\": 12.624130265605803}, {\"dt\": \"2006-01-01T00:00:00\", \"Total TEUs\": 5.099635974478223}, {\"dt\": \"2006-02-01T00:00:00\", \"Total TEUs\": -13.283091513162104}, {\"dt\": \"2006-03-01T00:00:00\", \"Total TEUs\": 27.795239566385543}, {\"dt\": \"2006-04-01T00:00:00\", \"Total TEUs\": 5.71780346961468}, {\"dt\": \"2006-05-01T00:00:00\", \"Total TEUs\": 13.974133668859023}, {\"dt\": \"2006-06-01T00:00:00\", \"Total TEUs\": 14.63974085892017}, {\"dt\": \"2006-07-01T00:00:00\", \"Total TEUs\": 17.419840366674055}, {\"dt\": \"2006-08-01T00:00:00\", \"Total TEUs\": 21.36001066372888}, {\"dt\": \"2006-09-01T00:00:00\", \"Total TEUs\": 19.308261814986615}, {\"dt\": \"2006-10-01T00:00:00\", \"Total TEUs\": 13.044866328755433}, {\"dt\": \"2006-11-01T00:00:00\", \"Total TEUs\": 16.346079501705503}, {\"dt\": \"2006-12-01T00:00:00\", \"Total TEUs\": 14.642281668872027}, {\"dt\": \"2007-01-01T00:00:00\", \"Total TEUs\": 11.49919144779814}, {\"dt\": \"2007-02-01T00:00:00\", \"Total TEUs\": 35.02970321534302}, {\"dt\": \"2007-03-01T00:00:00\", \"Total TEUs\": -6.112327628684}, {\"dt\": \"2007-04-01T00:00:00\", \"Total TEUs\": 0.930161795419493}, {\"dt\": \"2007-05-01T00:00:00\", \"Total TEUs\": -2.0703616176545148}, {\"dt\": \"2007-06-01T00:00:00\", \"Total TEUs\": -1.4721653001940505}, {\"dt\": \"2007-07-01T00:00:00\", \"Total TEUs\": -5.911650109049815}, {\"dt\": \"2007-08-01T00:00:00\", \"Total TEUs\": -9.61348142414089}, {\"dt\": \"2007-09-01T00:00:00\", \"Total TEUs\": -6.195156887974318}, {\"dt\": \"2007-10-01T00:00:00\", \"Total TEUs\": -8.064056387499575}, {\"dt\": \"2007-11-01T00:00:00\", \"Total TEUs\": -1.2436677949998365}, {\"dt\": \"2007-12-01T00:00:00\", \"Total TEUs\": -7.140327970123261}, {\"dt\": \"2008-01-01T00:00:00\", \"Total TEUs\": -5.691973129053995}, {\"dt\": \"2008-02-01T00:00:00\", \"Total TEUs\": -5.470571111278833}, {\"dt\": \"2008-03-01T00:00:00\", \"Total TEUs\": -7.304856350014132}, {\"dt\": \"2008-04-01T00:00:00\", \"Total TEUs\": -10.915928580177736}, {\"dt\": \"2008-05-01T00:00:00\", \"Total TEUs\": 0.7781222812213828}, {\"dt\": \"2008-06-01T00:00:00\", \"Total TEUs\": -11.713777754816157}, {\"dt\": \"2008-07-01T00:00:00\", \"Total TEUs\": -2.5351958916650874}, {\"dt\": \"2008-08-01T00:00:00\", \"Total TEUs\": 5.9266888873280354}, {\"dt\": \"2008-09-01T00:00:00\", \"Total TEUs\": -6.6894750415284365}, {\"dt\": \"2008-10-01T00:00:00\", \"Total TEUs\": -3.975004970795515}, {\"dt\": \"2008-11-01T00:00:00\", \"Total TEUs\": -10.361196520385318}, {\"dt\": \"2008-12-01T00:00:00\", \"Total TEUs\": -15.175189139801903}, {\"dt\": \"2009-01-01T00:00:00\", \"Total TEUs\": -10.001284810625355}, {\"dt\": \"2009-02-01T00:00:00\", \"Total TEUs\": -32.557769700698536}, {\"dt\": \"2009-03-01T00:00:00\", \"Total TEUs\": -9.836219844054773}, {\"dt\": \"2009-04-01T00:00:00\", \"Total TEUs\": -12.113340402815108}, {\"dt\": \"2009-05-01T00:00:00\", \"Total TEUs\": -16.309290063970504}, {\"dt\": \"2009-06-01T00:00:00\", \"Total TEUs\": -12.747578169864916}, {\"dt\": \"2009-07-01T00:00:00\", \"Total TEUs\": -17.468226807263044}, {\"dt\": \"2009-08-01T00:00:00\", \"Total TEUs\": -19.08510038419887}, {\"dt\": \"2009-09-01T00:00:00\", \"Total TEUs\": -15.779260168173902}, {\"dt\": \"2009-10-01T00:00:00\", \"Total TEUs\": -8.336947784483629}, {\"dt\": \"2009-11-01T00:00:00\", \"Total TEUs\": -12.096170497078607}, {\"dt\": \"2009-12-01T00:00:00\", \"Total TEUs\": 0.3487315591366391}, {\"dt\": \"2010-01-01T00:00:00\", \"Total TEUs\": -2.390962449672407}, {\"dt\": \"2010-02-01T00:00:00\", \"Total TEUs\": 26.949872955565503}, {\"dt\": \"2010-03-01T00:00:00\", \"Total TEUs\": 4.513453844686199}, {\"dt\": \"2010-04-01T00:00:00\", \"Total TEUs\": 11.869325983419454}, {\"dt\": \"2010-05-01T00:00:00\", \"Total TEUs\": 19.935170150086677}, {\"dt\": \"2010-06-01T00:00:00\", \"Total TEUs\": 32.38077275636571}, {\"dt\": \"2010-07-01T00:00:00\", \"Total TEUs\": 26.820804985046507}, {\"dt\": \"2010-08-01T00:00:00\", \"Total TEUs\": 24.6915226790231}, {\"dt\": \"2010-09-01T00:00:00\", \"Total TEUs\": 21.944043169733195}, {\"dt\": \"2010-10-01T00:00:00\", \"Total TEUs\": 5.39998767422325}, {\"dt\": \"2010-11-01T00:00:00\", \"Total TEUs\": 14.954055554219824}, {\"dt\": \"2010-12-01T00:00:00\", \"Total TEUs\": 8.821110863918925}, {\"dt\": \"2011-01-01T00:00:00\", \"Total TEUs\": 15.279819166529297}, {\"dt\": \"2011-02-01T00:00:00\", \"Total TEUs\": 5.605427335283908}, {\"dt\": \"2011-03-01T00:00:00\", \"Total TEUs\": 9.186046046722772}, {\"dt\": \"2011-04-01T00:00:00\", \"Total TEUs\": 3.693835393107525}, {\"dt\": \"2011-05-01T00:00:00\", \"Total TEUs\": 0.5095582421589695}, {\"dt\": \"2011-06-01T00:00:00\", \"Total TEUs\": -12.258121583636495}, {\"dt\": \"2011-07-01T00:00:00\", \"Total TEUs\": -5.805036663922425}, {\"dt\": \"2011-08-01T00:00:00\", \"Total TEUs\": -5.323994432321433}, {\"dt\": \"2011-09-01T00:00:00\", \"Total TEUs\": -0.8416302119269914}, {\"dt\": \"2011-10-01T00:00:00\", \"Total TEUs\": 4.425906508720523}, {\"dt\": \"2011-11-01T00:00:00\", \"Total TEUs\": 4.068875609940759}, {\"dt\": \"2011-12-01T00:00:00\", \"Total TEUs\": 6.009450394081983}, {\"dt\": \"2012-01-01T00:00:00\", \"Total TEUs\": 5.782932723387613}, {\"dt\": \"2012-02-01T00:00:00\", \"Total TEUs\": -5.2727833994818845}, {\"dt\": \"2012-03-01T00:00:00\", \"Total TEUs\": 8.265076664957816}, {\"dt\": \"2012-04-01T00:00:00\", \"Total TEUs\": 14.565641592651545}, {\"dt\": \"2012-05-01T00:00:00\", \"Total TEUs\": 5.544426544704062}, {\"dt\": \"2012-06-01T00:00:00\", \"Total TEUs\": 8.74747540007359}, {\"dt\": \"2012-07-01T00:00:00\", \"Total TEUs\": 5.527863959139667}, {\"dt\": \"2012-08-01T00:00:00\", \"Total TEUs\": -2.2817231702812024}, {\"dt\": \"2012-09-01T00:00:00\", \"Total TEUs\": 5.5694404320375535}, {\"dt\": \"2012-10-01T00:00:00\", \"Total TEUs\": 0.816764343738341}, {\"dt\": \"2012-11-01T00:00:00\", \"Total TEUs\": -16.010028400450828}, {\"dt\": \"2012-12-01T00:00:00\", \"Total TEUs\": -9.440716696585994}, {\"dt\": \"2013-01-01T00:00:00\", \"Total TEUs\": -4.252777705820288}, {\"dt\": \"2013-02-01T00:00:00\", \"Total TEUs\": 16.98938720938672}, {\"dt\": \"2013-03-01T00:00:00\", \"Total TEUs\": -22.643360830868065}, {\"dt\": \"2013-04-01T00:00:00\", \"Total TEUs\": -9.453292235013834}, {\"dt\": \"2013-05-01T00:00:00\", \"Total TEUs\": -12.921436422826794}, {\"dt\": \"2013-06-01T00:00:00\", \"Total TEUs\": -7.2035011367974855}, {\"dt\": \"2013-07-01T00:00:00\", \"Total TEUs\": -1.4778862578260998}, {\"dt\": \"2013-08-01T00:00:00\", \"Total TEUs\": 0.42536839695144213}, {\"dt\": \"2013-09-01T00:00:00\", \"Total TEUs\": -4.568377288314906}, {\"dt\": \"2013-10-01T00:00:00\", \"Total TEUs\": -4.760432588047136}, {\"dt\": \"2013-11-01T00:00:00\", \"Total TEUs\": 17.30196676842517}, {\"dt\": \"2013-12-01T00:00:00\", \"Total TEUs\": 11.086233848198312}, {\"dt\": \"2014-01-01T00:00:00\", \"Total TEUs\": 2.473773180669725}, {\"dt\": \"2014-02-01T00:00:00\", \"Total TEUs\": -8.971723713175884}, {\"dt\": \"2014-03-01T00:00:00\", \"Total TEUs\": 34.204500286186715}, {\"dt\": \"2014-04-01T00:00:00\", \"Total TEUs\": 10.261362028528431}, {\"dt\": \"2014-05-01T00:00:00\", \"Total TEUs\": 8.210711883270783}, {\"dt\": \"2014-06-01T00:00:00\", \"Total TEUs\": 13.88513578818853}, {\"dt\": \"2014-07-01T00:00:00\", \"Total TEUs\": 0.2468768351137296}, {\"dt\": \"2014-08-01T00:00:00\", \"Total TEUs\": 6.767414555168316}, {\"dt\": \"2014-09-01T00:00:00\", \"Total TEUs\": 9.036594505004093}, {\"dt\": \"2014-10-01T00:00:00\", \"Total TEUs\": 4.600332267817753}, {\"dt\": \"2014-11-01T00:00:00\", \"Total TEUs\": -2.9982349904730476}, {\"dt\": \"2014-12-01T00:00:00\", \"Total TEUs\": 0.7972806959611001}, {\"dt\": \"2015-01-01T00:00:00\", \"Total TEUs\": -22.773347554521383}, {\"dt\": \"2015-02-01T00:00:00\", \"Total TEUs\": -10.204437818106848}, {\"dt\": \"2015-03-01T00:00:00\", \"Total TEUs\": 17.26550744356996}, {\"dt\": \"2015-04-01T00:00:00\", \"Total TEUs\": -6.099335048824662}, {\"dt\": \"2015-05-01T00:00:00\", \"Total TEUs\": 0.8197734094289588}, {\"dt\": \"2015-06-01T00:00:00\", \"Total TEUs\": -1.9874292337666133}, {\"dt\": \"2015-07-01T00:00:00\", \"Total TEUs\": -2.5479330421922297}, {\"dt\": \"2015-08-01T00:00:00\", \"Total TEUs\": 3.8227869000555748}, {\"dt\": \"2015-09-01T00:00:00\", \"Total TEUs\": -5.78298399744972}, {\"dt\": \"2015-10-01T00:00:00\", \"Total TEUs\": -1.5501278569042265}, {\"dt\": \"2015-11-01T00:00:00\", \"Total TEUs\": 7.028478066335242}, {\"dt\": \"2015-12-01T00:00:00\", \"Total TEUs\": -4.90318797262147}, {\"dt\": \"2016-01-01T00:00:00\", \"Total TEUs\": 33.04916143333776}, {\"dt\": \"2016-02-01T00:00:00\", \"Total TEUs\": 41.98788731940446}, {\"dt\": \"2016-03-01T00:00:00\", \"Total TEUs\": -22.604953681416852}, {\"dt\": \"2016-04-01T00:00:00\", \"Total TEUs\": -1.0251092332910772}, {\"dt\": \"2016-05-01T00:00:00\", \"Total TEUs\": 10.88359586669978}, {\"dt\": \"2016-06-01T00:00:00\", \"Total TEUs\": -6.344629404216606}, {\"dt\": \"2016-07-01T00:00:00\", \"Total TEUs\": -1.6071664707440037}, {\"dt\": \"2016-08-01T00:00:00\", \"Total TEUs\": 1.5591015673960484}, {\"dt\": \"2016-09-01T00:00:00\", \"Total TEUs\": 2.3826284538732923}, {\"dt\": \"2016-10-01T00:00:00\", \"Total TEUs\": 15.609896778107068}, {\"dt\": \"2016-11-01T00:00:00\", \"Total TEUs\": 23.60604066066574}, {\"dt\": \"2016-12-01T00:00:00\", \"Total TEUs\": 27.186004779197816}, {\"dt\": \"2017-01-01T00:00:00\", \"Total TEUs\": 17.35397061137771}, {\"dt\": \"2017-02-01T00:00:00\", \"Total TEUs\": -12.37736454440881}, {\"dt\": \"2017-03-01T00:00:00\", \"Total TEUs\": 28.662269165451605}, {\"dt\": \"2017-04-01T00:00:00\", \"Total TEUs\": 8.927163789102345}, {\"dt\": \"2017-05-01T00:00:00\", \"Total TEUs\": 3.34982975932403}, {\"dt\": \"2017-06-01T00:00:00\", \"Total TEUs\": 8.139776383939278}, {\"dt\": \"2017-07-01T00:00:00\", \"Total TEUs\": 15.832751604249374}, {\"dt\": \"2017-08-01T00:00:00\", \"Total TEUs\": 6.123706907746618}, {\"dt\": \"2017-09-01T00:00:00\", \"Total TEUs\": 2.1501860219652835}, {\"dt\": \"2017-10-01T00:00:00\", \"Total TEUs\": -8.079346947394017}, {\"dt\": \"2017-11-01T00:00:00\", \"Total TEUs\": 5.317166538926732}, {\"dt\": \"2017-12-01T00:00:00\", \"Total TEUs\": -2.1750799163252177}, {\"dt\": \"2018-01-01T00:00:00\", \"Total TEUs\": -2.1667303481910594}, {\"dt\": \"2018-02-01T00:00:00\", \"Total TEUs\": 15.938807877404027}, {\"dt\": \"2018-03-01T00:00:00\", \"Total TEUs\": -26.715468412680554}, {\"dt\": \"2018-04-01T00:00:00\", \"Total TEUs\": -1.2898264937057924}, {\"dt\": \"2018-05-01T00:00:00\", \"Total TEUs\": -3.4428253012025456}, {\"dt\": \"2018-06-01T00:00:00\", \"Total TEUs\": -1.0794597530464856}, {\"dt\": \"2018-07-01T00:00:00\", \"Total TEUs\": 4.61391383577392}, {\"dt\": \"2018-08-01T00:00:00\", \"Total TEUs\": -2.5026211670941545}, {\"dt\": \"2018-09-01T00:00:00\", \"Total TEUs\": 4.907097486267409}, {\"dt\": \"2018-10-01T00:00:00\", \"Total TEUs\": 27.217125811105312}, {\"dt\": \"2018-11-01T00:00:00\", \"Total TEUs\": -9.942900855121161}, {\"dt\": \"2018-12-01T00:00:00\", \"Total TEUs\": 15.919591479046868}, {\"dt\": \"2019-01-01T00:00:00\", \"Total TEUs\": 5.4061406269223955}, {\"dt\": \"2019-02-01T00:00:00\", \"Total TEUs\": -2.7243145372424116}, {\"dt\": \"2019-03-01T00:00:00\", \"Total TEUs\": 12.651940528070615}, {\"dt\": \"2019-04-01T00:00:00\", \"Total TEUs\": 4.38390134478619}, {\"dt\": \"2019-05-01T00:00:00\", \"Total TEUs\": 7.78583003595128}, {\"dt\": \"2019-06-01T00:00:00\", \"Total TEUs\": 5.757672620345278}, {\"dt\": \"2019-07-01T00:00:00\", \"Total TEUs\": 9.427702855862318}, {\"dt\": \"2019-08-01T00:00:00\", \"Total TEUs\": 4.166561824372073}, {\"dt\": \"2019-09-01T00:00:00\", \"Total TEUs\": -2.6659622797301052}, {\"dt\": \"2019-10-01T00:00:00\", \"Total TEUs\": -19.14487765126115}, {\"dt\": \"2019-11-01T00:00:00\", \"Total TEUs\": -12.424505686380261}, {\"dt\": \"2019-12-01T00:00:00\", \"Total TEUs\": -17.32709524956958}, {\"dt\": \"2020-01-01T00:00:00\", \"Total TEUs\": -5.432081313907744}]}}, {\"mode\": \"vega-lite\"});\n",
       "</script>"
      ],
      "text/plain": [
       "alt.Chart(...)"
      ]
     },
     "execution_count": 27,
     "metadata": {},
     "output_type": "execute_result"
    }
   ],
   "source": [
    "doYoyChart(df_la, location='Los Angeles', metric='Total TEUs')"
   ]
  },
  {
   "cell_type": "markdown",
   "metadata": {},
   "source": [
    "## Port of New York / New Jersey"
   ]
  },
  {
   "cell_type": "code",
   "execution_count": null,
   "metadata": {},
   "outputs": [],
   "source": [
    "dataUrl = \"https://www.panynj.gov/content/port/en.model.json\"\n",
    "\n",
    "#jqPath = '\\'.\":children\".\"/port/en/our-port/facts-and-figures\".\":items\".\"root\".\":items\".\"responsivegrid\".\":items\".\"accordionlist_435572874\".\":items\"\\''\n",
    "    \n",
    "def doNynjFetch(retries = 5):\n",
    "    if retries < 0:\n",
    "        return loads(\"{}\")\n",
    "    try:\n",
    "        req = Request(dataUrl, data=None, headers={ 'User-Agent': uaString })\n",
    "\n",
    "        data = urlopen(req)\n",
    "\n",
    "        dict_data = loads(data.read())\n",
    "\n",
    "        r = dict_data[\":children\"]\\\n",
    "                     [\"/port/en/our-port/facts-and-figures\"]\\\n",
    "                     [\":items\"]\\\n",
    "                     [\"root\"]\\\n",
    "                     [\":items\"]\\\n",
    "                     [\"responsivegrid\"]\\\n",
    "                     [\":items\"]\\\n",
    "                     [\"accordionlist_435572874\"]\\\n",
    "                     [\":items\"]\n",
    "        \n",
    "        return r\n",
    "    except JSONDecodeError:\n",
    "        sleep(1)\n",
    "        return doNynjFetch(retries-1)\n",
    "\n",
    "nynj_dict_content = doNynjFetch()\n",
    "    \n",
    "post2011Cols = ['Import Loads', 'Import Empties', 'Export Loads', 'Export Empties', 'Total Loads', 'Total Empties', 'Total TEUs', 'Total Rail Lifts']\n",
    "cols = [\"Import TEUs\", \"Export TEUs\", \"Total TEUs\", \"Total Rail Lifts\"]\n",
    "\n",
    "dfs_nynj = []\n",
    "for v in nynj_dict_content.values():\n",
    "    year = v[\"linkAriaLabel\"]\n",
    "    #print(year)\n",
    "    try:\n",
    "        tmp = pd.read_html(v[\":items\"][\"text\"][\"text\"])\n",
    "    except KeyError:\n",
    "        # text_copy\n",
    "        tmp = pd.read_html(v[\":items\"][\"text_copy\"][\"text\"])\n",
    "    for n, monthData in enumerate(tmp):\n",
    "        # skip the YTD section\n",
    "        #if n < 2:\n",
    "        #    continue\n",
    "        \n",
    "        mtmp = monthData.copy()\n",
    "        try:\n",
    "            mtmp.columns = ['Period'] + post2011Cols\n",
    "            \n",
    "            # cleanup types before doing math\n",
    "            mtmp[post2011Cols] = mtmp[post2011Cols].applymap(lambda v: re.sub(\"[^0-9.]\", \"\", str(v)))\n",
    "            mtmp[post2011Cols] = mtmp[post2011Cols].apply(lambda v: pd.to_numeric(v, errors='coerce'))\n",
    "            \n",
    "            mtmp['Import TEUs'] = mtmp['Import Loads'] + mtmp['Import Empties']\n",
    "            mtmp['Export TEUs'] = mtmp['Export Loads'] + mtmp['Export Empties']\n",
    "            \n",
    "            # Monthy is shown Dec->Jan after 2014, opposite before\n",
    "            index = 13-n if int(year) > 2014 else n\n",
    "            mtmp['dt'] = mtmp.iloc[:, 0].map(lambda v: pd.to_datetime(\"{}-{}\".format(index, v), format=\"%m-%Y\", errors='coerce'))\n",
    "        except ValueError:\n",
    "            mtmp.columns = ['Period'] + cols\n",
    "            mtmp['dt'] = mtmp.iloc[:, 0].map(lambda v: pd.to_datetime(v, format=\"%B %y\", errors='coerce'))\n",
    "        \n",
    "            mtmp[cols] = mtmp[cols].applymap(lambda v: re.sub(\"[^0-9.]\", \"\", str(v)))\n",
    "            mtmp[cols] = mtmp[cols].apply(lambda v: pd.to_numeric(v, errors='coerce'))\n",
    "        \n",
    "        dfs_nynj.append(mtmp)\n",
    "\n",
    "commonFields = ['Period', 'dt', 'Import TEUs', 'Export TEUs', 'Total TEUs']\n",
    "\n",
    "df_nynj = pd.concat(dfs_nynj)[commonFields].dropna() #.tail(30)\n",
    "\n",
    "df_nynj = df_nynj.groupby('dt').agg('mean') #.head()"
   ]
  },
  {
   "cell_type": "code",
   "execution_count": null,
   "metadata": {},
   "outputs": [],
   "source": [
    "doChart(df_nynj.reset_index(), location=\"New York/New Jersey\", metric=\"Import TEUs\")"
   ]
  },
  {
   "cell_type": "code",
   "execution_count": null,
   "metadata": {},
   "outputs": [],
   "source": [
    "doYoyChart(df_nynj.reset_index(), location=\"New York/New Jersey\", metric=\"Import TEUs\")"
   ]
  },
  {
   "cell_type": "code",
   "execution_count": null,
   "metadata": {},
   "outputs": [],
   "source": [
    "doYoyChart(df_nynj.reset_index(), location=\"New York/New Jersey\", metric=\"Export TEUs\")"
   ]
  },
  {
   "cell_type": "code",
   "execution_count": null,
   "metadata": {},
   "outputs": [],
   "source": [
    "doYoyChart(df_nynj[12:].reset_index(), location=\"New York/New Jersey\", metric=\"Total TEUs\")"
   ]
  },
  {
   "cell_type": "markdown",
   "metadata": {},
   "source": [
    "## Georgia Ports"
   ]
  },
  {
   "cell_type": "code",
   "execution_count": null,
   "metadata": {},
   "outputs": [],
   "source": [
    "cols = ['Year', 'Key', 'Jan', 'Feb', 'Mar', 'Apr', 'May', 'Jun', 'Jul', 'Aug', 'Sep', 'Oct', 'Nov', 'Dec', 'Total']\n",
    "\n",
    "@memory.cache\n",
    "def doGaFetch(url, retries=5):\n",
    "    if retries < 0:\n",
    "        return None\n",
    "    try:\n",
    "        req = Request(url, data=None, headers={ 'User-Agent': uaString })\n",
    "\n",
    "        data = urlopen(req)\n",
    "\n",
    "        tabs = read_pdf(BytesIO(data.read()), pages='all', pandas_options={ 'names': cols })\n",
    "\n",
    "        # noop to test for the table\n",
    "        tabs[0]\n",
    "        \n",
    "        return tabs\n",
    "    except KeyError:\n",
    "        sleep(1)\n",
    "        return doGaFetch(url, retries-1)\n",
    "    \n",
    "tabs = doGaFetch(\"http://gaports.com/wp-content/uploads/2020/02/Monthly-TEU-Throughput-January-2020.pdf\")\n",
    "\n",
    "# Read the first table in the report\n",
    "df_ga = tabs[0].iloc[1:19, 1:]\n",
    "\n",
    "df_ga_melted = df_ga.melt(id_vars='Key')\n",
    "df_ga_melted = df_ga_melted[df_ga_melted['variable'] != 'Total']\n",
    "df_ga_melted['dt'] = pd.to_datetime(df_ga_melted['Key'] + '-' + df_ga_melted['variable'], format='%Y-%b')\n",
    "df_ga_melted['value'] = df_ga_melted['value'].apply(lambda v: pd.to_numeric(str(v).replace(\",\", \"\"), errors='coerce'))\n",
    "\n",
    "df_ga_tst = df_ga_melted[['value', 'dt']].set_index('dt').resample('1M').mean().rename({'value': 'TEU Total'}, axis=1)\n",
    "\n",
    "df_ga_tst = df_ga_tst.reset_index()"
   ]
  },
  {
   "cell_type": "code",
   "execution_count": null,
   "metadata": {},
   "outputs": [],
   "source": [
    "doYoyChart(df_ga_tst, location='Georgia', metric='TEU Total')"
   ]
  },
  {
   "cell_type": "code",
   "execution_count": null,
   "metadata": {},
   "outputs": [],
   "source": [
    "# Read the detail table in the rest of the report\n",
    "\n",
    "df_ga_detail = pd.concat([tabs[0].iloc[19:, :].copy()] + tabs[1:])\n",
    "df_ga_detail['Year'] = df_ga_detail['Year'].ffill(limit=11)\n",
    "\n",
    "#df_ga_detail.head(20)\n",
    "\n",
    "df_ga_detail_melted = df_ga_detail.melt(id_vars=[\"Key\", \"Year\"])\n",
    "\n",
    "df_ga_detail_melted = df_ga_detail_melted[df_ga_detail_melted[\"variable\"] != \"Total\"]\n",
    "\n",
    "df_ga_detail_melted['dt'] = pd.to_datetime(df_ga_detail_melted['Year'].apply(str) +\\\n",
    "                                           '-' + df_ga_detail_melted['variable'], format=\"%Y.0-%b\", errors='coerce')\n",
    "\n",
    "df_ga_detail_melted['value'] = df_ga_detail_melted['value']\\\n",
    "                                    .apply(lambda v: str(v).replace(\",\", \"\"))\\\n",
    "                                    .apply(lambda v: pd.to_numeric(v, errors='coerce'))\n",
    "\n",
    "#df_ga_detail_melted.tail()\n",
    "\n",
    "df_ga_ts = df_ga_detail_melted[['dt', 'Key', 'value']].dropna().pivot(index='dt', columns='Key').reset_index()\n",
    "df_ga_ts.columns = ['dt', 'Export Empty', 'Export Full', 'Export Total',\n",
    "                    'Import Empty', 'Import Full', 'Import Total', 'Total All', 'Total Empty', 'Total Full']\n",
    "\n",
    "df_ga_ts = df_ga_ts.dropna()"
   ]
  },
  {
   "cell_type": "code",
   "execution_count": null,
   "metadata": {},
   "outputs": [],
   "source": [
    "doYoyChart(df_ga_ts, location='Georgia', metric='Import Empty')"
   ]
  },
  {
   "cell_type": "code",
   "execution_count": null,
   "metadata": {},
   "outputs": [],
   "source": [
    "doYoyChart(df_ga_ts, location='Georgia', metric='Export Total')"
   ]
  },
  {
   "cell_type": "markdown",
   "metadata": {},
   "source": [
    "## Northwest Seaport Alliance (Ports of Seattle and Tacoma)"
   ]
  },
  {
   "cell_type": "code",
   "execution_count": null,
   "metadata": {},
   "outputs": [],
   "source": [
    "pageCount = 7\n",
    "\n",
    "res = []\n",
    "for page in range(1, pageCount+1):\n",
    "    res += googleSearch(\"site:nwseaportalliance.com volume history\", page)\n",
    "\n",
    "links = [r.link for r in res if 'volume' in r.name.lower() and 'history' in r.name.lower()]\n",
    "\n",
    "@memory.cache\n",
    "def fetchAndParseNwSeaportReport(url, retries=5):\n",
    "    if retries < 0:\n",
    "        return None\n",
    "    try:\n",
    "        tmp = read_pdf(url, pages='all')[0]\n",
    "\n",
    "        #print(tmp.iloc[:, 0].map(lambda v: re.sub(\"[\\d,]\", \"\", str(v)).strip()).values)\n",
    "        if tmp.iloc[0, 1] == \"Int'l Import full TEUs\":\n",
    "            #print('one')\n",
    "            tmp.columns = ['Key'] + tmp.iloc[0, 1:].apply(lambda v: str(v).replace(\"\\r\", \" \").strip()).to_list()\n",
    "\n",
    "            tmp = tmp.iloc[1:].set_index(\"Key\").T\n",
    "        \n",
    "        elif \"Break Bulk\" in tmp.iloc[:, 0].map(lambda v: re.sub(\"[\\d,]\", \"\", str(v)).strip()).values:\n",
    "\n",
    "            if pd.isnull(tmp.iloc[0, 0]) and pd.isnull(tmp.iloc[0, 1]):\n",
    "                #print('two')\n",
    "                tmp = tmp.iloc[1:, :]\n",
    "                \n",
    "                tmp.columns = ['Key'] + tmp.iloc[0, 1:].apply(lambda v: str(v).strip()).to_list()\n",
    "\n",
    "                tmp = tmp.set_index(\"Key\").iloc[1:].T\n",
    "                \n",
    "            elif pd.isnull(tmp.iloc[0, 0]) and not pd.isnull(tmp.iloc[0, 1]):\n",
    "                #print('twotwo')\n",
    "                tmp.columns = ['Key'] + tmp.iloc[0, 1:].apply(lambda v: str(v).strip()).to_list()\n",
    "\n",
    "                tmp = tmp.set_index(\"Key\").iloc[1:].T\n",
    "            \n",
    "            else:\n",
    "                #print('three')\n",
    "                tmp.columns = ['Key'] + tmp.iloc[0, 1:].apply(lambda v: str(v).strip()).to_list()\n",
    "\n",
    "                tmp = tmp.set_index(\"Key\").iloc[1:].T\n",
    "            \n",
    "        else:\n",
    "            #print('four')\n",
    "            tmp.columns = ['Key'] + tmp.iloc[1, 1:].apply(lambda v: str(v).strip()).to_list()\n",
    "\n",
    "            tmp = tmp.set_index(\"Key\").iloc[2:, 1:].T\n",
    "        \n",
    "        tmp.columns = tmp.columns.map(lambda v: re.sub(\"[\\d,]\", \"\", str(v)).strip())\n",
    "        \n",
    "        tmp = tmp.rename({ \"Break Bulk\": \"Breakbulk\" }, axis=1)\n",
    "        \n",
    "        if 'Grain' not in tmp.columns:\n",
    "            tmp['Grain'] = [''] * tmp.shape[0]\n",
    "            \n",
    "        if 'Gypsum' not in tmp.columns:\n",
    "            tmp['Gypsum'] = [''] * tmp.shape[0]\n",
    "            \n",
    "        if 'Vessel Calls' not in tmp.columns:\n",
    "            tmp['Vessel Calls'] = [''] * tmp.shape[0]\n",
    "            \n",
    "        tmp['src'] = [url] * tmp.shape[0]\n",
    "        return tmp\n",
    "    except HTTPError:\n",
    "        print(\"Failed: \" + url)\n",
    "        return fetchAndParseNwSeaportReport(url, retries-1)\n",
    "    except KeyError:\n",
    "        return fetchAndParseNwSeaportReport(url, retries-1)"
   ]
  },
  {
   "cell_type": "code",
   "execution_count": null,
   "metadata": {},
   "outputs": [],
   "source": [
    "%%time\n",
    "%%capture\n",
    "\n",
    "sea_dfs = []\n",
    "for u in links:\n",
    "    sea_dfs.append(fetchAndParseNwSeaportReport(u))\n",
    "\n",
    "sea_df = pd.concat(sea_dfs)\n",
    "\n",
    "sea_df['dt'] = sea_df.index.map(lambda v: pd.to_datetime(\"12-31-\" + str(v), format='%m-%d-%Y', errors='coerce'))\n",
    "\n",
    "sea_df.columns = sea_df.columns.map(lambda s: s.replace(\"'\", \"\"))\n",
    "sea_df[sea_df.columns.to_list()[:-3]] = sea_df[sea_df.columns.to_list()[:-3]]\\\n",
    "        .applymap(lambda v: pd.to_numeric(str(v).replace(\",\", \"\"), errors='coerce'))\n",
    "\n",
    "sea_df = sea_df[sea_df['dt'].notna()]\n",
    "sea_df = sea_df.groupby('dt').agg('mean').reset_index()\n",
    "\n",
    "sea_df = sea_df.set_index('dt').resample('1M').mean().bfill(limit=11).reset_index()"
   ]
  },
  {
   "cell_type": "code",
   "execution_count": null,
   "metadata": {},
   "outputs": [],
   "source": [
    "doChart(sea_df, location=\"Seattle/Tacoma\", metric=\"Intl Export full TEUs\")"
   ]
  },
  {
   "cell_type": "code",
   "execution_count": null,
   "metadata": {},
   "outputs": [],
   "source": [
    "doChart(sea_df, location=\"Seattle/Tacoma\", metric=\"Intl Empty TEUs\")"
   ]
  },
  {
   "cell_type": "markdown",
   "metadata": {},
   "source": [
    "## Port of Houston"
   ]
  },
  {
   "cell_type": "code",
   "execution_count": null,
   "metadata": {},
   "outputs": [],
   "source": [
    "\n",
    "req = Request(\"https://porthouston.com/wp-content/uploads/Container-Volume-TEU-stats-in-depth-January-2020.pdf\",\n",
    "              data=None, headers={ 'User-Agent': uaString })\n",
    "\n",
    "data = urlopen(req)\n",
    "\n",
    "cols = [\"Date\", \"Loaded Imports\", \"Loaded Exports\", \"Loaded Total\",\n",
    "        \"Empty Imports\", \"Empty Exports\", \"Empty Total\", \"Loaded and Empty Total\"]\n",
    "\n",
    "dfs_hs = read_pdf(BytesIO(data.read()), pages='all', pandas_options={ 'names': cols }) #.head(20)\n",
    "\n",
    "df_hs = pd.concat([dfs_hs[0].iloc[5:]] + dfs_hs[1:])\n",
    "\n",
    "df_hs[df_hs.columns.to_list()[1:]] = df_hs[df_hs.columns.to_list()[1:]]\\\n",
    "        .applymap(lambda v: pd.to_numeric(v.replace(\",\", \"\") if isinstance(v, str) else v, errors='coerce'))\n",
    "\n",
    "df_hs['dt'] = df_hs['Date'].map(lambda v: pd.to_datetime(str(v), format='%b-%y', errors='coerce'))\n",
    "\n",
    "#df_hs.tail()"
   ]
  },
  {
   "cell_type": "code",
   "execution_count": null,
   "metadata": {},
   "outputs": [],
   "source": [
    "doChart(df_hs, metric=\"Empty Imports\", location=\"Houston\")"
   ]
  },
  {
   "cell_type": "code",
   "execution_count": null,
   "metadata": {},
   "outputs": [],
   "source": [
    "doChart(df_hs, metric=\"Empty Exports\", location=\"Houston\")"
   ]
  },
  {
   "cell_type": "code",
   "execution_count": null,
   "metadata": {},
   "outputs": [],
   "source": [
    "doYoyChart(df_hs, metric=\"Empty Imports\", location=\"Houston\")"
   ]
  },
  {
   "cell_type": "code",
   "execution_count": null,
   "metadata": {},
   "outputs": [],
   "source": [
    "doYoyChart(df_hs, metric=\"Loaded Total\", location=\"Houston\")"
   ]
  },
  {
   "cell_type": "markdown",
   "metadata": {},
   "source": [
    "## Port of Charleston"
   ]
  },
  {
   "cell_type": "code",
   "execution_count": null,
   "metadata": {},
   "outputs": [],
   "source": [
    "req = Request(\"http://scspa.com/wp-content/uploads/gl078-pc-teu-history.pdf\",\n",
    "              data=None, headers={ 'User-Agent': uaString })\n",
    "\n",
    "data = urlopen(req)\n",
    "\n",
    "dfs_ch = read_pdf(BytesIO(data.read()), pages='all') #, pandas_options={ 'skiprows': 1 }) #'names': cols })\n",
    "\n",
    "def fixColumns(df):\n",
    "    res = df.iloc[1:].copy()\n",
    "\n",
    "    # split rail column \n",
    "    _ = df.iloc[1:, 1].str.split(\" \", n = 1, expand = True) \n",
    "\n",
    "    res[\"RAIL-DRAYS\"]= _[0] \n",
    "\n",
    "    res[\"RAIL-RATIO\"]= _[1] \n",
    "\n",
    "    res = pd.concat([df.iloc[1:, 0], res.iloc[:, 2:]], axis=1)\n",
    "\n",
    "    # split rail column \n",
    "    _ = df.iloc[1:, 2].str.split(\" \", n = 1, expand = True) \n",
    "\n",
    "    res[\"PIER-LOADED-EXPORT\"]= _[0] \n",
    "\n",
    "    res[\"PIER-LOADED-IMPORT\"]= _[1] \n",
    "\n",
    "    res = pd.concat([df.iloc[1:, 0], res.iloc[:, 2:]], axis=1)\n",
    "\n",
    "    # split pier column \n",
    "    _ = df.iloc[1:, 3].str.split(\" \", n = 2, expand = True) \n",
    "\n",
    "    res[\"PIER-EMPTY-EXPORT\"]= _[0]\n",
    "\n",
    "    res[\"PIER-EMPTY-IMPORT\"]= _[1]\n",
    "\n",
    "    res[\"PIER-TOTAL\"]= _[2] \n",
    "\n",
    "    res = pd.concat([df.iloc[1:, 0], res.iloc[:, 2:]], axis=1)\n",
    "\n",
    "    # split teu column \n",
    "    _ = df.iloc[1:, 7].str.split(\" \", n = 1, expand = True) \n",
    "\n",
    "    res[\"TEU-EMPTY-EXPORT\"]= _[0]\n",
    "\n",
    "    res[\"TEU-EMPTY-IMPORT\"]= _[1]\n",
    "\n",
    "    res = pd.concat([df.iloc[1:, 0], df.iloc[1:, 4:6], res.iloc[:, 8:], df.iloc[1:, -1]], axis=1)\n",
    "\n",
    "    # fix remaining column labels\n",
    "    res.columns = ['DATE', 'TEU-LOADED-EXPORT', 'TEU-LOADED-IMPORT'] + res.columns.to_list()[3:-1] + [\"TEU-TOTAL\"]\n",
    "\n",
    "    # convert all columns to numeric\n",
    "    res[res.columns.to_list()[1:]] = res[res.columns.to_list()[1:]]\\\n",
    "            .applymap(lambda v: pd.to_numeric(v.replace(\",\", \"\") if isinstance(v, str) else v, errors='coerce'))\n",
    "\n",
    "    res['dt'] = res['DATE'].apply(lambda v: pd.to_datetime(v, format=\"%B, %Y\", errors='coerce'))\n",
    "\n",
    "    return res\n",
    "\n",
    "df_ch = pd.concat([fixColumns(d) for d in dfs_ch])"
   ]
  },
  {
   "cell_type": "code",
   "execution_count": null,
   "metadata": {},
   "outputs": [],
   "source": [
    "doChart(df_ch, metric='TEU-EMPTY-EXPORT', location='Charleston')"
   ]
  },
  {
   "cell_type": "code",
   "execution_count": null,
   "metadata": {},
   "outputs": [],
   "source": [
    "doChart(df_ch, metric='TEU-LOADED-IMPORT', location='Charleston')"
   ]
  },
  {
   "cell_type": "code",
   "execution_count": null,
   "metadata": {},
   "outputs": [],
   "source": [
    "doChart(df_ch, metric='TEU-TOTAL', location='Charleston')"
   ]
  },
  {
   "cell_type": "code",
   "execution_count": null,
   "metadata": {},
   "outputs": [],
   "source": [
    "doYoyChart(df_ch, metric='TEU-LOADED-EXPORT', location='Charleston')"
   ]
  },
  {
   "cell_type": "code",
   "execution_count": null,
   "metadata": {},
   "outputs": [],
   "source": [
    "doYoyChart(df_ch, metric='TEU-LOADED-IMPORT', location='Charleston')"
   ]
  },
  {
   "cell_type": "code",
   "execution_count": null,
   "metadata": {},
   "outputs": [],
   "source": [
    "doYoyChart(df_ch, metric='TEU-TOTAL', location='Charleston')"
   ]
  },
  {
   "cell_type": "markdown",
   "metadata": {},
   "source": [
    "## Port of Virginia"
   ]
  },
  {
   "cell_type": "code",
   "execution_count": null,
   "metadata": {},
   "outputs": [],
   "source": [
    "df_va = pd.read_excel(\"http://www.portofvirginia.com/excel/Port_of_Virginia_Statistics.xlsx\", skiprows=1)\n",
    "df_va.columns = ['Month', 'Key'] + df_va.columns.to_list()[2:]\n",
    "\n",
    "df_va = df_va.iloc[:71]\n",
    "df_va = df_va.dropna(how='all')\n",
    "df_va['Month'] = df_va['Month'].ffill(limit=4)\n",
    "\n",
    "#df_va.head(20)\n",
    "\n",
    "df_va_melted = df_va.melt(id_vars=['Month', 'Key'])\n",
    "df_va_melted['dt'] = pd.to_datetime(df_va_melted['Month'] + ' ' + df_va_melted['variable'].apply(str), format=\"%b %Y\")\n",
    "\n",
    "df_va_clean = df_va_melted.pivot(index='dt', columns='Key', values='value')"
   ]
  },
  {
   "cell_type": "code",
   "execution_count": null,
   "metadata": {},
   "outputs": [],
   "source": [
    "doChart(df_va_clean, location='Virgina', metric='Import Empties')"
   ]
  },
  {
   "cell_type": "code",
   "execution_count": null,
   "metadata": {},
   "outputs": [],
   "source": [
    "doChart(df_va_clean, location='Virgina', metric='Export Empties')"
   ]
  },
  {
   "cell_type": "code",
   "execution_count": null,
   "metadata": {},
   "outputs": [],
   "source": [
    "doChart(df_va_clean, location='Virgina', metric='Import Loads')"
   ]
  },
  {
   "cell_type": "code",
   "execution_count": null,
   "metadata": {},
   "outputs": [],
   "source": [
    "doChart(df_va_clean, location='Virgina', metric='Export Loads')"
   ]
  },
  {
   "cell_type": "code",
   "execution_count": null,
   "metadata": {},
   "outputs": [],
   "source": [
    "doChart(df_va_clean, location='Virgina', metric='Total TEUs')"
   ]
  },
  {
   "cell_type": "code",
   "execution_count": null,
   "metadata": {},
   "outputs": [],
   "source": [
    "doYoyChart(df_va_clean, location='Virgina', metric='Import Loads')"
   ]
  },
  {
   "cell_type": "code",
   "execution_count": null,
   "metadata": {},
   "outputs": [],
   "source": [
    "doYoyChart(df_va_clean, location='Virgina', metric='Export Loads')"
   ]
  },
  {
   "cell_type": "code",
   "execution_count": null,
   "metadata": {},
   "outputs": [],
   "source": [
    "doYoyChart(df_va_clean, location='Virgina', metric='Total TEUs')"
   ]
  }
 ],
 "metadata": {
  "kernelspec": {
   "display_name": "Python 3",
   "language": "python",
   "name": "python3"
  },
  "language_info": {
   "codemirror_mode": {
    "name": "ipython",
    "version": 3
   },
   "file_extension": ".py",
   "mimetype": "text/x-python",
   "name": "python",
   "nbconvert_exporter": "python",
   "pygments_lexer": "ipython3",
   "version": "3.6.7"
  }
 },
 "nbformat": 4,
 "nbformat_minor": 4
}
